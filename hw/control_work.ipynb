{
 "cells": [
  {
   "cell_type": "markdown",
   "metadata": {},
   "source": [
    "# Инструменты и методы работы с большими массивами текстовой информации\n",
    " \n",
    "\n",
    "## Самостоятельная работа\n",
    "\n",
    "Использование внешних источников без их указания гарантирует 0 за всю работу.\n",
    "\n",
    "Формат сдачи: приложите заполненный ноутбук [в форму](https://forms.yandex.ru/u/622f43a34e68506c1f62364e/). Сдать можно 2 раза, засчитывается последняя попытка."
   ]
  },
  {
   "cell_type": "markdown",
   "metadata": {},
   "source": [
    "## 1 балл. Задачи обработки текстов\n",
    "\n",
    "Приведите по 2 развернутых примера из реальной жизни для следующих задач обработки текстов:\n",
    "* Классификация текстов\n",
    "* Выделение именованых сущностей (NER)\n",
    "* Вопросно-ответная система\n",
    "\n",
    "Например, для \"задача поиска в коллекции документов\" ответом могут быть \"Поиск в Яндексе\", \"поиск в интернет-магазине\""
   ]
  },
  {
   "cell_type": "code",
   "execution_count": null,
   "metadata": {},
   "outputs": [],
   "source": [
    "# your answer here"
   ]
  },
  {
   "cell_type": "markdown",
   "metadata": {},
   "source": [
    "## 2 балла. Python\n",
    "\n",
    "1. Найти максимальный нечетный элемент в массиве.\n",
    "2. Замените все нечетные элементы массива на ваше любимое число."
   ]
  },
  {
   "cell_type": "code",
   "execution_count": null,
   "metadata": {},
   "outputs": [],
   "source": [
    "# your code here\n",
    "import numpy as np\n",
    "\n",
    "arr = np.arange(10) + np.arange(10) ** 3 + (np.arange(10) ** 3 )[::-1]"
   ]
  },
  {
   "cell_type": "markdown",
   "metadata": {},
   "source": [
    "## 4 балла. Предобработка текста\n",
    "\n",
    "Вам дан список текстов на русском языке. Определите части речи и начальные формы слов с помощью библиотек pymorphy2 или mystem."
   ]
  },
  {
   "cell_type": "code",
   "execution_count": null,
   "metadata": {},
   "outputs": [],
   "source": [
    "# your code here\n",
    "\n",
    "texts = [\"ЦБ изменит порядок расчета курсов доллара и евро\", \"Набиуллина впервые за два года не проведет пресс-конференцию после решения о ставке ЦБ\",\n",
    "         \"Путин подписал закон о возможностях использования нефтегазовых сверхдоходов бюджета\", \"Американский миллиардер Илон Маск вызвал Путина на поединок, поставив на кон Украину\"]\n"
   ]
  },
  {
   "cell_type": "markdown",
   "metadata": {},
   "source": [
    "## 1 балл. Токенизация\n",
    "\n",
    "Сколько токенов в предложении \"Говорил попугай попугаю: \"Я тебя, попугай, попугаю\"? (введите в ответ одно число)"
   ]
  },
  {
   "cell_type": "code",
   "execution_count": null,
   "metadata": {},
   "outputs": [],
   "source": [
    "# your answer here"
   ]
  },
  {
   "cell_type": "markdown",
   "metadata": {},
   "source": [
    "## 2 балла. TF-IDF\n",
    "\n",
    "Выберите верные утверждения:\n",
    "\n",
    "1. tf-idf у одного и того же слова в разных документах всегда одинаковый\n",
    "2. tf-idf не может быть равен нулю\n",
    "3. tf-idf всегда неотрицательный\n",
    "4. tf-idf слова зависит от его позиции в документе"
   ]
  },
  {
   "cell_type": "code",
   "execution_count": null,
   "metadata": {},
   "outputs": [],
   "source": [
    "# your answer here"
   ]
  },
  {
   "cell_type": "markdown",
   "metadata": {},
   "source": [
    "## 0.1 балл. Бонус\n",
    "\n",
    "Добавьте в ячейку ниже мем, описывающий ваше впечатление от работы."
   ]
  },
  {
   "cell_type": "code",
   "execution_count": null,
   "metadata": {},
   "outputs": [],
   "source": []
  }
 ],
 "metadata": {
  "kernelspec": {
   "display_name": "Python 3",
   "language": "python",
   "name": "python3"
  },
  "language_info": {
   "codemirror_mode": {
    "name": "ipython",
    "version": 3
   },
   "file_extension": ".py",
   "mimetype": "text/x-python",
   "name": "python",
   "nbconvert_exporter": "python",
   "pygments_lexer": "ipython3",
   "version": "3.8.6"
  }
 },
 "nbformat": 4,
 "nbformat_minor": 2
}
