{
 "cells": [
  {
   "cell_type": "markdown",
   "metadata": {},
   "source": [
    "# Инструменты и методы работы с большими массивами текстовой информации\n",
    " \n",
    "\n",
    "## Самостоятельная работа\n",
    "\n",
    "Использование внешних источников без их указания гарантирует 0 за всю работу.\n",
    "\n",
    "Формат сдачи: приложите заполненный ноутбук [в форму](https://forms.yandex.ru/u/6247257860da6e0e59b1bbef/). Сдать можно 1 раз.\n",
    "Пользоваться интернетом НЕЛЬЗЯ, любой плагиат зануляет работу."
   ]
  },
  {
   "cell_type": "markdown",
   "metadata": {},
   "source": [
    "## 1 балл. Задачи обработки текстов\n",
    "\n",
    "Приведите по 3 развернутых (абзац) примера из реальной жизни для следующих задач обработки текстов:\n",
    "* Классификация текстов (помимо анализа тональности и спама)\n",
    "* Вопросно-ответная система\n",
    "\n",
    "Например, для \"задача поиска в коллекции документов\" ответом могут быть \"Поиск в Яндексе\", \"поиск в интернет-магазине\""
   ]
  },
  {
   "cell_type": "code",
   "execution_count": 7,
   "metadata": {},
   "outputs": [],
   "source": [
    "# your answer here"
   ]
  },
  {
   "cell_type": "markdown",
   "metadata": {},
   "source": [
    "## 4 балла. Python\n",
    "\n",
    "Найдите такой вектор, скалярное перемножение arr на который дает результат 42."
   ]
  },
  {
   "cell_type": "code",
   "execution_count": 9,
   "metadata": {},
   "outputs": [],
   "source": [
    "import numpy as np\n",
    "\n",
    "arr = np.random.randint(-100, 100, 1000)\n",
    "# your answer here"
   ]
  },
  {
   "cell_type": "markdown",
   "metadata": {},
   "source": [
    "## 3 балла. Предобработка текста\n",
    "\n",
    "Вам дан список текстов на русском языке. \n",
    "Вы должны написать функцию, возвращающую для предложения список начальных форм слов с помощью библиотек pymorphy2 или mystem."
   ]
  },
  {
   "cell_type": "code",
   "execution_count": 10,
   "metadata": {},
   "outputs": [],
   "source": [
    "# your code here\n",
    "\n",
    "texts = [\"ООН сообщила о 1232 погибших мирных жителях на Украине\", \"Иран предложил РФ меры по обходу санкций США\"]\n"
   ]
  },
  {
   "cell_type": "markdown",
   "metadata": {},
   "source": [
    "## 2 балла. TF-IDF\n",
    "\n",
    "Выберите верные утверждения:\n",
    "\n",
    "2. tf-idf может быть равен нулю\n",
    "4. tf-idf слова не зависит от его позиции в документе\n",
    "3. tf-idf всегда неотрицательный\n",
    "1. tf-idf у одного и того же слова в разных документах всегда разный"
   ]
  },
  {
   "cell_type": "code",
   "execution_count": 5,
   "metadata": {},
   "outputs": [],
   "source": [
    "# your answer here"
   ]
  },
  {
   "cell_type": "markdown",
   "metadata": {},
   "source": [
    "## 0.1 балл. Бонус\n",
    "\n",
    "Добавьте в ячейку ниже мем, описывающий ваше впечатление от работы."
   ]
  },
  {
   "cell_type": "code",
   "execution_count": null,
   "metadata": {},
   "outputs": [],
   "source": []
  }
 ],
 "metadata": {
  "kernelspec": {
   "display_name": "Python 3",
   "language": "python",
   "name": "python3"
  },
  "language_info": {
   "codemirror_mode": {
    "name": "ipython",
    "version": 3
   },
   "file_extension": ".py",
   "mimetype": "text/x-python",
   "name": "python",
   "nbconvert_exporter": "python",
   "pygments_lexer": "ipython3",
   "version": "3.8.6"
  }
 },
 "nbformat": 4,
 "nbformat_minor": 2
}
