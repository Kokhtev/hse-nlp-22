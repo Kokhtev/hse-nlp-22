{
 "cells": [
  {
   "cell_type": "markdown",
   "metadata": {},
   "source": [
    "# Инструменты и методы работы с большими массивами текстовой информации\n",
    " \n",
    "\n",
    "## Занятие 2. Знакомство с NumPy и Pandas"
   ]
  },
  {
   "cell_type": "markdown",
   "metadata": {},
   "source": [
    "### Наши инструменты\n",
    "\n",
    "#### Python\n",
    "\n",
    "У всех датасайентистов свои привычки и вкусы. Часто требования к используемым инструментам выставляются на работе, особенно если она происходит в команде с другими аналитиками и разработчиками. Чаще всего аналитики данных используют язык программирования Python (его мы и будем использовать в этом курсе) по нескольким причинам:\n",
    "   \n",
    "- Популярность языка в целом (в первой тройке по различным критериям на Github и в десятке самых популярных по различным точкам зрения других рейтингов) — много разработчиков, много различных инструментов.\n",
    "- Простота изучения — многие аналитики данных не являются программистами как таковыми, а при обучении стремятся как можно быстрее изучить необходимый им инструмент. \n",
    "- Простота использования. Python — интерпретируемый язык (не требует компиляции кода) с динамической типизацией и многими прочими особенностями, позволяющими как можно меньше думать о программировании и больше концентрироваться на решении конкретной задачи.\n",
    "   \n",
    "Нельзя сказать, что можно обойтись на практике одним лишь языком Python. Большинство реальных систем предъявляет требования к скорости работы, а Python в этом обычно уступает классическим компилируемым языкам вроде C++ или Java, поэтому на практике часто подготовленные на Python решения переписываются или встраиваются с минимальными потерями в другие языки.\n",
    "\n",
    "Кроме Python, аналитики данных часто используют язык R, который так же достаточно прост и удобен, однако почти не используется в кругах разработчиков. Реже и в некоторых специфичных задачах применяются Matlab и SAS.\n",
    "\n",
    "#### Библиотеки\n",
    "\n",
    "Но одним лишь языком программирования не обойтись — используются различные инструменты и библиотеки (мы рассматриваем лишь Python):\n",
    "   \n",
    "- Среда разработки.  На семинарах и в домашках мы будем использовать [Jupyter Notebook](https://jupyter.org). Он позволяет как писать код и запускать его отдельными фрагментами, так и оформлять всё в виде отчёта с markdown разметкой и формулами LaTex. И даже [вставлять видосы с YouTube](https://gist.github.com/christopherlovell/e3e70880c0b0ad666e7b5fe311320a62)! \n",
    "- Библиотеки для обработки данных: [NumPy](https://numpy.org) и [Pandas](https://pandas.pydata.org).\n",
    "- Библиотеки для визуализации данных: [Matplotlib](https://matplotlib.org) и [Seaborn](https://seaborn.pydata.org/#).\n",
    "- Библиотеки с алгоритмами машинного обучения: [scikit-learn](http://scikit-learn.github.io/stable), [XGBoost](https://xgboost.readthedocs.io/en/latest/) и [pytorch](https://pytorch.org)."
   ]
  },
  {
   "cell_type": "markdown",
   "metadata": {},
   "source": [
    "# NumPy\n",
    "\n",
    "**NumPy** — библиотека языка Python, позволяющая [удобно] работать с многомерными массивами и матрицами, содержащая математические функции. Кроме того, NumPy позволяет векторизовать многие вычисления, имеющие место в машинном обучении.\n",
    "\n",
    " - [numpy](http://www.numpy.org)\n",
    " - [numpy tutorial](http://cs231n.github.io/python-numpy-tutorial/)\n",
    " - [100 numpy exercises](http://www.labri.fr/perso/nrougier/teaching/numpy.100/)"
   ]
  },
  {
   "cell_type": "code",
   "execution_count": 1,
   "metadata": {},
   "outputs": [],
   "source": [
    "import numpy as np\n",
    "import warnings\n",
    "warnings.filterwarnings('ignore')"
   ]
  },
  {
   "cell_type": "markdown",
   "metadata": {},
   "source": [
    "Основным типом данных NumPy является многомерный массив элементов одного типа — [numpy.ndarray](http://docs.scipy.org/doc/numpy-1.10.0/reference/generated/numpy.array.html). Каждый подобный массив имеет несколько *измерений* или *осей* — в частности, вектор (в классическом понимании) является одномерным массивом и имеет 1 ось, матрица является двумерным массивом и имеет 2 оси и т.д."
   ]
  },
  {
   "cell_type": "code",
   "execution_count": 2,
   "metadata": {},
   "outputs": [
    {
     "data": {
      "text/plain": [
       "1"
      ]
     },
     "execution_count": 2,
     "metadata": {},
     "output_type": "execute_result"
    }
   ],
   "source": [
    "vec = np.array([1, 2, 3])\n",
    "vec.ndim # количество осей"
   ]
  },
  {
   "cell_type": "code",
   "execution_count": 3,
   "metadata": {},
   "outputs": [
    {
     "data": {
      "text/plain": [
       "2"
      ]
     },
     "execution_count": 3,
     "metadata": {},
     "output_type": "execute_result"
    }
   ],
   "source": [
    "mat = np.array([[1, 2, 3], [4, 5, 6]])\n",
    "mat.ndim"
   ]
  },
  {
   "cell_type": "markdown",
   "metadata": {},
   "source": [
    "Чтобы узнать длину массива по каждой из осей, можно воспользоваться атрибутом shape:"
   ]
  },
  {
   "cell_type": "code",
   "execution_count": 4,
   "metadata": {},
   "outputs": [
    {
     "data": {
      "text/plain": [
       "(3,)"
      ]
     },
     "execution_count": 4,
     "metadata": {},
     "output_type": "execute_result"
    }
   ],
   "source": [
    "vec.shape"
   ]
  },
  {
   "cell_type": "markdown",
   "metadata": {},
   "source": [
    "Чтобы узнать тип элементов и их размер в байтах:"
   ]
  },
  {
   "cell_type": "code",
   "execution_count": 5,
   "metadata": {},
   "outputs": [
    {
     "data": {
      "text/plain": [
       "'int64'"
      ]
     },
     "execution_count": 5,
     "metadata": {},
     "output_type": "execute_result"
    }
   ],
   "source": [
    "mat.dtype.name"
   ]
  },
  {
   "cell_type": "code",
   "execution_count": 6,
   "metadata": {},
   "outputs": [
    {
     "data": {
      "text/plain": [
       "8"
      ]
     },
     "execution_count": 6,
     "metadata": {},
     "output_type": "execute_result"
    }
   ],
   "source": [
    "mat.itemsize"
   ]
  },
  {
   "cell_type": "markdown",
   "metadata": {},
   "source": [
    "## Создание массивов\n",
    "\n",
    "* Передать итерируемый объект в качестве параметра функции array (можно также явно указать тип элементов):"
   ]
  },
  {
   "cell_type": "code",
   "execution_count": 7,
   "metadata": {},
   "outputs": [
    {
     "data": {
      "text/plain": [
       "(array([1, 2, 3]), dtype('int64'))"
      ]
     },
     "execution_count": 7,
     "metadata": {},
     "output_type": "execute_result"
    }
   ],
   "source": [
    "A = np.array([1, 2, 3])\n",
    "A, A.dtype"
   ]
  },
  {
   "cell_type": "code",
   "execution_count": 8,
   "metadata": {},
   "outputs": [
    {
     "data": {
      "text/plain": [
       "(array([1., 2., 3.]), dtype('float64'))"
      ]
     },
     "execution_count": 8,
     "metadata": {},
     "output_type": "execute_result"
    }
   ],
   "source": [
    "A = np.array([1, 2, 3], dtype=float)\n",
    "A, A.dtype"
   ]
  },
  {
   "cell_type": "markdown",
   "metadata": {},
   "source": [
    "* Создание массивов специального вида при помощи функций zeros, ones, empty, identity:"
   ]
  },
  {
   "cell_type": "code",
   "execution_count": 9,
   "metadata": {},
   "outputs": [
    {
     "data": {
      "text/plain": [
       "array([0., 0., 0.])"
      ]
     },
     "execution_count": 9,
     "metadata": {},
     "output_type": "execute_result"
    }
   ],
   "source": [
    "np.zeros((3,))"
   ]
  },
  {
   "cell_type": "code",
   "execution_count": 10,
   "metadata": {},
   "outputs": [
    {
     "data": {
      "text/plain": [
       "array([[1., 1., 1., 1.],\n",
       "       [1., 1., 1., 1.],\n",
       "       [1., 1., 1., 1.]])"
      ]
     },
     "execution_count": 10,
     "metadata": {},
     "output_type": "execute_result"
    }
   ],
   "source": [
    "np.ones((3, 4))"
   ]
  },
  {
   "cell_type": "code",
   "execution_count": 11,
   "metadata": {},
   "outputs": [
    {
     "data": {
      "text/plain": [
       "array([[1., 0., 0.],\n",
       "       [0., 1., 0.],\n",
       "       [0., 0., 1.]])"
      ]
     },
     "execution_count": 11,
     "metadata": {},
     "output_type": "execute_result"
    }
   ],
   "source": [
    "np.identity(3)"
   ]
  },
  {
   "cell_type": "code",
   "execution_count": 12,
   "metadata": {},
   "outputs": [
    {
     "data": {
      "text/plain": [
       "array([[-1.28822975e-231, -1.28822975e-231,  4.44659081e-323,\n",
       "         0.00000000e+000,  0.00000000e+000],\n",
       "       [ 0.00000000e+000, -1.28822975e-231, -1.28822975e-231,\n",
       "         1.77229088e-310,  3.50977866e+064]])"
      ]
     },
     "execution_count": 12,
     "metadata": {},
     "output_type": "execute_result"
    }
   ],
   "source": [
    "np.empty((2, 5))"
   ]
  },
  {
   "cell_type": "markdown",
   "metadata": {},
   "source": [
    "Обратите внимание, что содержимое массива, созданного при помощи функции empty, **не инициализируется**, то есть в качестве значений он **может содержать \"мусор\"**."
   ]
  },
  {
   "cell_type": "markdown",
   "metadata": {},
   "source": [
    "* Создание последовательностей при помощи функций arange (в качестве парметров принимает левую и правую границы последовательности и **шаг**) и linspace (принимает левую и правую границы и **количество элементов**):"
   ]
  },
  {
   "cell_type": "code",
   "execution_count": 13,
   "metadata": {},
   "outputs": [
    {
     "data": {
      "text/plain": [
       "array([ 2,  5,  8, 11, 14, 17])"
      ]
     },
     "execution_count": 13,
     "metadata": {},
     "output_type": "execute_result"
    }
   ],
   "source": [
    "np.arange(2, 20, 3) # аналогично стандартной функции range python, правая граница не включается"
   ]
  },
  {
   "cell_type": "code",
   "execution_count": 14,
   "metadata": {},
   "outputs": [
    {
     "data": {
      "text/plain": [
       "array([2.5, 3.4, 4.3, 5.2, 6.1, 7. , 7.9])"
      ]
     },
     "execution_count": 14,
     "metadata": {},
     "output_type": "execute_result"
    }
   ],
   "source": [
    "np.arange(2.5, 8.7, 0.9) # но может работать и с вещественными числами"
   ]
  },
  {
   "cell_type": "code",
   "execution_count": 15,
   "metadata": {},
   "outputs": [
    {
     "data": {
      "text/plain": [
       "array([ 2.        ,  3.23076923,  4.46153846,  5.69230769,  6.92307692,\n",
       "        8.15384615,  9.38461538, 10.61538462, 11.84615385, 13.07692308,\n",
       "       14.30769231, 15.53846154, 16.76923077, 18.        ])"
      ]
     },
     "execution_count": 15,
     "metadata": {},
     "output_type": "execute_result"
    }
   ],
   "source": [
    "np.linspace(2, 18, 14) # правая граница включается (по умолчанию)"
   ]
  },
  {
   "cell_type": "markdown",
   "metadata": {},
   "source": [
    "* Для изменения размеров существующего массива можно воспользоваться функцией reshape (при этом количество элементов должно оставаться неизменным):"
   ]
  },
  {
   "cell_type": "code",
   "execution_count": 16,
   "metadata": {},
   "outputs": [
    {
     "data": {
      "text/plain": [
       "array([[0, 1, 2],\n",
       "       [3, 4, 5],\n",
       "       [6, 7, 8]])"
      ]
     },
     "execution_count": 16,
     "metadata": {},
     "output_type": "execute_result"
    }
   ],
   "source": [
    "np.arange(9).reshape(3, 3)"
   ]
  },
  {
   "cell_type": "markdown",
   "metadata": {},
   "source": [
    "Вместо значения длины массива по одному из измерений можно указать -1 — в этом случае значение будет рассчитано автоматически:"
   ]
  },
  {
   "cell_type": "code",
   "execution_count": 17,
   "metadata": {
    "scrolled": false
   },
   "outputs": [
    {
     "data": {
      "text/plain": [
       "array([[0, 1, 2, 3],\n",
       "       [4, 5, 6, 7]])"
      ]
     },
     "execution_count": 17,
     "metadata": {},
     "output_type": "execute_result"
    }
   ],
   "source": [
    "np.arange(8).reshape(2, -1)"
   ]
  },
  {
   "cell_type": "markdown",
   "metadata": {},
   "source": [
    "* Транспонирование существующего массива:"
   ]
  },
  {
   "cell_type": "code",
   "execution_count": 18,
   "metadata": {},
   "outputs": [
    {
     "data": {
      "text/plain": [
       "array([[0, 1, 2],\n",
       "       [3, 4, 5]])"
      ]
     },
     "execution_count": 18,
     "metadata": {},
     "output_type": "execute_result"
    }
   ],
   "source": [
    "C = np.arange(6).reshape(2, -1)\n",
    "C"
   ]
  },
  {
   "cell_type": "code",
   "execution_count": 19,
   "metadata": {},
   "outputs": [
    {
     "data": {
      "text/plain": [
       "array([[0, 3],\n",
       "       [1, 4],\n",
       "       [2, 5]])"
      ]
     },
     "execution_count": 19,
     "metadata": {},
     "output_type": "execute_result"
    }
   ],
   "source": [
    "C.T"
   ]
  },
  {
   "cell_type": "markdown",
   "metadata": {},
   "source": [
    "* Объединение существующих массивов по заданной оси:"
   ]
  },
  {
   "cell_type": "code",
   "execution_count": 20,
   "metadata": {},
   "outputs": [
    {
     "data": {
      "text/plain": [
       "array([[ 0,  1,  2,  0,  1,  4],\n",
       "       [ 3,  4,  5,  9, 16, 25]])"
      ]
     },
     "execution_count": 20,
     "metadata": {},
     "output_type": "execute_result"
    }
   ],
   "source": [
    "A = np.arange(6).reshape(2, -1)\n",
    "np.hstack((A, A**2))"
   ]
  },
  {
   "cell_type": "code",
   "execution_count": 21,
   "metadata": {},
   "outputs": [
    {
     "data": {
      "text/plain": [
       "array([[ 0,  1,  2],\n",
       "       [ 3,  4,  5],\n",
       "       [ 0,  1,  4],\n",
       "       [ 9, 16, 25]])"
      ]
     },
     "execution_count": 21,
     "metadata": {},
     "output_type": "execute_result"
    }
   ],
   "source": [
    "np.vstack((A, A**2))"
   ]
  },
  {
   "cell_type": "code",
   "execution_count": 22,
   "metadata": {},
   "outputs": [
    {
     "data": {
      "text/plain": [
       "array([[ 0,  1,  2,  0,  1,  4],\n",
       "       [ 3,  4,  5,  9, 16, 25]])"
      ]
     },
     "execution_count": 22,
     "metadata": {},
     "output_type": "execute_result"
    }
   ],
   "source": [
    "np.concatenate((A, A**2), axis=1)"
   ]
  },
  {
   "cell_type": "markdown",
   "metadata": {},
   "source": [
    "* Повторение существующего массива"
   ]
  },
  {
   "cell_type": "code",
   "execution_count": 23,
   "metadata": {},
   "outputs": [
    {
     "data": {
      "text/plain": [
       "array([[0, 1, 2, 0, 1, 2],\n",
       "       [0, 1, 2, 0, 1, 2]])"
      ]
     },
     "execution_count": 23,
     "metadata": {},
     "output_type": "execute_result"
    }
   ],
   "source": [
    "a = np.arange(3)\n",
    "np.tile(a, (2, 2))"
   ]
  },
  {
   "cell_type": "code",
   "execution_count": 24,
   "metadata": {},
   "outputs": [
    {
     "data": {
      "text/plain": [
       "array([[0, 1, 2],\n",
       "       [0, 1, 2],\n",
       "       [0, 1, 2],\n",
       "       [0, 1, 2]])"
      ]
     },
     "execution_count": 24,
     "metadata": {},
     "output_type": "execute_result"
    }
   ],
   "source": [
    "np.tile(a, (4, 1))"
   ]
  },
  {
   "cell_type": "markdown",
   "metadata": {},
   "source": [
    "## Базовые операции\n",
    "\n",
    "* Базовые арифметические операции над массивами выполняются поэлементно:"
   ]
  },
  {
   "cell_type": "code",
   "execution_count": 25,
   "metadata": {},
   "outputs": [],
   "source": [
    "A = np.arange(9).reshape(3, 3)\n",
    "B = np.arange(1, 10).reshape(3, 3)"
   ]
  },
  {
   "cell_type": "code",
   "execution_count": 26,
   "metadata": {},
   "outputs": [
    {
     "name": "stdout",
     "output_type": "stream",
     "text": [
      "[[0 1 2]\n",
      " [3 4 5]\n",
      " [6 7 8]]\n",
      "[[1 2 3]\n",
      " [4 5 6]\n",
      " [7 8 9]]\n"
     ]
    }
   ],
   "source": [
    "print(A)\n",
    "print(B)"
   ]
  },
  {
   "cell_type": "code",
   "execution_count": 27,
   "metadata": {},
   "outputs": [
    {
     "data": {
      "text/plain": [
       "array([[ 1,  3,  5],\n",
       "       [ 7,  9, 11],\n",
       "       [13, 15, 17]])"
      ]
     },
     "execution_count": 27,
     "metadata": {},
     "output_type": "execute_result"
    }
   ],
   "source": [
    "A + B"
   ]
  },
  {
   "cell_type": "code",
   "execution_count": 28,
   "metadata": {},
   "outputs": [
    {
     "data": {
      "text/plain": [
       "array([[0.        , 0.5       , 0.66666667],\n",
       "       [0.75      , 0.8       , 0.83333333],\n",
       "       [0.85714286, 0.875     , 0.88888889]])"
      ]
     },
     "execution_count": 28,
     "metadata": {},
     "output_type": "execute_result"
    }
   ],
   "source": [
    "A * 1.0 / B"
   ]
  },
  {
   "cell_type": "code",
   "execution_count": 29,
   "metadata": {},
   "outputs": [
    {
     "data": {
      "text/plain": [
       "array([[1, 2, 3],\n",
       "       [4, 5, 6],\n",
       "       [7, 8, 9]])"
      ]
     },
     "execution_count": 29,
     "metadata": {},
     "output_type": "execute_result"
    }
   ],
   "source": [
    "A + 1"
   ]
  },
  {
   "cell_type": "code",
   "execution_count": 30,
   "metadata": {},
   "outputs": [
    {
     "data": {
      "text/plain": [
       "array([[ 0,  3,  6],\n",
       "       [ 9, 12, 15],\n",
       "       [18, 21, 24]])"
      ]
     },
     "execution_count": 30,
     "metadata": {},
     "output_type": "execute_result"
    }
   ],
   "source": [
    "3 * A"
   ]
  },
  {
   "cell_type": "code",
   "execution_count": 31,
   "metadata": {},
   "outputs": [
    {
     "data": {
      "text/plain": [
       "array([[ 0,  1,  4],\n",
       "       [ 9, 16, 25],\n",
       "       [36, 49, 64]])"
      ]
     },
     "execution_count": 31,
     "metadata": {},
     "output_type": "execute_result"
    }
   ],
   "source": [
    "A ** 2"
   ]
  },
  {
   "cell_type": "markdown",
   "metadata": {},
   "source": [
    "Отдельно обратим внимание на то, что умножение массивов также является **поэлементным**, а не матричным:"
   ]
  },
  {
   "cell_type": "code",
   "execution_count": 32,
   "metadata": {},
   "outputs": [
    {
     "data": {
      "text/plain": [
       "array([[ 0,  2,  6],\n",
       "       [12, 20, 30],\n",
       "       [42, 56, 72]])"
      ]
     },
     "execution_count": 32,
     "metadata": {},
     "output_type": "execute_result"
    }
   ],
   "source": [
    "A * B"
   ]
  },
  {
   "cell_type": "markdown",
   "metadata": {},
   "source": [
    "Для выполнения матричного умножения необходимо использовать функцию dot:"
   ]
  },
  {
   "cell_type": "code",
   "execution_count": 33,
   "metadata": {},
   "outputs": [
    {
     "data": {
      "text/plain": [
       "array([[ 18,  21,  24],\n",
       "       [ 54,  66,  78],\n",
       "       [ 90, 111, 132]])"
      ]
     },
     "execution_count": 33,
     "metadata": {},
     "output_type": "execute_result"
    }
   ],
   "source": [
    "A.dot(B)"
   ]
  },
  {
   "cell_type": "markdown",
   "metadata": {},
   "source": [
    "Поскольку операции выполняются поэлементно, операнды бинарных операций должны иметь одинаковый размер. Тем не менее, операция может быть корректно выполнена, если размеры операндов таковы, что они могут быть расширены до одинаковых размеров. Данная возможность называется [broadcasting](http://www.scipy-lectures.org/intro/numpy/operations.html#broadcasting):\n",
    "![](https://jakevdp.github.io/PythonDataScienceHandbook/figures/02.05-broadcasting.png)"
   ]
  },
  {
   "cell_type": "code",
   "execution_count": 34,
   "metadata": {},
   "outputs": [
    {
     "data": {
      "text/plain": [
       "array([[ 0,  1,  2],\n",
       "       [10, 11, 12],\n",
       "       [20, 21, 22],\n",
       "       [30, 31, 32]])"
      ]
     },
     "execution_count": 34,
     "metadata": {},
     "output_type": "execute_result"
    }
   ],
   "source": [
    "np.tile(np.arange(0, 40, 10), (3, 1)).T + np.array([0, 1, 2])"
   ]
  },
  {
   "cell_type": "markdown",
   "metadata": {},
   "source": [
    "* Универсальные функции (sin, cos, exp и т.д.) также применяются поэлементно:"
   ]
  },
  {
   "cell_type": "code",
   "execution_count": 35,
   "metadata": {},
   "outputs": [
    {
     "data": {
      "text/plain": [
       "array([[1.00000000e+00, 2.71828183e+00, 7.38905610e+00],\n",
       "       [2.00855369e+01, 5.45981500e+01, 1.48413159e+02],\n",
       "       [4.03428793e+02, 1.09663316e+03, 2.98095799e+03]])"
      ]
     },
     "execution_count": 35,
     "metadata": {},
     "output_type": "execute_result"
    }
   ],
   "source": [
    "np.exp(A)"
   ]
  },
  {
   "cell_type": "markdown",
   "metadata": {},
   "source": [
    "* Некоторые операции над массивами (например, вычисления минимума, максимума, суммы элементов) выполняются над всеми элементами вне зависимости от формы массива, однако при указании оси выполняются вдоль нее (например, для нахождения максимума каждой строки или каждого столбца):"
   ]
  },
  {
   "cell_type": "code",
   "execution_count": 36,
   "metadata": {},
   "outputs": [
    {
     "data": {
      "text/plain": [
       "array([[0, 1, 2],\n",
       "       [3, 4, 5],\n",
       "       [6, 7, 8]])"
      ]
     },
     "execution_count": 36,
     "metadata": {},
     "output_type": "execute_result"
    }
   ],
   "source": [
    "A"
   ]
  },
  {
   "cell_type": "code",
   "execution_count": 37,
   "metadata": {},
   "outputs": [
    {
     "data": {
      "text/plain": [
       "0"
      ]
     },
     "execution_count": 37,
     "metadata": {},
     "output_type": "execute_result"
    }
   ],
   "source": [
    "A.min()"
   ]
  },
  {
   "cell_type": "code",
   "execution_count": 38,
   "metadata": {},
   "outputs": [
    {
     "data": {
      "text/plain": [
       "array([2, 5, 8])"
      ]
     },
     "execution_count": 38,
     "metadata": {},
     "output_type": "execute_result"
    }
   ],
   "source": [
    "A.max(axis=1)"
   ]
  },
  {
   "cell_type": "code",
   "execution_count": 39,
   "metadata": {},
   "outputs": [
    {
     "data": {
      "text/plain": [
       "array([ 3, 12, 21])"
      ]
     },
     "execution_count": 39,
     "metadata": {},
     "output_type": "execute_result"
    }
   ],
   "source": [
    "A.sum(axis=1)"
   ]
  },
  {
   "cell_type": "markdown",
   "metadata": {},
   "source": [
    "## Индексация\n",
    "\n",
    "Для доступа к элементам может использоваться [много различных способов](http://docs.scipy.org/doc/numpy/reference/arrays.indexing.html), рассмотрим основные.\n",
    "\n",
    "* Для индексации могут использоваться конкретные значения индексов и срезы (slice), как и в стандартных типах Python. Для многомерных массивов индексы для различных осей разделяются запятой. Если для многомерного массива указаны индексы не для всех измерений, недостающие заполняются полным срезом (:)."
   ]
  },
  {
   "cell_type": "code",
   "execution_count": 40,
   "metadata": {},
   "outputs": [
    {
     "data": {
      "text/plain": [
       "array([0, 1, 2, 3, 4, 5, 6, 7, 8, 9])"
      ]
     },
     "execution_count": 40,
     "metadata": {},
     "output_type": "execute_result"
    }
   ],
   "source": [
    "a = np.arange(10)\n",
    "a"
   ]
  },
  {
   "cell_type": "code",
   "execution_count": 41,
   "metadata": {},
   "outputs": [
    {
     "data": {
      "text/plain": [
       "array([2, 3, 4])"
      ]
     },
     "execution_count": 41,
     "metadata": {},
     "output_type": "execute_result"
    }
   ],
   "source": [
    "a[2:5]"
   ]
  },
  {
   "cell_type": "code",
   "execution_count": 42,
   "metadata": {},
   "outputs": [
    {
     "data": {
      "text/plain": [
       "array([3, 5, 7])"
      ]
     },
     "execution_count": 42,
     "metadata": {},
     "output_type": "execute_result"
    }
   ],
   "source": [
    "a[3:8:2]"
   ]
  },
  {
   "cell_type": "code",
   "execution_count": 43,
   "metadata": {},
   "outputs": [
    {
     "data": {
      "text/plain": [
       "array([[ 0,  1,  2,  3,  4,  5,  6,  7,  8],\n",
       "       [ 9, 10, 11, 12, 13, 14, 15, 16, 17],\n",
       "       [18, 19, 20, 21, 22, 23, 24, 25, 26],\n",
       "       [27, 28, 29, 30, 31, 32, 33, 34, 35],\n",
       "       [36, 37, 38, 39, 40, 41, 42, 43, 44],\n",
       "       [45, 46, 47, 48, 49, 50, 51, 52, 53],\n",
       "       [54, 55, 56, 57, 58, 59, 60, 61, 62],\n",
       "       [63, 64, 65, 66, 67, 68, 69, 70, 71],\n",
       "       [72, 73, 74, 75, 76, 77, 78, 79, 80]])"
      ]
     },
     "execution_count": 43,
     "metadata": {},
     "output_type": "execute_result"
    }
   ],
   "source": [
    "A = np.arange(81).reshape(9, -1)\n",
    "A"
   ]
  },
  {
   "cell_type": "code",
   "execution_count": 44,
   "metadata": {},
   "outputs": [
    {
     "data": {
      "text/plain": [
       "array([[18, 19, 20, 21, 22, 23, 24, 25, 26],\n",
       "       [27, 28, 29, 30, 31, 32, 33, 34, 35]])"
      ]
     },
     "execution_count": 44,
     "metadata": {},
     "output_type": "execute_result"
    }
   ],
   "source": [
    "A[2:4]"
   ]
  },
  {
   "cell_type": "code",
   "execution_count": 45,
   "metadata": {},
   "outputs": [
    {
     "data": {
      "text/plain": [
       "array([[ 2,  3],\n",
       "       [11, 12],\n",
       "       [20, 21],\n",
       "       [29, 30],\n",
       "       [38, 39],\n",
       "       [47, 48],\n",
       "       [56, 57],\n",
       "       [65, 66],\n",
       "       [74, 75]])"
      ]
     },
     "execution_count": 45,
     "metadata": {},
     "output_type": "execute_result"
    }
   ],
   "source": [
    "A[:, 2:4]"
   ]
  },
  {
   "cell_type": "code",
   "execution_count": 46,
   "metadata": {},
   "outputs": [
    {
     "data": {
      "text/plain": [
       "array([[20, 21],\n",
       "       [29, 30]])"
      ]
     },
     "execution_count": 46,
     "metadata": {},
     "output_type": "execute_result"
    }
   ],
   "source": [
    "A[2:4, 2:4]"
   ]
  },
  {
   "cell_type": "code",
   "execution_count": 47,
   "metadata": {},
   "outputs": [
    {
     "data": {
      "text/plain": [
       "array([72, 73, 74, 75, 76, 77, 78, 79, 80])"
      ]
     },
     "execution_count": 47,
     "metadata": {},
     "output_type": "execute_result"
    }
   ],
   "source": [
    "A[-1]"
   ]
  },
  {
   "cell_type": "markdown",
   "metadata": {},
   "source": [
    "* Также может использоваться индексация при помощи списков индексов (по каждой из осей):"
   ]
  },
  {
   "cell_type": "code",
   "execution_count": 48,
   "metadata": {},
   "outputs": [
    {
     "data": {
      "text/plain": [
       "array([[ 0,  1,  2,  3,  4,  5,  6,  7,  8],\n",
       "       [ 9, 10, 11, 12, 13, 14, 15, 16, 17],\n",
       "       [18, 19, 20, 21, 22, 23, 24, 25, 26],\n",
       "       [27, 28, 29, 30, 31, 32, 33, 34, 35],\n",
       "       [36, 37, 38, 39, 40, 41, 42, 43, 44],\n",
       "       [45, 46, 47, 48, 49, 50, 51, 52, 53],\n",
       "       [54, 55, 56, 57, 58, 59, 60, 61, 62],\n",
       "       [63, 64, 65, 66, 67, 68, 69, 70, 71],\n",
       "       [72, 73, 74, 75, 76, 77, 78, 79, 80]])"
      ]
     },
     "execution_count": 48,
     "metadata": {},
     "output_type": "execute_result"
    }
   ],
   "source": [
    "A = np.arange(81).reshape(9, -1)\n",
    "A"
   ]
  },
  {
   "cell_type": "code",
   "execution_count": 49,
   "metadata": {},
   "outputs": [
    {
     "data": {
      "text/plain": [
       "array([18, 37, 48])"
      ]
     },
     "execution_count": 49,
     "metadata": {},
     "output_type": "execute_result"
    }
   ],
   "source": [
    "A[[2, 4, 5], [0, 1, 3]]"
   ]
  },
  {
   "cell_type": "markdown",
   "metadata": {},
   "source": [
    "* Может также применяться логическая индексация (при помощи логических массивов):"
   ]
  },
  {
   "cell_type": "code",
   "execution_count": 50,
   "metadata": {},
   "outputs": [
    {
     "data": {
      "text/plain": [
       "array([ 0,  1,  2,  3,  4,  5,  6,  7,  8,  9, 10])"
      ]
     },
     "execution_count": 50,
     "metadata": {},
     "output_type": "execute_result"
    }
   ],
   "source": [
    "A = np.arange(11)\n",
    "A"
   ]
  },
  {
   "cell_type": "code",
   "execution_count": 51,
   "metadata": {},
   "outputs": [
    {
     "data": {
      "text/plain": [
       "array([ 0,  1,  2,  4,  5,  6,  7,  9, 10])"
      ]
     },
     "execution_count": 51,
     "metadata": {},
     "output_type": "execute_result"
    }
   ],
   "source": [
    "A[A % 5 != 3]"
   ]
  },
  {
   "cell_type": "code",
   "execution_count": 52,
   "metadata": {},
   "outputs": [
    {
     "data": {
      "text/plain": [
       "array([ 0,  1,  2,  4,  5,  6,  9, 10])"
      ]
     },
     "execution_count": 52,
     "metadata": {},
     "output_type": "execute_result"
    }
   ],
   "source": [
    "A[np.logical_and(A != 7, A % 5 != 3)] # также можно использовать логические операции"
   ]
  },
  {
   "cell_type": "markdown",
   "metadata": {},
   "source": [
    "## Примеры"
   ]
  },
  {
   "cell_type": "code",
   "execution_count": 53,
   "metadata": {},
   "outputs": [
    {
     "data": {
      "text/plain": [
       "array([[  0,   1,   2,   3,   4,   5,   6,   7,   8,   9,  10,  11],\n",
       "       [ 12,  13,  14,  15,  16,  17,  18,  19,  20,  21,  22,  23],\n",
       "       [ 24,  25,  26,  27,  28,  29,  30,  31,  32,  33,  34,  35],\n",
       "       [ 36,  37,  38,  39,  40,  41,  42,  43,  44,  45,  46,  47],\n",
       "       [ 48,  49,  50,  51,  52,  53,  54,  55,  56,  57,  58,  59],\n",
       "       [ 60,  61,  62,  63,  64,  65,  66,  67,  68,  69,  70,  71],\n",
       "       [ 72,  73,  74,  75,  76,  77,  78,  79,  80,  81,  82,  83],\n",
       "       [ 84,  85,  86,  87,  88,  89,  90,  91,  92,  93,  94,  95],\n",
       "       [ 96,  97,  98,  99, 100, 101, 102, 103, 104, 105, 106, 107],\n",
       "       [108, 109, 110, 111, 112, 113, 114, 115, 116, 117, 118, 119]])"
      ]
     },
     "execution_count": 53,
     "metadata": {},
     "output_type": "execute_result"
    }
   ],
   "source": [
    "A = np.arange(120).reshape(10, -1)\n",
    "A"
   ]
  },
  {
   "cell_type": "markdown",
   "metadata": {},
   "source": [
    "1. Выбрать все четные строки матрицы A.\n",
    "2. Составить одномерный массив из всех не делящихся на 3 элементов нечетных столбцов А.\n",
    "3. Посчитать сумму диагональных элементов A."
   ]
  },
  {
   "cell_type": "code",
   "execution_count": 54,
   "metadata": {},
   "outputs": [],
   "source": [
    "# Your code here"
   ]
  },
  {
   "cell_type": "markdown",
   "metadata": {},
   "source": [
    "## Зачем?\n",
    "\n",
    "Зачем необходимо использовать NumPy, если существуют стандартные списки/кортежи и циклы?\n",
    "\n",
    "Причина заключается в скорости работы. Попробуем посчитать скалярное произведение 2 больших векторов:"
   ]
  },
  {
   "cell_type": "code",
   "execution_count": 55,
   "metadata": {},
   "outputs": [],
   "source": [
    "import time\n",
    "\n",
    "A_quick_arr = np.random.normal(size = (1000000,))\n",
    "B_quick_arr = np.random.normal(size = (1000000,))\n",
    "\n",
    "A_slow_list, B_slow_list = list(A_quick_arr), list(B_quick_arr)"
   ]
  },
  {
   "cell_type": "code",
   "execution_count": 56,
   "metadata": {},
   "outputs": [
    {
     "name": "stdout",
     "output_type": "stream",
     "text": [
      "CPU times: user 524 ms, sys: 6.2 ms, total: 530 ms\n",
      "Wall time: 533 ms\n"
     ]
    }
   ],
   "source": [
    "%%time\n",
    "ans = 0\n",
    "for i in range(len(A_slow_list)):\n",
    "    ans += A_slow_list[i] * B_slow_list[i]"
   ]
  },
  {
   "cell_type": "code",
   "execution_count": 57,
   "metadata": {},
   "outputs": [
    {
     "name": "stdout",
     "output_type": "stream",
     "text": [
      "CPU times: user 399 ms, sys: 30.5 ms, total: 429 ms\n",
      "Wall time: 436 ms\n"
     ]
    }
   ],
   "source": [
    "%%time\n",
    "ans = sum([A_slow_list[i] * B_slow_list[i] for i in range(1000000)])"
   ]
  },
  {
   "cell_type": "code",
   "execution_count": 58,
   "metadata": {},
   "outputs": [
    {
     "name": "stdout",
     "output_type": "stream",
     "text": [
      "CPU times: user 5.13 ms, sys: 1.48 ms, total: 6.61 ms\n",
      "Wall time: 4.46 ms\n"
     ]
    }
   ],
   "source": [
    "%%time\n",
    "ans = np.sum(A_quick_arr * B_quick_arr)"
   ]
  },
  {
   "cell_type": "code",
   "execution_count": 59,
   "metadata": {},
   "outputs": [
    {
     "name": "stdout",
     "output_type": "stream",
     "text": [
      "CPU times: user 5.03 ms, sys: 1.18 ms, total: 6.22 ms\n",
      "Wall time: 907 µs\n"
     ]
    }
   ],
   "source": [
    "%%time\n",
    "ans = A_quick_arr.dot(B_quick_arr)"
   ]
  },
  {
   "cell_type": "markdown",
   "metadata": {},
   "source": [
    "# Работа с данными (Pandas)\n",
    "<img src=\"https://www.dropbox.com/s/qeh64d6jsynffo7/pandas.gif?raw=1\">\n",
    "\n",
    "Аналитикам часто приходится работать с табличными данными. В Python это удобно делать с помощью библиотеки Pandas, давайте с ней познакомимся."
   ]
  },
  {
   "cell_type": "code",
   "execution_count": 60,
   "metadata": {},
   "outputs": [],
   "source": [
    "import pandas as pd"
   ]
  },
  {
   "cell_type": "markdown",
   "metadata": {},
   "source": [
    "Сегодня мы с вами будем работать с [корпусом русскоязычных твитов](http://study.mokoron.com)\n",
    "\n",
    "Корпус состоит из 12 столбцов:\n",
    "\n",
    "    – id: уникальный номер сообщения в системе twitter;\n",
    "    – tdate: дата публикации сообщения (твита);\n",
    "    – tmane: имя пользователя, опубликовавшего сообщение;\n",
    "    – ttext:  текст сообщения (твита);\n",
    "    – ttype: поле в котором в дальнейшем будет указано к кому классу относится твит (положительный, отрицательный, нейтральный);\n",
    "    – trep: количество реплаев к данному сообщению. В настоящий момент API твиттера не отдает эту информацию;\n",
    "    – tfav: число сколько раз данное сообщение было добавлено в избранное другими пользователями;\n",
    "    – tstcount: число всех сообщений пользователя в сети twitter;\n",
    "    – tfol: количество фолловеров пользователя (тех людей, которые читают пользователя);\n",
    "    – tfrien: количество друзей пользователя (те люди, которых читает пользователь);\n",
    "    – listcount: количество листов-подписок в которые добавлен твиттер-пользователь."
   ]
  },
  {
   "cell_type": "markdown",
   "metadata": {},
   "source": [
    "Загрузим данные:"
   ]
  },
  {
   "cell_type": "code",
   "execution_count": 61,
   "metadata": {},
   "outputs": [],
   "source": [
    "! wget  -O 'tweets.csv' -q 'https://www.dropbox.com/s/ou55qwyhbj1pdav/tweets.csv?dl=1'"
   ]
  },
  {
   "cell_type": "code",
   "execution_count": 62,
   "metadata": {},
   "outputs": [],
   "source": [
    "import pandas as pd\n",
    "data = pd.read_csv(\"tweets.csv\")"
   ]
  },
  {
   "cell_type": "code",
   "execution_count": 63,
   "metadata": {},
   "outputs": [],
   "source": [
    "data = pd.read_csv(\"tweets.csv\")"
   ]
  },
  {
   "cell_type": "code",
   "execution_count": 64,
   "metadata": {},
   "outputs": [
    {
     "data": {
      "text/html": [
       "<div>\n",
       "<style scoped>\n",
       "    .dataframe tbody tr th:only-of-type {\n",
       "        vertical-align: middle;\n",
       "    }\n",
       "\n",
       "    .dataframe tbody tr th {\n",
       "        vertical-align: top;\n",
       "    }\n",
       "\n",
       "    .dataframe thead th {\n",
       "        text-align: right;\n",
       "    }\n",
       "</style>\n",
       "<table border=\"1\" class=\"dataframe\">\n",
       "  <thead>\n",
       "    <tr style=\"text-align: right;\">\n",
       "      <th></th>\n",
       "      <th>id</th>\n",
       "      <th>tdate</th>\n",
       "      <th>tmane</th>\n",
       "      <th>ttext</th>\n",
       "      <th>ttype</th>\n",
       "      <th>trep</th>\n",
       "      <th>tfav</th>\n",
       "      <th>tstcount</th>\n",
       "      <th>tfol</th>\n",
       "      <th>tfrien</th>\n",
       "      <th>listcount</th>\n",
       "    </tr>\n",
       "  </thead>\n",
       "  <tbody>\n",
       "    <tr>\n",
       "      <th>0</th>\n",
       "      <td>410745723928731648</td>\n",
       "      <td>1386764386</td>\n",
       "      <td>chavdaridi</td>\n",
       "      <td>RT @dianochka6464ru: Россия отмочила! Смотреть...</td>\n",
       "      <td>1</td>\n",
       "      <td>0</td>\n",
       "      <td>1</td>\n",
       "      <td>0</td>\n",
       "      <td>285</td>\n",
       "      <td>11</td>\n",
       "      <td>11</td>\n",
       "    </tr>\n",
       "    <tr>\n",
       "      <th>1</th>\n",
       "      <td>409580147185315840</td>\n",
       "      <td>1386486491</td>\n",
       "      <td>pifelanybal</td>\n",
       "      <td>Google сменил алгоритм чексуммы в загребании P...</td>\n",
       "      <td>-1</td>\n",
       "      <td>0</td>\n",
       "      <td>0</td>\n",
       "      <td>0</td>\n",
       "      <td>130</td>\n",
       "      <td>100</td>\n",
       "      <td>86</td>\n",
       "    </tr>\n",
       "    <tr>\n",
       "      <th>2</th>\n",
       "      <td>419794699738570752</td>\n",
       "      <td>1388921830</td>\n",
       "      <td>RomanenkoJulya</td>\n",
       "      <td>мне надо домой, @RomaRudenko1 не отпускает(</td>\n",
       "      <td>-1</td>\n",
       "      <td>0</td>\n",
       "      <td>0</td>\n",
       "      <td>0</td>\n",
       "      <td>730</td>\n",
       "      <td>28</td>\n",
       "      <td>18</td>\n",
       "    </tr>\n",
       "    <tr>\n",
       "      <th>3</th>\n",
       "      <td>410625694087909376</td>\n",
       "      <td>1386735769</td>\n",
       "      <td>VizivayuDyavola</td>\n",
       "      <td>RT @boobear1236969: Линта,я слева:D http://t.c...</td>\n",
       "      <td>1</td>\n",
       "      <td>0</td>\n",
       "      <td>3</td>\n",
       "      <td>0</td>\n",
       "      <td>1959</td>\n",
       "      <td>405</td>\n",
       "      <td>537</td>\n",
       "    </tr>\n",
       "    <tr>\n",
       "      <th>4</th>\n",
       "      <td>410849586635628545</td>\n",
       "      <td>1386789149</td>\n",
       "      <td>Den_Byhovsky</td>\n",
       "      <td>@juliasvirid17 я имел ввиду, что для меня спос...</td>\n",
       "      <td>1</td>\n",
       "      <td>0</td>\n",
       "      <td>0</td>\n",
       "      <td>0</td>\n",
       "      <td>3248</td>\n",
       "      <td>61</td>\n",
       "      <td>48</td>\n",
       "    </tr>\n",
       "    <tr>\n",
       "      <th>...</th>\n",
       "      <td>...</td>\n",
       "      <td>...</td>\n",
       "      <td>...</td>\n",
       "      <td>...</td>\n",
       "      <td>...</td>\n",
       "      <td>...</td>\n",
       "      <td>...</td>\n",
       "      <td>...</td>\n",
       "      <td>...</td>\n",
       "      <td>...</td>\n",
       "      <td>...</td>\n",
       "    </tr>\n",
       "    <tr>\n",
       "      <th>226829</th>\n",
       "      <td>410847348764332032</td>\n",
       "      <td>1386788615</td>\n",
       "      <td>mu_nasta</td>\n",
       "      <td>Почаще надо с тобой в ледовый ходить\\nусцаться...</td>\n",
       "      <td>1</td>\n",
       "      <td>0</td>\n",
       "      <td>0</td>\n",
       "      <td>0</td>\n",
       "      <td>39</td>\n",
       "      <td>13</td>\n",
       "      <td>14</td>\n",
       "    </tr>\n",
       "    <tr>\n",
       "      <th>226830</th>\n",
       "      <td>409764857534480384</td>\n",
       "      <td>1386530529</td>\n",
       "      <td>SCmoscow</td>\n",
       "      <td>@nastyasrost побеждать и утирать всем нос одно...</td>\n",
       "      <td>1</td>\n",
       "      <td>0</td>\n",
       "      <td>0</td>\n",
       "      <td>0</td>\n",
       "      <td>14584</td>\n",
       "      <td>600</td>\n",
       "      <td>1477</td>\n",
       "    </tr>\n",
       "    <tr>\n",
       "      <th>226831</th>\n",
       "      <td>409201782154215424</td>\n",
       "      <td>1386396282</td>\n",
       "      <td>MKycha</td>\n",
       "      <td>Прям матч Россия - Бразилия на олимпийских игр...</td>\n",
       "      <td>1</td>\n",
       "      <td>0</td>\n",
       "      <td>0</td>\n",
       "      <td>0</td>\n",
       "      <td>3765</td>\n",
       "      <td>153</td>\n",
       "      <td>115</td>\n",
       "    </tr>\n",
       "    <tr>\n",
       "      <th>226832</th>\n",
       "      <td>424812745570385920</td>\n",
       "      <td>1390118225</td>\n",
       "      <td>aigulim_e</td>\n",
       "      <td>Казакстандык жетим балаларды асырап алып, 5 жы...</td>\n",
       "      <td>-1</td>\n",
       "      <td>0</td>\n",
       "      <td>0</td>\n",
       "      <td>0</td>\n",
       "      <td>179</td>\n",
       "      <td>205</td>\n",
       "      <td>117</td>\n",
       "    </tr>\n",
       "    <tr>\n",
       "      <th>226833</th>\n",
       "      <td>410637332698497024</td>\n",
       "      <td>1386738544</td>\n",
       "      <td>zayac86</td>\n",
       "      <td>Официально разрешено выращивать ГМО-продукты! ...</td>\n",
       "      <td>1</td>\n",
       "      <td>0</td>\n",
       "      <td>0</td>\n",
       "      <td>0</td>\n",
       "      <td>10820</td>\n",
       "      <td>1472</td>\n",
       "      <td>170</td>\n",
       "    </tr>\n",
       "  </tbody>\n",
       "</table>\n",
       "<p>226834 rows × 11 columns</p>\n",
       "</div>"
      ],
      "text/plain": [
       "                        id       tdate            tmane  \\\n",
       "0       410745723928731648  1386764386       chavdaridi   \n",
       "1       409580147185315840  1386486491      pifelanybal   \n",
       "2       419794699738570752  1388921830   RomanenkoJulya   \n",
       "3       410625694087909376  1386735769  VizivayuDyavola   \n",
       "4       410849586635628545  1386789149     Den_Byhovsky   \n",
       "...                    ...         ...              ...   \n",
       "226829  410847348764332032  1386788615         mu_nasta   \n",
       "226830  409764857534480384  1386530529         SCmoscow   \n",
       "226831  409201782154215424  1386396282           MKycha   \n",
       "226832  424812745570385920  1390118225        aigulim_e   \n",
       "226833  410637332698497024  1386738544          zayac86   \n",
       "\n",
       "                                                    ttext  ttype  trep  tfav  \\\n",
       "0       RT @dianochka6464ru: Россия отмочила! Смотреть...      1     0     1   \n",
       "1       Google сменил алгоритм чексуммы в загребании P...     -1     0     0   \n",
       "2             мне надо домой, @RomaRudenko1 не отпускает(     -1     0     0   \n",
       "3       RT @boobear1236969: Линта,я слева:D http://t.c...      1     0     3   \n",
       "4       @juliasvirid17 я имел ввиду, что для меня спос...      1     0     0   \n",
       "...                                                   ...    ...   ...   ...   \n",
       "226829  Почаще надо с тобой в ледовый ходить\\nусцаться...      1     0     0   \n",
       "226830  @nastyasrost побеждать и утирать всем нос одно...      1     0     0   \n",
       "226831  Прям матч Россия - Бразилия на олимпийских игр...      1     0     0   \n",
       "226832  Казакстандык жетим балаларды асырап алып, 5 жы...     -1     0     0   \n",
       "226833  Официально разрешено выращивать ГМО-продукты! ...      1     0     0   \n",
       "\n",
       "        tstcount   tfol  tfrien  listcount  \n",
       "0              0    285      11         11  \n",
       "1              0    130     100         86  \n",
       "2              0    730      28         18  \n",
       "3              0   1959     405        537  \n",
       "4              0   3248      61         48  \n",
       "...          ...    ...     ...        ...  \n",
       "226829         0     39      13         14  \n",
       "226830         0  14584     600       1477  \n",
       "226831         0   3765     153        115  \n",
       "226832         0    179     205        117  \n",
       "226833         0  10820    1472        170  \n",
       "\n",
       "[226834 rows x 11 columns]"
      ]
     },
     "execution_count": 64,
     "metadata": {},
     "output_type": "execute_result"
    }
   ],
   "source": [
    "data"
   ]
  },
  {
   "cell_type": "markdown",
   "metadata": {},
   "source": [
    "Теперь данные хранятся в переменной ```data```, которая имеет тип [DataFrame](https://pandas.pydata.org/pandas-docs/stable/reference/api/pandas.DataFrame.html):"
   ]
  },
  {
   "cell_type": "code",
   "execution_count": 65,
   "metadata": {},
   "outputs": [
    {
     "data": {
      "text/plain": [
       "pandas.core.frame.DataFrame"
      ]
     },
     "execution_count": 65,
     "metadata": {},
     "output_type": "execute_result"
    }
   ],
   "source": [
    "type(data)"
   ]
  },
  {
   "cell_type": "markdown",
   "metadata": {},
   "source": [
    "DataFrame можно частично отобразить в jupyter-ноутбуке с помощью методов ```sample``` и ```head```:"
   ]
  },
  {
   "cell_type": "code",
   "execution_count": 66,
   "metadata": {},
   "outputs": [
    {
     "data": {
      "text/html": [
       "<div>\n",
       "<style scoped>\n",
       "    .dataframe tbody tr th:only-of-type {\n",
       "        vertical-align: middle;\n",
       "    }\n",
       "\n",
       "    .dataframe tbody tr th {\n",
       "        vertical-align: top;\n",
       "    }\n",
       "\n",
       "    .dataframe thead th {\n",
       "        text-align: right;\n",
       "    }\n",
       "</style>\n",
       "<table border=\"1\" class=\"dataframe\">\n",
       "  <thead>\n",
       "    <tr style=\"text-align: right;\">\n",
       "      <th></th>\n",
       "      <th>id</th>\n",
       "      <th>tdate</th>\n",
       "      <th>tmane</th>\n",
       "      <th>ttext</th>\n",
       "      <th>ttype</th>\n",
       "      <th>trep</th>\n",
       "      <th>tfav</th>\n",
       "      <th>tstcount</th>\n",
       "      <th>tfol</th>\n",
       "      <th>tfrien</th>\n",
       "      <th>listcount</th>\n",
       "    </tr>\n",
       "  </thead>\n",
       "  <tbody>\n",
       "    <tr>\n",
       "      <th>0</th>\n",
       "      <td>410745723928731648</td>\n",
       "      <td>1386764386</td>\n",
       "      <td>chavdaridi</td>\n",
       "      <td>RT @dianochka6464ru: Россия отмочила! Смотреть...</td>\n",
       "      <td>1</td>\n",
       "      <td>0</td>\n",
       "      <td>1</td>\n",
       "      <td>0</td>\n",
       "      <td>285</td>\n",
       "      <td>11</td>\n",
       "      <td>11</td>\n",
       "    </tr>\n",
       "    <tr>\n",
       "      <th>1</th>\n",
       "      <td>409580147185315840</td>\n",
       "      <td>1386486491</td>\n",
       "      <td>pifelanybal</td>\n",
       "      <td>Google сменил алгоритм чексуммы в загребании P...</td>\n",
       "      <td>-1</td>\n",
       "      <td>0</td>\n",
       "      <td>0</td>\n",
       "      <td>0</td>\n",
       "      <td>130</td>\n",
       "      <td>100</td>\n",
       "      <td>86</td>\n",
       "    </tr>\n",
       "    <tr>\n",
       "      <th>2</th>\n",
       "      <td>419794699738570752</td>\n",
       "      <td>1388921830</td>\n",
       "      <td>RomanenkoJulya</td>\n",
       "      <td>мне надо домой, @RomaRudenko1 не отпускает(</td>\n",
       "      <td>-1</td>\n",
       "      <td>0</td>\n",
       "      <td>0</td>\n",
       "      <td>0</td>\n",
       "      <td>730</td>\n",
       "      <td>28</td>\n",
       "      <td>18</td>\n",
       "    </tr>\n",
       "    <tr>\n",
       "      <th>3</th>\n",
       "      <td>410625694087909376</td>\n",
       "      <td>1386735769</td>\n",
       "      <td>VizivayuDyavola</td>\n",
       "      <td>RT @boobear1236969: Линта,я слева:D http://t.c...</td>\n",
       "      <td>1</td>\n",
       "      <td>0</td>\n",
       "      <td>3</td>\n",
       "      <td>0</td>\n",
       "      <td>1959</td>\n",
       "      <td>405</td>\n",
       "      <td>537</td>\n",
       "    </tr>\n",
       "    <tr>\n",
       "      <th>4</th>\n",
       "      <td>410849586635628545</td>\n",
       "      <td>1386789149</td>\n",
       "      <td>Den_Byhovsky</td>\n",
       "      <td>@juliasvirid17 я имел ввиду, что для меня спос...</td>\n",
       "      <td>1</td>\n",
       "      <td>0</td>\n",
       "      <td>0</td>\n",
       "      <td>0</td>\n",
       "      <td>3248</td>\n",
       "      <td>61</td>\n",
       "      <td>48</td>\n",
       "    </tr>\n",
       "    <tr>\n",
       "      <th>5</th>\n",
       "      <td>422818428463091712</td>\n",
       "      <td>1389642743</td>\n",
       "      <td>ladakalina35</td>\n",
       "      <td>после самостоятельных тренировок все мышцы бол...</td>\n",
       "      <td>-1</td>\n",
       "      <td>0</td>\n",
       "      <td>0</td>\n",
       "      <td>0</td>\n",
       "      <td>489</td>\n",
       "      <td>52</td>\n",
       "      <td>43</td>\n",
       "    </tr>\n",
       "  </tbody>\n",
       "</table>\n",
       "</div>"
      ],
      "text/plain": [
       "                   id       tdate            tmane  \\\n",
       "0  410745723928731648  1386764386       chavdaridi   \n",
       "1  409580147185315840  1386486491      pifelanybal   \n",
       "2  419794699738570752  1388921830   RomanenkoJulya   \n",
       "3  410625694087909376  1386735769  VizivayuDyavola   \n",
       "4  410849586635628545  1386789149     Den_Byhovsky   \n",
       "5  422818428463091712  1389642743     ladakalina35   \n",
       "\n",
       "                                               ttext  ttype  trep  tfav  \\\n",
       "0  RT @dianochka6464ru: Россия отмочила! Смотреть...      1     0     1   \n",
       "1  Google сменил алгоритм чексуммы в загребании P...     -1     0     0   \n",
       "2        мне надо домой, @RomaRudenko1 не отпускает(     -1     0     0   \n",
       "3  RT @boobear1236969: Линта,я слева:D http://t.c...      1     0     3   \n",
       "4  @juliasvirid17 я имел ввиду, что для меня спос...      1     0     0   \n",
       "5  после самостоятельных тренировок все мышцы бол...     -1     0     0   \n",
       "\n",
       "   tstcount  tfol  tfrien  listcount  \n",
       "0         0   285      11         11  \n",
       "1         0   130     100         86  \n",
       "2         0   730      28         18  \n",
       "3         0  1959     405        537  \n",
       "4         0  3248      61         48  \n",
       "5         0   489      52         43  "
      ]
     },
     "execution_count": 66,
     "metadata": {},
     "output_type": "execute_result"
    }
   ],
   "source": [
    "data.head(6)"
   ]
  },
  {
   "cell_type": "code",
   "execution_count": 67,
   "metadata": {},
   "outputs": [
    {
     "data": {
      "text/html": [
       "<div>\n",
       "<style scoped>\n",
       "    .dataframe tbody tr th:only-of-type {\n",
       "        vertical-align: middle;\n",
       "    }\n",
       "\n",
       "    .dataframe tbody tr th {\n",
       "        vertical-align: top;\n",
       "    }\n",
       "\n",
       "    .dataframe thead th {\n",
       "        text-align: right;\n",
       "    }\n",
       "</style>\n",
       "<table border=\"1\" class=\"dataframe\">\n",
       "  <thead>\n",
       "    <tr style=\"text-align: right;\">\n",
       "      <th></th>\n",
       "      <th>id</th>\n",
       "      <th>tdate</th>\n",
       "      <th>tmane</th>\n",
       "      <th>ttext</th>\n",
       "      <th>ttype</th>\n",
       "      <th>trep</th>\n",
       "      <th>tfav</th>\n",
       "      <th>tstcount</th>\n",
       "      <th>tfol</th>\n",
       "      <th>tfrien</th>\n",
       "      <th>listcount</th>\n",
       "    </tr>\n",
       "  </thead>\n",
       "  <tbody>\n",
       "    <tr>\n",
       "      <th>91071</th>\n",
       "      <td>411208172750532608</td>\n",
       "      <td>1386874642</td>\n",
       "      <td>Maxim_Fill</td>\n",
       "      <td>С этим ограничением в 140 символов чувствую се...</td>\n",
       "      <td>-1</td>\n",
       "      <td>0</td>\n",
       "      <td>0</td>\n",
       "      <td>0</td>\n",
       "      <td>1752</td>\n",
       "      <td>86</td>\n",
       "      <td>79</td>\n",
       "    </tr>\n",
       "    <tr>\n",
       "      <th>57166</th>\n",
       "      <td>410117958531571712</td>\n",
       "      <td>1386614715</td>\n",
       "      <td>yulia_yulia98</td>\n",
       "      <td>RT @InnaMew: А что если я скажу, что мои родит...</td>\n",
       "      <td>1</td>\n",
       "      <td>0</td>\n",
       "      <td>1</td>\n",
       "      <td>0</td>\n",
       "      <td>2842</td>\n",
       "      <td>58</td>\n",
       "      <td>51</td>\n",
       "    </tr>\n",
       "    <tr>\n",
       "      <th>42444</th>\n",
       "      <td>411095039872221184</td>\n",
       "      <td>1386847669</td>\n",
       "      <td>SmetanaSvetlana</td>\n",
       "      <td>вчера был отличный вечер, столько много приятн...</td>\n",
       "      <td>1</td>\n",
       "      <td>0</td>\n",
       "      <td>0</td>\n",
       "      <td>0</td>\n",
       "      <td>325</td>\n",
       "      <td>5</td>\n",
       "      <td>10</td>\n",
       "    </tr>\n",
       "    <tr>\n",
       "      <th>106764</th>\n",
       "      <td>410789783301292032</td>\n",
       "      <td>1386774891</td>\n",
       "      <td>DimasikOGP</td>\n",
       "      <td>RT @ARTEM_KLYUSHIN: Кто ненавидит пробки ретви...</td>\n",
       "      <td>-1</td>\n",
       "      <td>0</td>\n",
       "      <td>372</td>\n",
       "      <td>0</td>\n",
       "      <td>30</td>\n",
       "      <td>1</td>\n",
       "      <td>1085</td>\n",
       "    </tr>\n",
       "    <tr>\n",
       "      <th>37348</th>\n",
       "      <td>412858618539560960</td>\n",
       "      <td>1387268139</td>\n",
       "      <td>Didiandra</td>\n",
       "      <td>никто не хочет от меня цветочков( http://t.co/...</td>\n",
       "      <td>-1</td>\n",
       "      <td>0</td>\n",
       "      <td>0</td>\n",
       "      <td>0</td>\n",
       "      <td>11499</td>\n",
       "      <td>511</td>\n",
       "      <td>497</td>\n",
       "    </tr>\n",
       "    <tr>\n",
       "      <th>123642</th>\n",
       "      <td>419873672774418433</td>\n",
       "      <td>1388940659</td>\n",
       "      <td>ssincreepsin</td>\n",
       "      <td>dpo0weiatuoe :( ........ ыплоывлпзоызпоыщ http...</td>\n",
       "      <td>-1</td>\n",
       "      <td>0</td>\n",
       "      <td>0</td>\n",
       "      <td>0</td>\n",
       "      <td>31629</td>\n",
       "      <td>415</td>\n",
       "      <td>88</td>\n",
       "    </tr>\n",
       "  </tbody>\n",
       "</table>\n",
       "</div>"
      ],
      "text/plain": [
       "                        id       tdate            tmane  \\\n",
       "91071   411208172750532608  1386874642       Maxim_Fill   \n",
       "57166   410117958531571712  1386614715    yulia_yulia98   \n",
       "42444   411095039872221184  1386847669  SmetanaSvetlana   \n",
       "106764  410789783301292032  1386774891       DimasikOGP   \n",
       "37348   412858618539560960  1387268139        Didiandra   \n",
       "123642  419873672774418433  1388940659     ssincreepsin   \n",
       "\n",
       "                                                    ttext  ttype  trep  tfav  \\\n",
       "91071   С этим ограничением в 140 символов чувствую се...     -1     0     0   \n",
       "57166   RT @InnaMew: А что если я скажу, что мои родит...      1     0     1   \n",
       "42444   вчера был отличный вечер, столько много приятн...      1     0     0   \n",
       "106764  RT @ARTEM_KLYUSHIN: Кто ненавидит пробки ретви...     -1     0   372   \n",
       "37348   никто не хочет от меня цветочков( http://t.co/...     -1     0     0   \n",
       "123642  dpo0weiatuoe :( ........ ыплоывлпзоызпоыщ http...     -1     0     0   \n",
       "\n",
       "        tstcount   tfol  tfrien  listcount  \n",
       "91071          0   1752      86         79  \n",
       "57166          0   2842      58         51  \n",
       "42444          0    325       5         10  \n",
       "106764         0     30       1       1085  \n",
       "37348          0  11499     511        497  \n",
       "123642         0  31629     415         88  "
      ]
     },
     "execution_count": 67,
     "metadata": {},
     "output_type": "execute_result"
    }
   ],
   "source": [
    "data.sample(6)"
   ]
  },
  {
   "cell_type": "markdown",
   "metadata": {},
   "source": [
    "Можно отобразить и весь датасет, но это обычно слишком громоздко:"
   ]
  },
  {
   "cell_type": "code",
   "execution_count": 68,
   "metadata": {
    "scrolled": true
   },
   "outputs": [
    {
     "data": {
      "text/html": [
       "<div>\n",
       "<style scoped>\n",
       "    .dataframe tbody tr th:only-of-type {\n",
       "        vertical-align: middle;\n",
       "    }\n",
       "\n",
       "    .dataframe tbody tr th {\n",
       "        vertical-align: top;\n",
       "    }\n",
       "\n",
       "    .dataframe thead th {\n",
       "        text-align: right;\n",
       "    }\n",
       "</style>\n",
       "<table border=\"1\" class=\"dataframe\">\n",
       "  <thead>\n",
       "    <tr style=\"text-align: right;\">\n",
       "      <th></th>\n",
       "      <th>id</th>\n",
       "      <th>tdate</th>\n",
       "      <th>tmane</th>\n",
       "      <th>ttext</th>\n",
       "      <th>ttype</th>\n",
       "      <th>trep</th>\n",
       "      <th>tfav</th>\n",
       "      <th>tstcount</th>\n",
       "      <th>tfol</th>\n",
       "      <th>tfrien</th>\n",
       "      <th>listcount</th>\n",
       "    </tr>\n",
       "  </thead>\n",
       "  <tbody>\n",
       "    <tr>\n",
       "      <th>0</th>\n",
       "      <td>410745723928731648</td>\n",
       "      <td>1386764386</td>\n",
       "      <td>chavdaridi</td>\n",
       "      <td>RT @dianochka6464ru: Россия отмочила! Смотреть...</td>\n",
       "      <td>1</td>\n",
       "      <td>0</td>\n",
       "      <td>1</td>\n",
       "      <td>0</td>\n",
       "      <td>285</td>\n",
       "      <td>11</td>\n",
       "      <td>11</td>\n",
       "    </tr>\n",
       "    <tr>\n",
       "      <th>1</th>\n",
       "      <td>409580147185315840</td>\n",
       "      <td>1386486491</td>\n",
       "      <td>pifelanybal</td>\n",
       "      <td>Google сменил алгоритм чексуммы в загребании P...</td>\n",
       "      <td>-1</td>\n",
       "      <td>0</td>\n",
       "      <td>0</td>\n",
       "      <td>0</td>\n",
       "      <td>130</td>\n",
       "      <td>100</td>\n",
       "      <td>86</td>\n",
       "    </tr>\n",
       "    <tr>\n",
       "      <th>2</th>\n",
       "      <td>419794699738570752</td>\n",
       "      <td>1388921830</td>\n",
       "      <td>RomanenkoJulya</td>\n",
       "      <td>мне надо домой, @RomaRudenko1 не отпускает(</td>\n",
       "      <td>-1</td>\n",
       "      <td>0</td>\n",
       "      <td>0</td>\n",
       "      <td>0</td>\n",
       "      <td>730</td>\n",
       "      <td>28</td>\n",
       "      <td>18</td>\n",
       "    </tr>\n",
       "    <tr>\n",
       "      <th>3</th>\n",
       "      <td>410625694087909376</td>\n",
       "      <td>1386735769</td>\n",
       "      <td>VizivayuDyavola</td>\n",
       "      <td>RT @boobear1236969: Линта,я слева:D http://t.c...</td>\n",
       "      <td>1</td>\n",
       "      <td>0</td>\n",
       "      <td>3</td>\n",
       "      <td>0</td>\n",
       "      <td>1959</td>\n",
       "      <td>405</td>\n",
       "      <td>537</td>\n",
       "    </tr>\n",
       "    <tr>\n",
       "      <th>4</th>\n",
       "      <td>410849586635628545</td>\n",
       "      <td>1386789149</td>\n",
       "      <td>Den_Byhovsky</td>\n",
       "      <td>@juliasvirid17 я имел ввиду, что для меня спос...</td>\n",
       "      <td>1</td>\n",
       "      <td>0</td>\n",
       "      <td>0</td>\n",
       "      <td>0</td>\n",
       "      <td>3248</td>\n",
       "      <td>61</td>\n",
       "      <td>48</td>\n",
       "    </tr>\n",
       "    <tr>\n",
       "      <th>...</th>\n",
       "      <td>...</td>\n",
       "      <td>...</td>\n",
       "      <td>...</td>\n",
       "      <td>...</td>\n",
       "      <td>...</td>\n",
       "      <td>...</td>\n",
       "      <td>...</td>\n",
       "      <td>...</td>\n",
       "      <td>...</td>\n",
       "      <td>...</td>\n",
       "      <td>...</td>\n",
       "    </tr>\n",
       "    <tr>\n",
       "      <th>226829</th>\n",
       "      <td>410847348764332032</td>\n",
       "      <td>1386788615</td>\n",
       "      <td>mu_nasta</td>\n",
       "      <td>Почаще надо с тобой в ледовый ходить\\nусцаться...</td>\n",
       "      <td>1</td>\n",
       "      <td>0</td>\n",
       "      <td>0</td>\n",
       "      <td>0</td>\n",
       "      <td>39</td>\n",
       "      <td>13</td>\n",
       "      <td>14</td>\n",
       "    </tr>\n",
       "    <tr>\n",
       "      <th>226830</th>\n",
       "      <td>409764857534480384</td>\n",
       "      <td>1386530529</td>\n",
       "      <td>SCmoscow</td>\n",
       "      <td>@nastyasrost побеждать и утирать всем нос одно...</td>\n",
       "      <td>1</td>\n",
       "      <td>0</td>\n",
       "      <td>0</td>\n",
       "      <td>0</td>\n",
       "      <td>14584</td>\n",
       "      <td>600</td>\n",
       "      <td>1477</td>\n",
       "    </tr>\n",
       "    <tr>\n",
       "      <th>226831</th>\n",
       "      <td>409201782154215424</td>\n",
       "      <td>1386396282</td>\n",
       "      <td>MKycha</td>\n",
       "      <td>Прям матч Россия - Бразилия на олимпийских игр...</td>\n",
       "      <td>1</td>\n",
       "      <td>0</td>\n",
       "      <td>0</td>\n",
       "      <td>0</td>\n",
       "      <td>3765</td>\n",
       "      <td>153</td>\n",
       "      <td>115</td>\n",
       "    </tr>\n",
       "    <tr>\n",
       "      <th>226832</th>\n",
       "      <td>424812745570385920</td>\n",
       "      <td>1390118225</td>\n",
       "      <td>aigulim_e</td>\n",
       "      <td>Казакстандык жетим балаларды асырап алып, 5 жы...</td>\n",
       "      <td>-1</td>\n",
       "      <td>0</td>\n",
       "      <td>0</td>\n",
       "      <td>0</td>\n",
       "      <td>179</td>\n",
       "      <td>205</td>\n",
       "      <td>117</td>\n",
       "    </tr>\n",
       "    <tr>\n",
       "      <th>226833</th>\n",
       "      <td>410637332698497024</td>\n",
       "      <td>1386738544</td>\n",
       "      <td>zayac86</td>\n",
       "      <td>Официально разрешено выращивать ГМО-продукты! ...</td>\n",
       "      <td>1</td>\n",
       "      <td>0</td>\n",
       "      <td>0</td>\n",
       "      <td>0</td>\n",
       "      <td>10820</td>\n",
       "      <td>1472</td>\n",
       "      <td>170</td>\n",
       "    </tr>\n",
       "  </tbody>\n",
       "</table>\n",
       "<p>226834 rows × 11 columns</p>\n",
       "</div>"
      ],
      "text/plain": [
       "                        id       tdate            tmane  \\\n",
       "0       410745723928731648  1386764386       chavdaridi   \n",
       "1       409580147185315840  1386486491      pifelanybal   \n",
       "2       419794699738570752  1388921830   RomanenkoJulya   \n",
       "3       410625694087909376  1386735769  VizivayuDyavola   \n",
       "4       410849586635628545  1386789149     Den_Byhovsky   \n",
       "...                    ...         ...              ...   \n",
       "226829  410847348764332032  1386788615         mu_nasta   \n",
       "226830  409764857534480384  1386530529         SCmoscow   \n",
       "226831  409201782154215424  1386396282           MKycha   \n",
       "226832  424812745570385920  1390118225        aigulim_e   \n",
       "226833  410637332698497024  1386738544          zayac86   \n",
       "\n",
       "                                                    ttext  ttype  trep  tfav  \\\n",
       "0       RT @dianochka6464ru: Россия отмочила! Смотреть...      1     0     1   \n",
       "1       Google сменил алгоритм чексуммы в загребании P...     -1     0     0   \n",
       "2             мне надо домой, @RomaRudenko1 не отпускает(     -1     0     0   \n",
       "3       RT @boobear1236969: Линта,я слева:D http://t.c...      1     0     3   \n",
       "4       @juliasvirid17 я имел ввиду, что для меня спос...      1     0     0   \n",
       "...                                                   ...    ...   ...   ...   \n",
       "226829  Почаще надо с тобой в ледовый ходить\\nусцаться...      1     0     0   \n",
       "226830  @nastyasrost побеждать и утирать всем нос одно...      1     0     0   \n",
       "226831  Прям матч Россия - Бразилия на олимпийских игр...      1     0     0   \n",
       "226832  Казакстандык жетим балаларды асырап алып, 5 жы...     -1     0     0   \n",
       "226833  Официально разрешено выращивать ГМО-продукты! ...      1     0     0   \n",
       "\n",
       "        tstcount   tfol  tfrien  listcount  \n",
       "0              0    285      11         11  \n",
       "1              0    130     100         86  \n",
       "2              0    730      28         18  \n",
       "3              0   1959     405        537  \n",
       "4              0   3248      61         48  \n",
       "...          ...    ...     ...        ...  \n",
       "226829         0     39      13         14  \n",
       "226830         0  14584     600       1477  \n",
       "226831         0   3765     153        115  \n",
       "226832         0    179     205        117  \n",
       "226833         0  10820    1472        170  \n",
       "\n",
       "[226834 rows x 11 columns]"
      ]
     },
     "execution_count": 68,
     "metadata": {},
     "output_type": "execute_result"
    }
   ],
   "source": [
    "data"
   ]
  },
  {
   "cell_type": "markdown",
   "metadata": {},
   "source": [
    "DataFrame по сути является двумерной табличкой с набором полезных методов. Давайте рассмотрим основные из них."
   ]
  },
  {
   "cell_type": "markdown",
   "metadata": {},
   "source": [
    "В DataFrame есть несколько методов для обращения к строкам, столбцам и отдельным элементам таблицы: методы ```loc```, ```iloc``` и через квадратные скобки. Давайте поймем, в чем между ними разница, на примерах.\n",
    "\n",
    "В метод ```loc``` можно передать значение индекса (число, которое стоит в колонке index) строки, чтобы получить эту строку:"
   ]
  },
  {
   "cell_type": "code",
   "execution_count": 69,
   "metadata": {},
   "outputs": [
    {
     "data": {
      "text/plain": [
       "id                                    419794699738570752\n",
       "tdate                                         1388921830\n",
       "tmane                                     RomanenkoJulya\n",
       "ttext        мне надо домой, @RomaRudenko1 не отпускает(\n",
       "ttype                                                 -1\n",
       "trep                                                   0\n",
       "tfav                                                   0\n",
       "tstcount                                               0\n",
       "tfol                                                 730\n",
       "tfrien                                                28\n",
       "listcount                                             18\n",
       "Name: 2, dtype: object"
      ]
     },
     "execution_count": 69,
     "metadata": {},
     "output_type": "execute_result"
    }
   ],
   "source": [
    "data.loc[2]"
   ]
  },
  {
   "cell_type": "markdown",
   "metadata": {},
   "source": [
    "Получили отдельную строчку в виде объекта класса [Series](https://pandas.pydata.org/pandas-docs/stable/reference/api/pandas.Series.html):"
   ]
  },
  {
   "cell_type": "code",
   "execution_count": 70,
   "metadata": {},
   "outputs": [
    {
     "data": {
      "text/plain": [
       "pandas.core.series.Series"
      ]
     },
     "execution_count": 70,
     "metadata": {},
     "output_type": "execute_result"
    }
   ],
   "source": [
    "type(data.loc[2])"
   ]
  },
  {
   "cell_type": "markdown",
   "metadata": {},
   "source": [
    "А с помощью срезов можно выбрать часть таблицы:"
   ]
  },
  {
   "cell_type": "code",
   "execution_count": 71,
   "metadata": {},
   "outputs": [
    {
     "data": {
      "text/html": [
       "<div>\n",
       "<style scoped>\n",
       "    .dataframe tbody tr th:only-of-type {\n",
       "        vertical-align: middle;\n",
       "    }\n",
       "\n",
       "    .dataframe tbody tr th {\n",
       "        vertical-align: top;\n",
       "    }\n",
       "\n",
       "    .dataframe thead th {\n",
       "        text-align: right;\n",
       "    }\n",
       "</style>\n",
       "<table border=\"1\" class=\"dataframe\">\n",
       "  <thead>\n",
       "    <tr style=\"text-align: right;\">\n",
       "      <th></th>\n",
       "      <th>id</th>\n",
       "      <th>tdate</th>\n",
       "      <th>tmane</th>\n",
       "      <th>ttext</th>\n",
       "      <th>ttype</th>\n",
       "      <th>trep</th>\n",
       "      <th>tfav</th>\n",
       "      <th>tstcount</th>\n",
       "      <th>tfol</th>\n",
       "      <th>tfrien</th>\n",
       "      <th>listcount</th>\n",
       "    </tr>\n",
       "  </thead>\n",
       "  <tbody>\n",
       "    <tr>\n",
       "      <th>2</th>\n",
       "      <td>419794699738570752</td>\n",
       "      <td>1388921830</td>\n",
       "      <td>RomanenkoJulya</td>\n",
       "      <td>мне надо домой, @RomaRudenko1 не отпускает(</td>\n",
       "      <td>-1</td>\n",
       "      <td>0</td>\n",
       "      <td>0</td>\n",
       "      <td>0</td>\n",
       "      <td>730</td>\n",
       "      <td>28</td>\n",
       "      <td>18</td>\n",
       "    </tr>\n",
       "    <tr>\n",
       "      <th>3</th>\n",
       "      <td>410625694087909376</td>\n",
       "      <td>1386735769</td>\n",
       "      <td>VizivayuDyavola</td>\n",
       "      <td>RT @boobear1236969: Линта,я слева:D http://t.c...</td>\n",
       "      <td>1</td>\n",
       "      <td>0</td>\n",
       "      <td>3</td>\n",
       "      <td>0</td>\n",
       "      <td>1959</td>\n",
       "      <td>405</td>\n",
       "      <td>537</td>\n",
       "    </tr>\n",
       "    <tr>\n",
       "      <th>4</th>\n",
       "      <td>410849586635628545</td>\n",
       "      <td>1386789149</td>\n",
       "      <td>Den_Byhovsky</td>\n",
       "      <td>@juliasvirid17 я имел ввиду, что для меня спос...</td>\n",
       "      <td>1</td>\n",
       "      <td>0</td>\n",
       "      <td>0</td>\n",
       "      <td>0</td>\n",
       "      <td>3248</td>\n",
       "      <td>61</td>\n",
       "      <td>48</td>\n",
       "    </tr>\n",
       "  </tbody>\n",
       "</table>\n",
       "</div>"
      ],
      "text/plain": [
       "                   id       tdate            tmane  \\\n",
       "2  419794699738570752  1388921830   RomanenkoJulya   \n",
       "3  410625694087909376  1386735769  VizivayuDyavola   \n",
       "4  410849586635628545  1386789149     Den_Byhovsky   \n",
       "\n",
       "                                               ttext  ttype  trep  tfav  \\\n",
       "2        мне надо домой, @RomaRudenko1 не отпускает(     -1     0     0   \n",
       "3  RT @boobear1236969: Линта,я слева:D http://t.c...      1     0     3   \n",
       "4  @juliasvirid17 я имел ввиду, что для меня спос...      1     0     0   \n",
       "\n",
       "   tstcount  tfol  tfrien  listcount  \n",
       "2         0   730      28         18  \n",
       "3         0  1959     405        537  \n",
       "4         0  3248      61         48  "
      ]
     },
     "execution_count": 71,
     "metadata": {},
     "output_type": "execute_result"
    }
   ],
   "source": [
    "data.loc[2:4]"
   ]
  },
  {
   "cell_type": "markdown",
   "metadata": {},
   "source": [
    "Срез в ```loc``` производится по index и включает в себя последний элемент.\n",
    "\n",
    "Метод ```iloc``` действует похожим образом, но он индексирует элементы не по index, а по порядку в таблице (который может отличаться от index). Например:"
   ]
  },
  {
   "cell_type": "code",
   "execution_count": 72,
   "metadata": {},
   "outputs": [
    {
     "data": {
      "text/html": [
       "<div>\n",
       "<style scoped>\n",
       "    .dataframe tbody tr th:only-of-type {\n",
       "        vertical-align: middle;\n",
       "    }\n",
       "\n",
       "    .dataframe tbody tr th {\n",
       "        vertical-align: top;\n",
       "    }\n",
       "\n",
       "    .dataframe thead th {\n",
       "        text-align: right;\n",
       "    }\n",
       "</style>\n",
       "<table border=\"1\" class=\"dataframe\">\n",
       "  <thead>\n",
       "    <tr style=\"text-align: right;\">\n",
       "      <th></th>\n",
       "      <th>id</th>\n",
       "      <th>tdate</th>\n",
       "      <th>tmane</th>\n",
       "      <th>ttext</th>\n",
       "      <th>ttype</th>\n",
       "      <th>trep</th>\n",
       "      <th>tfav</th>\n",
       "      <th>tstcount</th>\n",
       "      <th>tfol</th>\n",
       "      <th>tfrien</th>\n",
       "      <th>listcount</th>\n",
       "    </tr>\n",
       "  </thead>\n",
       "  <tbody>\n",
       "    <tr>\n",
       "      <th>150498</th>\n",
       "      <td>411105741962240000</td>\n",
       "      <td>1386850221</td>\n",
       "      <td>eqijygagp</td>\n",
       "      <td>RT @xikenudo: ну чего? :) pazaak anyone? есть ...</td>\n",
       "      <td>1</td>\n",
       "      <td>0</td>\n",
       "      <td>2</td>\n",
       "      <td>0</td>\n",
       "      <td>307</td>\n",
       "      <td>163</td>\n",
       "      <td>158</td>\n",
       "    </tr>\n",
       "    <tr>\n",
       "      <th>184570</th>\n",
       "      <td>410053655271075840</td>\n",
       "      <td>1386599384</td>\n",
       "      <td>PavlenkoDarya</td>\n",
       "      <td>RT @Irka_astafeva: отлично погуляли* только на...</td>\n",
       "      <td>-1</td>\n",
       "      <td>0</td>\n",
       "      <td>1</td>\n",
       "      <td>0</td>\n",
       "      <td>8503</td>\n",
       "      <td>136</td>\n",
       "      <td>77</td>\n",
       "    </tr>\n",
       "    <tr>\n",
       "      <th>155213</th>\n",
       "      <td>411600011412406272</td>\n",
       "      <td>1386968064</td>\n",
       "      <td>pagydi</td>\n",
       "      <td>Моральна нагрузка по жоще фiзичноii буде((</td>\n",
       "      <td>-1</td>\n",
       "      <td>0</td>\n",
       "      <td>0</td>\n",
       "      <td>0</td>\n",
       "      <td>207</td>\n",
       "      <td>12</td>\n",
       "      <td>14</td>\n",
       "    </tr>\n",
       "    <tr>\n",
       "      <th>60696</th>\n",
       "      <td>409894928089890816</td>\n",
       "      <td>1386561541</td>\n",
       "      <td>lvu981</td>\n",
       "      <td>RT @mariaserdyukova: позвонила,спросила,про тв...</td>\n",
       "      <td>1</td>\n",
       "      <td>0</td>\n",
       "      <td>2</td>\n",
       "      <td>0</td>\n",
       "      <td>1602</td>\n",
       "      <td>11</td>\n",
       "      <td>8</td>\n",
       "    </tr>\n",
       "    <tr>\n",
       "      <th>117831</th>\n",
       "      <td>423551433469095936</td>\n",
       "      <td>1389817505</td>\n",
       "      <td>Vita_Stepanova</td>\n",
       "      <td>@NastyaMoritz можно даты перенести, но мне уже...</td>\n",
       "      <td>-1</td>\n",
       "      <td>0</td>\n",
       "      <td>0</td>\n",
       "      <td>0</td>\n",
       "      <td>5465</td>\n",
       "      <td>145</td>\n",
       "      <td>77</td>\n",
       "    </tr>\n",
       "  </tbody>\n",
       "</table>\n",
       "</div>"
      ],
      "text/plain": [
       "                        id       tdate           tmane  \\\n",
       "150498  411105741962240000  1386850221       eqijygagp   \n",
       "184570  410053655271075840  1386599384   PavlenkoDarya   \n",
       "155213  411600011412406272  1386968064          pagydi   \n",
       "60696   409894928089890816  1386561541          lvu981   \n",
       "117831  423551433469095936  1389817505  Vita_Stepanova   \n",
       "\n",
       "                                                    ttext  ttype  trep  tfav  \\\n",
       "150498  RT @xikenudo: ну чего? :) pazaak anyone? есть ...      1     0     2   \n",
       "184570  RT @Irka_astafeva: отлично погуляли* только на...     -1     0     1   \n",
       "155213         Моральна нагрузка по жоще фiзичноii буде((     -1     0     0   \n",
       "60696   RT @mariaserdyukova: позвонила,спросила,про тв...      1     0     2   \n",
       "117831  @NastyaMoritz можно даты перенести, но мне уже...     -1     0     0   \n",
       "\n",
       "        tstcount  tfol  tfrien  listcount  \n",
       "150498         0   307     163        158  \n",
       "184570         0  8503     136         77  \n",
       "155213         0   207      12         14  \n",
       "60696          0  1602      11          8  \n",
       "117831         0  5465     145         77  "
      ]
     },
     "execution_count": 72,
     "metadata": {},
     "output_type": "execute_result"
    }
   ],
   "source": [
    "subset = data.sample(5)\n",
    "subset"
   ]
  },
  {
   "cell_type": "code",
   "execution_count": 73,
   "metadata": {},
   "outputs": [
    {
     "data": {
      "text/plain": [
       "id                                   411600011412406272\n",
       "tdate                                        1386968064\n",
       "tmane                                            pagydi\n",
       "ttext        Моральна нагрузка по жоще фiзичноii буде((\n",
       "ttype                                                -1\n",
       "trep                                                  0\n",
       "tfav                                                  0\n",
       "tstcount                                              0\n",
       "tfol                                                207\n",
       "tfrien                                               12\n",
       "listcount                                            14\n",
       "Name: 155213, dtype: object"
      ]
     },
     "execution_count": 73,
     "metadata": {},
     "output_type": "execute_result"
    }
   ],
   "source": [
    "subset.iloc[2]"
   ]
  },
  {
   "cell_type": "code",
   "execution_count": 75,
   "metadata": {},
   "outputs": [],
   "source": [
    "# subset.loc[2]"
   ]
  },
  {
   "cell_type": "markdown",
   "metadata": {},
   "source": [
    "С помощью ```iloc``` тоже можно делать срезы, но в них последний элемент не включается (как и в обычных срезах в Python):"
   ]
  },
  {
   "cell_type": "code",
   "execution_count": 76,
   "metadata": {},
   "outputs": [
    {
     "data": {
      "text/html": [
       "<div>\n",
       "<style scoped>\n",
       "    .dataframe tbody tr th:only-of-type {\n",
       "        vertical-align: middle;\n",
       "    }\n",
       "\n",
       "    .dataframe tbody tr th {\n",
       "        vertical-align: top;\n",
       "    }\n",
       "\n",
       "    .dataframe thead th {\n",
       "        text-align: right;\n",
       "    }\n",
       "</style>\n",
       "<table border=\"1\" class=\"dataframe\">\n",
       "  <thead>\n",
       "    <tr style=\"text-align: right;\">\n",
       "      <th></th>\n",
       "      <th>id</th>\n",
       "      <th>tdate</th>\n",
       "      <th>tmane</th>\n",
       "      <th>ttext</th>\n",
       "      <th>ttype</th>\n",
       "      <th>trep</th>\n",
       "      <th>tfav</th>\n",
       "      <th>tstcount</th>\n",
       "      <th>tfol</th>\n",
       "      <th>tfrien</th>\n",
       "      <th>listcount</th>\n",
       "    </tr>\n",
       "  </thead>\n",
       "  <tbody>\n",
       "    <tr>\n",
       "      <th>2</th>\n",
       "      <td>419794699738570752</td>\n",
       "      <td>1388921830</td>\n",
       "      <td>RomanenkoJulya</td>\n",
       "      <td>мне надо домой, @RomaRudenko1 не отпускает(</td>\n",
       "      <td>-1</td>\n",
       "      <td>0</td>\n",
       "      <td>0</td>\n",
       "      <td>0</td>\n",
       "      <td>730</td>\n",
       "      <td>28</td>\n",
       "      <td>18</td>\n",
       "    </tr>\n",
       "    <tr>\n",
       "      <th>3</th>\n",
       "      <td>410625694087909376</td>\n",
       "      <td>1386735769</td>\n",
       "      <td>VizivayuDyavola</td>\n",
       "      <td>RT @boobear1236969: Линта,я слева:D http://t.c...</td>\n",
       "      <td>1</td>\n",
       "      <td>0</td>\n",
       "      <td>3</td>\n",
       "      <td>0</td>\n",
       "      <td>1959</td>\n",
       "      <td>405</td>\n",
       "      <td>537</td>\n",
       "    </tr>\n",
       "  </tbody>\n",
       "</table>\n",
       "</div>"
      ],
      "text/plain": [
       "                   id       tdate            tmane  \\\n",
       "2  419794699738570752  1388921830   RomanenkoJulya   \n",
       "3  410625694087909376  1386735769  VizivayuDyavola   \n",
       "\n",
       "                                               ttext  ttype  trep  tfav  \\\n",
       "2        мне надо домой, @RomaRudenko1 не отпускает(     -1     0     0   \n",
       "3  RT @boobear1236969: Линта,я слева:D http://t.c...      1     0     3   \n",
       "\n",
       "   tstcount  tfol  tfrien  listcount  \n",
       "2         0   730      28         18  \n",
       "3         0  1959     405        537  "
      ]
     },
     "execution_count": 76,
     "metadata": {},
     "output_type": "execute_result"
    }
   ],
   "source": [
    "data.iloc[2:4]"
   ]
  },
  {
   "cell_type": "markdown",
   "metadata": {},
   "source": [
    "Срезы можно брать не только по строкам, но и по столбцам. Обратите внимание на различия индексации столбцов в ```loc``` и ```iloc```:"
   ]
  },
  {
   "cell_type": "code",
   "execution_count": 77,
   "metadata": {},
   "outputs": [
    {
     "data": {
      "text/html": [
       "<div>\n",
       "<style scoped>\n",
       "    .dataframe tbody tr th:only-of-type {\n",
       "        vertical-align: middle;\n",
       "    }\n",
       "\n",
       "    .dataframe tbody tr th {\n",
       "        vertical-align: top;\n",
       "    }\n",
       "\n",
       "    .dataframe thead th {\n",
       "        text-align: right;\n",
       "    }\n",
       "</style>\n",
       "<table border=\"1\" class=\"dataframe\">\n",
       "  <thead>\n",
       "    <tr style=\"text-align: right;\">\n",
       "      <th></th>\n",
       "      <th>id</th>\n",
       "      <th>tdate</th>\n",
       "      <th>tmane</th>\n",
       "    </tr>\n",
       "  </thead>\n",
       "  <tbody>\n",
       "    <tr>\n",
       "      <th>2</th>\n",
       "      <td>419794699738570752</td>\n",
       "      <td>1388921830</td>\n",
       "      <td>RomanenkoJulya</td>\n",
       "    </tr>\n",
       "    <tr>\n",
       "      <th>3</th>\n",
       "      <td>410625694087909376</td>\n",
       "      <td>1386735769</td>\n",
       "      <td>VizivayuDyavola</td>\n",
       "    </tr>\n",
       "  </tbody>\n",
       "</table>\n",
       "</div>"
      ],
      "text/plain": [
       "                   id       tdate            tmane\n",
       "2  419794699738570752  1388921830   RomanenkoJulya\n",
       "3  410625694087909376  1386735769  VizivayuDyavola"
      ]
     },
     "execution_count": 77,
     "metadata": {},
     "output_type": "execute_result"
    }
   ],
   "source": [
    "data.iloc[2:4,0:3]"
   ]
  },
  {
   "cell_type": "code",
   "execution_count": 78,
   "metadata": {},
   "outputs": [
    {
     "data": {
      "text/html": [
       "<div>\n",
       "<style scoped>\n",
       "    .dataframe tbody tr th:only-of-type {\n",
       "        vertical-align: middle;\n",
       "    }\n",
       "\n",
       "    .dataframe tbody tr th {\n",
       "        vertical-align: top;\n",
       "    }\n",
       "\n",
       "    .dataframe thead th {\n",
       "        text-align: right;\n",
       "    }\n",
       "</style>\n",
       "<table border=\"1\" class=\"dataframe\">\n",
       "  <thead>\n",
       "    <tr style=\"text-align: right;\">\n",
       "      <th></th>\n",
       "      <th>id</th>\n",
       "      <th>tdate</th>\n",
       "      <th>tmane</th>\n",
       "    </tr>\n",
       "  </thead>\n",
       "  <tbody>\n",
       "    <tr>\n",
       "      <th>2</th>\n",
       "      <td>419794699738570752</td>\n",
       "      <td>1388921830</td>\n",
       "      <td>RomanenkoJulya</td>\n",
       "    </tr>\n",
       "    <tr>\n",
       "      <th>3</th>\n",
       "      <td>410625694087909376</td>\n",
       "      <td>1386735769</td>\n",
       "      <td>VizivayuDyavola</td>\n",
       "    </tr>\n",
       "    <tr>\n",
       "      <th>4</th>\n",
       "      <td>410849586635628545</td>\n",
       "      <td>1386789149</td>\n",
       "      <td>Den_Byhovsky</td>\n",
       "    </tr>\n",
       "  </tbody>\n",
       "</table>\n",
       "</div>"
      ],
      "text/plain": [
       "                   id       tdate            tmane\n",
       "2  419794699738570752  1388921830   RomanenkoJulya\n",
       "3  410625694087909376  1386735769  VizivayuDyavola\n",
       "4  410849586635628545  1386789149     Den_Byhovsky"
      ]
     },
     "execution_count": 78,
     "metadata": {},
     "output_type": "execute_result"
    }
   ],
   "source": [
    "data.loc[2:4, 'id':'tmane']"
   ]
  },
  {
   "cell_type": "markdown",
   "metadata": {},
   "source": [
    "Через квадратные скобки можно обращаться к одной или нескольким колонкам:"
   ]
  },
  {
   "cell_type": "code",
   "execution_count": 79,
   "metadata": {},
   "outputs": [
    {
     "data": {
      "text/plain": [
       "0    1386764386\n",
       "1    1386486491\n",
       "2    1388921830\n",
       "3    1386735769\n",
       "4    1386789149\n",
       "Name: tdate, dtype: int64"
      ]
     },
     "execution_count": 79,
     "metadata": {},
     "output_type": "execute_result"
    }
   ],
   "source": [
    "data['tdate'].head()"
   ]
  },
  {
   "cell_type": "code",
   "execution_count": 80,
   "metadata": {},
   "outputs": [
    {
     "data": {
      "text/html": [
       "<div>\n",
       "<style scoped>\n",
       "    .dataframe tbody tr th:only-of-type {\n",
       "        vertical-align: middle;\n",
       "    }\n",
       "\n",
       "    .dataframe tbody tr th {\n",
       "        vertical-align: top;\n",
       "    }\n",
       "\n",
       "    .dataframe thead th {\n",
       "        text-align: right;\n",
       "    }\n",
       "</style>\n",
       "<table border=\"1\" class=\"dataframe\">\n",
       "  <thead>\n",
       "    <tr style=\"text-align: right;\">\n",
       "      <th></th>\n",
       "      <th>tdate</th>\n",
       "      <th>tmane</th>\n",
       "    </tr>\n",
       "  </thead>\n",
       "  <tbody>\n",
       "    <tr>\n",
       "      <th>0</th>\n",
       "      <td>1386764386</td>\n",
       "      <td>chavdaridi</td>\n",
       "    </tr>\n",
       "    <tr>\n",
       "      <th>1</th>\n",
       "      <td>1386486491</td>\n",
       "      <td>pifelanybal</td>\n",
       "    </tr>\n",
       "    <tr>\n",
       "      <th>2</th>\n",
       "      <td>1388921830</td>\n",
       "      <td>RomanenkoJulya</td>\n",
       "    </tr>\n",
       "    <tr>\n",
       "      <th>3</th>\n",
       "      <td>1386735769</td>\n",
       "      <td>VizivayuDyavola</td>\n",
       "    </tr>\n",
       "    <tr>\n",
       "      <th>4</th>\n",
       "      <td>1386789149</td>\n",
       "      <td>Den_Byhovsky</td>\n",
       "    </tr>\n",
       "  </tbody>\n",
       "</table>\n",
       "</div>"
      ],
      "text/plain": [
       "        tdate            tmane\n",
       "0  1386764386       chavdaridi\n",
       "1  1386486491      pifelanybal\n",
       "2  1388921830   RomanenkoJulya\n",
       "3  1386735769  VizivayuDyavola\n",
       "4  1386789149     Den_Byhovsky"
      ]
     },
     "execution_count": 80,
     "metadata": {},
     "output_type": "execute_result"
    }
   ],
   "source": [
    "data[['tdate', 'tmane']].head()"
   ]
  },
  {
   "cell_type": "markdown",
   "metadata": {},
   "source": [
    "Есть и более интересные способы индексации. Например, давайте выберем твиты, у которых число лайков больше нуля:"
   ]
  },
  {
   "cell_type": "code",
   "execution_count": 81,
   "metadata": {},
   "outputs": [
    {
     "data": {
      "text/html": [
       "<div>\n",
       "<style scoped>\n",
       "    .dataframe tbody tr th:only-of-type {\n",
       "        vertical-align: middle;\n",
       "    }\n",
       "\n",
       "    .dataframe tbody tr th {\n",
       "        vertical-align: top;\n",
       "    }\n",
       "\n",
       "    .dataframe thead th {\n",
       "        text-align: right;\n",
       "    }\n",
       "</style>\n",
       "<table border=\"1\" class=\"dataframe\">\n",
       "  <thead>\n",
       "    <tr style=\"text-align: right;\">\n",
       "      <th></th>\n",
       "      <th>id</th>\n",
       "      <th>tdate</th>\n",
       "      <th>tmane</th>\n",
       "      <th>ttext</th>\n",
       "      <th>ttype</th>\n",
       "      <th>trep</th>\n",
       "      <th>tfav</th>\n",
       "      <th>tstcount</th>\n",
       "      <th>tfol</th>\n",
       "      <th>tfrien</th>\n",
       "      <th>listcount</th>\n",
       "    </tr>\n",
       "  </thead>\n",
       "  <tbody>\n",
       "    <tr>\n",
       "      <th>0</th>\n",
       "      <td>410745723928731648</td>\n",
       "      <td>1386764386</td>\n",
       "      <td>chavdaridi</td>\n",
       "      <td>RT @dianochka6464ru: Россия отмочила! Смотреть...</td>\n",
       "      <td>1</td>\n",
       "      <td>0</td>\n",
       "      <td>1</td>\n",
       "      <td>0</td>\n",
       "      <td>285</td>\n",
       "      <td>11</td>\n",
       "      <td>11</td>\n",
       "    </tr>\n",
       "    <tr>\n",
       "      <th>3</th>\n",
       "      <td>410625694087909376</td>\n",
       "      <td>1386735769</td>\n",
       "      <td>VizivayuDyavola</td>\n",
       "      <td>RT @boobear1236969: Линта,я слева:D http://t.c...</td>\n",
       "      <td>1</td>\n",
       "      <td>0</td>\n",
       "      <td>3</td>\n",
       "      <td>0</td>\n",
       "      <td>1959</td>\n",
       "      <td>405</td>\n",
       "      <td>537</td>\n",
       "    </tr>\n",
       "    <tr>\n",
       "      <th>8</th>\n",
       "      <td>413821842823348224</td>\n",
       "      <td>1387497790</td>\n",
       "      <td>wyhuzezyg</td>\n",
       "      <td>RT @yvysogoga: мда. центос это стабильность......</td>\n",
       "      <td>-1</td>\n",
       "      <td>0</td>\n",
       "      <td>3</td>\n",
       "      <td>0</td>\n",
       "      <td>641</td>\n",
       "      <td>385</td>\n",
       "      <td>386</td>\n",
       "    </tr>\n",
       "    <tr>\n",
       "      <th>9</th>\n",
       "      <td>419570130235187200</td>\n",
       "      <td>1388868288</td>\n",
       "      <td>uporolovnishto</td>\n",
       "      <td>RT @KEMbl_HE_YMPYT: @uporolovnishto я себе не ...</td>\n",
       "      <td>-1</td>\n",
       "      <td>0</td>\n",
       "      <td>1</td>\n",
       "      <td>0</td>\n",
       "      <td>4912</td>\n",
       "      <td>267</td>\n",
       "      <td>142</td>\n",
       "    </tr>\n",
       "    <tr>\n",
       "      <th>12</th>\n",
       "      <td>424876784900136960</td>\n",
       "      <td>1390133494</td>\n",
       "      <td>podgruzilo2</td>\n",
       "      <td>RT @hei_niga: @podgruzilo2 ааа,мою любимую?((</td>\n",
       "      <td>-1</td>\n",
       "      <td>0</td>\n",
       "      <td>1</td>\n",
       "      <td>0</td>\n",
       "      <td>2870</td>\n",
       "      <td>82</td>\n",
       "      <td>55</td>\n",
       "    </tr>\n",
       "  </tbody>\n",
       "</table>\n",
       "</div>"
      ],
      "text/plain": [
       "                    id       tdate            tmane  \\\n",
       "0   410745723928731648  1386764386       chavdaridi   \n",
       "3   410625694087909376  1386735769  VizivayuDyavola   \n",
       "8   413821842823348224  1387497790        wyhuzezyg   \n",
       "9   419570130235187200  1388868288   uporolovnishto   \n",
       "12  424876784900136960  1390133494      podgruzilo2   \n",
       "\n",
       "                                                ttext  ttype  trep  tfav  \\\n",
       "0   RT @dianochka6464ru: Россия отмочила! Смотреть...      1     0     1   \n",
       "3   RT @boobear1236969: Линта,я слева:D http://t.c...      1     0     3   \n",
       "8   RT @yvysogoga: мда. центос это стабильность......     -1     0     3   \n",
       "9   RT @KEMbl_HE_YMPYT: @uporolovnishto я себе не ...     -1     0     1   \n",
       "12      RT @hei_niga: @podgruzilo2 ааа,мою любимую?((     -1     0     1   \n",
       "\n",
       "    tstcount  tfol  tfrien  listcount  \n",
       "0          0   285      11         11  \n",
       "3          0  1959     405        537  \n",
       "8          0   641     385        386  \n",
       "9          0  4912     267        142  \n",
       "12         0  2870      82         55  "
      ]
     },
     "execution_count": 81,
     "metadata": {},
     "output_type": "execute_result"
    }
   ],
   "source": [
    "data[data.tfav > 0].head()"
   ]
  },
  {
   "cell_type": "markdown",
   "metadata": {},
   "source": [
    "С DataFrame'ами и Series'ами одинаковой структуры можно производить математические операции:"
   ]
  },
  {
   "cell_type": "code",
   "execution_count": 82,
   "metadata": {},
   "outputs": [
    {
     "data": {
      "text/plain": [
       "0      0\n",
       "1     14\n",
       "2     10\n",
       "3   -132\n",
       "4     13\n",
       "dtype: int64"
      ]
     },
     "execution_count": 82,
     "metadata": {},
     "output_type": "execute_result"
    }
   ],
   "source": [
    "strange_feature = data.tfav ** 2 * data.trep + data.tfrien - data.listcount\n",
    "strange_feature.head()"
   ]
  },
  {
   "cell_type": "markdown",
   "metadata": {},
   "source": [
    "Можно добавлять новые колонки:"
   ]
  },
  {
   "cell_type": "code",
   "execution_count": 83,
   "metadata": {},
   "outputs": [
    {
     "data": {
      "text/html": [
       "<div>\n",
       "<style scoped>\n",
       "    .dataframe tbody tr th:only-of-type {\n",
       "        vertical-align: middle;\n",
       "    }\n",
       "\n",
       "    .dataframe tbody tr th {\n",
       "        vertical-align: top;\n",
       "    }\n",
       "\n",
       "    .dataframe thead th {\n",
       "        text-align: right;\n",
       "    }\n",
       "</style>\n",
       "<table border=\"1\" class=\"dataframe\">\n",
       "  <thead>\n",
       "    <tr style=\"text-align: right;\">\n",
       "      <th></th>\n",
       "      <th>id</th>\n",
       "      <th>tdate</th>\n",
       "      <th>tmane</th>\n",
       "      <th>ttext</th>\n",
       "      <th>ttype</th>\n",
       "      <th>trep</th>\n",
       "      <th>tfav</th>\n",
       "      <th>tstcount</th>\n",
       "      <th>tfol</th>\n",
       "      <th>tfrien</th>\n",
       "      <th>listcount</th>\n",
       "      <th>new</th>\n",
       "    </tr>\n",
       "  </thead>\n",
       "  <tbody>\n",
       "    <tr>\n",
       "      <th>0</th>\n",
       "      <td>410745723928731648</td>\n",
       "      <td>1386764386</td>\n",
       "      <td>chavdaridi</td>\n",
       "      <td>RT @dianochka6464ru: Россия отмочила! Смотреть...</td>\n",
       "      <td>1</td>\n",
       "      <td>0</td>\n",
       "      <td>1</td>\n",
       "      <td>0</td>\n",
       "      <td>285</td>\n",
       "      <td>11</td>\n",
       "      <td>11</td>\n",
       "      <td>0</td>\n",
       "    </tr>\n",
       "    <tr>\n",
       "      <th>1</th>\n",
       "      <td>409580147185315840</td>\n",
       "      <td>1386486491</td>\n",
       "      <td>pifelanybal</td>\n",
       "      <td>Google сменил алгоритм чексуммы в загребании P...</td>\n",
       "      <td>-1</td>\n",
       "      <td>0</td>\n",
       "      <td>0</td>\n",
       "      <td>0</td>\n",
       "      <td>130</td>\n",
       "      <td>100</td>\n",
       "      <td>86</td>\n",
       "      <td>14</td>\n",
       "    </tr>\n",
       "    <tr>\n",
       "      <th>2</th>\n",
       "      <td>419794699738570752</td>\n",
       "      <td>1388921830</td>\n",
       "      <td>RomanenkoJulya</td>\n",
       "      <td>мне надо домой, @RomaRudenko1 не отпускает(</td>\n",
       "      <td>-1</td>\n",
       "      <td>0</td>\n",
       "      <td>0</td>\n",
       "      <td>0</td>\n",
       "      <td>730</td>\n",
       "      <td>28</td>\n",
       "      <td>18</td>\n",
       "      <td>10</td>\n",
       "    </tr>\n",
       "    <tr>\n",
       "      <th>3</th>\n",
       "      <td>410625694087909376</td>\n",
       "      <td>1386735769</td>\n",
       "      <td>VizivayuDyavola</td>\n",
       "      <td>RT @boobear1236969: Линта,я слева:D http://t.c...</td>\n",
       "      <td>1</td>\n",
       "      <td>0</td>\n",
       "      <td>3</td>\n",
       "      <td>0</td>\n",
       "      <td>1959</td>\n",
       "      <td>405</td>\n",
       "      <td>537</td>\n",
       "      <td>-132</td>\n",
       "    </tr>\n",
       "    <tr>\n",
       "      <th>4</th>\n",
       "      <td>410849586635628545</td>\n",
       "      <td>1386789149</td>\n",
       "      <td>Den_Byhovsky</td>\n",
       "      <td>@juliasvirid17 я имел ввиду, что для меня спос...</td>\n",
       "      <td>1</td>\n",
       "      <td>0</td>\n",
       "      <td>0</td>\n",
       "      <td>0</td>\n",
       "      <td>3248</td>\n",
       "      <td>61</td>\n",
       "      <td>48</td>\n",
       "      <td>13</td>\n",
       "    </tr>\n",
       "  </tbody>\n",
       "</table>\n",
       "</div>"
      ],
      "text/plain": [
       "                   id       tdate            tmane  \\\n",
       "0  410745723928731648  1386764386       chavdaridi   \n",
       "1  409580147185315840  1386486491      pifelanybal   \n",
       "2  419794699738570752  1388921830   RomanenkoJulya   \n",
       "3  410625694087909376  1386735769  VizivayuDyavola   \n",
       "4  410849586635628545  1386789149     Den_Byhovsky   \n",
       "\n",
       "                                               ttext  ttype  trep  tfav  \\\n",
       "0  RT @dianochka6464ru: Россия отмочила! Смотреть...      1     0     1   \n",
       "1  Google сменил алгоритм чексуммы в загребании P...     -1     0     0   \n",
       "2        мне надо домой, @RomaRudenko1 не отпускает(     -1     0     0   \n",
       "3  RT @boobear1236969: Линта,я слева:D http://t.c...      1     0     3   \n",
       "4  @juliasvirid17 я имел ввиду, что для меня спос...      1     0     0   \n",
       "\n",
       "   tstcount  tfol  tfrien  listcount  new  \n",
       "0         0   285      11         11    0  \n",
       "1         0   130     100         86   14  \n",
       "2         0   730      28         18   10  \n",
       "3         0  1959     405        537 -132  \n",
       "4         0  3248      61         48   13  "
      ]
     },
     "execution_count": 83,
     "metadata": {},
     "output_type": "execute_result"
    }
   ],
   "source": [
    "data['new'] = strange_feature\n",
    "data.head()"
   ]
  },
  {
   "cell_type": "markdown",
   "metadata": {},
   "source": [
    "И удалять их:"
   ]
  },
  {
   "cell_type": "code",
   "execution_count": 84,
   "metadata": {},
   "outputs": [
    {
     "data": {
      "text/html": [
       "<div>\n",
       "<style scoped>\n",
       "    .dataframe tbody tr th:only-of-type {\n",
       "        vertical-align: middle;\n",
       "    }\n",
       "\n",
       "    .dataframe tbody tr th {\n",
       "        vertical-align: top;\n",
       "    }\n",
       "\n",
       "    .dataframe thead th {\n",
       "        text-align: right;\n",
       "    }\n",
       "</style>\n",
       "<table border=\"1\" class=\"dataframe\">\n",
       "  <thead>\n",
       "    <tr style=\"text-align: right;\">\n",
       "      <th></th>\n",
       "      <th>id</th>\n",
       "      <th>tdate</th>\n",
       "      <th>tmane</th>\n",
       "      <th>ttext</th>\n",
       "      <th>ttype</th>\n",
       "      <th>trep</th>\n",
       "      <th>tfav</th>\n",
       "      <th>tstcount</th>\n",
       "      <th>tfol</th>\n",
       "      <th>tfrien</th>\n",
       "      <th>listcount</th>\n",
       "    </tr>\n",
       "  </thead>\n",
       "  <tbody>\n",
       "    <tr>\n",
       "      <th>0</th>\n",
       "      <td>410745723928731648</td>\n",
       "      <td>1386764386</td>\n",
       "      <td>chavdaridi</td>\n",
       "      <td>RT @dianochka6464ru: Россия отмочила! Смотреть...</td>\n",
       "      <td>1</td>\n",
       "      <td>0</td>\n",
       "      <td>1</td>\n",
       "      <td>0</td>\n",
       "      <td>285</td>\n",
       "      <td>11</td>\n",
       "      <td>11</td>\n",
       "    </tr>\n",
       "    <tr>\n",
       "      <th>1</th>\n",
       "      <td>409580147185315840</td>\n",
       "      <td>1386486491</td>\n",
       "      <td>pifelanybal</td>\n",
       "      <td>Google сменил алгоритм чексуммы в загребании P...</td>\n",
       "      <td>-1</td>\n",
       "      <td>0</td>\n",
       "      <td>0</td>\n",
       "      <td>0</td>\n",
       "      <td>130</td>\n",
       "      <td>100</td>\n",
       "      <td>86</td>\n",
       "    </tr>\n",
       "    <tr>\n",
       "      <th>2</th>\n",
       "      <td>419794699738570752</td>\n",
       "      <td>1388921830</td>\n",
       "      <td>RomanenkoJulya</td>\n",
       "      <td>мне надо домой, @RomaRudenko1 не отпускает(</td>\n",
       "      <td>-1</td>\n",
       "      <td>0</td>\n",
       "      <td>0</td>\n",
       "      <td>0</td>\n",
       "      <td>730</td>\n",
       "      <td>28</td>\n",
       "      <td>18</td>\n",
       "    </tr>\n",
       "    <tr>\n",
       "      <th>3</th>\n",
       "      <td>410625694087909376</td>\n",
       "      <td>1386735769</td>\n",
       "      <td>VizivayuDyavola</td>\n",
       "      <td>RT @boobear1236969: Линта,я слева:D http://t.c...</td>\n",
       "      <td>1</td>\n",
       "      <td>0</td>\n",
       "      <td>3</td>\n",
       "      <td>0</td>\n",
       "      <td>1959</td>\n",
       "      <td>405</td>\n",
       "      <td>537</td>\n",
       "    </tr>\n",
       "    <tr>\n",
       "      <th>4</th>\n",
       "      <td>410849586635628545</td>\n",
       "      <td>1386789149</td>\n",
       "      <td>Den_Byhovsky</td>\n",
       "      <td>@juliasvirid17 я имел ввиду, что для меня спос...</td>\n",
       "      <td>1</td>\n",
       "      <td>0</td>\n",
       "      <td>0</td>\n",
       "      <td>0</td>\n",
       "      <td>3248</td>\n",
       "      <td>61</td>\n",
       "      <td>48</td>\n",
       "    </tr>\n",
       "  </tbody>\n",
       "</table>\n",
       "</div>"
      ],
      "text/plain": [
       "                   id       tdate            tmane  \\\n",
       "0  410745723928731648  1386764386       chavdaridi   \n",
       "1  409580147185315840  1386486491      pifelanybal   \n",
       "2  419794699738570752  1388921830   RomanenkoJulya   \n",
       "3  410625694087909376  1386735769  VizivayuDyavola   \n",
       "4  410849586635628545  1386789149     Den_Byhovsky   \n",
       "\n",
       "                                               ttext  ttype  trep  tfav  \\\n",
       "0  RT @dianochka6464ru: Россия отмочила! Смотреть...      1     0     1   \n",
       "1  Google сменил алгоритм чексуммы в загребании P...     -1     0     0   \n",
       "2        мне надо домой, @RomaRudenko1 не отпускает(     -1     0     0   \n",
       "3  RT @boobear1236969: Линта,я слева:D http://t.c...      1     0     3   \n",
       "4  @juliasvirid17 я имел ввиду, что для меня спос...      1     0     0   \n",
       "\n",
       "   tstcount  tfol  tfrien  listcount  \n",
       "0         0   285      11         11  \n",
       "1         0   130     100         86  \n",
       "2         0   730      28         18  \n",
       "3         0  1959     405        537  \n",
       "4         0  3248      61         48  "
      ]
     },
     "execution_count": 84,
     "metadata": {},
     "output_type": "execute_result"
    }
   ],
   "source": [
    "data = data.drop(columns=['new'])\n",
    "data.head()"
   ]
  },
  {
   "cell_type": "markdown",
   "metadata": {},
   "source": [
    "### Разведочный анализ\n",
    "\n",
    "Мы немного познакомились с функциональностью Pandas, давайте теперь поизучаем данные. Предположим, мы перед нами стоит задача по имеющимся числовым признакам предсказать, является твит позитивным или негативным. Давайте посмотрим, какие закономерности мы можем извлечь из данных без использования алгоритмов машинного обучения."
   ]
  },
  {
   "cell_type": "markdown",
   "metadata": {},
   "source": [
    "Для начала, выделим какие-нибудь полезные признаки из текстов твитов. Например, наличие позитивного и негативного смайлика."
   ]
  },
  {
   "cell_type": "code",
   "execution_count": 85,
   "metadata": {
    "scrolled": true
   },
   "outputs": [],
   "source": [
    "data['has_neg'] = data.apply(lambda x: '(' in x['ttext'], axis=1).astype('int')\n",
    "data['has_pos'] = data.apply(lambda x: ')' in x['ttext'], axis=1).astype('int')"
   ]
  },
  {
   "cell_type": "code",
   "execution_count": 86,
   "metadata": {},
   "outputs": [
    {
     "data": {
      "text/html": [
       "<div>\n",
       "<style scoped>\n",
       "    .dataframe tbody tr th:only-of-type {\n",
       "        vertical-align: middle;\n",
       "    }\n",
       "\n",
       "    .dataframe tbody tr th {\n",
       "        vertical-align: top;\n",
       "    }\n",
       "\n",
       "    .dataframe thead th {\n",
       "        text-align: right;\n",
       "    }\n",
       "</style>\n",
       "<table border=\"1\" class=\"dataframe\">\n",
       "  <thead>\n",
       "    <tr style=\"text-align: right;\">\n",
       "      <th></th>\n",
       "      <th>id</th>\n",
       "      <th>tdate</th>\n",
       "      <th>tmane</th>\n",
       "      <th>ttext</th>\n",
       "      <th>ttype</th>\n",
       "      <th>trep</th>\n",
       "      <th>tfav</th>\n",
       "      <th>tstcount</th>\n",
       "      <th>tfol</th>\n",
       "      <th>tfrien</th>\n",
       "      <th>listcount</th>\n",
       "      <th>has_neg</th>\n",
       "      <th>has_pos</th>\n",
       "    </tr>\n",
       "  </thead>\n",
       "  <tbody>\n",
       "    <tr>\n",
       "      <th>0</th>\n",
       "      <td>410745723928731648</td>\n",
       "      <td>1386764386</td>\n",
       "      <td>chavdaridi</td>\n",
       "      <td>RT @dianochka6464ru: Россия отмочила! Смотреть...</td>\n",
       "      <td>1</td>\n",
       "      <td>0</td>\n",
       "      <td>1</td>\n",
       "      <td>0</td>\n",
       "      <td>285</td>\n",
       "      <td>11</td>\n",
       "      <td>11</td>\n",
       "      <td>0</td>\n",
       "      <td>1</td>\n",
       "    </tr>\n",
       "    <tr>\n",
       "      <th>1</th>\n",
       "      <td>409580147185315840</td>\n",
       "      <td>1386486491</td>\n",
       "      <td>pifelanybal</td>\n",
       "      <td>Google сменил алгоритм чексуммы в загребании P...</td>\n",
       "      <td>-1</td>\n",
       "      <td>0</td>\n",
       "      <td>0</td>\n",
       "      <td>0</td>\n",
       "      <td>130</td>\n",
       "      <td>100</td>\n",
       "      <td>86</td>\n",
       "      <td>0</td>\n",
       "      <td>0</td>\n",
       "    </tr>\n",
       "    <tr>\n",
       "      <th>2</th>\n",
       "      <td>419794699738570752</td>\n",
       "      <td>1388921830</td>\n",
       "      <td>RomanenkoJulya</td>\n",
       "      <td>мне надо домой, @RomaRudenko1 не отпускает(</td>\n",
       "      <td>-1</td>\n",
       "      <td>0</td>\n",
       "      <td>0</td>\n",
       "      <td>0</td>\n",
       "      <td>730</td>\n",
       "      <td>28</td>\n",
       "      <td>18</td>\n",
       "      <td>1</td>\n",
       "      <td>0</td>\n",
       "    </tr>\n",
       "    <tr>\n",
       "      <th>3</th>\n",
       "      <td>410625694087909376</td>\n",
       "      <td>1386735769</td>\n",
       "      <td>VizivayuDyavola</td>\n",
       "      <td>RT @boobear1236969: Линта,я слева:D http://t.c...</td>\n",
       "      <td>1</td>\n",
       "      <td>0</td>\n",
       "      <td>3</td>\n",
       "      <td>0</td>\n",
       "      <td>1959</td>\n",
       "      <td>405</td>\n",
       "      <td>537</td>\n",
       "      <td>0</td>\n",
       "      <td>0</td>\n",
       "    </tr>\n",
       "    <tr>\n",
       "      <th>4</th>\n",
       "      <td>410849586635628545</td>\n",
       "      <td>1386789149</td>\n",
       "      <td>Den_Byhovsky</td>\n",
       "      <td>@juliasvirid17 я имел ввиду, что для меня спос...</td>\n",
       "      <td>1</td>\n",
       "      <td>0</td>\n",
       "      <td>0</td>\n",
       "      <td>0</td>\n",
       "      <td>3248</td>\n",
       "      <td>61</td>\n",
       "      <td>48</td>\n",
       "      <td>0</td>\n",
       "      <td>1</td>\n",
       "    </tr>\n",
       "  </tbody>\n",
       "</table>\n",
       "</div>"
      ],
      "text/plain": [
       "                   id       tdate            tmane  \\\n",
       "0  410745723928731648  1386764386       chavdaridi   \n",
       "1  409580147185315840  1386486491      pifelanybal   \n",
       "2  419794699738570752  1388921830   RomanenkoJulya   \n",
       "3  410625694087909376  1386735769  VizivayuDyavola   \n",
       "4  410849586635628545  1386789149     Den_Byhovsky   \n",
       "\n",
       "                                               ttext  ttype  trep  tfav  \\\n",
       "0  RT @dianochka6464ru: Россия отмочила! Смотреть...      1     0     1   \n",
       "1  Google сменил алгоритм чексуммы в загребании P...     -1     0     0   \n",
       "2        мне надо домой, @RomaRudenko1 не отпускает(     -1     0     0   \n",
       "3  RT @boobear1236969: Линта,я слева:D http://t.c...      1     0     3   \n",
       "4  @juliasvirid17 я имел ввиду, что для меня спос...      1     0     0   \n",
       "\n",
       "   tstcount  tfol  tfrien  listcount  has_neg  has_pos  \n",
       "0         0   285      11         11        0        1  \n",
       "1         0   130     100         86        0        0  \n",
       "2         0   730      28         18        1        0  \n",
       "3         0  1959     405        537        0        0  \n",
       "4         0  3248      61         48        0        1  "
      ]
     },
     "execution_count": 86,
     "metadata": {},
     "output_type": "execute_result"
    }
   ],
   "source": [
    "data.head()"
   ]
  },
  {
   "cell_type": "markdown",
   "metadata": {},
   "source": [
    "Посчитаем количество твитов каждого типа (позитивные и негативные):"
   ]
  },
  {
   "cell_type": "code",
   "execution_count": 87,
   "metadata": {},
   "outputs": [
    {
     "data": {
      "text/plain": [
       " 1    114911\n",
       "-1    111923\n",
       "Name: ttype, dtype: int64"
      ]
     },
     "execution_count": 87,
     "metadata": {},
     "output_type": "execute_result"
    }
   ],
   "source": [
    "data.ttype.value_counts()"
   ]
  },
  {
   "cell_type": "markdown",
   "metadata": {},
   "source": [
    "У нас примерно одинаковое количество позитивных и негативных твитов, т.е. выборка сбалансирована.\n",
    "\n",
    "Посмотрим на основные статистики по числовым признакам:"
   ]
  },
  {
   "cell_type": "code",
   "execution_count": 88,
   "metadata": {},
   "outputs": [
    {
     "data": {
      "text/html": [
       "<div>\n",
       "<style scoped>\n",
       "    .dataframe tbody tr th:only-of-type {\n",
       "        vertical-align: middle;\n",
       "    }\n",
       "\n",
       "    .dataframe tbody tr th {\n",
       "        vertical-align: top;\n",
       "    }\n",
       "\n",
       "    .dataframe thead th {\n",
       "        text-align: right;\n",
       "    }\n",
       "</style>\n",
       "<table border=\"1\" class=\"dataframe\">\n",
       "  <thead>\n",
       "    <tr style=\"text-align: right;\">\n",
       "      <th></th>\n",
       "      <th>id</th>\n",
       "      <th>tdate</th>\n",
       "      <th>ttype</th>\n",
       "      <th>trep</th>\n",
       "      <th>tfav</th>\n",
       "      <th>tstcount</th>\n",
       "      <th>tfol</th>\n",
       "      <th>tfrien</th>\n",
       "      <th>listcount</th>\n",
       "      <th>has_neg</th>\n",
       "      <th>has_pos</th>\n",
       "    </tr>\n",
       "  </thead>\n",
       "  <tbody>\n",
       "    <tr>\n",
       "      <th>count</th>\n",
       "      <td>2.268340e+05</td>\n",
       "      <td>2.268340e+05</td>\n",
       "      <td>226834.000000</td>\n",
       "      <td>226834.0</td>\n",
       "      <td>226834.000000</td>\n",
       "      <td>226834.000000</td>\n",
       "      <td>2.268340e+05</td>\n",
       "      <td>2.268340e+05</td>\n",
       "      <td>226834.000000</td>\n",
       "      <td>226834.000000</td>\n",
       "      <td>226834.000000</td>\n",
       "    </tr>\n",
       "    <tr>\n",
       "      <th>mean</th>\n",
       "      <td>4.132836e+17</td>\n",
       "      <td>1.387369e+09</td>\n",
       "      <td>0.013173</td>\n",
       "      <td>0.0</td>\n",
       "      <td>3.118249</td>\n",
       "      <td>0.001243</td>\n",
       "      <td>7.584972e+03</td>\n",
       "      <td>6.770083e+02</td>\n",
       "      <td>332.682746</td>\n",
       "      <td>0.467381</td>\n",
       "      <td>0.419941</td>\n",
       "    </tr>\n",
       "    <tr>\n",
       "      <th>std</th>\n",
       "      <td>4.535456e+15</td>\n",
       "      <td>1.081337e+06</td>\n",
       "      <td>0.999915</td>\n",
       "      <td>0.0</td>\n",
       "      <td>105.898784</td>\n",
       "      <td>0.035611</td>\n",
       "      <td>2.039972e+04</td>\n",
       "      <td>9.764450e+03</td>\n",
       "      <td>1915.268263</td>\n",
       "      <td>0.498936</td>\n",
       "      <td>0.493550</td>\n",
       "    </tr>\n",
       "    <tr>\n",
       "      <th>min</th>\n",
       "      <td>4.089067e+17</td>\n",
       "      <td>1.386326e+09</td>\n",
       "      <td>-1.000000</td>\n",
       "      <td>0.0</td>\n",
       "      <td>0.000000</td>\n",
       "      <td>0.000000</td>\n",
       "      <td>0.000000e+00</td>\n",
       "      <td>0.000000e+00</td>\n",
       "      <td>0.000000</td>\n",
       "      <td>0.000000</td>\n",
       "      <td>0.000000</td>\n",
       "    </tr>\n",
       "    <tr>\n",
       "      <th>25%</th>\n",
       "      <td>4.100277e+17</td>\n",
       "      <td>1.386593e+09</td>\n",
       "      <td>-1.000000</td>\n",
       "      <td>0.0</td>\n",
       "      <td>0.000000</td>\n",
       "      <td>0.000000</td>\n",
       "      <td>4.730000e+02</td>\n",
       "      <td>2.700000e+01</td>\n",
       "      <td>29.000000</td>\n",
       "      <td>0.000000</td>\n",
       "      <td>0.000000</td>\n",
       "    </tr>\n",
       "    <tr>\n",
       "      <th>50%</th>\n",
       "      <td>4.110529e+17</td>\n",
       "      <td>1.386838e+09</td>\n",
       "      <td>1.000000</td>\n",
       "      <td>0.0</td>\n",
       "      <td>0.000000</td>\n",
       "      <td>0.000000</td>\n",
       "      <td>2.026000e+03</td>\n",
       "      <td>8.300000e+01</td>\n",
       "      <td>72.000000</td>\n",
       "      <td>0.000000</td>\n",
       "      <td>0.000000</td>\n",
       "    </tr>\n",
       "    <tr>\n",
       "      <th>75%</th>\n",
       "      <td>4.157585e+17</td>\n",
       "      <td>1.387960e+09</td>\n",
       "      <td>1.000000</td>\n",
       "      <td>0.0</td>\n",
       "      <td>0.000000</td>\n",
       "      <td>0.000000</td>\n",
       "      <td>7.562000e+03</td>\n",
       "      <td>2.570000e+02</td>\n",
       "      <td>197.000000</td>\n",
       "      <td>1.000000</td>\n",
       "      <td>1.000000</td>\n",
       "    </tr>\n",
       "    <tr>\n",
       "      <th>max</th>\n",
       "      <td>4.251386e+17</td>\n",
       "      <td>1.390196e+09</td>\n",
       "      <td>1.000000</td>\n",
       "      <td>0.0</td>\n",
       "      <td>13817.000000</td>\n",
       "      <td>2.000000</td>\n",
       "      <td>1.138639e+06</td>\n",
       "      <td>1.582807e+06</td>\n",
       "      <td>388311.000000</td>\n",
       "      <td>1.000000</td>\n",
       "      <td>1.000000</td>\n",
       "    </tr>\n",
       "  </tbody>\n",
       "</table>\n",
       "</div>"
      ],
      "text/plain": [
       "                 id         tdate          ttype      trep           tfav  \\\n",
       "count  2.268340e+05  2.268340e+05  226834.000000  226834.0  226834.000000   \n",
       "mean   4.132836e+17  1.387369e+09       0.013173       0.0       3.118249   \n",
       "std    4.535456e+15  1.081337e+06       0.999915       0.0     105.898784   \n",
       "min    4.089067e+17  1.386326e+09      -1.000000       0.0       0.000000   \n",
       "25%    4.100277e+17  1.386593e+09      -1.000000       0.0       0.000000   \n",
       "50%    4.110529e+17  1.386838e+09       1.000000       0.0       0.000000   \n",
       "75%    4.157585e+17  1.387960e+09       1.000000       0.0       0.000000   \n",
       "max    4.251386e+17  1.390196e+09       1.000000       0.0   13817.000000   \n",
       "\n",
       "            tstcount          tfol        tfrien      listcount  \\\n",
       "count  226834.000000  2.268340e+05  2.268340e+05  226834.000000   \n",
       "mean        0.001243  7.584972e+03  6.770083e+02     332.682746   \n",
       "std         0.035611  2.039972e+04  9.764450e+03    1915.268263   \n",
       "min         0.000000  0.000000e+00  0.000000e+00       0.000000   \n",
       "25%         0.000000  4.730000e+02  2.700000e+01      29.000000   \n",
       "50%         0.000000  2.026000e+03  8.300000e+01      72.000000   \n",
       "75%         0.000000  7.562000e+03  2.570000e+02     197.000000   \n",
       "max         2.000000  1.138639e+06  1.582807e+06  388311.000000   \n",
       "\n",
       "             has_neg        has_pos  \n",
       "count  226834.000000  226834.000000  \n",
       "mean        0.467381       0.419941  \n",
       "std         0.498936       0.493550  \n",
       "min         0.000000       0.000000  \n",
       "25%         0.000000       0.000000  \n",
       "50%         0.000000       0.000000  \n",
       "75%         1.000000       1.000000  \n",
       "max         1.000000       1.000000  "
      ]
     },
     "execution_count": 88,
     "metadata": {},
     "output_type": "execute_result"
    }
   ],
   "source": [
    "data.describe()"
   ]
  },
  {
   "cell_type": "markdown",
   "metadata": {},
   "source": [
    "Что можно сказать о распределении каждого из признаков (симметричность, наличие выбросов, длинных хвостов)?\n",
    "\n",
    "Сравним статистики для позитивных и негативных твитов:"
   ]
  },
  {
   "cell_type": "code",
   "execution_count": 89,
   "metadata": {},
   "outputs": [
    {
     "data": {
      "text/html": [
       "<div>\n",
       "<style scoped>\n",
       "    .dataframe tbody tr th:only-of-type {\n",
       "        vertical-align: middle;\n",
       "    }\n",
       "\n",
       "    .dataframe tbody tr th {\n",
       "        vertical-align: top;\n",
       "    }\n",
       "\n",
       "    .dataframe thead th {\n",
       "        text-align: right;\n",
       "    }\n",
       "</style>\n",
       "<table border=\"1\" class=\"dataframe\">\n",
       "  <thead>\n",
       "    <tr style=\"text-align: right;\">\n",
       "      <th></th>\n",
       "      <th>id</th>\n",
       "      <th>tdate</th>\n",
       "      <th>ttype</th>\n",
       "      <th>trep</th>\n",
       "      <th>tfav</th>\n",
       "      <th>tstcount</th>\n",
       "      <th>tfol</th>\n",
       "      <th>tfrien</th>\n",
       "      <th>listcount</th>\n",
       "      <th>has_neg</th>\n",
       "      <th>has_pos</th>\n",
       "    </tr>\n",
       "  </thead>\n",
       "  <tbody>\n",
       "    <tr>\n",
       "      <th>count</th>\n",
       "      <td>1.119230e+05</td>\n",
       "      <td>1.119230e+05</td>\n",
       "      <td>111923.0</td>\n",
       "      <td>111923.0</td>\n",
       "      <td>111923.000000</td>\n",
       "      <td>111923.000000</td>\n",
       "      <td>1.119230e+05</td>\n",
       "      <td>1.119230e+05</td>\n",
       "      <td>111923.000000</td>\n",
       "      <td>111923.000000</td>\n",
       "      <td>111923.0</td>\n",
       "    </tr>\n",
       "    <tr>\n",
       "      <th>mean</th>\n",
       "      <td>4.164563e+17</td>\n",
       "      <td>1.388126e+09</td>\n",
       "      <td>-1.0</td>\n",
       "      <td>0.0</td>\n",
       "      <td>2.042020</td>\n",
       "      <td>0.001331</td>\n",
       "      <td>7.555302e+03</td>\n",
       "      <td>5.655129e+02</td>\n",
       "      <td>281.059443</td>\n",
       "      <td>0.947241</td>\n",
       "      <td>0.0</td>\n",
       "    </tr>\n",
       "    <tr>\n",
       "      <th>std</th>\n",
       "      <td>4.620206e+15</td>\n",
       "      <td>1.101543e+06</td>\n",
       "      <td>0.0</td>\n",
       "      <td>0.0</td>\n",
       "      <td>32.720609</td>\n",
       "      <td>0.036949</td>\n",
       "      <td>2.196432e+04</td>\n",
       "      <td>8.583014e+03</td>\n",
       "      <td>2084.172849</td>\n",
       "      <td>0.223554</td>\n",
       "      <td>0.0</td>\n",
       "    </tr>\n",
       "    <tr>\n",
       "      <th>min</th>\n",
       "      <td>4.089068e+17</td>\n",
       "      <td>1.386326e+09</td>\n",
       "      <td>-1.0</td>\n",
       "      <td>0.0</td>\n",
       "      <td>0.000000</td>\n",
       "      <td>0.000000</td>\n",
       "      <td>0.000000e+00</td>\n",
       "      <td>0.000000e+00</td>\n",
       "      <td>0.000000</td>\n",
       "      <td>0.000000</td>\n",
       "      <td>0.0</td>\n",
       "    </tr>\n",
       "    <tr>\n",
       "      <th>25%</th>\n",
       "      <td>4.125892e+17</td>\n",
       "      <td>1.387204e+09</td>\n",
       "      <td>-1.0</td>\n",
       "      <td>0.0</td>\n",
       "      <td>0.000000</td>\n",
       "      <td>0.000000</td>\n",
       "      <td>4.490000e+02</td>\n",
       "      <td>2.300000e+01</td>\n",
       "      <td>26.000000</td>\n",
       "      <td>1.000000</td>\n",
       "      <td>0.0</td>\n",
       "    </tr>\n",
       "    <tr>\n",
       "      <th>50%</th>\n",
       "      <td>4.158227e+17</td>\n",
       "      <td>1.387975e+09</td>\n",
       "      <td>-1.0</td>\n",
       "      <td>0.0</td>\n",
       "      <td>0.000000</td>\n",
       "      <td>0.000000</td>\n",
       "      <td>1.910000e+03</td>\n",
       "      <td>7.100000e+01</td>\n",
       "      <td>63.000000</td>\n",
       "      <td>1.000000</td>\n",
       "      <td>0.0</td>\n",
       "    </tr>\n",
       "    <tr>\n",
       "      <th>75%</th>\n",
       "      <td>4.200829e+17</td>\n",
       "      <td>1.388991e+09</td>\n",
       "      <td>-1.0</td>\n",
       "      <td>0.0</td>\n",
       "      <td>0.000000</td>\n",
       "      <td>0.000000</td>\n",
       "      <td>7.338500e+03</td>\n",
       "      <td>2.370000e+02</td>\n",
       "      <td>178.000000</td>\n",
       "      <td>1.000000</td>\n",
       "      <td>0.0</td>\n",
       "    </tr>\n",
       "    <tr>\n",
       "      <th>max</th>\n",
       "      <td>4.251386e+17</td>\n",
       "      <td>1.390196e+09</td>\n",
       "      <td>-1.0</td>\n",
       "      <td>0.0</td>\n",
       "      <td>1381.000000</td>\n",
       "      <td>2.000000</td>\n",
       "      <td>1.138639e+06</td>\n",
       "      <td>1.236196e+06</td>\n",
       "      <td>388311.000000</td>\n",
       "      <td>1.000000</td>\n",
       "      <td>0.0</td>\n",
       "    </tr>\n",
       "  </tbody>\n",
       "</table>\n",
       "</div>"
      ],
      "text/plain": [
       "                 id         tdate     ttype      trep           tfav  \\\n",
       "count  1.119230e+05  1.119230e+05  111923.0  111923.0  111923.000000   \n",
       "mean   4.164563e+17  1.388126e+09      -1.0       0.0       2.042020   \n",
       "std    4.620206e+15  1.101543e+06       0.0       0.0      32.720609   \n",
       "min    4.089068e+17  1.386326e+09      -1.0       0.0       0.000000   \n",
       "25%    4.125892e+17  1.387204e+09      -1.0       0.0       0.000000   \n",
       "50%    4.158227e+17  1.387975e+09      -1.0       0.0       0.000000   \n",
       "75%    4.200829e+17  1.388991e+09      -1.0       0.0       0.000000   \n",
       "max    4.251386e+17  1.390196e+09      -1.0       0.0    1381.000000   \n",
       "\n",
       "            tstcount          tfol        tfrien      listcount  \\\n",
       "count  111923.000000  1.119230e+05  1.119230e+05  111923.000000   \n",
       "mean        0.001331  7.555302e+03  5.655129e+02     281.059443   \n",
       "std         0.036949  2.196432e+04  8.583014e+03    2084.172849   \n",
       "min         0.000000  0.000000e+00  0.000000e+00       0.000000   \n",
       "25%         0.000000  4.490000e+02  2.300000e+01      26.000000   \n",
       "50%         0.000000  1.910000e+03  7.100000e+01      63.000000   \n",
       "75%         0.000000  7.338500e+03  2.370000e+02     178.000000   \n",
       "max         2.000000  1.138639e+06  1.236196e+06  388311.000000   \n",
       "\n",
       "             has_neg   has_pos  \n",
       "count  111923.000000  111923.0  \n",
       "mean        0.947241       0.0  \n",
       "std         0.223554       0.0  \n",
       "min         0.000000       0.0  \n",
       "25%         1.000000       0.0  \n",
       "50%         1.000000       0.0  \n",
       "75%         1.000000       0.0  \n",
       "max         1.000000       0.0  "
      ]
     },
     "execution_count": 89,
     "metadata": {},
     "output_type": "execute_result"
    }
   ],
   "source": [
    "data[data.ttype == -1].describe()"
   ]
  },
  {
   "cell_type": "code",
   "execution_count": 90,
   "metadata": {},
   "outputs": [
    {
     "data": {
      "text/html": [
       "<div>\n",
       "<style scoped>\n",
       "    .dataframe tbody tr th:only-of-type {\n",
       "        vertical-align: middle;\n",
       "    }\n",
       "\n",
       "    .dataframe tbody tr th {\n",
       "        vertical-align: top;\n",
       "    }\n",
       "\n",
       "    .dataframe thead th {\n",
       "        text-align: right;\n",
       "    }\n",
       "</style>\n",
       "<table border=\"1\" class=\"dataframe\">\n",
       "  <thead>\n",
       "    <tr style=\"text-align: right;\">\n",
       "      <th></th>\n",
       "      <th>id</th>\n",
       "      <th>tdate</th>\n",
       "      <th>ttype</th>\n",
       "      <th>trep</th>\n",
       "      <th>tfav</th>\n",
       "      <th>tstcount</th>\n",
       "      <th>tfol</th>\n",
       "      <th>tfrien</th>\n",
       "      <th>listcount</th>\n",
       "      <th>has_neg</th>\n",
       "      <th>has_pos</th>\n",
       "    </tr>\n",
       "  </thead>\n",
       "  <tbody>\n",
       "    <tr>\n",
       "      <th>count</th>\n",
       "      <td>1.149110e+05</td>\n",
       "      <td>1.149110e+05</td>\n",
       "      <td>114911.0</td>\n",
       "      <td>114911.0</td>\n",
       "      <td>114911.000000</td>\n",
       "      <td>114911.000000</td>\n",
       "      <td>1.149110e+05</td>\n",
       "      <td>1.149110e+05</td>\n",
       "      <td>114911.000000</td>\n",
       "      <td>114911.0</td>\n",
       "      <td>114911.000000</td>\n",
       "    </tr>\n",
       "    <tr>\n",
       "      <th>mean</th>\n",
       "      <td>4.101934e+17</td>\n",
       "      <td>1.386633e+09</td>\n",
       "      <td>1.0</td>\n",
       "      <td>0.0</td>\n",
       "      <td>4.166494</td>\n",
       "      <td>0.001157</td>\n",
       "      <td>7.613871e+03</td>\n",
       "      <td>7.856044e+02</td>\n",
       "      <td>382.963702</td>\n",
       "      <td>0.0</td>\n",
       "      <td>0.828963</td>\n",
       "    </tr>\n",
       "    <tr>\n",
       "      <th>std</th>\n",
       "      <td>6.789925e+14</td>\n",
       "      <td>1.618844e+05</td>\n",
       "      <td>0.0</td>\n",
       "      <td>0.0</td>\n",
       "      <td>145.232798</td>\n",
       "      <td>0.034256</td>\n",
       "      <td>1.875076e+04</td>\n",
       "      <td>1.079046e+04</td>\n",
       "      <td>1733.551910</td>\n",
       "      <td>0.0</td>\n",
       "      <td>0.376543</td>\n",
       "    </tr>\n",
       "    <tr>\n",
       "      <th>min</th>\n",
       "      <td>4.089067e+17</td>\n",
       "      <td>1.386326e+09</td>\n",
       "      <td>1.0</td>\n",
       "      <td>0.0</td>\n",
       "      <td>0.000000</td>\n",
       "      <td>0.000000</td>\n",
       "      <td>0.000000e+00</td>\n",
       "      <td>0.000000e+00</td>\n",
       "      <td>0.000000</td>\n",
       "      <td>0.0</td>\n",
       "      <td>0.000000</td>\n",
       "    </tr>\n",
       "    <tr>\n",
       "      <th>25%</th>\n",
       "      <td>4.096183e+17</td>\n",
       "      <td>1.386496e+09</td>\n",
       "      <td>1.0</td>\n",
       "      <td>0.0</td>\n",
       "      <td>0.000000</td>\n",
       "      <td>0.000000</td>\n",
       "      <td>4.930000e+02</td>\n",
       "      <td>3.200000e+01</td>\n",
       "      <td>32.000000</td>\n",
       "      <td>0.0</td>\n",
       "      <td>1.000000</td>\n",
       "    </tr>\n",
       "    <tr>\n",
       "      <th>50%</th>\n",
       "      <td>4.101237e+17</td>\n",
       "      <td>1.386616e+09</td>\n",
       "      <td>1.0</td>\n",
       "      <td>0.0</td>\n",
       "      <td>0.000000</td>\n",
       "      <td>0.000000</td>\n",
       "      <td>2.140000e+03</td>\n",
       "      <td>9.700000e+01</td>\n",
       "      <td>83.000000</td>\n",
       "      <td>0.0</td>\n",
       "      <td>1.000000</td>\n",
       "    </tr>\n",
       "    <tr>\n",
       "      <th>75%</th>\n",
       "      <td>4.108024e+17</td>\n",
       "      <td>1.386778e+09</td>\n",
       "      <td>1.0</td>\n",
       "      <td>0.0</td>\n",
       "      <td>0.000000</td>\n",
       "      <td>0.000000</td>\n",
       "      <td>7.778500e+03</td>\n",
       "      <td>2.820000e+02</td>\n",
       "      <td>212.000000</td>\n",
       "      <td>0.0</td>\n",
       "      <td>1.000000</td>\n",
       "    </tr>\n",
       "    <tr>\n",
       "      <th>max</th>\n",
       "      <td>4.113689e+17</td>\n",
       "      <td>1.386913e+09</td>\n",
       "      <td>1.0</td>\n",
       "      <td>0.0</td>\n",
       "      <td>13817.000000</td>\n",
       "      <td>2.000000</td>\n",
       "      <td>1.130418e+06</td>\n",
       "      <td>1.582807e+06</td>\n",
       "      <td>175824.000000</td>\n",
       "      <td>0.0</td>\n",
       "      <td>1.000000</td>\n",
       "    </tr>\n",
       "  </tbody>\n",
       "</table>\n",
       "</div>"
      ],
      "text/plain": [
       "                 id         tdate     ttype      trep           tfav  \\\n",
       "count  1.149110e+05  1.149110e+05  114911.0  114911.0  114911.000000   \n",
       "mean   4.101934e+17  1.386633e+09       1.0       0.0       4.166494   \n",
       "std    6.789925e+14  1.618844e+05       0.0       0.0     145.232798   \n",
       "min    4.089067e+17  1.386326e+09       1.0       0.0       0.000000   \n",
       "25%    4.096183e+17  1.386496e+09       1.0       0.0       0.000000   \n",
       "50%    4.101237e+17  1.386616e+09       1.0       0.0       0.000000   \n",
       "75%    4.108024e+17  1.386778e+09       1.0       0.0       0.000000   \n",
       "max    4.113689e+17  1.386913e+09       1.0       0.0   13817.000000   \n",
       "\n",
       "            tstcount          tfol        tfrien      listcount   has_neg  \\\n",
       "count  114911.000000  1.149110e+05  1.149110e+05  114911.000000  114911.0   \n",
       "mean        0.001157  7.613871e+03  7.856044e+02     382.963702       0.0   \n",
       "std         0.034256  1.875076e+04  1.079046e+04    1733.551910       0.0   \n",
       "min         0.000000  0.000000e+00  0.000000e+00       0.000000       0.0   \n",
       "25%         0.000000  4.930000e+02  3.200000e+01      32.000000       0.0   \n",
       "50%         0.000000  2.140000e+03  9.700000e+01      83.000000       0.0   \n",
       "75%         0.000000  7.778500e+03  2.820000e+02     212.000000       0.0   \n",
       "max         2.000000  1.130418e+06  1.582807e+06  175824.000000       0.0   \n",
       "\n",
       "             has_pos  \n",
       "count  114911.000000  \n",
       "mean        0.828963  \n",
       "std         0.376543  \n",
       "min         0.000000  \n",
       "25%         1.000000  \n",
       "50%         1.000000  \n",
       "75%         1.000000  \n",
       "max         1.000000  "
      ]
     },
     "execution_count": 90,
     "metadata": {},
     "output_type": "execute_result"
    }
   ],
   "source": [
    "data[data.ttype == 1].describe()"
   ]
  },
  {
   "cell_type": "markdown",
   "metadata": {},
   "source": [
    "* Значения статистик каких признаков сильно отличаются для позитивных и негативных твитов? Как это можно объяснить?\n",
    "* Какие признаки могут быть полезны для предсказания тональности твита? Почему?"
   ]
  },
  {
   "cell_type": "markdown",
   "metadata": {},
   "source": [
    "Посмотрим, насколько признаки скоррелированны друг с другом:"
   ]
  },
  {
   "cell_type": "code",
   "execution_count": 91,
   "metadata": {},
   "outputs": [],
   "source": [
    "%matplotlib inline\n",
    "import matplotlib.pyplot as plt\n",
    "import seaborn as sns"
   ]
  },
  {
   "cell_type": "code",
   "execution_count": 92,
   "metadata": {},
   "outputs": [
    {
     "data": {
      "text/html": [
       "<div>\n",
       "<style scoped>\n",
       "    .dataframe tbody tr th:only-of-type {\n",
       "        vertical-align: middle;\n",
       "    }\n",
       "\n",
       "    .dataframe tbody tr th {\n",
       "        vertical-align: top;\n",
       "    }\n",
       "\n",
       "    .dataframe thead th {\n",
       "        text-align: right;\n",
       "    }\n",
       "</style>\n",
       "<table border=\"1\" class=\"dataframe\">\n",
       "  <thead>\n",
       "    <tr style=\"text-align: right;\">\n",
       "      <th></th>\n",
       "      <th>id</th>\n",
       "      <th>tdate</th>\n",
       "      <th>ttype</th>\n",
       "      <th>trep</th>\n",
       "      <th>tfav</th>\n",
       "      <th>tstcount</th>\n",
       "      <th>tfol</th>\n",
       "      <th>tfrien</th>\n",
       "      <th>listcount</th>\n",
       "      <th>has_neg</th>\n",
       "      <th>has_pos</th>\n",
       "    </tr>\n",
       "  </thead>\n",
       "  <tbody>\n",
       "    <tr>\n",
       "      <th>id</th>\n",
       "      <td>1.000000</td>\n",
       "      <td>1.000000</td>\n",
       "      <td>-0.690379</td>\n",
       "      <td>NaN</td>\n",
       "      <td>-0.008887</td>\n",
       "      <td>0.004286</td>\n",
       "      <td>0.001287</td>\n",
       "      <td>-0.010943</td>\n",
       "      <td>-0.028678</td>\n",
       "      <td>0.658769</td>\n",
       "      <td>-0.580498</td>\n",
       "    </tr>\n",
       "    <tr>\n",
       "      <th>tdate</th>\n",
       "      <td>1.000000</td>\n",
       "      <td>1.000000</td>\n",
       "      <td>-0.690379</td>\n",
       "      <td>NaN</td>\n",
       "      <td>-0.008887</td>\n",
       "      <td>0.004286</td>\n",
       "      <td>0.001287</td>\n",
       "      <td>-0.010943</td>\n",
       "      <td>-0.028678</td>\n",
       "      <td>0.658769</td>\n",
       "      <td>-0.580498</td>\n",
       "    </tr>\n",
       "    <tr>\n",
       "      <th>ttype</th>\n",
       "      <td>-0.690379</td>\n",
       "      <td>-0.690379</td>\n",
       "      <td>1.000000</td>\n",
       "      <td>NaN</td>\n",
       "      <td>0.010030</td>\n",
       "      <td>-0.002441</td>\n",
       "      <td>0.001435</td>\n",
       "      <td>0.011269</td>\n",
       "      <td>0.026601</td>\n",
       "      <td>-0.949180</td>\n",
       "      <td>0.839725</td>\n",
       "    </tr>\n",
       "    <tr>\n",
       "      <th>trep</th>\n",
       "      <td>NaN</td>\n",
       "      <td>NaN</td>\n",
       "      <td>NaN</td>\n",
       "      <td>NaN</td>\n",
       "      <td>NaN</td>\n",
       "      <td>NaN</td>\n",
       "      <td>NaN</td>\n",
       "      <td>NaN</td>\n",
       "      <td>NaN</td>\n",
       "      <td>NaN</td>\n",
       "      <td>NaN</td>\n",
       "    </tr>\n",
       "    <tr>\n",
       "      <th>tfav</th>\n",
       "      <td>-0.008887</td>\n",
       "      <td>-0.008887</td>\n",
       "      <td>0.010030</td>\n",
       "      <td>NaN</td>\n",
       "      <td>1.000000</td>\n",
       "      <td>-0.000982</td>\n",
       "      <td>-0.003964</td>\n",
       "      <td>-0.001049</td>\n",
       "      <td>0.001967</td>\n",
       "      <td>-0.009350</td>\n",
       "      <td>0.014086</td>\n",
       "    </tr>\n",
       "    <tr>\n",
       "      <th>tstcount</th>\n",
       "      <td>0.004286</td>\n",
       "      <td>0.004286</td>\n",
       "      <td>-0.002441</td>\n",
       "      <td>NaN</td>\n",
       "      <td>-0.000982</td>\n",
       "      <td>1.000000</td>\n",
       "      <td>0.003970</td>\n",
       "      <td>0.000844</td>\n",
       "      <td>0.003491</td>\n",
       "      <td>0.000794</td>\n",
       "      <td>-0.004370</td>\n",
       "    </tr>\n",
       "    <tr>\n",
       "      <th>tfol</th>\n",
       "      <td>0.001287</td>\n",
       "      <td>0.001287</td>\n",
       "      <td>0.001435</td>\n",
       "      <td>NaN</td>\n",
       "      <td>-0.003964</td>\n",
       "      <td>0.003970</td>\n",
       "      <td>1.000000</td>\n",
       "      <td>0.110290</td>\n",
       "      <td>0.299472</td>\n",
       "      <td>-0.004182</td>\n",
       "      <td>-0.001327</td>\n",
       "    </tr>\n",
       "    <tr>\n",
       "      <th>tfrien</th>\n",
       "      <td>-0.010943</td>\n",
       "      <td>-0.010943</td>\n",
       "      <td>0.011269</td>\n",
       "      <td>NaN</td>\n",
       "      <td>-0.001049</td>\n",
       "      <td>0.000844</td>\n",
       "      <td>0.110290</td>\n",
       "      <td>1.000000</td>\n",
       "      <td>0.242947</td>\n",
       "      <td>-0.010947</td>\n",
       "      <td>0.016047</td>\n",
       "    </tr>\n",
       "    <tr>\n",
       "      <th>listcount</th>\n",
       "      <td>-0.028678</td>\n",
       "      <td>-0.028678</td>\n",
       "      <td>0.026601</td>\n",
       "      <td>NaN</td>\n",
       "      <td>0.001967</td>\n",
       "      <td>0.003491</td>\n",
       "      <td>0.299472</td>\n",
       "      <td>0.242947</td>\n",
       "      <td>1.000000</td>\n",
       "      <td>-0.027162</td>\n",
       "      <td>0.029732</td>\n",
       "    </tr>\n",
       "    <tr>\n",
       "      <th>has_neg</th>\n",
       "      <td>0.658769</td>\n",
       "      <td>0.658769</td>\n",
       "      <td>-0.949180</td>\n",
       "      <td>NaN</td>\n",
       "      <td>-0.009350</td>\n",
       "      <td>0.000794</td>\n",
       "      <td>-0.004182</td>\n",
       "      <td>-0.010947</td>\n",
       "      <td>-0.027162</td>\n",
       "      <td>1.000000</td>\n",
       "      <td>-0.797051</td>\n",
       "    </tr>\n",
       "    <tr>\n",
       "      <th>has_pos</th>\n",
       "      <td>-0.580498</td>\n",
       "      <td>-0.580498</td>\n",
       "      <td>0.839725</td>\n",
       "      <td>NaN</td>\n",
       "      <td>0.014086</td>\n",
       "      <td>-0.004370</td>\n",
       "      <td>-0.001327</td>\n",
       "      <td>0.016047</td>\n",
       "      <td>0.029732</td>\n",
       "      <td>-0.797051</td>\n",
       "      <td>1.000000</td>\n",
       "    </tr>\n",
       "  </tbody>\n",
       "</table>\n",
       "</div>"
      ],
      "text/plain": [
       "                 id     tdate     ttype  trep      tfav  tstcount      tfol  \\\n",
       "id         1.000000  1.000000 -0.690379   NaN -0.008887  0.004286  0.001287   \n",
       "tdate      1.000000  1.000000 -0.690379   NaN -0.008887  0.004286  0.001287   \n",
       "ttype     -0.690379 -0.690379  1.000000   NaN  0.010030 -0.002441  0.001435   \n",
       "trep            NaN       NaN       NaN   NaN       NaN       NaN       NaN   \n",
       "tfav      -0.008887 -0.008887  0.010030   NaN  1.000000 -0.000982 -0.003964   \n",
       "tstcount   0.004286  0.004286 -0.002441   NaN -0.000982  1.000000  0.003970   \n",
       "tfol       0.001287  0.001287  0.001435   NaN -0.003964  0.003970  1.000000   \n",
       "tfrien    -0.010943 -0.010943  0.011269   NaN -0.001049  0.000844  0.110290   \n",
       "listcount -0.028678 -0.028678  0.026601   NaN  0.001967  0.003491  0.299472   \n",
       "has_neg    0.658769  0.658769 -0.949180   NaN -0.009350  0.000794 -0.004182   \n",
       "has_pos   -0.580498 -0.580498  0.839725   NaN  0.014086 -0.004370 -0.001327   \n",
       "\n",
       "             tfrien  listcount   has_neg   has_pos  \n",
       "id        -0.010943  -0.028678  0.658769 -0.580498  \n",
       "tdate     -0.010943  -0.028678  0.658769 -0.580498  \n",
       "ttype      0.011269   0.026601 -0.949180  0.839725  \n",
       "trep            NaN        NaN       NaN       NaN  \n",
       "tfav      -0.001049   0.001967 -0.009350  0.014086  \n",
       "tstcount   0.000844   0.003491  0.000794 -0.004370  \n",
       "tfol       0.110290   0.299472 -0.004182 -0.001327  \n",
       "tfrien     1.000000   0.242947 -0.010947  0.016047  \n",
       "listcount  0.242947   1.000000 -0.027162  0.029732  \n",
       "has_neg   -0.010947  -0.027162  1.000000 -0.797051  \n",
       "has_pos    0.016047   0.029732 -0.797051  1.000000  "
      ]
     },
     "execution_count": 92,
     "metadata": {},
     "output_type": "execute_result"
    }
   ],
   "source": [
    "corrmat = data.corr()\n",
    "corrmat"
   ]
  },
  {
   "cell_type": "markdown",
   "metadata": {},
   "source": [
    "Получили матрицу корреляций, посмотрим на нее в виде heatmap:"
   ]
  },
  {
   "cell_type": "code",
   "execution_count": 93,
   "metadata": {},
   "outputs": [
    {
     "data": {
      "image/png": "[encoded data removed]",
      "text/plain": [
       "<Figure size 576x576 with 2 Axes>"
      ]
     },
     "metadata": {
      "needs_background": "light"
     },
     "output_type": "display_data"
    }
   ],
   "source": [
    "plt.figure(figsize=(8, 8))\n",
    "sns.heatmap(corrmat, square=True)\n",
    "plt.show()"
   ]
  },
  {
   "cell_type": "markdown",
   "metadata": {},
   "source": [
    "Какие признаки сильно скоррелированы? Как это можно объяснить?"
   ]
  },
  {
   "cell_type": "markdown",
   "metadata": {},
   "source": [
    "Посмотрим на еще одну визуализацию: [seaborn.pairplot](https://seaborn.pydata.org/generated/seaborn.pairplot.html).\n",
    "\n",
    "Эта функция выдает матрицу из графиков: по диагонали стоят гистограммы значений каждого признака, а в остальных ячейках &mdash; графики значений каждого признака против каждого. Кроме того, точки на графиках можно раскрасить в разные цвета по какому-либо категориальному признаку с помощью аргумента ```hue```. Это позволяет сравнить, какие значения принимает признак в зависимости от категории. Давайте раскрасим наши графики по ```ttype```, чтобы сравнить распределения признаков для позитивных и негативных твитов."
   ]
  },
  {
   "cell_type": "code",
   "execution_count": 94,
   "metadata": {},
   "outputs": [
    {
     "data": {
      "text/plain": [
       "<seaborn.axisgrid.PairGrid at 0x12ff43bb0>"
      ]
     },
     "execution_count": 94,
     "metadata": {},
     "output_type": "execute_result"
    },
    {
     "data": {
      "image/png": "[encoded data removed]",
      "text/plain": [
       "<Figure size 1669.47x1620 with 90 Axes>"
      ]
     },
     "metadata": {},
     "output_type": "display_data"
    }
   ],
   "source": [
    "sns.set()\n",
    "cols = ['id', 'tdate', 'tfav', 'tstcount', 'tfol', 'tfrien', 'listcount', 'ttype', 'has_neg', 'has_pos']\n",
    "sns.pairplot(data[cols], hue='ttype')"
   ]
  },
  {
   "cell_type": "markdown",
   "metadata": {},
   "source": [
    "Давайте посмотрим на графики и ответим на вопросы:\n",
    "* Между какими признаками видна зависимость? Как ее можно объяснить?\n",
    "* Какие признаки будут полезны для предсказания типа твита, а какие, скорее всего, бесполезны? Почему?\n",
    "\n",
    "Построим отдельно самые интересные зависимости:"
   ]
  },
  {
   "cell_type": "code",
   "execution_count": 95,
   "metadata": {},
   "outputs": [
    {
     "data": {
      "text/plain": [
       "<seaborn.axisgrid.PairGrid at 0x14242f940>"
      ]
     },
     "execution_count": 95,
     "metadata": {},
     "output_type": "execute_result"
    },
    {
     "data": {
      "image/png": "[encoded data removed]",
      "text/plain": [
       "<Figure size 769.475x720 with 20 Axes>"
      ]
     },
     "metadata": {},
     "output_type": "display_data"
    }
   ],
   "source": [
    "sns.set()\n",
    "cols = ['id','tdate', 'ttype', 'has_neg', 'has_pos']\n",
    "sns.pairplot(data[cols], hue='ttype')"
   ]
  },
  {
   "cell_type": "markdown",
   "metadata": {},
   "source": [
    "# Scikit-Learn "
   ]
  },
  {
   "cell_type": "markdown",
   "metadata": {},
   "source": [
    "Scikit-learn $-$ это библиотека, в которой реализованы основные алгоритмы машинного обучения. Также реализованы методы для подбора гиперпараметров (например, кросс-валидации) и обработки данных. У всех алгоритмов унифицированный интерфейс, так что вы можете легко пробовать различные методы и добавлять свои.\n",
    "\n",
    "На семинаре мы рассмотрим стандартный сценарий работы с sklearn. В качестве датасета рассмотрим [__Ames Housing dataset__](https://www.kaggle.com/c/house-prices-advanced-regression-techniques/data), в котором требуется предсказать стоимость квартиры по ряду признаков (площадь, количество комнат, год постройки и т.д., полнон описание данных можно посмотреть на kaggle)."
   ]
  },
  {
   "cell_type": "markdown",
   "metadata": {},
   "source": [
    "TL;DR:\n",
    "* Обработка и визуальный анализ данных\n",
    "* Обучение линейно регрессии в scikit-learn\n",
    "* Подбор гиперпараметров\n",
    "* Знакомство с Pipeline"
   ]
  },
  {
   "cell_type": "markdown",
   "metadata": {},
   "source": [
    "----"
   ]
  },
  {
   "cell_type": "code",
   "execution_count": 96,
   "metadata": {
    "scrolled": true
   },
   "outputs": [
    {
     "name": "stdout",
     "output_type": "stream",
     "text": [
      "--2022-02-07 16:03:04--  https://www.dropbox.com/s/1ymnz6k1p0cezo7/house_prices.csv\n",
      "Resolving www.dropbox.com (www.dropbox.com)... 2620:100:6026:18::a27d:4612, 162.125.70.18\n",
      "Connecting to www.dropbox.com (www.dropbox.com)|2620:100:6026:18::a27d:4612|:443... connected.\n",
      "HTTP request sent, awaiting response... 301 Moved Permanently\n",
      "Location: /s/raw/1ymnz6k1p0cezo7/house_prices.csv [following]\n",
      "--2022-02-07 16:03:04--  https://www.dropbox.com/s/raw/1ymnz6k1p0cezo7/house_prices.csv\n",
      "Reusing existing connection to [www.dropbox.com]:443.\n",
      "HTTP request sent, awaiting response... 302 Found\n",
      "Location: https://uc3390476a852162813df9090de5.dl.dropboxusercontent.com/cd/0/inline/BfRfrVWp3vbUw2CbLvBro-V3SuOwmtIAtkDoUeDgtiD6B6p0eNaFQSIEEoEQrPYMeNfSzXvUcSCxVKin-4n7rqqYEpRRL9mb_GR4SMLxq5X9ypvK9s55-LCoj4aiZjrZQviDAjHPCR-zhi7VijTUPWIW/file# [following]\n",
      "--2022-02-07 16:03:05--  https://uc3390476a852162813df9090de5.dl.dropboxusercontent.com/cd/0/inline/BfRfrVWp3vbUw2CbLvBro-V3SuOwmtIAtkDoUeDgtiD6B6p0eNaFQSIEEoEQrPYMeNfSzXvUcSCxVKin-4n7rqqYEpRRL9mb_GR4SMLxq5X9ypvK9s55-LCoj4aiZjrZQviDAjHPCR-zhi7VijTUPWIW/file\n",
      "Resolving uc3390476a852162813df9090de5.dl.dropboxusercontent.com (uc3390476a852162813df9090de5.dl.dropboxusercontent.com)... 2620:100:6026:15::a27d:460f, 162.125.70.15\n",
      "Connecting to uc3390476a852162813df9090de5.dl.dropboxusercontent.com (uc3390476a852162813df9090de5.dl.dropboxusercontent.com)|2620:100:6026:15::a27d:460f|:443... connected.\n",
      "HTTP request sent, awaiting response... 200 OK\n",
      "Length: unspecified [text/plain]\n",
      "Saving to: ‘house_prices.csv.1’\n",
      "\n",
      "house_prices.csv.1      [  <=>               ] 449.88K  2.10MB/s    in 0.2s    \n",
      "\n",
      "2022-02-07 16:03:05 (2.10 MB/s) - ‘house_prices.csv.1’ saved [460676]\n",
      "\n"
     ]
    }
   ],
   "source": [
    "! wget https://www.dropbox.com/s/1ymnz6k1p0cezo7/house_prices.csv"
   ]
  },
  {
   "cell_type": "code",
   "execution_count": null,
   "metadata": {},
   "outputs": [],
   "source": [
    "import sklearn\n",
    "import matplotlib.pyplot as plt\n",
    "import numpy as np\n",
    "import pandas as pd\n",
    "import seaborn as sns\n",
    "sns.set(style='whitegrid')\n",
    "\n",
    "%matplotlib inline"
   ]
  },
  {
   "cell_type": "markdown",
   "metadata": {},
   "source": [
    "## 1. Загрузка данных"
   ]
  },
  {
   "cell_type": "code",
   "execution_count": null,
   "metadata": {},
   "outputs": [],
   "source": [
    "data = pd.read_csv('./house_prices.csv', index_col='Id')"
   ]
  },
  {
   "cell_type": "markdown",
   "metadata": {},
   "source": [
    "Перед тем, как бросаться строить регрессию, почти всегда полезно посмотреть на данные и понять, что они из себя пердставляют (провести анализ)."
   ]
  },
  {
   "cell_type": "markdown",
   "metadata": {},
   "source": [
    "* Для начала посмотрим на матрицу корреляций признаков и целевой переменной"
   ]
  },
  {
   "cell_type": "code",
   "execution_count": null,
   "metadata": {},
   "outputs": [],
   "source": [
    "corr = data.corr()\n",
    "plt.figure(figsize=(15, 11))\n",
    "sns.heatmap(corr, vmax=.8, square=True, cmap='magma');"
   ]
  },
  {
   "cell_type": "markdown",
   "metadata": {},
   "source": [
    "Можно увидеть, что пары `TotalBsmtSF`-`1stFlrSF` и `GarageYrBlt`-`YearBuilt` сильно скоррелированны, что неудивительно, если посмотреть на их описание:\n",
    "\n",
    "- __TotalBsmtSF__: Total square feet of basement area\n",
    "- __1stFlrSF__: First Floor square feet\n",
    "\n",
    "\n",
    "- __YearBuilt__: Original construction date\n",
    "- __GarageYrBlt__: Year garage was built\n",
    "\n",
    "Линейная зависимость признаков ([мультиколлинеарность](https://ru.wikipedia.org/wiki/Мультиколлинеарность)) приводит к существованию множества эквивалентных решений задачи регрессии, а значит, к нестабильности. Поэтому выбросим эти признаки:"
   ]
  },
  {
   "cell_type": "code",
   "execution_count": null,
   "metadata": {},
   "outputs": [],
   "source": [
    "data.drop(['TotalBsmtSF', 'GarageYrBlt'], 1, inplace=True)"
   ]
  },
  {
   "cell_type": "code",
   "execution_count": null,
   "metadata": {
    "scrolled": true
   },
   "outputs": [],
   "source": [
    "data"
   ]
  },
  {
   "cell_type": "markdown",
   "metadata": {},
   "source": [
    "## 2. Предобработка"
   ]
  },
  {
   "cell_type": "markdown",
   "metadata": {},
   "source": [
    "Для того, чтобы быстро оценить распределение признаков, удобно смотреть на [Box Plot](https://en.wikipedia.org/wiki/Box_plot), который показывает медиану, нижний и верхний квартили, а также максимальное и минимальное значение и выбросы. Кроме того, можно построить гистограммы, чтобы понять вид распределения."
   ]
  },
  {
   "cell_type": "code",
   "execution_count": null,
   "metadata": {},
   "outputs": [],
   "source": [
    "plt.figure(figsize=(13, 4))\n",
    "plt.subplot(1, 2, 1)\n",
    "sns.boxplot(data['SalePrice'])\n",
    "plt.subplot(1, 2, 2)\n",
    "sns.distplot(data['SalePrice']);"
   ]
  },
  {
   "cell_type": "markdown",
   "metadata": {},
   "source": [
    "Распределение цен имеет достаточно тяжелый правый хвост, в процессе оптимизации ошибка на таких объектах будет штрафоваться сильнее, поэтому прологарифмируем значение целевой переменной, чтобы получить более симметричное распределение."
   ]
  },
  {
   "cell_type": "code",
   "execution_count": null,
   "metadata": {},
   "outputs": [],
   "source": [
    "data['logSalePrice'] = np.log(data['SalePrice'])\n",
    "plt.figure(figsize=(13, 4))\n",
    "plt.subplot(1, 2, 1)\n",
    "sns.boxplot(data['logSalePrice'])\n",
    "plt.subplot(1, 2, 2)\n",
    "sns.distplot(data['logSalePrice']);"
   ]
  },
  {
   "cell_type": "markdown",
   "metadata": {},
   "source": [
    "### Пропуски в данных"
   ]
  },
  {
   "cell_type": "markdown",
   "metadata": {},
   "source": [
    "Зачастую в реальных данных не для всех объектов известно значение того или иного признака. Такие объекты нужно обрабатывать прежде чем приступать к обучению. Для каждого признака посмотрим, в какой доле объектов отсутствует значение."
   ]
  },
  {
   "cell_type": "code",
   "execution_count": null,
   "metadata": {},
   "outputs": [],
   "source": [
    "clmns = data.columns[data.isnull().any()]\n",
    "missed = pd.DataFrame(data[clmns].isnull().sum().sort_values(ascending=False) / data.shape[0], columns=['% NULL'])\n",
    "missed"
   ]
  },
  {
   "cell_type": "markdown",
   "metadata": {},
   "source": [
    "Некоторые признаки отсутствуют для большого числа объектов, поэтому имеет смысл их выкинуть."
   ]
  },
  {
   "cell_type": "code",
   "execution_count": null,
   "metadata": {},
   "outputs": [],
   "source": [
    "data.drop(missed[missed['% NULL'] > 0.99].index, 1, inplace=True)"
   ]
  },
  {
   "cell_type": "markdown",
   "metadata": {},
   "source": [
    "Оставшиеся пропуски заполним значением медианным значением для действительных признаков и модой для категориальных."
   ]
  },
  {
   "cell_type": "code",
   "execution_count": null,
   "metadata": {},
   "outputs": [],
   "source": [
    "fill = data.apply(lambda s: s.mode()[0] if s.dtype == 'object' else s.median(), axis=0)\n",
    "data = data.fillna(value=fill)"
   ]
  },
  {
   "cell_type": "markdown",
   "metadata": {},
   "source": [
    "### Категориальные признаки"
   ]
  },
  {
   "cell_type": "markdown",
   "metadata": {},
   "source": [
    "Некоторые признаки в датасете являются категориальными и принимают текстовые значения. Практически все модели в машинном обучении предполагают, что данные представлены в числовом виде, поэтому такие признаки нужно сначала обработать, чтобы обучить регрессию. Один из самых простых и распространенных способов $-$ _one-hot encoding_, создающий для каждого категориального признака, принимающего $K$ различных значений, столько же бинарных признаков, при этом для каждого объекта ровно один из них (соответствующий значению исходного категориального признака на объекте) будет принимать значение 1, остальные будут равны нулю:\n",
    "\n",
    "![](https://i.imgur.com/mtimFxh.png)"
   ]
  },
  {
   "cell_type": "code",
   "execution_count": null,
   "metadata": {},
   "outputs": [],
   "source": [
    "cat_clmns = data.columns[data.dtypes == 'object']\n",
    "data[cat_clmns].head()"
   ]
  },
  {
   "cell_type": "markdown",
   "metadata": {},
   "source": [
    "Для описанного выше преобразования в `scekit-learn` существует объект [`OneHotEncoder`](http://scikit-learn.org/stable/modules/generated/sklearn.preprocessing.OneHotEncoder.html), однако он работает только со значениями типа `int`, поэтому необходимо сначала для каждого признака пронумеровать уникальные значения и использовать эти номера вместо исходных значений признака (в этом нам поможет [`LabelEncoder`](http://scikit-learn.org/stable/modules/generated/sklearn.preprocessing.LabelEncoder.html))."
   ]
  },
  {
   "cell_type": "code",
   "execution_count": null,
   "metadata": {},
   "outputs": [],
   "source": [
    "from sklearn.preprocessing import LabelEncoder, OneHotEncoder"
   ]
  },
  {
   "cell_type": "code",
   "execution_count": null,
   "metadata": {},
   "outputs": [],
   "source": [
    "encoders = [LabelEncoder().fit(data[c]) for c in cat_clmns]\n",
    "cat_fts = np.stack([enc.transform(data[c]) for enc, c in zip(encoders, cat_clmns)]).T"
   ]
  },
  {
   "cell_type": "code",
   "execution_count": null,
   "metadata": {},
   "outputs": [],
   "source": [
    "cat_fts"
   ]
  },
  {
   "cell_type": "markdown",
   "metadata": {},
   "source": [
    "Теперь ко всем таким категориальным признакам применим One-Hot кодирование:"
   ]
  },
  {
   "cell_type": "code",
   "execution_count": null,
   "metadata": {},
   "outputs": [],
   "source": [
    "ohe = OneHotEncoder()\n",
    "ohe.fit(cat_fts)\n",
    "cat_ohe = ohe.transform(cat_fts).toarray()\n",
    "cat_ohe"
   ]
  },
  {
   "cell_type": "code",
   "execution_count": null,
   "metadata": {},
   "outputs": [],
   "source": [
    "real_clmns = data.columns[data.dtypes != 'object']\n",
    "a = pd.DataFrame(cat_ohe, index=data.index)\n",
    "data = pd.concat([data[real_clmns], a], axis=1)\n",
    "data.head()"
   ]
  },
  {
   "cell_type": "markdown",
   "metadata": {},
   "source": [
    "## 3. Обучение"
   ]
  },
  {
   "cell_type": "markdown",
   "metadata": {},
   "source": [
    "В данном разделе мы разделим выборку на обучающую и тестовую и построим обычную линейную регрессию."
   ]
  },
  {
   "cell_type": "markdown",
   "metadata": {},
   "source": [
    "При разбиениb выборки на тестовую и обучающую нужно быть внимательными. В данном случае мы решаем не просто задачу регресcии, но прогнозирования, поэтому обучаться на данных за 2010 год и предсказывать значения цен для 2009 года смысла не очень много."
   ]
  },
  {
   "cell_type": "code",
   "execution_count": null,
   "metadata": {},
   "outputs": [],
   "source": [
    "yrsold = data['YrSold']\n",
    "sorted(yrsold.unique())"
   ]
  },
  {
   "cell_type": "code",
   "execution_count": null,
   "metadata": {},
   "outputs": [],
   "source": [
    "train_x = data[data['YrSold'] <= 2009]\n",
    "test_x = data[data['YrSold'] == 2010]\n",
    "\n",
    "test_y = test_x['SalePrice']\n",
    "train_y = train_x['SalePrice']\n",
    "\n",
    "test_x, train_x = test_x.drop(['SalePrice', 'logSalePrice'], 1), train_x.drop(['SalePrice', 'logSalePrice'], 1)\n",
    "train_idxs, val_idxs = np.where(train_x['YrSold'] < 2009)[0], np.where(train_x['YrSold'] == 2009)[0]"
   ]
  },
  {
   "cell_type": "code",
   "execution_count": null,
   "metadata": {},
   "outputs": [],
   "source": [
    "print('train_size = %.2f' % (train_idxs.shape[0] * 1.0 / data.shape[0]))\n",
    "print('val_size = %.2f' % (val_idxs.shape[0] * 1.0 / data.shape[0]))\n",
    "print('test_size = %.2f' % (test_x.shape[0] * 1.0 / data.shape[0]))"
   ]
  },
  {
   "cell_type": "markdown",
   "metadata": {},
   "source": [
    "т.к. метрика RMSE штрафует по-разному занижение и завышение цены, в качестве целевой метрики мы будем использовать MAPE, которая показывает ошибку в процентах от истинного значения.\n",
    "\n",
    "$$ \\text{MAPE} = \\dfrac{1}{l} \\sum_{i=1}^l \\dfrac{|y_i - a(x_i) |}{y_i} $$"
   ]
  },
  {
   "cell_type": "code",
   "execution_count": null,
   "metadata": {},
   "outputs": [],
   "source": [
    "def mape(y_true, y_pred): \n",
    "    return np.mean(np.abs((y_true - y_pred) / y_true)) * 100"
   ]
  },
  {
   "cell_type": "markdown",
   "metadata": {},
   "source": [
    "Обучим обычную линейную регрессию (обратим вниманием, что в процессе обучения оптимизируется функционал MSE, однако качество на тесте мы будем считать при помощи функционала MAPE) и сравним качество моделей, обученных с логарифмированием целевой переменной и без. При этом качество нужно, очевидно, считать в исходных значениях для обеих моделей."
   ]
  },
  {
   "cell_type": "code",
   "execution_count": null,
   "metadata": {
    "scrolled": true
   },
   "outputs": [],
   "source": [
    "from sklearn.linear_model import LinearRegression\n",
    "from sklearn.metrics import mean_squared_error, mean_squared_log_error, r2_score\n",
    "\n",
    "lr = LinearRegression()\n",
    "lr.fit(train_x, train_y)\n",
    "\n",
    "test_p = lr.predict(test_x)\n",
    "print('Using Y:')\n",
    "print('Test MAPE %.2f%%' % mape(test_y, test_p))\n",
    "print('Test RMSE %.3f' % mean_squared_error(test_y, test_p)**0.5)\n",
    "print('Test RMSLE %.3f' % mean_squared_log_error(test_y, test_p)**0.5)\n",
    "print('Test R2 %.3f\\n' % r2_score(test_y, test_p))\n",
    "\n",
    "\n",
    "lr.fit(train_x, np.log(train_y))\n",
    "test_p = np.exp(lr.predict(test_x))\n",
    "print('Using logY:')\n",
    "print('Test MAPE %.2f%%' % mape(test_y, test_p))\n",
    "print('Test RMSE %.3f' % mean_squared_error(test_y, test_p)**0.5)\n",
    "print('Test RMSLE %.3f' % mean_squared_log_error(test_y, test_p)**0.5)\n",
    "print('Test R2 %.3f' % r2_score(test_y, test_p))"
   ]
  },
  {
   "cell_type": "markdown",
   "metadata": {},
   "source": [
    "## 5. Подбор гиперпараметров"
   ]
  },
  {
   "cell_type": "markdown",
   "metadata": {},
   "source": [
    "Чтобы избежать переобучения, к функционалу обычной линейной регрессии добавляют регуляризаторы, например $L_2$:\n",
    "\n",
    "$$ Q(w) = \\text{MSE}(X, w) + \\alpha \\cdot L_2(w)$$\n",
    "\n",
    "$$ L_2(w) = \\sum_{i=1}^{d} w_{i}^2 $$\n",
    "$$ \\text{MSE}(X, w) = \\sum_{i=1}^l (w^Tx_i - y_i)^2 $$\n",
    "\n",
    "Но встает вопрос о выборе коэффициента регуляризации $\\alpha$. Если настраивать этот параметр по обучающей выборке, то лучшим вариантом будет $\\alpha = 0$, т.к. именно в этом случае функционал принимает минимальное значение, однако качество на тесте скорее всего упадет, поскольку модель начнет настраиваться под особенности обучающей выборки вместо выявления общих закономерностей в данных. Поэтому нужно пользоваться отложенной выборкой или кросс-валидацией для подбора гиперпараметров.\n",
    "\n",
    "\n",
    "![](images/K-fold_cross_validation.jpeg)\n"
   ]
  },
  {
   "cell_type": "code",
   "execution_count": null,
   "metadata": {},
   "outputs": [],
   "source": [
    "def mape_scorer(estimator, X_test, y_test):\n",
    "    return -mape(np.exp(y_test), np.exp(estimator.predict(X_test)))"
   ]
  },
  {
   "cell_type": "code",
   "execution_count": null,
   "metadata": {
    "code_folding": []
   },
   "outputs": [],
   "source": [
    "from sklearn.linear_model import RidgeCV, Ridge, LassoCV, ElasticNetCV\n",
    "from sklearn.pipeline import Pipeline\n",
    "from sklearn.preprocessing import StandardScaler, MinMaxScaler, PolynomialFeatures\n",
    "from sklearn.model_selection import GridSearchCV\n",
    "\n",
    "params = {\n",
    "    'alpha': np.logspace(-6, 3, 20)\n",
    "}\n",
    "\n",
    "cv = GridSearchCV(Ridge(), params, cv=[[train_idxs, val_idxs]], scoring=mape_scorer)\n",
    "cv.fit(train_x, np.log(train_y));"
   ]
  },
  {
   "cell_type": "code",
   "execution_count": null,
   "metadata": {
    "scrolled": true
   },
   "outputs": [],
   "source": [
    "cv_grid = pd.DataFrame(cv.cv_results_['params'])\n",
    "cv_grid['val MAPE'] = -cv.cv_results_['mean_test_score']\n",
    "cv_grid"
   ]
  },
  {
   "cell_type": "code",
   "execution_count": null,
   "metadata": {},
   "outputs": [],
   "source": [
    "plt.title(r'Validation MAPE')\n",
    "plt.semilogx(cv_grid['alpha'], cv_grid['val MAPE'], label='Validation')\n",
    "\n",
    "best_l2 = cv.best_params_['alpha']\n",
    "plt.vlines(best_l2, 8, 11, linestyles='--', color='gray', label='min')\n",
    "plt.legend()\n",
    "plt.xlabel('alpha')\n",
    "plt.ylabel('MAPE, %');"
   ]
  },
  {
   "cell_type": "code",
   "execution_count": null,
   "metadata": {},
   "outputs": [],
   "source": [
    "print('Test MAPE %.3f' % -mape_scorer(cv, test_x, np.log(test_y)))"
   ]
  },
  {
   "cell_type": "markdown",
   "metadata": {
    "collapsed": true
   },
   "source": [
    "Посмотрим на 10 самых значимых признаков и их корреляции с целевой переменной:"
   ]
  },
  {
   "cell_type": "code",
   "execution_count": null,
   "metadata": {},
   "outputs": [],
   "source": [
    "plt.figure(figsize=(15, 7))\n",
    "plt.subplot(1, 2, 1)\n",
    "plt.title('Coef')\n",
    "w = cv.best_estimator_.coef_\n",
    "arg = np.argsort(np.abs(w))[-10:]\n",
    "clmns = train_x.columns.values[arg]\n",
    "w = w[arg]\n",
    "\n",
    "x = np.arange(len(w))\n",
    "plt.barh(x, w)\n",
    "plt.yticks(x, clmns);\n",
    "\n",
    "plt.subplot(1, 2, 2)\n",
    "plt.title('Correlation')\n",
    "corr = data.corr()\n",
    "x = np.arange(len(w))\n",
    "plt.barh(x, corr['logSalePrice'][clmns])\n",
    "plt.yticks(x, clmns);"
   ]
  },
  {
   "cell_type": "markdown",
   "metadata": {},
   "source": [
    "## 6. Pipeline"
   ]
  },
  {
   "cell_type": "markdown",
   "metadata": {},
   "source": [
    "Как мы увидели, процесс построения алгоритма машинного обучения от сырых данных до предсказания можно разделить на несколько этапов:\n",
    "\n",
    "* Обработка/фильтрация данных\n",
    "* Добавление новых признаков\n",
    "* Обучение алгоритма\n",
    "\n",
    "Для удобства все эти этапы можно объединить в один [`Pipeline`](http://scikit-learn.org/stable/modules/generated/sklearn.pipeline.Pipeline.html)."
   ]
  },
  {
   "cell_type": "code",
   "execution_count": null,
   "metadata": {},
   "outputs": [],
   "source": [
    "data = pd.read_csv('house_prices.csv', index_col='Id')"
   ]
  },
  {
   "cell_type": "code",
   "execution_count": null,
   "metadata": {
    "code_folding": []
   },
   "outputs": [],
   "source": [
    "from sklearn.pipeline import Pipeline\n",
    "from sklearn.base import TransformerMixin,BaseEstimator\n",
    "from scipy.stats import skew\n",
    "from sklearn.preprocessing import StandardScaler\n",
    "from sklearn.preprocessing import OneHotEncoder, LabelEncoder\n",
    "\n",
    "UNIQUE = {c: data[c][~data[c].isnull()].unique() for c in data.columns[data.dtypes == 'object']}\n",
    "\n",
    "class MyTransformer(TransformerMixin, BaseEstimator):\n",
    "    def __init__(self, null_threshold):\n",
    "        self.null_threshold = null_threshold\n",
    "        self.drop_clmns = []\n",
    "        self.encoder = None\n",
    "\n",
    "    def transform(self, x, y=None):\n",
    "        data = x.copy()\n",
    "        \n",
    "        data.drop(['TotalBsmtSF', 'GarageYrBlt'], 1, inplace=True, errors='ignore')\n",
    "        data.drop(self.drop_clmns, 1, inplace=True)\n",
    "\n",
    "        data = data.fillna(value=self.fill)\n",
    "\n",
    "        cat_fts = np.stack([enc.transform(data[c]) for enc, c in zip(self.encoders, self.cat_clmns)]).T\n",
    "        cat_ohe = self.ohe.transform(cat_fts).toarray()\n",
    "\n",
    "        real_clmns = data.columns[data.dtypes != 'object']\n",
    "        cat_ohe = pd.DataFrame(data=cat_ohe, index=data.index)\n",
    "        data = pd.concat([data[real_clmns], cat_ohe], axis=1)\n",
    "        \n",
    "        return data\n",
    "    \n",
    "    def fit(self, x, y=None):\n",
    "        data = x.copy()\n",
    "        data.drop(['TotalBsmtSF', 'GarageYrBlt'], 1, inplace=True, errors='ignore')\n",
    "        \n",
    "        # drop and fill NULLs\n",
    "        clmns = data.columns[data.isnull().any()]\n",
    "        missed = pd.DataFrame(data[clmns].isnull().sum().sort_values(ascending=False) / data.shape[0], columns=['% NULL'])\n",
    "        self.drop_clmns = missed[missed['% NULL'] > self.null_threshold].index\n",
    "        data.drop(self.drop_clmns, 1, inplace=True)\n",
    "        \n",
    "        # Fill remaining NULLs\n",
    "        self.fill = data.apply(lambda s: s.mode()[0] if s.dtype == 'object' else s.median(), axis=0)\n",
    "        data = data.fillna(value=self.fill)\n",
    "        \n",
    "        # Encode categorical features (str -> int)\n",
    "        self.cat_clmns = data.columns[data.dtypes == 'object']\n",
    "        self.encoders = [LabelEncoder().fit(vals) for c, vals in UNIQUE.items() if c in self.cat_clmns]\n",
    "        \n",
    "        cat_fts = np.stack([enc.transform(data[c]) for enc, c in zip(self.encoders, self.cat_clmns)]).T\n",
    "\n",
    "        self.ohe = OneHotEncoder(handle_unknown='ignore')\n",
    "        self.ohe.fit(cat_fts)\n",
    "\n",
    "        return self\n",
    "    \n",
    "    \n",
    "class MyScaler(TransformerMixin, BaseEstimator):\n",
    "    def __init__(self):\n",
    "        self.scaler = StandardScaler()\n",
    "        \n",
    "    def transform(self, x, y=None):\n",
    "        x = x.copy()\n",
    "        x.loc[:, self.clmns] = self.scaler.transform(x[self.clmns])\n",
    "        return x\n",
    "    \n",
    "    def fit(self, x, y=None):\n",
    "        cond = x.dtypes == 'float'\n",
    "        self.clmns = cond[cond].index\n",
    "        self.scaler.fit(x[self.clmns])\n",
    "        return self"
   ]
  },
  {
   "cell_type": "code",
   "execution_count": null,
   "metadata": {},
   "outputs": [],
   "source": [
    "train_x = data[data['YrSold'] <= 2009]\n",
    "test_x = data[data['YrSold'] == 2010]\n",
    "\n",
    "test_y = test_x['SalePrice']\n",
    "train_y = train_x['SalePrice']\n",
    "\n",
    "test_x, train_x = test_x.drop('SalePrice', 1), train_x.drop('SalePrice', 1)"
   ]
  },
  {
   "cell_type": "code",
   "execution_count": null,
   "metadata": {},
   "outputs": [],
   "source": [
    "from sklearn.preprocessing import PolynomialFeatures\n",
    "from sklearn.linear_model import LinearRegression\n",
    "\n",
    "\n",
    "\n",
    "pipe = Pipeline([\n",
    "    ('process', MyTransformer(0.)),\n",
    "    ('scale', MyScaler()),\n",
    "    ('reg', LinearRegression())\n",
    "])"
   ]
  },
  {
   "cell_type": "markdown",
   "metadata": {},
   "source": [
    "## Зачем?\n",
    "\n",
    "* Снижает риск забыть совершить какое-то из преобразований, например, с новыми данными\n",
    "* Позволяет довольно просто добавлять новое преобразование в середину процесса\n",
    "* Позволяет просто перебирать комбинации методов и их гиперпараметры и сравнивать друг с другом"
   ]
  },
  {
   "cell_type": "markdown",
   "metadata": {},
   "source": [
    "Выше мы перебирали значение коэффициента регуляризации при помощи перебора по сетке. Заметим, что тип регуляризации (L1, L2 или без регуляризации), а также порог на долю отсутствующих значений признака, по которому мы удаляли признаки из данных, также являются гиперпараметрами нашей модели и могут быть подобраны по валидационной выборке с помощью уже знакомого `GridSearchCV`."
   ]
  },
  {
   "cell_type": "code",
   "execution_count": null,
   "metadata": {},
   "outputs": [],
   "source": [
    "# %debug\n",
    "\n",
    "from sklearn.model_selection import GridSearchCV\n",
    "from sklearn.linear_model import Ridge, Lasso\n",
    "\n",
    "params = [{\n",
    "    'process__null_threshold': [0., 0.005, 0.1],\n",
    "    'reg': [LinearRegression()]\n",
    "}, {\n",
    "    'process__null_threshold': [0., 0.005, 0.1, 0.5, 0.9],\n",
    "    'reg': [Ridge(), Lasso()],\n",
    "    'reg__alpha': np.logspace(-4, 4, 9)\n",
    "}]\n",
    "train_idxs, val_idxs = np.where(train_x['YrSold'] < 2009)[0], np.where(train_x['YrSold'] == 2009)[0]\n",
    "cv = GridSearchCV(pipe, params, cv=[[train_idxs, val_idxs]], scoring=mape_scorer)\n",
    "cv.fit(train_x, np.log(train_y))"
   ]
  },
  {
   "cell_type": "markdown",
   "metadata": {},
   "source": [
    "Соберем итоги валидации в датафрейм, где каждая строчка это один запуск, а в колонках указаны параметры а также скор на валидации."
   ]
  },
  {
   "cell_type": "code",
   "execution_count": null,
   "metadata": {},
   "outputs": [],
   "source": [
    "cv_grid = pd.DataFrame(cv.cv_results_['params'])\n",
    "cv_grid['val MAPE'] = -cv.cv_results_['mean_test_score']\n",
    "cv_grid['reg__alpha'] = cv_grid['reg__alpha'].fillna('0.')\n",
    "cv_grid['reg'] = cv_grid['reg'].apply(lambda x: x.__class__.__name__)\n",
    "cv_grid.head()"
   ]
  },
  {
   "cell_type": "markdown",
   "metadata": {},
   "source": [
    "С помощью [seaborn](https://seaborn.pydata.org) отобразим полученные результаты."
   ]
  },
  {
   "cell_type": "code",
   "execution_count": null,
   "metadata": {},
   "outputs": [],
   "source": [
    "sns.catplot(x='reg__alpha', y='val MAPE', data=cv_grid[cv_grid['val MAPE'] < 12], col='reg',\n",
    "            hue='process__null_threshold', kind='point')"
   ]
  },
  {
   "cell_type": "code",
   "execution_count": null,
   "metadata": {},
   "outputs": [],
   "source": [
    "cv.best_params_"
   ]
  },
  {
   "cell_type": "code",
   "execution_count": null,
   "metadata": {},
   "outputs": [],
   "source": [
    "print('Test MAPE %.3f' % -mape_scorer(cv, test_x, np.log(test_y)))"
   ]
  }
 ],
 "metadata": {
  "kernelspec": {
   "display_name": "Python 3",
   "language": "python",
   "name": "python3"
  },
  "language_info": {
   "codemirror_mode": {
    "name": "ipython",
    "version": 3
   },
   "file_extension": ".py",
   "mimetype": "text/x-python",
   "name": "python",
   "nbconvert_exporter": "python",
   "pygments_lexer": "ipython3",
   "version": "3.8.6"
  }
 },
 "nbformat": 4,
 "nbformat_minor": 2
}
