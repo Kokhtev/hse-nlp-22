{
 "cells": [
  {
   "cell_type": "markdown",
   "metadata": {
    "id": "VnP-1CJNhWTj"
   },
   "source": [
    "# Практическая часть"
   ]
  },
  {
   "cell_type": "code",
   "execution_count": 1,
   "metadata": {
    "id": "lNIZJMNahWTj"
   },
   "outputs": [],
   "source": [
    "import numpy as np\n",
    "import pandas as pd\n",
    "import re"
   ]
  },
  {
   "cell_type": "code",
   "execution_count": 2,
   "metadata": {
    "id": "JArVfQ04hWTk"
   },
   "outputs": [],
   "source": [
    "import warnings\n",
    "warnings.filterwarnings('ignore')"
   ]
  },
  {
   "cell_type": "markdown",
   "metadata": {
    "id": "BBYUwDqEhWTk"
   },
   "source": [
    "## Данные\n",
    "\n",
    "В качестве примера возьмем статьи из газеты «Полярный круг» (г. Салехард, Якутия) за 2014-2017 гг из предыдущего семинара"
   ]
  },
  {
   "cell_type": "code",
   "execution_count": 4,
   "metadata": {
    "colab": {
     "base_uri": "https://localhost:8080/"
    },
    "id": "kweQSBEEhWTk",
    "outputId": "0e306206-32bc-45cb-abe7-41fb42167d65"
   },
   "outputs": [
    {
     "name": "stdout",
     "output_type": "stream",
     "text": [
      "--2022-03-14 18:41:44--  https://raw.githubusercontent.com/PragmaticsLab/NLP-course-FinTech/master/seminars/5/rus_stopwords.txt\n",
      "Resolving raw.githubusercontent.com (raw.githubusercontent.com)... 185.199.109.133, 185.199.110.133, 185.199.111.133, ...\n",
      "Connecting to raw.githubusercontent.com (raw.githubusercontent.com)|185.199.109.133|:443... connected.\n",
      "HTTP request sent, awaiting response... 200 OK\n",
      "Length: 4322 (4.2K) [text/plain]\n",
      "Saving to: ‘rus_stopwords.txt’\n",
      "\n",
      "rus_stopwords.txt   100%[===================>]   4.22K  --.-KB/s    in 0s      \n",
      "\n",
      "2022-03-14 18:41:44 (14.9 MB/s) - ‘rus_stopwords.txt’ saved [4322/4322]\n",
      "\n",
      "--2022-03-14 18:41:44--  https://raw.githubusercontent.com/PragmaticsLab/NLP-course-FinTech/master/seminars/5/polkrug_lem.txt\n",
      "Resolving raw.githubusercontent.com (raw.githubusercontent.com)... 185.199.110.133, 185.199.111.133, 185.199.108.133, ...\n",
      "Connecting to raw.githubusercontent.com (raw.githubusercontent.com)|185.199.110.133|:443... connected.\n",
      "HTTP request sent, awaiting response... 200 OK\n",
      "Length: 18267211 (17M) [text/plain]\n",
      "Saving to: ‘polkrug_lem.txt’\n",
      "\n",
      "polkrug_lem.txt     100%[===================>]  17.42M  12.5MB/s    in 1.4s    \n",
      "\n",
      "2022-03-14 18:41:46 (12.5 MB/s) - ‘polkrug_lem.txt’ saved [18267211/18267211]\n",
      "\n"
     ]
    }
   ],
   "source": [
    "! wget https://raw.githubusercontent.com/PragmaticsLab/NLP-course-FinTech/master/seminars/5/rus_stopwords.txt\n",
    "! wget https://raw.githubusercontent.com/PragmaticsLab/NLP-course-FinTech/master/seminars/5/polkrug_lem.txt"
   ]
  },
  {
   "cell_type": "code",
   "execution_count": 4,
   "metadata": {
    "colab": {
     "base_uri": "https://localhost:8080/"
    },
    "id": "Avbh18QghWTl",
    "outputId": "9007d6b0-c5c1-4b6c-856f-aed33da89249",
    "scrolled": true
   },
   "outputs": [
    {
     "data": {
      "text/plain": [
       "['ведь',\n",
       " 'весь',\n",
       " 'весьма',\n",
       " 'видеть',\n",
       " 'видит',\n",
       " 'вместе',\n",
       " 'во',\n",
       " 'восемь',\n",
       " 'вот',\n",
       " 'впрочем']"
      ]
     },
     "execution_count": 4,
     "metadata": {},
     "output_type": "execute_result"
    }
   ],
   "source": [
    "with open('rus_stopwords.txt', 'r', encoding='utf-8') as f:\n",
    "    sw = f.read().split('\\n')\n",
    "    \n",
    "sw[40:50]"
   ]
  },
  {
   "cell_type": "code",
   "execution_count": 5,
   "metadata": {
    "colab": {
     "base_uri": "https://localhost:8080/"
    },
    "id": "F0pzNIqFhWTl",
    "outputId": "f2ccdd22-0fef-4cd1-dbe6-1e5fabec4fea"
   },
   "outputs": [],
   "source": [
    "with open('polkrug_lem.txt', 'r', encoding='utf-8') as f:\n",
    "    text = f.read()\n",
    "    \n",
    "texts = text.split('\\n\\n')\n",
    "\n",
    "punct = '[!\"#$%&()*+,./:;<=>?@[\\]^_`{|}~„“«»†*/\\—–‘’]'\n",
    "nums = '[0-9]'"
   ]
  },
  {
   "cell_type": "code",
   "execution_count": 7,
   "metadata": {
    "colab": {
     "base_uri": "https://localhost:8080/"
    },
    "id": "F0pzNIqFhWTl",
    "outputId": "f2ccdd22-0fef-4cd1-dbe6-1e5fabec4fea"
   },
   "outputs": [],
   "source": [
    "# texts = [re.sub('\\n', ' ', text) for text in texts]\n",
    "# texts = [re.sub(punct, '', text) for text in texts]\n",
    "# texts = [re.sub(nums, '', text) for text in texts]"
   ]
  },
  {
   "cell_type": "code",
   "execution_count": 9,
   "metadata": {
    "colab": {
     "base_uri": "https://localhost:8080/"
    },
    "id": "F0pzNIqFhWTl",
    "outputId": "f2ccdd22-0fef-4cd1-dbe6-1e5fabec4fea",
    "scrolled": true
   },
   "outputs": [
    {
     "data": {
      "text/plain": [
       "['лев',\n",
       " 'толстой',\n",
       " 'анна',\n",
       " 'каренина',\n",
       " 'писать',\n",
       " 'счастливый',\n",
       " 'семья',\n",
       " 'похожий',\n",
       " 'друг',\n",
       " 'друг']"
      ]
     },
     "execution_count": 9,
     "metadata": {},
     "output_type": "execute_result"
    }
   ],
   "source": [
    "# tokenized_texts = []\n",
    "# for text in texts:\n",
    "#     text = [w for w in text.split() if w not in sw]\n",
    "#     tokenized_texts.append(text)\n",
    "    \n",
    "# tokenized_texts[0][:10]"
   ]
  },
  {
   "cell_type": "code",
   "execution_count": 10,
   "metadata": {
    "colab": {
     "base_uri": "https://localhost:8080/"
    },
    "id": "NqjlNtN5hWTm",
    "outputId": "a33cd97b-db59-42ff-eb43-ed423ae169d4"
   },
   "outputs": [
    {
     "data": {
      "text/plain": [
       "3607"
      ]
     },
     "execution_count": 10,
     "metadata": {},
     "output_type": "execute_result"
    }
   ],
   "source": [
    "len(tokenized_texts)"
   ]
  },
  {
   "cell_type": "code",
   "execution_count": null,
   "metadata": {},
   "outputs": [],
   "source": [
    "! pip install gensim bs4 lxml"
   ]
  },
  {
   "cell_type": "code",
   "execution_count": null,
   "metadata": {},
   "outputs": [],
   "source": []
  }
 ],
 "metadata": {
  "colab": {
   "name": "sem06-topic",
   "provenance": []
  },
  "kernelspec": {
   "display_name": "Python 3",
   "language": "python",
   "name": "python3"
  },
  "language_info": {
   "codemirror_mode": {
    "name": "ipython",
    "version": 3
   },
   "file_extension": ".py",
   "mimetype": "text/x-python",
   "name": "python",
   "nbconvert_exporter": "python",
   "pygments_lexer": "ipython3",
   "version": "3.8.6"
  }
 },
 "nbformat": 4,
 "nbformat_minor": 1
}
