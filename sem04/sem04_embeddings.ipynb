{
 "cells": [
  {
   "cell_type": "markdown",
   "metadata": {
    "id": "ypt7ymI8X-rM"
   },
   "source": [
    "# Embeddings\n",
    "\n",
    "## Word2Vec\n",
    "\n",
    "Векторные модели, которые мы рассматривали до этого (tf-idf, BOW), условно называются *счётными*. Они основываются на том, что так или иначе \"считают\" слова и их соседей, и на основе этого строят вектора для слов. \n",
    "\n",
    "Другой класс моделей, который более повсевмёстно распространён на сегодняшний день, называется *предсказательными* (или *нейронными*) моделями. Идея этих моделей заключается в использовании нейросетевых архитектур, которые \"предсказывают\" (а не считают) соседей слов. Одной из самых известных таких моделей является word2vec. Технология основана на нейронной сети, предсказывающей вероятность встретить слово в заданном контексте. Этот инструмент был разработан группой исследователей Google в 2013 году, руководителем проекта был Томаш Миколов (сейчас работает в Facebook). Вот две самые главные статьи:\n",
    "\n",
    "* [Efficient Estimation of Word Representations in Vector Space](https://arxiv.org/pdf/1301.3781.pdf)\n",
    "* [Distributed Representations of Words and Phrases and their Compositionality](https://arxiv.org/abs/1310.4546)\n",
    "\n",
    "\n",
    "Полученные таким образом вектора называются *распределенными представлениями слов*, или **эмбеддингами**.\n",
    "\n",
    "\n",
    "### Как это обучается?\n",
    "Мы задаём вектор для каждого слова с помощью матрицы $w$ и вектор контекста с помощью матрицы $W$. По сути, word2vec является обобщающим названием для двух архитектур Skip-Gram и Continuous Bag-Of-Words (CBOW).  \n",
    "\n",
    "**CBOW** предсказывает текущее слово, исходя из окружающего его контекста. \n",
    "\n",
    "**Skip-gram**, наоборот, использует текущее слово, чтобы предугадывать окружающие его слова. \n",
    "\n",
    "### Как это работает?\n",
    "Word2vec принимает большой текстовый корпус в качестве входных данных и сопоставляет каждому слову вектор, выдавая координаты слов на выходе. Сначала он создает словарь, «обучаясь» на входных текстовых данных, а затем вычисляет векторное представление слов. Векторное представление основывается на контекстной близости: слова, встречающиеся в тексте рядом с одинаковыми словами (а следовательно, согласно дистрибутивной гипотезе, имеющие схожий смысл), в векторном представлении будут иметь близкие координаты векторов-слов. Для вычисления близости слов используется косинусное расстояние между их векторами.\n",
    "\n",
    "\n",
    "С помощью дистрибутивных векторных моделей можно строить семантические пропорции (они же аналогии) и решать примеры:\n",
    "\n",
    "* *король: мужчина = королева: женщина* \n",
    " $\\Rightarrow$ \n",
    "* *король - мужчина + женщина = королева*"
   ]
  },
  {
   "cell_type": "markdown",
   "metadata": {
    "id": "Z3sSyfHaX-rN"
   },
   "source": [
    "![w2v](https://cdn-images-1.medium.com/max/2600/1*sXNXYfAqfLUeiDXPCo130w.png)"
   ]
  },
  {
   "cell_type": "markdown",
   "metadata": {
    "id": "0oH_UDyFX-rO"
   },
   "source": [
    "### Проблемы\n",
    "Невозможно установить тип семантических отношений между словами: синонимы, антонимы и т.д. будут одинаково близки, потому что обычно употребляются в схожих контекстах. Поэтому близкие в векторном пространстве слова называют *семантическими ассоциатами*. Это значит, что они семантически связаны, но как именно — непонятно.\n",
    "\n",
    "\n",
    "## RusVectōrēs\n",
    "\n",
    "\n",
    "На сайте [RusVectōrēs](https://rusvectores.org/ru/) собраны предобученные на различных данных модели для русского языка, а также можно поискать наиболее близкие слова к заданному, посчитать семантическую близость нескольких слов и порешать примеры с помощью «калькулятором семантической близости».\n",
    "\n",
    "\n",
    "Для других языков также можно найти предобученные модели — например, модели [fastText](https://fasttext.cc/docs/en/english-vectors.html) и [GloVe](https://nlp.stanford.edu/projects/glove/) (о них чуть дальше)."
   ]
  },
  {
   "cell_type": "markdown",
   "metadata": {
    "id": "yXNm8flVX-rP"
   },
   "source": [
    "## Gensim\n",
    "\n",
    "Использовать предобученную модель эмбеддингов или обучить свою можно с помощью библиотеки `gensim`. Вот [ее документация](https://radimrehurek.com/gensim/models/word2vec.html).\n",
    "\n",
    "### Как использовать готовую модель\n",
    "\n",
    "Модели word2vec бывают разных форматов:\n",
    "\n",
    "* .vec.gz — обычный файл\n",
    "* .bin.gz — бинарник\n",
    "\n",
    "Загружаются они с помощью одного и того же класса `KeyedVectors`, меняется только параметр `binary` у функции `load_word2vec_format`. \n",
    "\n",
    "Если же эмбеддинги обучены **не** с помощью word2vec, то для загрузки нужно использовать функцию `load`. Т.е. для загрузки предобученных эмбеддингов *glove, fasttext, bpe* и любых других нужна именно она.\n",
    "\n",
    "Скачаем с RusVectōrēs модель для русского языка, обученную на НКРЯ образца 2015 г. "
   ]
  },
  {
   "cell_type": "code",
   "execution_count": 2,
   "metadata": {
    "scrolled": true
   },
   "outputs": [
    {
     "name": "stdout",
     "output_type": "stream",
     "text": [
      "\u001b[33mWARNING: Value for scheme.platlib does not match. Please report this to <https://github.com/pypa/pip/issues/10151>\n",
      "distutils: /usr/local/lib/python3.8/site-packages\n",
      "sysconfig: /usr/local/Cellar/python@3.8/3.8.6/Frameworks/Python.framework/Versions/3.8/lib/python3.8/site-packages\u001b[0m\n",
      "\u001b[33mWARNING: Value for scheme.purelib does not match. Please report this to <https://github.com/pypa/pip/issues/10151>\n",
      "distutils: /usr/local/lib/python3.8/site-packages\n",
      "sysconfig: /usr/local/Cellar/python@3.8/3.8.6/Frameworks/Python.framework/Versions/3.8/lib/python3.8/site-packages\u001b[0m\n",
      "\u001b[33mWARNING: Value for scheme.headers does not match. Please report this to <https://github.com/pypa/pip/issues/10151>\n",
      "distutils: /usr/local/include/python3.8/UNKNOWN\n",
      "sysconfig: /usr/local/Cellar/python@3.8/3.8.6/Frameworks/Python.framework/Versions/3.8/include/python3.8/UNKNOWN\u001b[0m\n",
      "\u001b[33mWARNING: Value for scheme.scripts does not match. Please report this to <https://github.com/pypa/pip/issues/10151>\n",
      "distutils: /usr/local/bin\n",
      "sysconfig: /usr/local/Cellar/python@3.8/3.8.6/Frameworks/Python.framework/Versions/3.8/bin\u001b[0m\n",
      "\u001b[33mWARNING: Value for scheme.data does not match. Please report this to <https://github.com/pypa/pip/issues/10151>\n",
      "distutils: /usr/local\n",
      "sysconfig: /usr/local/Cellar/python@3.8/3.8.6/Frameworks/Python.framework/Versions/3.8\u001b[0m\n",
      "\u001b[33mWARNING: Additional context:\n",
      "user = False\n",
      "home = None\n",
      "root = None\n",
      "prefix = None\u001b[0m\n",
      "Requirement already satisfied: gensim in /usr/local/lib/python3.8/site-packages (4.1.2)\n",
      "Requirement already satisfied: bs4 in /usr/local/lib/python3.8/site-packages (0.0.1)\n",
      "Requirement already satisfied: lxml in /usr/local/lib/python3.8/site-packages (4.8.0)\n",
      "Requirement already satisfied: smart-open>=1.8.1 in /usr/local/lib/python3.8/site-packages (from gensim) (5.2.1)\n",
      "Requirement already satisfied: numpy>=1.17.0 in /usr/local/lib/python3.8/site-packages (from gensim) (1.19.1)\n",
      "Requirement already satisfied: scipy>=0.18.1 in /usr/local/lib/python3.8/site-packages (from gensim) (1.5.3)\n",
      "Requirement already satisfied: beautifulsoup4 in /usr/local/lib/python3.8/site-packages (from bs4) (4.10.0)\n",
      "Requirement already satisfied: soupsieve>1.2 in /usr/local/lib/python3.8/site-packages (from beautifulsoup4->bs4) (2.3.1)\n",
      "\u001b[33mWARNING: You are using pip version 21.2.1; however, version 22.0.3 is available.\n",
      "You should consider upgrading via the '/usr/local/opt/python@3.8/bin/python3.8 -m pip install --upgrade pip' command.\u001b[0m\n"
     ]
    }
   ],
   "source": [
    "! pip install gensim bs4 lxml"
   ]
  },
  {
   "cell_type": "code",
   "execution_count": 38,
   "metadata": {
    "colab": {
     "base_uri": "https://localhost:8080/"
    },
    "id": "sTLnNKaNX-rP",
    "outputId": "7913ba5d-8cb2-44e7-e1f6-4dc14e3fc349"
   },
   "outputs": [
    {
     "name": "stderr",
     "output_type": "stream",
     "text": [
      "[nltk_data] Downloading package punkt to /Users/vkokhtev/nltk_data...\n",
      "[nltk_data]   Package punkt is already up-to-date!\n"
     ]
    },
    {
     "data": {
      "text/plain": [
       "True"
      ]
     },
     "execution_count": 38,
     "metadata": {},
     "output_type": "execute_result"
    }
   ],
   "source": [
    "import re\n",
    "import gensim\n",
    "import logging\n",
    "import nltk.data \n",
    "import pandas as pd\n",
    "import urllib.request\n",
    "from bs4 import BeautifulSoup\n",
    "from nltk.corpus import stopwords\n",
    "from gensim.models import word2vec\n",
    "from nltk.tokenize import sent_tokenize, RegexpTokenizer\n",
    "nltk.download('punkt')"
   ]
  },
  {
   "cell_type": "code",
   "execution_count": 4,
   "metadata": {
    "colab": {
     "base_uri": "https://localhost:8080/"
    },
    "id": "zm9z6SN3X-rS",
    "outputId": "e7138349-4df3-4c91-c58d-fa2f7a21310f"
   },
   "outputs": [
    {
     "data": {
      "text/plain": [
       "('ruscorpora_mystem_cbow_300_2_2015.bin.gz',\n",
       " <http.client.HTTPMessage at 0x10fcd0820>)"
      ]
     },
     "execution_count": 4,
     "metadata": {},
     "output_type": "execute_result"
    }
   ],
   "source": [
    "# urllib.request.urlretrieve(\"http://rusvectores.org/static/models/rusvectores2/ruscorpora_mystem_cbow_300_2_2015.bin.gz\", \"ruscorpora_mystem_cbow_300_2_2015.bin.gz\")"
   ]
  },
  {
   "cell_type": "code",
   "execution_count": 39,
   "metadata": {
    "id": "mkuCawyFX-rW"
   },
   "outputs": [],
   "source": [
    "model_path = 'ruscorpora_mystem_cbow_300_2_2015.bin.gz'\n",
    "\n",
    "model_ru = gensim.models.KeyedVectors.load_word2vec_format(model_path, binary=True)"
   ]
  },
  {
   "cell_type": "code",
   "execution_count": 40,
   "metadata": {
    "id": "H4D0hMgkX-rY"
   },
   "outputs": [],
   "source": [
    "words = ['день_S', 'ночь_S', 'человек_S', 'семантика_S', 'биткоин_S']"
   ]
  },
  {
   "cell_type": "markdown",
   "metadata": {
    "id": "jbTShU9aX-ra"
   },
   "source": [
    "Частеречные тэги нужны, поскольку это специфика скачанной модели - она была натренирована на словах, аннотированных их частями речи (и лемматизированных). **NB!** В названиях моделей на `rusvectores` указано, какой тегсет они используют (mystem, upos и т.д.)\n",
    "\n",
    "Попросим у модели 10 ближайших соседей для каждого слова и коэффициент косинусной близости для каждого:"
   ]
  },
  {
   "cell_type": "code",
   "execution_count": 7,
   "metadata": {
    "colab": {
     "base_uri": "https://localhost:8080/"
    },
    "id": "9Uer5sHyX-ra",
    "outputId": "90c4d36e-10c2-4584-df2f-0e31605a406f"
   },
   "outputs": [
    {
     "name": "stdout",
     "output_type": "stream",
     "text": [
      "день_S\n",
      "[-0.02580778  0.00970898  0.01941961 -0.02332282  0.02017624  0.07275085\n",
      " -0.01444375  0.03316632  0.01242602  0.02833412]\n",
      "неделя_S :  0.7165195941925049\n",
      "месяц_S :  0.631048858165741\n",
      "вечер_S :  0.5828739404678345\n",
      "утро_S :  0.5676207542419434\n",
      "час_S :  0.5605547428131104\n",
      "минута_S :  0.5297018885612488\n",
      "гекатомбеон_S :  0.4897990822792053\n",
      "денек_S :  0.48224714398384094\n",
      "полчаса_S :  0.48217129707336426\n",
      "ночь_S :  0.478074848651886\n",
      "\n",
      "\n",
      "ночь_S\n",
      "[-0.00688948  0.00408364  0.06975466 -0.00959525  0.0194835   0.04057068\n",
      " -0.00994112  0.06064967 -0.00522624  0.00520327]\n",
      "вечер_S :  0.6946247816085815\n",
      "утро_S :  0.57301926612854\n",
      "ноченька_S :  0.5582467317581177\n",
      "рассвет_S :  0.555358350276947\n",
      "ночка_S :  0.5351512432098389\n",
      "полдень_S :  0.5334426164627075\n",
      "полночь_S :  0.478694349527359\n",
      "день_S :  0.4780748784542084\n",
      "сумерки_S :  0.4390218257904053\n",
      "фундерфун_S :  0.4340824782848358\n",
      "\n",
      "\n",
      "человек_S\n",
      "[ 0.02013756 -0.02670703 -0.02039861 -0.05477146  0.00086402 -0.01636335\n",
      "  0.04240306 -0.00025525 -0.14045681  0.04785006]\n",
      "женщина_S :  0.5979775190353394\n",
      "парень_S :  0.4991787374019623\n",
      "мужчина_S :  0.4767409563064575\n",
      "мужик_S :  0.47384002804756165\n",
      "россиянин_S :  0.47190436720848083\n",
      "народ_S :  0.4654741883277893\n",
      "согражданин_S :  0.45378512144088745\n",
      "горожанин_S :  0.44368088245391846\n",
      "девушка_S :  0.44314485788345337\n",
      "иностранец_S :  0.43849867582321167\n",
      "\n",
      "\n",
      "семантика_S\n",
      "[-0.03066749  0.0053851   0.1110732   0.0152335   0.00440643  0.00384104\n",
      "  0.00096944 -0.03538784 -0.00079585  0.03220548]\n",
      "семантический_A :  0.5334584712982178\n",
      "понятие_S :  0.5030269026756287\n",
      "сочетаемость_S :  0.4817051291465759\n",
      "актант_S :  0.47596412897109985\n",
      "хронотоп_S :  0.46330299973487854\n",
      "метафора_S :  0.46158894896507263\n",
      "мышление_S :  0.4610119163990021\n",
      "парадигма_S :  0.45796656608581543\n",
      "лексема_S :  0.45688074827194214\n",
      "смысловой_A :  0.4543077349662781\n",
      "\n",
      "\n",
      "Увы, слова \"биткоин_S\" нет в модели!\n"
     ]
    }
   ],
   "source": [
    "for word in words:\n",
    "    # есть ли слово в модели? \n",
    "    if word in model_ru:\n",
    "        print(word)\n",
    "        # смотрим на вектор слова (его размерность 300, смотрим на первые 10 чисел)\n",
    "        print(model_ru[word][:10])\n",
    "        # выдаем 10 ближайших соседей слова:\n",
    "        for word, sim in model_ru.most_similar(positive=[word], topn=10):\n",
    "            # слово + коэффициент косинусной близости\n",
    "            print(word, ': ', sim)\n",
    "        print('\\n')\n",
    "    else:\n",
    "        # Увы!\n",
    "        print('Увы, слова \"%s\" нет в модели!' % word)"
   ]
  },
  {
   "cell_type": "markdown",
   "metadata": {
    "id": "1GqDmAcJX-rc"
   },
   "source": [
    "Находим косинусную близость пары слов:"
   ]
  },
  {
   "cell_type": "code",
   "execution_count": 8,
   "metadata": {
    "colab": {
     "base_uri": "https://localhost:8080/"
    },
    "id": "MDFjOSJjX-rd",
    "outputId": "3b193919-7cc0-42d4-cd07-2438fa2a4c10"
   },
   "outputs": [
    {
     "name": "stdout",
     "output_type": "stream",
     "text": [
      "0.23895611\n"
     ]
    }
   ],
   "source": [
    "print(model_ru.similarity('человек_S', 'обезьяна_S'))"
   ]
  },
  {
   "cell_type": "markdown",
   "metadata": {
    "id": "B0w4pQooX-rf"
   },
   "source": [
    "Что получится, если вычесть из пиццы Италию и прибавить Сибирь?\n",
    "\n",
    "* positive — вектора, которые мы складываем\n",
    "* negative — вектора, которые вычитаем"
   ]
  },
  {
   "cell_type": "code",
   "execution_count": 9,
   "metadata": {
    "colab": {
     "base_uri": "https://localhost:8080/"
    },
    "id": "N0L5_TCQX-rf",
    "outputId": "17ccf39b-bd95-4012-f572-e56501e210eb"
   },
   "outputs": [
    {
     "name": "stdout",
     "output_type": "stream",
     "text": [
      "пурга_S\n"
     ]
    }
   ],
   "source": [
    "print(model_ru.most_similar(positive=['дождь_S', 'ветер_S'], negative=['вода_S'])[0][0])"
   ]
  },
  {
   "cell_type": "code",
   "execution_count": 43,
   "metadata": {
    "scrolled": true
   },
   "outputs": [
    {
     "data": {
      "text/plain": [
       "array([-0.00284673, -0.15211737,  0.02693627,  0.09969916, -0.06130272,\n",
       "        0.15333211,  0.14907925, -0.00430436, -0.00165848,  0.08691822,\n",
       "       -0.2233983 , -0.04376208,  0.09160606, -0.14574367,  0.0733839 ,\n",
       "        0.03258961,  0.03782568,  0.2460995 ,  0.08284588,  0.0069067 ,\n",
       "       -0.05581944,  0.07367182, -0.06776448,  0.17638263,  0.02048779,\n",
       "       -0.01404226, -0.04534974,  0.10427789,  0.25389487, -0.08143662,\n",
       "       -0.0192156 , -0.08677426,  0.10437998, -0.04859539,  0.12238588,\n",
       "        0.03897851, -0.02628169,  0.08037272, -0.06120738, -0.04999706,\n",
       "       -0.08244184,  0.08988129,  0.06872755,  0.00500238, -0.10673195,\n",
       "       -0.00612683, -0.02459003,  0.08293988, -0.10468985, -0.12107549,\n",
       "        0.00055058,  0.0632848 , -0.00769419,  0.01131679,  0.04615675,\n",
       "        0.05472003, -0.0684244 ,  0.05516017,  0.13081497, -0.16340065,\n",
       "        0.11066525,  0.07548371,  0.00929383, -0.08620606, -0.0945953 ,\n",
       "       -0.00374933, -0.07969573, -0.08890697,  0.02177203,  0.09141852,\n",
       "       -0.05276904, -0.0362222 ,  0.15615582,  0.01612201,  0.07764784,\n",
       "       -0.05782467, -0.12097523,  0.09910082, -0.03156622, -0.15485463,\n",
       "       -0.0728442 ,  0.06559739, -0.05035958,  0.0353    , -0.09038241,\n",
       "       -0.11697582, -0.00536462,  0.08860721, -0.11289284,  0.01415052,\n",
       "       -0.00114626,  0.03650203,  0.0307414 ,  0.01821155,  0.00863332,\n",
       "        0.01553041,  0.16087481,  0.03727953, -0.00060662, -0.0145815 ,\n",
       "        0.05067874,  0.23169112,  0.07952754,  0.08097338,  0.020086  ,\n",
       "       -0.01300221,  0.02472642,  0.00911638,  0.00660382, -0.11007126,\n",
       "        0.07633169, -0.16449788, -0.0930652 , -0.03318696,  0.07965408,\n",
       "        0.09660521,  0.01559284,  0.08774605,  0.07482012, -0.10899663,\n",
       "        0.09504953,  0.09449096,  0.12491514,  0.08441284,  0.03657598,\n",
       "        0.2102503 ,  0.1284798 ,  0.07124344, -0.08886092, -0.10971742,\n",
       "        0.13092996,  0.12156934,  0.0442866 ,  0.12513568,  0.08360498,\n",
       "       -0.10874015, -0.11168062,  0.17098345, -0.02366689, -0.00687142,\n",
       "        0.07158133, -0.01731319,  0.08527474, -0.04642194,  0.0124722 ,\n",
       "       -0.1368846 ,  0.09885384, -0.02846819,  0.02278599, -0.06097165,\n",
       "       -0.1332793 ,  0.11985923, -0.07470793,  0.10994181, -0.1779103 ,\n",
       "       -0.26180354,  0.03516307, -0.0624403 ,  0.06569932, -0.14767058,\n",
       "       -0.00715281, -0.01648456, -0.01790825, -0.10591857, -0.04864737,\n",
       "       -0.04051635,  0.03542484,  0.08054539,  0.04109873, -0.02952252,\n",
       "       -0.01543909,  0.00917854, -0.012679  ,  0.05884674,  0.13899162,\n",
       "        0.02585157, -0.09344021, -0.15024933, -0.11885513,  0.17638226,\n",
       "       -0.03040867,  0.07589969, -0.0837327 , -0.0042002 ,  0.07098144,\n",
       "       -0.03711905,  0.00071784, -0.11779568,  0.06515644,  0.00627286,\n",
       "        0.06549207,  0.0079714 ,  0.06482591, -0.0023124 ,  0.063583  ,\n",
       "        0.15028283,  0.12265633, -0.01018631,  0.08305538,  0.03521304,\n",
       "        0.02990275,  0.02791533,  0.08106308,  0.02848192,  0.02217972,\n",
       "        0.04356743,  0.05007901,  0.09717658,  0.01109049,  0.01486705,\n",
       "       -0.04716474,  0.10978688,  0.20565952,  0.07672666,  0.020031  ,\n",
       "       -0.17711823,  0.08480385,  0.2148521 ,  0.14911993,  0.08073784,\n",
       "        0.25476167, -0.06928135,  0.08924406, -0.03340471,  0.11510811,\n",
       "       -0.02805631,  0.05414006,  0.08079423,  0.12405232, -0.09211762,\n",
       "        0.00075648, -0.08023743, -0.09813825, -0.07425206, -0.01710695,\n",
       "       -0.05543752, -0.05383967,  0.14148346, -0.18372597,  0.08117239,\n",
       "       -0.16745307, -0.07746298,  0.12479553,  0.18129575, -0.06519729,\n",
       "        0.09902503,  0.18314108,  0.03545794,  0.1270738 ,  0.15878308,\n",
       "       -0.03026194, -0.14886984,  0.20600608, -0.21214464, -0.0752227 ,\n",
       "        0.13181882, -0.04175928, -0.00292791,  0.05073168,  0.05949947,\n",
       "        0.13324527, -0.00545631,  0.01215735,  0.08273458, -0.14954203,\n",
       "        0.02294637, -0.03630636,  0.11201544,  0.08272115,  0.00719216,\n",
       "        0.09499244,  0.03876406, -0.06309285,  0.00597666, -0.04702473,\n",
       "       -0.17360118,  0.03154788,  0.0498652 ,  0.0694858 ,  0.00073439,\n",
       "       -0.00525669,  0.00564087, -0.05998706, -0.11580651,  0.17617847,\n",
       "       -0.00037308, -0.07370923, -0.08777343, -0.03182435,  0.02942413,\n",
       "       -0.11441053,  0.15142229,  0.084416  ,  0.13107345, -0.04586606,\n",
       "       -0.0912224 , -0.04510764, -0.01772529,  0.08137837, -0.07355335],\n",
       "      dtype=float32)"
      ]
     },
     "execution_count": 43,
     "metadata": {},
     "output_type": "execute_result"
    }
   ],
   "source": [
    "model_ru['дождь_S'] + model_ru['ветер_S'] - model_ru['вода_S']"
   ]
  },
  {
   "cell_type": "code",
   "execution_count": 10,
   "metadata": {
    "colab": {
     "base_uri": "https://localhost:8080/",
     "height": 87
    },
    "id": "DrN2Jc31X-rh",
    "outputId": "56560336-dc25-45a1-8886-51dac3a7f24b"
   },
   "outputs": [
    {
     "data": {
      "text/plain": [
       "'ананас_S'"
      ]
     },
     "execution_count": 10,
     "metadata": {},
     "output_type": "execute_result"
    }
   ],
   "source": [
    "model_ru.doesnt_match('пицца_S пельмень_S хот-дог_S ананас_S'.split())"
   ]
  },
  {
   "cell_type": "markdown",
   "metadata": {
    "id": "ZNHMtmbqX-rl"
   },
   "source": [
    "### Как обучить свою модель\n",
    "\n",
    "В качестве обучающих данных возьмем размеченные и неразмеченные отзывы о фильмах (датасет взят с Kaggle)."
   ]
  },
  {
   "cell_type": "code",
   "execution_count": 11,
   "metadata": {
    "colab": {
     "base_uri": "https://localhost:8080/"
    },
    "id": "-1Vz9le-X-rl",
    "outputId": "4d53a810-d309-4e2a-83ba-c4e8048e3fc6"
   },
   "outputs": [],
   "source": [
    "# ! wget https://raw.githubusercontent.com/ancatmara/data-science-nlp/master/data/w2v/train/unlabeledTrainData.tsv"
   ]
  },
  {
   "cell_type": "code",
   "execution_count": 12,
   "metadata": {
    "colab": {
     "base_uri": "https://localhost:8080/"
    },
    "id": "B2wv-vSxX-ro",
    "outputId": "232037a8-d097-4199-8ab0-54bcd6a10c85"
   },
   "outputs": [
    {
     "data": {
      "text/plain": [
       "50000"
      ]
     },
     "execution_count": 12,
     "metadata": {},
     "output_type": "execute_result"
    }
   ],
   "source": [
    "data = pd.read_csv(\"unlabeledTrainData.tsv\", header=0, delimiter=\"\\t\", quoting=3)\n",
    "\n",
    "len(data)"
   ]
  },
  {
   "cell_type": "code",
   "execution_count": 13,
   "metadata": {
    "colab": {
     "base_uri": "https://localhost:8080/",
     "height": 201
    },
    "id": "eEGmrh-nX-rq",
    "outputId": "06af23c0-3c8f-44d5-c3db-c4d257b151d0"
   },
   "outputs": [
    {
     "data": {
      "text/html": [
       "<div>\n",
       "<style scoped>\n",
       "    .dataframe tbody tr th:only-of-type {\n",
       "        vertical-align: middle;\n",
       "    }\n",
       "\n",
       "    .dataframe tbody tr th {\n",
       "        vertical-align: top;\n",
       "    }\n",
       "\n",
       "    .dataframe thead th {\n",
       "        text-align: right;\n",
       "    }\n",
       "</style>\n",
       "<table border=\"1\" class=\"dataframe\">\n",
       "  <thead>\n",
       "    <tr style=\"text-align: right;\">\n",
       "      <th></th>\n",
       "      <th>id</th>\n",
       "      <th>review</th>\n",
       "    </tr>\n",
       "  </thead>\n",
       "  <tbody>\n",
       "    <tr>\n",
       "      <th>0</th>\n",
       "      <td>\"9999_0\"</td>\n",
       "      <td>\"Watching Time Chasers, it obvious that it was...</td>\n",
       "    </tr>\n",
       "    <tr>\n",
       "      <th>1</th>\n",
       "      <td>\"45057_0\"</td>\n",
       "      <td>\"I saw this film about 20 years ago and rememb...</td>\n",
       "    </tr>\n",
       "    <tr>\n",
       "      <th>2</th>\n",
       "      <td>\"15561_0\"</td>\n",
       "      <td>\"Minor Spoilers&lt;br /&gt;&lt;br /&gt;In New York, Joan B...</td>\n",
       "    </tr>\n",
       "    <tr>\n",
       "      <th>3</th>\n",
       "      <td>\"7161_0\"</td>\n",
       "      <td>\"I went to see this film with a great deal of ...</td>\n",
       "    </tr>\n",
       "    <tr>\n",
       "      <th>4</th>\n",
       "      <td>\"43971_0\"</td>\n",
       "      <td>\"Yes, I agree with everyone on this site this ...</td>\n",
       "    </tr>\n",
       "  </tbody>\n",
       "</table>\n",
       "</div>"
      ],
      "text/plain": [
       "          id                                             review\n",
       "0   \"9999_0\"  \"Watching Time Chasers, it obvious that it was...\n",
       "1  \"45057_0\"  \"I saw this film about 20 years ago and rememb...\n",
       "2  \"15561_0\"  \"Minor Spoilers<br /><br />In New York, Joan B...\n",
       "3   \"7161_0\"  \"I went to see this film with a great deal of ...\n",
       "4  \"43971_0\"  \"Yes, I agree with everyone on this site this ..."
      ]
     },
     "execution_count": 13,
     "metadata": {},
     "output_type": "execute_result"
    }
   ],
   "source": [
    "data.head()"
   ]
  },
  {
   "cell_type": "markdown",
   "metadata": {
    "id": "oIZaQ3kYX-rt"
   },
   "source": [
    "Убираем из данных ссылки, html-разметку и небуквенные символы, а затем приводим все к нижнему регистру и токенизируем. На выходе получается массив из предложений, каждое из которых представляет собой массив слов. Здесь используется токенизатор из библиотеки `nltk`. "
   ]
  },
  {
   "cell_type": "code",
   "execution_count": 14,
   "metadata": {
    "id": "A0FX3Zuyh2Es"
   },
   "outputs": [],
   "source": [
    "tokenizer = nltk.data.load('tokenizers/punkt/english.pickle')"
   ]
  },
  {
   "cell_type": "code",
   "execution_count": 15,
   "metadata": {
    "id": "irbunSOfX-rt"
   },
   "outputs": [],
   "source": [
    "def review_to_wordlist(review, remove_stopwords=False ):\n",
    "    # убираем ссылки вне тегов\n",
    "    review = re.sub(r\"http[s]?://(?:[a-zA-Z]|[0-9]|[$-_@.&+]|[!*\\(\\),]|(?:%[0-9a-fA-F][0-9a-fA-F]))+\", \" \", review)\n",
    "    review_text = BeautifulSoup(review, \"lxml\").get_text()\n",
    "    review_text = re.sub(\"[^a-zA-Z]\",\" \", review_text)\n",
    "    words = review_text.lower().split()\n",
    "    if remove_stopwords:\n",
    "        stops = stopwords.words(\"english\")\n",
    "        words = [w for w in words if not w in stops]\n",
    "    return(words)\n",
    "\n",
    "def review_to_sentences(review, tokenizer, remove_stopwords=False):\n",
    "    raw_sentences = tokenizer.tokenize(review.strip())\n",
    "    sentences = []\n",
    "    for raw_sentence in raw_sentences:\n",
    "        if len(raw_sentence) > 0:\n",
    "            sentences.append(review_to_wordlist(raw_sentence, remove_stopwords))\n",
    "    return sentences"
   ]
  },
  {
   "cell_type": "code",
   "execution_count": 16,
   "metadata": {
    "colab": {
     "base_uri": "https://localhost:8080/"
    },
    "id": "bolPEuQgX-rv",
    "outputId": "c822fca8-e5ff-4414-b986-75fc687ba9a0"
   },
   "outputs": [
    {
     "name": "stdout",
     "output_type": "stream",
     "text": [
      "Parsing sentences from training set...\n"
     ]
    },
    {
     "name": "stderr",
     "output_type": "stream",
     "text": [
      "/usr/local/lib/python3.8/site-packages/bs4/__init__.py:337: MarkupResemblesLocatorWarning: \".\" looks like a directory name, not markup. You may want to open a file found in this directory and pass the filehandle into Beautiful Soup.\n",
      "  warnings.warn(\n",
      "/usr/local/lib/python3.8/site-packages/bs4/__init__.py:337: MarkupResemblesLocatorWarning: \"..\" looks like a directory name, not markup. You may want to open a file found in this directory and pass the filehandle into Beautiful Soup.\n",
      "  warnings.warn(\n"
     ]
    }
   ],
   "source": [
    "sentences = []  \n",
    "\n",
    "print(\"Parsing sentences from training set...\")\n",
    "for review in data[\"review\"]:\n",
    "    sentences += review_to_sentences(review, tokenizer)"
   ]
  },
  {
   "cell_type": "code",
   "execution_count": 17,
   "metadata": {
    "colab": {
     "base_uri": "https://localhost:8080/"
    },
    "id": "FbrH6TdfX-rx",
    "outputId": "3464b619-b220-4222-d15d-ad84f0efaa46"
   },
   "outputs": [
    {
     "name": "stdout",
     "output_type": "stream",
     "text": [
      "528987\n",
      "['watching', 'time', 'chasers', 'it', 'obvious', 'that', 'it', 'was', 'made', 'by', 'a', 'bunch', 'of', 'friends']\n"
     ]
    }
   ],
   "source": [
    "print(len(sentences))\n",
    "print(sentences[0])"
   ]
  },
  {
   "cell_type": "code",
   "execution_count": 18,
   "metadata": {
    "id": "Cqb_NOteX-rz"
   },
   "outputs": [],
   "source": [
    "# это понадобится нам позже\n",
    "\n",
    "with open('clean_text.txt', 'w') as f:\n",
    "    for s in sentences[:5000]:\n",
    "        f.write(' '.join(s))\n",
    "        f.write('\\n')"
   ]
  },
  {
   "cell_type": "markdown",
   "metadata": {
    "id": "qqFhuv7XX-r1"
   },
   "source": [
    "Обучаем и сохраняем модель. \n",
    "\n",
    "\n",
    "Основные параметры:\n",
    "* данные должны быть итерируемым объектом \n",
    "* size — размер вектора, \n",
    "* window — размер окна наблюдения,\n",
    "* min_count — мин. частотность слова в корпусе,\n",
    "* sg — используемый алгоритм обучения (0 — CBOW, 1 — Skip-gram),\n",
    "* sample — порог для downsampling'a высокочастотных слов,\n",
    "* workers — количество потоков,\n",
    "* alpha — learning rate,\n",
    "* iter — количество итераций,\n",
    "* max_vocab_size — позволяет выставить ограничение по памяти при создании словаря (т.е. если ограничение превышается, то низкочастотные слова будут выбрасываться). Для сравнения: 10 млн слов = 1Гб RAM.\n",
    "\n",
    "**NB!** Обратите внимание, что тренировка модели не включает препроцессинг! Это значит, что избавляться от пунктуации, приводить слова к нижнему регистру, лемматизировать их, проставлять частеречные теги придется до тренировки модели (если, конечно, это необходимо для вашей задачи). Т.е. в каком виде слова будут в исходном тексте, в таком они будут и в модели."
   ]
  },
  {
   "cell_type": "code",
   "execution_count": null,
   "metadata": {
    "colab": {
     "base_uri": "https://localhost:8080/"
    },
    "id": "OB2FqIioX-r1",
    "outputId": "a26d5ffa-008c-4f11-af95-56adbe1715d9"
   },
   "outputs": [
    {
     "name": "stdout",
     "output_type": "stream",
     "text": [
      "Training model...\n",
      "CPU times: user 4min 8s, sys: 1.4 s, total: 4min 9s\n",
      "Wall time: 2min 14s\n"
     ]
    }
   ],
   "source": [
    "print(\"Training model...\")\n",
    "\n",
    "%time model_en = word2vec.Word2Vec(sentences, workers=4, size=300, min_count=10, window=10, sample=1e-3)"
   ]
  },
  {
   "cell_type": "markdown",
   "metadata": {
    "id": "HFU6SYAZX-r3"
   },
   "source": [
    "Смотрим, сколько в модели слов."
   ]
  },
  {
   "cell_type": "code",
   "execution_count": null,
   "metadata": {
    "colab": {
     "base_uri": "https://localhost:8080/"
    },
    "id": "HA3P0CUYX-r4",
    "outputId": "d9e53536-0f5d-4639-fcc7-36b73c500810"
   },
   "outputs": [
    {
     "name": "stdout",
     "output_type": "stream",
     "text": [
      "28308\n"
     ]
    }
   ],
   "source": [
    "print(len(model_en.wv.vocab))"
   ]
  },
  {
   "cell_type": "markdown",
   "metadata": {
    "id": "2mU9sbGYX-r8"
   },
   "source": [
    "Попробуем оценить модель вручную, порешав примеры. Несколько дано ниже, попробуйте придумать свои."
   ]
  },
  {
   "cell_type": "code",
   "execution_count": null,
   "metadata": {
    "colab": {
     "base_uri": "https://localhost:8080/"
    },
    "id": "n8OQxmUyX-r9",
    "outputId": "a7b50273-7f85-4786-d880-93f29d62f07d"
   },
   "outputs": [
    {
     "name": "stdout",
     "output_type": "stream",
     "text": [
      "[('actress', 0.7817302942276001)]\n",
      "[('men', 0.6486964225769043)]\n",
      "[('national', 0.7406940460205078), ('europe', 0.7367393970489502), ('germany', 0.7265561819076538)]\n",
      "novel\n"
     ]
    },
    {
     "name": "stderr",
     "output_type": "stream",
     "text": [
      "/usr/local/lib/python3.6/dist-packages/gensim/models/keyedvectors.py:895: FutureWarning: arrays to stack must be passed as a \"sequence\" type such as list or tuple. Support for non-sequence iterables such as generators is deprecated as of NumPy 1.16 and will raise an error in the future.\n",
      "  vectors = vstack(self.word_vec(word, use_norm=True) for word in used_words).astype(REAL)\n"
     ]
    }
   ],
   "source": [
    "print(model_en.wv.most_similar(positive=[\"woman\", \"actor\"], negative=[\"man\"], topn=1))\n",
    "print(model_en.wv.most_similar(positive=[\"dogs\", \"man\"], negative=[\"dog\"], topn=1))\n",
    "\n",
    "print(model_en.wv.most_similar(\"usa\", topn=3))\n",
    "\n",
    "print(model_en.wv.doesnt_match(\"comedy thriller western novel\".split()))"
   ]
  },
  {
   "cell_type": "markdown",
   "metadata": {
    "id": "juR4NX0wX-r_"
   },
   "source": [
    "### Как дообучить существующую модель\n",
    "\n",
    "При тренировке модели \"с нуля\" веса инициализируются случайно, однако можно использовать для инициализации векторов веса из предобученной модели, таким образом как бы дообучая ее.\n",
    "\n",
    "Сначала посмотрим близость какой-нибудь пары слов в имеющейся модели, чтобы потом сравнить результат с дообученной."
   ]
  },
  {
   "cell_type": "code",
   "execution_count": null,
   "metadata": {
    "colab": {
     "base_uri": "https://localhost:8080/"
    },
    "id": "rAUVp96kX-sA",
    "outputId": "50cea922-1254-471a-adaf-670c29980c23"
   },
   "outputs": [
    {
     "data": {
      "text/plain": [
       "0.31278187"
      ]
     },
     "execution_count": 25,
     "metadata": {
      "tags": []
     },
     "output_type": "execute_result"
    }
   ],
   "source": [
    "model_en.wv.similarity('lion', 'rabbit')"
   ]
  },
  {
   "cell_type": "markdown",
   "metadata": {
    "id": "Mxsz8DKMX-sD"
   },
   "source": [
    "В качестве дополнительных данных для обучения возьмем английский текст «Алисы в Зазеркалье»."
   ]
  },
  {
   "cell_type": "code",
   "execution_count": 19,
   "metadata": {
    "colab": {
     "base_uri": "https://localhost:8080/"
    },
    "id": "4eTCOgpMX-sE",
    "outputId": "f2386782-1337-4f88-89d4-f78ce7e899c0",
    "scrolled": true
   },
   "outputs": [
    {
     "name": "stdout",
     "output_type": "stream",
     "text": [
      "--2022-02-24 10:31:28--  https://raw.githubusercontent.com/ancatmara/data-science-nlp/master/data/w2v/train/alice.txt\n",
      "Resolving raw.githubusercontent.com (raw.githubusercontent.com)... 2606:50c0:8001::154, 2606:50c0:8003::154, 2606:50c0:8000::154, ...\n",
      "Connecting to raw.githubusercontent.com (raw.githubusercontent.com)|2606:50c0:8001::154|:443... connected.\n",
      "HTTP request sent, awaiting response... 200 OK\n",
      "Length: 167631 (164K) [text/plain]\n",
      "Saving to: ‘alice.txt’\n",
      "\n",
      "alice.txt           100%[===================>] 163.70K  --.-KB/s    in 0.1s    \n",
      "\n",
      "2022-02-24 10:31:29 (1.63 MB/s) - ‘alice.txt’ saved [167631/167631]\n",
      "\n"
     ]
    }
   ],
   "source": [
    "# ! wget https://raw.githubusercontent.com/ancatmara/data-science-nlp/master/data/w2v/train/alice.txt"
   ]
  },
  {
   "cell_type": "code",
   "execution_count": 20,
   "metadata": {
    "colab": {
     "base_uri": "https://localhost:8080/"
    },
    "id": "yHuXJgB_X-sI",
    "outputId": "e6b23cab-1e69-41da-9d2a-d0e3a8044e4e"
   },
   "outputs": [
    {
     "name": "stdout",
     "output_type": "stream",
     "text": [
      "[['through', 'the', 'looking-glass', 'by', 'lewis', 'carroll', 'chapter', 'i', 'looking-glass', 'house', 'one', 'thing', 'was', 'certain', 'that', 'the', 'white', 'kitten', 'had', 'had', 'nothing', 'to', 'do', 'with', 'it', '', 'it', 'was', 'the', 'black', 'kitten’s', 'fault', 'entirely'], ['for', 'the', 'white', 'kitten', 'had', 'been', 'having', 'its', 'face', 'washed', 'by', 'the', 'old', 'cat', 'for', 'the', 'last', 'quarter', 'of', 'an', 'hour', 'and', 'bearing', 'it', 'pretty', 'well', 'considering', 'so', 'you', 'see', 'that', 'it', 'couldn’t', 'have', 'had', 'any', 'hand', 'in', 'the', 'mischief']]\n"
     ]
    }
   ],
   "source": [
    "with open(\"alice.txt\", 'r', encoding='utf-8') as f:\n",
    "    text = f.read()\n",
    "\n",
    "text = re.sub('\\n', ' ', text)\n",
    "sents = sent_tokenize(text)\n",
    "\n",
    "punct = '!\"#$%&()*+,-./:;<=>?@[\\]^_`{|}~„“«»†*—/\\-‘’'\n",
    "clean_sents = []\n",
    "\n",
    "for sent in sents:\n",
    "    s = [w.lower().strip(punct) for w in sent.split()]\n",
    "    clean_sents.append(s)\n",
    "    \n",
    "print(clean_sents[:2])"
   ]
  },
  {
   "cell_type": "markdown",
   "metadata": {
    "id": "dH8f7GNBX-sK"
   },
   "source": [
    "Чтобы дообучить модель, надо сначала ее сохранить, а потом загрузить. Все параметры тренировки (размер вектора, мин. частота слова и т.п.) будут взяты из загруженной модели, т.е. задать их заново нельзя.\n",
    "\n",
    "**NB!** Дообучить можно только полную модель, а `KeyedVectors` — нельзя. Поэтому сохранять модель нужно в соотвествующем формате. Подробнее о разнице [вот тут](https://radimrehurek.com/gensim/models/keyedvectors.html)."
   ]
  },
  {
   "cell_type": "code",
   "execution_count": null,
   "metadata": {
    "colab": {
     "base_uri": "https://localhost:8080/"
    },
    "id": "Rv--44TmX-sL",
    "outputId": "a2bc5590-831d-4643-f32a-697e38ad6440"
   },
   "outputs": [
    {
     "name": "stdout",
     "output_type": "stream",
     "text": [
      "Saving model...\n"
     ]
    }
   ],
   "source": [
    "model_path = \"movie_reviews.model\"\n",
    "\n",
    "print(\"Saving model...\")\n",
    "model_en.save(model_path)"
   ]
  },
  {
   "cell_type": "code",
   "execution_count": null,
   "metadata": {
    "colab": {
     "base_uri": "https://localhost:8080/"
    },
    "id": "f6eZwBQzX-sQ",
    "outputId": "2ae764be-b87f-41d4-9fc2-05b1930160e4"
   },
   "outputs": [
    {
     "data": {
      "text/plain": [
       "(96991, 150225)"
      ]
     },
     "execution_count": 29,
     "metadata": {
      "tags": []
     },
     "output_type": "execute_result"
    }
   ],
   "source": [
    "model = word2vec.Word2Vec.load(model_path)\n",
    "\n",
    "model.build_vocab(clean_sents, update=True)\n",
    "model.train(clean_sents, total_examples=model.corpus_count, epochs=5)"
   ]
  },
  {
   "cell_type": "markdown",
   "metadata": {
    "id": "nMLhISWiX-sS"
   },
   "source": [
    "Лев и кролик стали ближе друг к другу!"
   ]
  },
  {
   "cell_type": "code",
   "execution_count": null,
   "metadata": {
    "colab": {
     "base_uri": "https://localhost:8080/"
    },
    "id": "4USaUjmzX-sS",
    "outputId": "97ed3757-0a95-4461-ad03-0fed7f01e1ec"
   },
   "outputs": [
    {
     "data": {
      "text/plain": [
       "0.3073743"
      ]
     },
     "execution_count": 30,
     "metadata": {
      "tags": []
     },
     "output_type": "execute_result"
    }
   ],
   "source": [
    "model.wv.similarity('lion', 'rabbit')"
   ]
  },
  {
   "cell_type": "markdown",
   "metadata": {
    "id": "F5bYd1qmX-sT"
   },
   "source": [
    "Можно нормализовать вектора, тогда модель будет занимать меньше RAM. Однако после этого её нельзя дотренировывать. Здесь используется L2-нормализация: вектора нормализуются так, что если сложить квадраты всех элементов вектора, в сумме получится 1. \n",
    "\n",
    "Кроме того, сохраним не полные вектора, а `KeyedVectors`."
   ]
  },
  {
   "cell_type": "code",
   "execution_count": null,
   "metadata": {
    "colab": {
     "base_uri": "https://localhost:8080/"
    },
    "id": "ZAVaTYvQX-sU",
    "outputId": "253ffd95-c434-4178-83df-5b68f36ad8d4"
   },
   "outputs": [
    {
     "name": "stdout",
     "output_type": "stream",
     "text": [
      "Saving model...\n"
     ]
    }
   ],
   "source": [
    "model.init_sims(replace=True)\n",
    "model_path = \"movies_alice.bin\"\n",
    "\n",
    "print(\"Saving model...\")\n",
    "model_en.wv.save_word2vec_format(model_path, binary=True)"
   ]
  },
  {
   "cell_type": "markdown",
   "metadata": {
    "id": "CXKnPffPX-sY"
   },
   "source": [
    "## Оценка\n",
    "\n",
    "Это, конечно, хорошо, но как понять, какая модель лучше? Или вот, например, я сделал свою модель, а как понять, насколько она хорошая?\n",
    "\n",
    "Для этого существуют специальные датасеты для оценки качества дистрибутивных моделей. Основных два: один измеряет точность решения задач на аналогии (про Россию и пельмени), а второй используется для оценки коэффициента семантической близости. \n",
    "\n",
    "### Word Similarity\n",
    "\n",
    "Этот метод заключается в том, чтобы оценить, насколько представления о семантической близости слов в модели соотносятся с \"представлениями\" людей.\n",
    "\n",
    "| слово 1    | слово 2    | близость | \n",
    "|------------|------------|----------|\n",
    "| кошка      | собака     | 0.7      |  \n",
    "| чашка      | кружка     | 0.9      |       \n",
    "\n",
    "Для каждой пары слов из заранее заданного датасета мы можем посчитать косинусное расстояние, и получить список таких значений близости. При этом у нас уже есть список значений близостей, сделанный людьми. Мы можем сравнить эти два списка и понять, насколько они похожи (например, посчитав корреляцию). Эта мера схожести должна говорить о том, насколько модель хорошо моделирует расстояния до слова.\n",
    "\n",
    "### Аналогии\n",
    "\n",
    "Другая популярная задача для \"внутренней\" оценки называется задачей поиска аналогий. Как мы уже разбирали выше, с помощью простых арифметических операций мы можем модифицировать значение слова. Если заранее собрать набор слов-модификаторов, а также слов, которые мы хотим получить в результаты модификации, то на основе подсчёта количества \"попаданий\" в желаемое слово мы можем оценить, насколько хорошо работает модель.\n",
    "\n",
    "В качестве слов-модификаторов мы можем использовать семантические аналогии. Скажем, если у нас есть некоторое отношение \"страна-столица\", то для оценки модели мы можем использовать пары наподобие \"Россия-Москва\", \"Норвегия-Осло\", и т.д. Датасет будет выглядеть следующм образом:\n",
    "\n",
    "| слово 1    | слово 2    | отношение     | \n",
    "|------------|------------|---------------|\n",
    "| Россия     | Москва     | страна-столица|  \n",
    "| Норвегия   | Осло       | страна-столица|\n",
    "\n",
    "Рассматривая случайные две пары из этого набора, мы хотим, имея триплет (Россия, Москва, Норвегия) хотим получить слово \"Осло\", т.е. найти такое слово, которое будет находиться в том же отношении со словом \"Норвегия\", как \"Россия\" находится с Москвой. \n",
    "\n",
    "Датасеты для русского языка можно скачать на странице с моделями на RusVectores. Посчитаем качество нашей модели НКРЯ на датасете про аналогии:"
   ]
  },
  {
   "cell_type": "code",
   "execution_count": 21,
   "metadata": {
    "colab": {
     "base_uri": "https://localhost:8080/"
    },
    "id": "-YhZcONZX-sY",
    "outputId": "aac9911d-9f7f-443d-e7f4-dacb266c364c"
   },
   "outputs": [
    {
     "name": "stdout",
     "output_type": "stream",
     "text": [
      "--2022-02-24 10:31:45--  https://raw.githubusercontent.com/ancatmara/data-science-nlp/master/data/w2v/evaluation/ru_analogy_tagged.txt\n",
      "Resolving raw.githubusercontent.com (raw.githubusercontent.com)... 2606:50c0:8001::154, 2606:50c0:8003::154, 2606:50c0:8000::154, ...\n",
      "Connecting to raw.githubusercontent.com (raw.githubusercontent.com)|2606:50c0:8001::154|:443... connected.\n",
      "HTTP request sent, awaiting response... 200 OK\n",
      "Length: 871776 (851K) [text/plain]\n",
      "Saving to: ‘ru_analogy_tagged.txt’\n",
      "\n",
      "ru_analogy_tagged.t 100%[===================>] 851.34K  4.00MB/s    in 0.2s    \n",
      "\n",
      "2022-02-24 10:31:45 (4.00 MB/s) - ‘ru_analogy_tagged.txt’ saved [871776/871776]\n",
      "\n"
     ]
    }
   ],
   "source": [
    "# ! wget https://raw.githubusercontent.com/ancatmara/data-science-nlp/master/data/w2v/evaluation/ru_analogy_tagged.txt"
   ]
  },
  {
   "cell_type": "code",
   "execution_count": null,
   "metadata": {
    "colab": {
     "base_uri": "https://localhost:8080/"
    },
    "id": "z54TWXlcX-sb",
    "outputId": "90ad4895-e619-41e0-9bdf-05e23ad9c1b3"
   },
   "outputs": [
    {
     "name": "stderr",
     "output_type": "stream",
     "text": [
      "/usr/local/lib/python3.6/dist-packages/ipykernel_launcher.py:1: DeprecationWarning: Call to deprecated `accuracy` (Method will be removed in 4.0.0, use self.evaluate_word_analogies() instead).\n",
      "  \"\"\"Entry point for launching an IPython kernel.\n"
     ]
    }
   ],
   "source": [
    "res = model_ru.accuracy('ru_analogy_tagged.txt')"
   ]
  },
  {
   "cell_type": "code",
   "execution_count": null,
   "metadata": {
    "colab": {
     "base_uri": "https://localhost:8080/"
    },
    "id": "tWNppFBeX-sd",
    "outputId": "50fa5de7-ea4a-43cb-f703-772e80324ee3"
   },
   "outputs": [
    {
     "name": "stdout",
     "output_type": "stream",
     "text": [
      "[('МАЛЬЧИК_S', 'ДЕВОЧКА_S', 'ДЕД_S', 'БАБКА_S'), ('МАЛЬЧИК_S', 'ДЕВОЧКА_S', 'КОРОЛЬ_S', 'КОРОЛЕВА_S'), ('МАЛЬЧИК_S', 'ДЕВОЧКА_S', 'ПРИНЦ_S', 'ПРИНЦЕССА_S'), ('МАЛЬЧИК_S', 'ДЕВОЧКА_S', 'ОТЧИМ_S', 'МАЧЕХА_S'), ('МАЛЬЧИК_S', 'ДЕВОЧКА_S', 'ПАСЫНОК_S', 'ПАДЧЕРИЦА_S'), ('БРАТ_S', 'СЕСТРА_S', 'ДЕД_S', 'БАБКА_S'), ('БРАТ_S', 'СЕСТРА_S', 'ОТЧИМ_S', 'МАЧЕХА_S'), ('БРАТ_S', 'СЕСТРА_S', 'ПАСЫНОК_S', 'ПАДЧЕРИЦА_S'), ('ПАПА_S', 'МАМА_S', 'ДЕД_S', 'БАБКА_S'), ('ПАПА_S', 'МАМА_S', 'ОТЧИМ_S', 'МАЧЕХА_S')]\n"
     ]
    }
   ],
   "source": [
    "print(res[4]['incorrect'][:10])"
   ]
  },
  {
   "cell_type": "markdown",
   "metadata": {
    "id": "Sv0wxUXIX-se"
   },
   "source": [
    "## Визуализация\n",
    "\n",
    "На полученную модель можно посмотреть, визуализировав ее, например, на плоскости.\n",
    "### t-SNE\n",
    "\n",
    "**t-SNE**  (*t-distributed Stochastic Neighbor Embedding*) — техника нелинейного снижения размерности и визуализации многомерных переменных. Она разработана специально для данных высокой размерности Л. ван дер Маатеном и Д. Хинтоном, [вот их статья](http://jmlr.org/papers/volume9/vandermaaten08a/vandermaaten08a.pdf). t-SNE — это итеративный алгоритм, основанный на вычислении попарных расстояний между всеми объектами (в том числе поэтому он довольно медленный).\n",
    "\n",
    "\n",
    "Изобразим на плоскости 1000 самых частотных слов из коллекции текстов про кино:"
   ]
  },
  {
   "cell_type": "code",
   "execution_count": null,
   "metadata": {
    "colab": {
     "base_uri": "https://localhost:8080/",
     "height": 184,
     "referenced_widgets": [
      "7502e5b5946a44b799350dd7d6b6b1fd",
      "fa31838c747a471994d6dd67ffb6ad65",
      "64013695a6014e578f8aa14736add23b",
      "276442efcad047d7be5843512036a801",
      "c73bacb25ba14f05b7d78b87fc3f564f",
      "ad5a800c9c69459a82f01d9496e5297f",
      "d8694b6825894b6d8fe90c6661cc8fcc",
      "54f292412ab54247acd06a81b1757ad9"
     ]
    },
    "id": "5UH91gFyX-sf",
    "outputId": "b5087f0e-3223-4161-96be-d09b94702b13"
   },
   "outputs": [
    {
     "name": "stderr",
     "output_type": "stream",
     "text": [
      "/usr/local/lib/python3.6/dist-packages/ipykernel_launcher.py:9: TqdmDeprecationWarning: This function will be removed in tqdm==5.0.0\n",
      "Please use `tqdm.notebook.tqdm` instead of `tqdm.tqdm_notebook`\n",
      "  if __name__ == '__main__':\n"
     ]
    },
    {
     "data": {
      "application/vnd.jupyter.widget-view+json": {
       "model_id": "7502e5b5946a44b799350dd7d6b6b1fd",
       "version_major": 2,
       "version_minor": 0
      },
      "text/plain": [
       "HBox(children=(FloatProgress(value=0.0, max=528987.0), HTML(value='')))"
      ]
     },
     "metadata": {
      "tags": []
     },
     "output_type": "display_data"
    },
    {
     "name": "stdout",
     "output_type": "stream",
     "text": [
      "\n",
      "['the', 'and', 'a', 'of', 'to', 'is', 'it', 'in', 'i', 'this', 'that', 's', 'was', 'as', 'with', 'for', 'movie', 'but', 'film', 'you', 't', 'on', 'not', 'he', 'are', 'his', 'have', 'be', 'one', 'all', 'they', 'at', 'by', 'who', 'an', 'from', 'so', 'like', 'there', 'or', 'her', 'just', 'about', 'out', 'has', 'if', 'what', 'some', 'good', 'can']\n"
     ]
    },
    {
     "name": "stderr",
     "output_type": "stream",
     "text": [
      "/usr/local/lib/python3.6/dist-packages/ipykernel_launcher.py:16: DeprecationWarning: Call to deprecated `__getitem__` (Method will be removed in 4.0.0, use self.wv.__getitem__() instead).\n",
      "  app.launch_new_instance()\n"
     ]
    }
   ],
   "source": [
    "from nltk import FreqDist\n",
    "from tqdm import tqdm_notebook as tqdm\n",
    "from sklearn.manifold import TSNE\n",
    "\n",
    "top_words = []\n",
    "\n",
    "\n",
    "fd = FreqDist()\n",
    "for s in tqdm(sentences):\n",
    "    fd.update(s)\n",
    "\n",
    "for w in fd.most_common(1000):\n",
    "    top_words.append(w[0])\n",
    "    \n",
    "print(top_words[:50:])\n",
    "top_words_vec = model[top_words]"
   ]
  },
  {
   "cell_type": "code",
   "execution_count": null,
   "metadata": {
    "colab": {
     "base_uri": "https://localhost:8080/"
    },
    "id": "_cq8Eg4gh2E6",
    "outputId": "95d36ff0-838b-4439-dee3-08b3cde1f43a"
   },
   "outputs": [
    {
     "name": "stderr",
     "output_type": "stream",
     "text": [
      "/usr/local/lib/python3.6/dist-packages/ipykernel_launcher.py:1: DeprecationWarning: Call to deprecated `__getitem__` (Method will be removed in 4.0.0, use self.wv.__getitem__() instead).\n",
      "  \"\"\"Entry point for launching an IPython kernel.\n"
     ]
    }
   ],
   "source": [
    "top_words_vec = model[top_words]"
   ]
  },
  {
   "cell_type": "code",
   "execution_count": null,
   "metadata": {
    "colab": {
     "base_uri": "https://localhost:8080/"
    },
    "id": "74FvTsuuX-sg",
    "outputId": "6aaec004-0fa6-41e6-8d23-587b51663665"
   },
   "outputs": [
    {
     "name": "stdout",
     "output_type": "stream",
     "text": [
      "CPU times: user 14.4 s, sys: 95.2 ms, total: 14.5 s\n",
      "Wall time: 7.83 s\n"
     ]
    }
   ],
   "source": [
    "%%time\n",
    "tsne = TSNE(n_components=2, random_state=0)\n",
    "top_words_tsne = tsne.fit_transform(top_words_vec)"
   ]
  },
  {
   "cell_type": "code",
   "execution_count": null,
   "metadata": {
    "id": "99REeMDkh2E7"
   },
   "outputs": [],
   "source": [
    "# !pip install bokeh"
   ]
  },
  {
   "cell_type": "code",
   "execution_count": null,
   "metadata": {
    "colab": {
     "base_uri": "https://localhost:8080/",
     "height": 616
    },
    "id": "R0A__XKwX-si",
    "outputId": "9f8dd2b2-62c9-4cb5-9ff5-0474feedc3cc"
   },
   "outputs": [
    {
     "data": {
      "application/javascript": [
       "\n",
       "(function(root) {\n",
       "  function now() {\n",
       "    return new Date();\n",
       "  }\n",
       "\n",
       "  var force = true;\n",
       "\n",
       "  if (typeof root._bokeh_onload_callbacks === \"undefined\" || force === true) {\n",
       "    root._bokeh_onload_callbacks = [];\n",
       "    root._bokeh_is_loading = undefined;\n",
       "  }\n",
       "\n",
       "  var JS_MIME_TYPE = 'application/javascript';\n",
       "  var HTML_MIME_TYPE = 'text/html';\n",
       "  var EXEC_MIME_TYPE = 'application/vnd.bokehjs_exec.v0+json';\n",
       "  var CLASS_NAME = 'output_bokeh rendered_html';\n",
       "\n",
       "  /**\n",
       "   * Render data to the DOM node\n",
       "   */\n",
       "  function render(props, node) {\n",
       "    var script = document.createElement(\"script\");\n",
       "    node.appendChild(script);\n",
       "  }\n",
       "\n",
       "  /**\n",
       "   * Handle when an output is cleared or removed\n",
       "   */\n",
       "  function handleClearOutput(event, handle) {\n",
       "    var cell = handle.cell;\n",
       "\n",
       "    var id = cell.output_area._bokeh_element_id;\n",
       "    var server_id = cell.output_area._bokeh_server_id;\n",
       "    // Clean up Bokeh references\n",
       "    if (id != null && id in Bokeh.index) {\n",
       "      Bokeh.index[id].model.document.clear();\n",
       "      delete Bokeh.index[id];\n",
       "    }\n",
       "\n",
       "    if (server_id !== undefined) {\n",
       "      // Clean up Bokeh references\n",
       "      var cmd = \"from bokeh.io.state import curstate; print(curstate().uuid_to_server['\" + server_id + \"'].get_sessions()[0].document.roots[0]._id)\";\n",
       "      cell.notebook.kernel.execute(cmd, {\n",
       "        iopub: {\n",
       "          output: function(msg) {\n",
       "            var id = msg.content.text.trim();\n",
       "            if (id in Bokeh.index) {\n",
       "              Bokeh.index[id].model.document.clear();\n",
       "              delete Bokeh.index[id];\n",
       "            }\n",
       "          }\n",
       "        }\n",
       "      });\n",
       "      // Destroy server and session\n",
       "      var cmd = \"import bokeh.io.notebook as ion; ion.destroy_server('\" + server_id + \"')\";\n",
       "      cell.notebook.kernel.execute(cmd);\n",
       "    }\n",
       "  }\n",
       "\n",
       "  /**\n",
       "   * Handle when a new output is added\n",
       "   */\n",
       "  function handleAddOutput(event, handle) {\n",
       "    var output_area = handle.output_area;\n",
       "    var output = handle.output;\n",
       "\n",
       "    // limit handleAddOutput to display_data with EXEC_MIME_TYPE content only\n",
       "    if ((output.output_type != \"display_data\") || (!output.data.hasOwnProperty(EXEC_MIME_TYPE))) {\n",
       "      return\n",
       "    }\n",
       "\n",
       "    var toinsert = output_area.element.find(\".\" + CLASS_NAME.split(' ')[0]);\n",
       "\n",
       "    if (output.metadata[EXEC_MIME_TYPE][\"id\"] !== undefined) {\n",
       "      toinsert[toinsert.length - 1].firstChild.textContent = output.data[JS_MIME_TYPE];\n",
       "      // store reference to embed id on output_area\n",
       "      output_area._bokeh_element_id = output.metadata[EXEC_MIME_TYPE][\"id\"];\n",
       "    }\n",
       "    if (output.metadata[EXEC_MIME_TYPE][\"server_id\"] !== undefined) {\n",
       "      var bk_div = document.createElement(\"div\");\n",
       "      bk_div.innerHTML = output.data[HTML_MIME_TYPE];\n",
       "      var script_attrs = bk_div.children[0].attributes;\n",
       "      for (var i = 0; i < script_attrs.length; i++) {\n",
       "        toinsert[toinsert.length - 1].firstChild.setAttribute(script_attrs[i].name, script_attrs[i].value);\n",
       "        toinsert[toinsert.length - 1].firstChild.textContent = bk_div.children[0].textContent\n",
       "      }\n",
       "      // store reference to server id on output_area\n",
       "      output_area._bokeh_server_id = output.metadata[EXEC_MIME_TYPE][\"server_id\"];\n",
       "    }\n",
       "  }\n",
       "\n",
       "  function register_renderer(events, OutputArea) {\n",
       "\n",
       "    function append_mime(data, metadata, element) {\n",
       "      // create a DOM node to render to\n",
       "      var toinsert = this.create_output_subarea(\n",
       "        metadata,\n",
       "        CLASS_NAME,\n",
       "        EXEC_MIME_TYPE\n",
       "      );\n",
       "      this.keyboard_manager.register_events(toinsert);\n",
       "      // Render to node\n",
       "      var props = {data: data, metadata: metadata[EXEC_MIME_TYPE]};\n",
       "      render(props, toinsert[toinsert.length - 1]);\n",
       "      element.append(toinsert);\n",
       "      return toinsert\n",
       "    }\n",
       "\n",
       "    /* Handle when an output is cleared or removed */\n",
       "    events.on('clear_output.CodeCell', handleClearOutput);\n",
       "    events.on('delete.Cell', handleClearOutput);\n",
       "\n",
       "    /* Handle when a new output is added */\n",
       "    events.on('output_added.OutputArea', handleAddOutput);\n",
       "\n",
       "    /**\n",
       "     * Register the mime type and append_mime function with output_area\n",
       "     */\n",
       "    OutputArea.prototype.register_mime_type(EXEC_MIME_TYPE, append_mime, {\n",
       "      /* Is output safe? */\n",
       "      safe: true,\n",
       "      /* Index of renderer in `output_area.display_order` */\n",
       "      index: 0\n",
       "    });\n",
       "  }\n",
       "\n",
       "  // register the mime type if in Jupyter Notebook environment and previously unregistered\n",
       "  if (root.Jupyter !== undefined) {\n",
       "    var events = require('base/js/events');\n",
       "    var OutputArea = require('notebook/js/outputarea').OutputArea;\n",
       "\n",
       "    if (OutputArea.prototype.mime_types().indexOf(EXEC_MIME_TYPE) == -1) {\n",
       "      register_renderer(events, OutputArea);\n",
       "    }\n",
       "  }\n",
       "\n",
       "  \n",
       "  if (typeof (root._bokeh_timeout) === \"undefined\" || force === true) {\n",
       "    root._bokeh_timeout = Date.now() + 5000;\n",
       "    root._bokeh_failed_load = false;\n",
       "  }\n",
       "\n",
       "  var NB_LOAD_WARNING = {'data': {'text/html':\n",
       "     \"<div style='background-color: #fdd'>\\n\"+\n",
       "     \"<p>\\n\"+\n",
       "     \"BokehJS does not appear to have successfully loaded. If loading BokehJS from CDN, this \\n\"+\n",
       "     \"may be due to a slow or bad network connection. Possible fixes:\\n\"+\n",
       "     \"</p>\\n\"+\n",
       "     \"<ul>\\n\"+\n",
       "     \"<li>re-rerun `output_notebook()` to attempt to load from CDN again, or</li>\\n\"+\n",
       "     \"<li>use INLINE resources instead, as so:</li>\\n\"+\n",
       "     \"</ul>\\n\"+\n",
       "     \"<code>\\n\"+\n",
       "     \"from bokeh.resources import INLINE\\n\"+\n",
       "     \"output_notebook(resources=INLINE)\\n\"+\n",
       "     \"</code>\\n\"+\n",
       "     \"</div>\"}};\n",
       "\n",
       "  function display_loaded() {\n",
       "    var el = document.getElementById(null);\n",
       "    if (el != null) {\n",
       "      el.textContent = \"BokehJS is loading...\";\n",
       "    }\n",
       "    if (root.Bokeh !== undefined) {\n",
       "      if (el != null) {\n",
       "        el.textContent = \"BokehJS \" + root.Bokeh.version + \" successfully loaded.\";\n",
       "      }\n",
       "    } else if (Date.now() < root._bokeh_timeout) {\n",
       "      setTimeout(display_loaded, 100)\n",
       "    }\n",
       "  }\n",
       "\n",
       "\n",
       "  function run_callbacks() {\n",
       "    try {\n",
       "      root._bokeh_onload_callbacks.forEach(function(callback) {\n",
       "        if (callback != null)\n",
       "          callback();\n",
       "      });\n",
       "    } finally {\n",
       "      delete root._bokeh_onload_callbacks\n",
       "    }\n",
       "    console.debug(\"Bokeh: all callbacks have finished\");\n",
       "  }\n",
       "\n",
       "  function load_libs(css_urls, js_urls, callback) {\n",
       "    if (css_urls == null) css_urls = [];\n",
       "    if (js_urls == null) js_urls = [];\n",
       "\n",
       "    root._bokeh_onload_callbacks.push(callback);\n",
       "    if (root._bokeh_is_loading > 0) {\n",
       "      console.debug(\"Bokeh: BokehJS is being loaded, scheduling callback at\", now());\n",
       "      return null;\n",
       "    }\n",
       "    if (js_urls == null || js_urls.length === 0) {\n",
       "      run_callbacks();\n",
       "      return null;\n",
       "    }\n",
       "    console.debug(\"Bokeh: BokehJS not loaded, scheduling load and callback at\", now());\n",
       "    root._bokeh_is_loading = css_urls.length + js_urls.length;\n",
       "\n",
       "    function on_load() {\n",
       "      root._bokeh_is_loading--;\n",
       "      if (root._bokeh_is_loading === 0) {\n",
       "        console.debug(\"Bokeh: all BokehJS libraries/stylesheets loaded\");\n",
       "        run_callbacks()\n",
       "      }\n",
       "    }\n",
       "\n",
       "    function on_error() {\n",
       "      console.error(\"failed to load \" + url);\n",
       "    }\n",
       "\n",
       "    for (var i = 0; i < css_urls.length; i++) {\n",
       "      var url = css_urls[i];\n",
       "      const element = document.createElement(\"link\");\n",
       "      element.onload = on_load;\n",
       "      element.onerror = on_error;\n",
       "      element.rel = \"stylesheet\";\n",
       "      element.type = \"text/css\";\n",
       "      element.href = url;\n",
       "      console.debug(\"Bokeh: injecting link tag for BokehJS stylesheet: \", url);\n",
       "      document.body.appendChild(element);\n",
       "    }\n",
       "\n",
       "    const hashes = {\"https://cdn.bokeh.org/bokeh/release/bokeh-2.1.1.min.js\": \"kLr4fYcqcSpbuI95brIH3vnnYCquzzSxHPU6XGQCIkQRGJwhg0StNbj1eegrHs12\", \"https://cdn.bokeh.org/bokeh/release/bokeh-widgets-2.1.1.min.js\": \"xIGPmVtaOm+z0BqfSOMn4lOR6ciex448GIKG4eE61LsAvmGj48XcMQZtKcE/UXZe\", \"https://cdn.bokeh.org/bokeh/release/bokeh-tables-2.1.1.min.js\": \"Dc9u1wF/0zApGIWoBbH77iWEHtdmkuYWG839Uzmv8y8yBLXebjO9ZnERsde5Ln/P\", \"https://cdn.bokeh.org/bokeh/release/bokeh-gl-2.1.1.min.js\": \"cT9JaBz7GiRXdENrJLZNSC6eMNF3nh3fa5fTF51Svp+ukxPdwcU5kGXGPBgDCa2j\"};\n",
       "\n",
       "    for (var i = 0; i < js_urls.length; i++) {\n",
       "      var url = js_urls[i];\n",
       "      var element = document.createElement('script');\n",
       "      element.onload = on_load;\n",
       "      element.onerror = on_error;\n",
       "      element.async = false;\n",
       "      element.src = url;\n",
       "      if (url in hashes) {\n",
       "        element.crossOrigin = \"anonymous\";\n",
       "        element.integrity = \"sha384-\" + hashes[url];\n",
       "      }\n",
       "      console.debug(\"Bokeh: injecting script tag for BokehJS library: \", url);\n",
       "      document.head.appendChild(element);\n",
       "    }\n",
       "  };\n",
       "\n",
       "  function inject_raw_css(css) {\n",
       "    const element = document.createElement(\"style\");\n",
       "    element.appendChild(document.createTextNode(css));\n",
       "    document.body.appendChild(element);\n",
       "  }\n",
       "\n",
       "  \n",
       "  var js_urls = [\"https://cdn.bokeh.org/bokeh/release/bokeh-2.1.1.min.js\", \"https://cdn.bokeh.org/bokeh/release/bokeh-widgets-2.1.1.min.js\", \"https://cdn.bokeh.org/bokeh/release/bokeh-tables-2.1.1.min.js\", \"https://cdn.bokeh.org/bokeh/release/bokeh-gl-2.1.1.min.js\"];\n",
       "  var css_urls = [];\n",
       "  \n",
       "\n",
       "  var inline_js = [\n",
       "    function(Bokeh) {\n",
       "      Bokeh.set_log_level(\"info\");\n",
       "    },\n",
       "    function(Bokeh) {\n",
       "    \n",
       "    \n",
       "    }\n",
       "  ];\n",
       "\n",
       "  function run_inline_js() {\n",
       "    \n",
       "    if (root.Bokeh !== undefined || force === true) {\n",
       "      \n",
       "    for (var i = 0; i < inline_js.length; i++) {\n",
       "      inline_js[i].call(root, root.Bokeh);\n",
       "    }\n",
       "    } else if (Date.now() < root._bokeh_timeout) {\n",
       "      setTimeout(run_inline_js, 100);\n",
       "    } else if (!root._bokeh_failed_load) {\n",
       "      console.log(\"Bokeh: BokehJS failed to load within specified timeout.\");\n",
       "      root._bokeh_failed_load = true;\n",
       "    } else if (force !== true) {\n",
       "      var cell = $(document.getElementById(null)).parents('.cell').data().cell;\n",
       "      cell.output_area.append_execute_result(NB_LOAD_WARNING)\n",
       "    }\n",
       "\n",
       "  }\n",
       "\n",
       "  if (root._bokeh_is_loading === 0) {\n",
       "    console.debug(\"Bokeh: BokehJS loaded, going straight to plotting\");\n",
       "    run_inline_js();\n",
       "  } else {\n",
       "    load_libs(css_urls, js_urls, function() {\n",
       "      console.debug(\"Bokeh: BokehJS plotting callback run at\", now());\n",
       "      run_inline_js();\n",
       "    });\n",
       "  }\n",
       "}(window));"
      ],
      "application/vnd.bokehjs_load.v0+json": "\n(function(root) {\n  function now() {\n    return new Date();\n  }\n\n  var force = true;\n\n  if (typeof root._bokeh_onload_callbacks === \"undefined\" || force === true) {\n    root._bokeh_onload_callbacks = [];\n    root._bokeh_is_loading = undefined;\n  }\n\n  \n\n  \n  if (typeof (root._bokeh_timeout) === \"undefined\" || force === true) {\n    root._bokeh_timeout = Date.now() + 5000;\n    root._bokeh_failed_load = false;\n  }\n\n  var NB_LOAD_WARNING = {'data': {'text/html':\n     \"<div style='background-color: #fdd'>\\n\"+\n     \"<p>\\n\"+\n     \"BokehJS does not appear to have successfully loaded. If loading BokehJS from CDN, this \\n\"+\n     \"may be due to a slow or bad network connection. Possible fixes:\\n\"+\n     \"</p>\\n\"+\n     \"<ul>\\n\"+\n     \"<li>re-rerun `output_notebook()` to attempt to load from CDN again, or</li>\\n\"+\n     \"<li>use INLINE resources instead, as so:</li>\\n\"+\n     \"</ul>\\n\"+\n     \"<code>\\n\"+\n     \"from bokeh.resources import INLINE\\n\"+\n     \"output_notebook(resources=INLINE)\\n\"+\n     \"</code>\\n\"+\n     \"</div>\"}};\n\n  function display_loaded() {\n    var el = document.getElementById(null);\n    if (el != null) {\n      el.textContent = \"BokehJS is loading...\";\n    }\n    if (root.Bokeh !== undefined) {\n      if (el != null) {\n        el.textContent = \"BokehJS \" + root.Bokeh.version + \" successfully loaded.\";\n      }\n    } else if (Date.now() < root._bokeh_timeout) {\n      setTimeout(display_loaded, 100)\n    }\n  }\n\n\n  function run_callbacks() {\n    try {\n      root._bokeh_onload_callbacks.forEach(function(callback) {\n        if (callback != null)\n          callback();\n      });\n    } finally {\n      delete root._bokeh_onload_callbacks\n    }\n    console.debug(\"Bokeh: all callbacks have finished\");\n  }\n\n  function load_libs(css_urls, js_urls, callback) {\n    if (css_urls == null) css_urls = [];\n    if (js_urls == null) js_urls = [];\n\n    root._bokeh_onload_callbacks.push(callback);\n    if (root._bokeh_is_loading > 0) {\n      console.debug(\"Bokeh: BokehJS is being loaded, scheduling callback at\", now());\n      return null;\n    }\n    if (js_urls == null || js_urls.length === 0) {\n      run_callbacks();\n      return null;\n    }\n    console.debug(\"Bokeh: BokehJS not loaded, scheduling load and callback at\", now());\n    root._bokeh_is_loading = css_urls.length + js_urls.length;\n\n    function on_load() {\n      root._bokeh_is_loading--;\n      if (root._bokeh_is_loading === 0) {\n        console.debug(\"Bokeh: all BokehJS libraries/stylesheets loaded\");\n        run_callbacks()\n      }\n    }\n\n    function on_error() {\n      console.error(\"failed to load \" + url);\n    }\n\n    for (var i = 0; i < css_urls.length; i++) {\n      var url = css_urls[i];\n      const element = document.createElement(\"link\");\n      element.onload = on_load;\n      element.onerror = on_error;\n      element.rel = \"stylesheet\";\n      element.type = \"text/css\";\n      element.href = url;\n      console.debug(\"Bokeh: injecting link tag for BokehJS stylesheet: \", url);\n      document.body.appendChild(element);\n    }\n\n    const hashes = {\"https://cdn.bokeh.org/bokeh/release/bokeh-2.1.1.min.js\": \"kLr4fYcqcSpbuI95brIH3vnnYCquzzSxHPU6XGQCIkQRGJwhg0StNbj1eegrHs12\", \"https://cdn.bokeh.org/bokeh/release/bokeh-widgets-2.1.1.min.js\": \"xIGPmVtaOm+z0BqfSOMn4lOR6ciex448GIKG4eE61LsAvmGj48XcMQZtKcE/UXZe\", \"https://cdn.bokeh.org/bokeh/release/bokeh-tables-2.1.1.min.js\": \"Dc9u1wF/0zApGIWoBbH77iWEHtdmkuYWG839Uzmv8y8yBLXebjO9ZnERsde5Ln/P\", \"https://cdn.bokeh.org/bokeh/release/bokeh-gl-2.1.1.min.js\": \"cT9JaBz7GiRXdENrJLZNSC6eMNF3nh3fa5fTF51Svp+ukxPdwcU5kGXGPBgDCa2j\"};\n\n    for (var i = 0; i < js_urls.length; i++) {\n      var url = js_urls[i];\n      var element = document.createElement('script');\n      element.onload = on_load;\n      element.onerror = on_error;\n      element.async = false;\n      element.src = url;\n      if (url in hashes) {\n        element.crossOrigin = \"anonymous\";\n        element.integrity = \"sha384-\" + hashes[url];\n      }\n      console.debug(\"Bokeh: injecting script tag for BokehJS library: \", url);\n      document.head.appendChild(element);\n    }\n  };\n\n  function inject_raw_css(css) {\n    const element = document.createElement(\"style\");\n    element.appendChild(document.createTextNode(css));\n    document.body.appendChild(element);\n  }\n\n  \n  var js_urls = [\"https://cdn.bokeh.org/bokeh/release/bokeh-2.1.1.min.js\", \"https://cdn.bokeh.org/bokeh/release/bokeh-widgets-2.1.1.min.js\", \"https://cdn.bokeh.org/bokeh/release/bokeh-tables-2.1.1.min.js\", \"https://cdn.bokeh.org/bokeh/release/bokeh-gl-2.1.1.min.js\"];\n  var css_urls = [];\n  \n\n  var inline_js = [\n    function(Bokeh) {\n      Bokeh.set_log_level(\"info\");\n    },\n    function(Bokeh) {\n    \n    \n    }\n  ];\n\n  function run_inline_js() {\n    \n    if (root.Bokeh !== undefined || force === true) {\n      \n    for (var i = 0; i < inline_js.length; i++) {\n      inline_js[i].call(root, root.Bokeh);\n    }\n    } else if (Date.now() < root._bokeh_timeout) {\n      setTimeout(run_inline_js, 100);\n    } else if (!root._bokeh_failed_load) {\n      console.log(\"Bokeh: BokehJS failed to load within specified timeout.\");\n      root._bokeh_failed_load = true;\n    } else if (force !== true) {\n      var cell = $(document.getElementById(null)).parents('.cell').data().cell;\n      cell.output_area.append_execute_result(NB_LOAD_WARNING)\n    }\n\n  }\n\n  if (root._bokeh_is_loading === 0) {\n    console.debug(\"Bokeh: BokehJS loaded, going straight to plotting\");\n    run_inline_js();\n  } else {\n    load_libs(css_urls, js_urls, function() {\n      console.debug(\"Bokeh: BokehJS plotting callback run at\", now());\n      run_inline_js();\n    });\n  }\n}(window));"
     },
     "metadata": {
      "tags": []
     },
     "output_type": "display_data"
    },
    {
     "data": {
      "text/html": [
       "\n",
       "\n",
       "\n",
       "\n",
       "\n",
       "\n",
       "  <div class=\"bk-root\" id=\"aaabc660-3810-42a3-800f-af7b5803a946\" data-root-id=\"1001\"></div>\n"
      ]
     },
     "metadata": {
      "tags": []
     },
     "output_type": "display_data"
    },
    {
     "data": {
      "application/javascript": [
       "(function(root) {\n",
       "  function embed_document(root) {\n",
       "    \n",
       "  var docs_json = {\"70d8945e-4955-42a5-9fa5-cc873fd1dc47\":{\"roots\":{\"references\":[{\"attributes\":{\"below\":[{\"id\":\"1012\"}],\"center\":[{\"id\":\"1015\"},{\"id\":\"1019\"},{\"id\":\"1035\"}],\"left\":[{\"id\":\"1016\"}],\"renderers\":[{\"id\":\"1033\"}],\"title\":{\"id\":\"1002\"},\"toolbar\":{\"id\":\"1024\"},\"toolbar_location\":\"above\",\"x_range\":{\"id\":\"1004\"},\"x_scale\":{\"id\":\"1008\"},\"y_range\":{\"id\":\"1006\"},\"y_scale\":{\"id\":\"1010\"}},\"id\":\"1001\",\"subtype\":\"Figure\",\"type\":\"Plot\"},{\"attributes\":{\"formatter\":{\"id\":\"1041\"},\"ticker\":{\"id\":\"1013\"}},\"id\":\"1012\",\"type\":\"LinearAxis\"},{\"attributes\":{\"source\":{\"id\":\"1029\"}},\"id\":\"1034\",\"type\":\"CDSView\"},{\"attributes\":{},\"id\":\"1013\",\"type\":\"BasicTicker\"},{\"attributes\":{\"axis\":{\"id\":\"1012\"},\"ticker\":null},\"id\":\"1015\",\"type\":\"Grid\"},{\"attributes\":{\"formatter\":{\"id\":\"1039\"},\"ticker\":{\"id\":\"1017\"}},\"id\":\"1016\",\"type\":\"LinearAxis\"},{\"attributes\":{},\"id\":\"1017\",\"type\":\"BasicTicker\"},{\"attributes\":{},\"id\":\"1041\",\"type\":\"BasicTickFormatter\"},{\"attributes\":{\"axis\":{\"id\":\"1016\"},\"dimension\":1,\"ticker\":null},\"id\":\"1019\",\"type\":\"Grid\"},{\"attributes\":{},\"id\":\"1043\",\"type\":\"UnionRenderers\"},{\"attributes\":{\"data_source\":{\"id\":\"1029\"},\"glyph\":{\"id\":\"1031\"},\"hover_glyph\":null,\"muted_glyph\":null,\"nonselection_glyph\":{\"id\":\"1032\"},\"selection_glyph\":null,\"view\":{\"id\":\"1034\"}},\"id\":\"1033\",\"type\":\"GlyphRenderer\"},{\"attributes\":{},\"id\":\"1020\",\"type\":\"PanTool\"},{\"attributes\":{},\"id\":\"1042\",\"type\":\"Selection\"},{\"attributes\":{},\"id\":\"1021\",\"type\":\"WheelZoomTool\"},{\"attributes\":{},\"id\":\"1022\",\"type\":\"ResetTool\"},{\"attributes\":{\"data\":{\"names\":[\"the\",\"and\",\"a\",\"of\",\"to\",\"is\",\"it\",\"in\",\"i\",\"this\",\"that\",\"s\",\"was\",\"as\",\"with\",\"for\",\"movie\",\"but\",\"film\",\"you\",\"t\",\"on\",\"not\",\"he\",\"are\",\"his\",\"have\",\"be\",\"one\",\"all\",\"they\",\"at\",\"by\",\"who\",\"an\",\"from\",\"so\",\"like\",\"there\",\"or\",\"her\",\"just\",\"about\",\"out\",\"has\",\"if\",\"what\",\"some\",\"good\",\"can\",\"when\",\"more\",\"very\",\"she\",\"up\",\"no\",\"time\",\"even\",\"would\",\"their\",\"my\",\"which\",\"story\",\"only\",\"really\",\"see\",\"had\",\"were\",\"well\",\"me\",\"we\",\"than\",\"much\",\"bad\",\"been\",\"get\",\"people\",\"great\",\"into\",\"also\",\"do\",\"other\",\"first\",\"will\",\"him\",\"because\",\"most\",\"how\",\"don\",\"them\",\"make\",\"its\",\"made\",\"way\",\"could\",\"then\",\"too\",\"movies\",\"after\",\"any\",\"characters\",\"character\",\"films\",\"two\",\"think\",\"watch\",\"being\",\"plot\",\"many\",\"where\",\"never\",\"love\",\"seen\",\"little\",\"life\",\"acting\",\"best\",\"did\",\"off\",\"know\",\"over\",\"ever\",\"does\",\"show\",\"better\",\"man\",\"your\",\"end\",\"here\",\"scene\",\"while\",\"these\",\"why\",\"still\",\"scenes\",\"something\",\"say\",\"go\",\"m\",\"ve\",\"should\",\"back\",\"such\",\"real\",\"through\",\"those\",\"now\",\"re\",\"doesn\",\"watching\",\"thing\",\"director\",\"funny\",\"though\",\"years\",\"didn\",\"another\",\"actors\",\"new\",\"going\",\"old\",\"makes\",\"nothing\",\"actually\",\"before\",\"work\",\"look\",\"same\",\"find\",\"lot\",\"part\",\"few\",\"every\",\"again\",\"world\",\"action\",\"cast\",\"horror\",\"things\",\"us\",\"quite\",\"want\",\"down\",\"pretty\",\"young\",\"fact\",\"around\",\"seems\",\"enough\",\"both\",\"take\",\"long\",\"however\",\"thought\",\"got\",\"own\",\"give\",\"comedy\",\"between\",\"big\",\"d\",\"must\",\"series\",\"right\",\"may\",\"without\",\"role\",\"guy\",\"original\",\"interesting\",\"whole\",\"come\",\"isn\",\"times\",\"always\",\"saw\",\"least\",\"bit\",\"gets\",\"almost\",\"script\",\"point\",\"last\",\"music\",\"done\",\"minutes\",\"feel\",\"far\",\"since\",\"girl\",\"ll\",\"yet\",\"might\",\"making\",\"performance\",\"away\",\"family\",\"anything\",\"am\",\"probably\",\"hard\",\"woman\",\"tv\",\"kind\",\"fun\",\"rather\",\"day\",\"played\",\"worst\",\"each\",\"found\",\"sure\",\"anyone\",\"especially\",\"trying\",\"having\",\"our\",\"screen\",\"looking\",\"different\",\"believe\",\"sense\",\"place\",\"american\",\"although\",\"ending\",\"goes\",\"worth\",\"course\",\"set\",\"shows\",\"maybe\",\"three\",\"comes\",\"dvd\",\"money\",\"once\",\"everything\",\"plays\",\"effects\",\"put\",\"john\",\"looks\",\"actor\",\"main\",\"together\",\"during\",\"someone\",\"let\",\"wasn\",\"instead\",\"everyone\",\"war\",\"year\",\"reason\",\"takes\",\"special\",\"said\",\"true\",\"high\",\"night\",\"book\",\"seem\",\"job\",\"play\",\"watched\",\"audience\",\"later\",\"wife\",\"black\",\"death\",\"himself\",\"star\",\"half\",\"seeing\",\"used\",\"idea\",\"dead\",\"second\",\"men\",\"left\",\"excellent\",\"simply\",\"shot\",\"else\",\"beautiful\",\"sex\",\"completely\",\"budget\",\"father\",\"women\",\"mind\",\"house\",\"hollywood\",\"poor\",\"less\",\"fan\",\"along\",\"boring\",\"performances\",\"home\",\"line\",\"help\",\"nice\",\"try\",\"couple\",\"top\",\"version\",\"until\",\"either\",\"low\",\"next\",\"camera\",\"use\",\"friends\",\"short\",\"wrong\",\"start\",\"kids\",\"given\",\"mother\",\"read\",\"need\",\"full\",\"enjoy\",\"production\",\"classic\",\"perhaps\",\"school\",\"moments\",\"truly\",\"stupid\",\"keep\",\"awful\",\"getting\",\"rest\",\"video\",\"face\",\"tell\",\"mean\",\"others\",\"itself\",\"understand\",\"boy\",\"terrible\",\"small\",\"name\",\"style\",\"came\",\"won\",\"playing\",\"recommend\",\"doing\",\"lost\",\"person\",\"definitely\",\"gives\",\"dialogue\",\"entertaining\",\"wonderful\",\"often\",\"live\",\"lines\",\"hope\",\"went\",\"stars\",\"case\",\"remember\",\"written\",\"couldn\",\"head\",\"early\",\"title\",\"yes\",\"human\",\"perfect\",\"become\",\"based\",\"friend\",\"children\",\"certainly\",\"liked\",\"problem\",\"drama\",\"son\",\"picture\",\"several\",\"fans\",\"under\",\"lead\",\"laugh\",\"oh\",\"humor\",\"guys\",\"supposed\",\"direction\",\"against\",\"absolutely\",\"overall\",\"sort\",\"piece\",\"episode\",\"finally\",\"game\",\"lives\",\"called\",\"entire\",\"evil\",\"cinema\",\"worse\",\"care\",\"waste\",\"killer\",\"dark\",\"felt\",\"beginning\",\"despite\",\"seemed\",\"genre\",\"final\",\"b\",\"totally\",\"history\",\"wanted\",\"unfortunately\",\"town\",\"throughout\",\"white\",\"city\",\"becomes\",\"able\",\"days\",\"already\",\"turn\",\"guess\",\"run\",\"loved\",\"fine\",\"act\",\"mr\",\"flick\",\"today\",\"horrible\",\"heart\",\"side\",\"hand\",\"kill\",\"tries\",\"wants\",\"starts\",\"quality\",\"killed\",\"past\",\"themselves\",\"child\",\"close\",\"matter\",\"group\",\"sound\",\"turns\",\"daughter\",\"parts\",\"viewer\",\"etc\",\"expect\",\"fight\",\"car\",\"enjoyed\",\"directed\",\"writing\",\"decent\",\"type\",\"violence\",\"stop\",\"example\",\"stuff\",\"self\",\"kid\",\"amazing\",\"behind\",\"soon\",\"blood\",\"favorite\",\"works\",\"known\",\"thinking\",\"gave\",\"obviously\",\"sometimes\",\"hero\",\"eyes\",\"actress\",\"girls\",\"michael\",\"happened\",\"brilliant\",\"stories\",\"except\",\"myself\",\"hour\",\"coming\",\"says\",\"writer\",\"late\",\"husband\",\"extremely\",\"experience\",\"hell\",\"happens\",\"art\",\"heard\",\"police\",\"took\",\"feeling\",\"roles\",\"leave\",\"highly\",\"attempt\",\"taken\",\"interest\",\"wouldn\",\"murder\",\"moment\",\"slow\",\"score\",\"god\",\"including\",\"looked\",\"obvious\",\"involved\",\"living\",\"anyway\",\"robert\",\"david\",\"cool\",\"hours\",\"save\",\"ok\",\"age\",\"voice\",\"o\",\"career\",\"told\",\"across\",\"wonder\",\"none\",\"strong\",\"cut\",\"happen\",\"please\",\"gore\",\"simple\",\"hilarious\",\"brother\",\"important\",\"exactly\",\"power\",\"chance\",\"ago\",\"james\",\"particularly\",\"relationship\",\"documentary\",\"level\",\"complete\",\"light\",\"female\",\"annoying\",\"possible\",\"serious\",\"cannot\",\"hit\",\"crap\",\"sad\",\"running\",\"lack\",\"sequel\",\"talent\",\"usually\",\"whose\",\"basically\",\"reality\",\"ends\",\"seriously\",\"strange\",\"order\",\"finds\",\"call\",\"taking\",\"somewhat\",\"room\",\"happy\",\"silly\",\"scary\",\"middle\",\"turned\",\"alone\",\"apparently\",\"ridiculous\",\"change\",\"clich\",\"country\",\"mostly\",\"attention\",\"miss\",\"four\",\"usual\",\"shown\",\"body\",\"song\",\"wish\",\"jokes\",\"number\",\"opening\",\"released\",\"disappointed\",\"word\",\"jack\",\"thriller\",\"single\",\"opinion\",\"straight\",\"future\",\"english\",\"words\",\"parents\",\"novel\",\"saying\",\"cinematography\",\"yourself\",\"view\",\"cheap\",\"started\",\"french\",\"beyond\",\"huge\",\"talking\",\"non\",\"clearly\",\"sets\",\"talk\",\"major\",\"die\",\"shots\",\"rating\",\"problems\",\"knew\",\"knows\",\"gay\",\"modern\",\"fast\",\"british\",\"due\",\"events\",\"tells\",\"add\",\"bring\",\"comic\",\"clear\",\"ones\",\"above\",\"hate\",\"storyline\",\"york\",\"easy\",\"typical\",\"entertainment\",\"aren\",\"easily\",\"haven\",\"within\",\"local\",\"upon\",\"general\",\"dialog\",\"crime\",\"ten\",\"giving\",\"george\",\"lots\",\"sequence\",\"america\",\"ways\",\"falls\",\"similar\",\"begins\",\"appears\",\"class\",\"near\",\"mystery\",\"named\",\"bunch\",\"filmed\",\"king\",\"elements\",\"romantic\",\"certain\",\"review\",\"team\",\"predictable\",\"working\",\"avoid\",\"stand\",\"de\",\"earth\",\"sorry\",\"th\",\"e\",\"television\",\"mention\",\"enjoyable\",\"supporting\",\"tale\",\"theme\",\"message\",\"points\",\"cop\",\"gone\",\"among\",\"fall\",\"space\",\"tom\",\"viewers\",\"eye\",\"red\",\"truth\",\"leads\",\"surprised\",\"stay\",\"release\",\"kept\",\"minute\",\"richard\",\"five\",\"dull\",\"killing\",\"using\",\"effort\",\"monster\",\"third\",\"brought\",\"musical\",\"feels\",\"suspense\",\"tried\",\"means\",\"whether\",\"comments\",\"sequences\",\"dog\",\"moving\",\"period\",\"peter\",\"lee\",\"needs\",\"doubt\",\"fi\",\"showing\",\"buy\",\"okay\",\"sci\",\"somehow\",\"soundtrack\",\"viewing\",\"rent\",\"herself\",\"nearly\",\"average\",\"songs\",\"theater\",\"episodes\",\"reviews\",\"follow\",\"whatever\",\"surprise\",\"feature\",\"form\",\"move\",\"forget\",\"realistic\",\"believable\",\"free\",\"material\",\"premise\",\"editing\",\"sister\",\"brothers\",\"deep\",\"imagine\",\"gun\",\"forced\",\"famous\",\"poorly\",\"deal\",\"crew\",\"western\",\"indeed\",\"expected\",\"check\",\"possibly\",\"fantastic\",\"lame\",\"society\",\"figure\",\"otherwise\",\"dr\",\"learn\",\"open\",\"paul\",\"eventually\",\"plus\",\"lady\",\"weak\",\"hear\",\"stage\",\"sexual\",\"leaves\",\"question\",\"note\",\"difficult\",\"sit\",\"towards\",\"romance\",\"box\",\"situation\",\"begin\",\"earlier\",\"personal\",\"atmosphere\",\"reading\",\"male\",\"screenplay\",\"wait\",\"decided\",\"joe\",\"battle\",\"interested\",\"powerful\",\"previous\",\"business\",\"greatest\",\"nor\",\"hot\",\"actual\",\"cheesy\",\"became\",\"acted\",\"worked\",\"animation\",\"subject\",\"island\",\"effect\",\"footage\",\"mess\",\"era\",\"oscar\",\"result\",\"meet\",\"rock\",\"credits\",\"features\",\"particular\",\"memorable\",\"whom\",\"boys\",\"air\",\"setting\",\"perfectly\",\"writers\",\"laughs\",\"street\",\"shame\",\"quickly\",\"rich\",\"older\",\"hands\",\"background\",\"keeps\",\"twist\",\"dramatic\",\"bill\",\"total\",\"present\",\"various\",\"appear\",\"pay\",\"telling\",\"directing\",\"william\",\"party\",\"alien\",\"unless\",\"harry\",\"mark\",\"crazy\",\"badly\",\"realize\",\"girlfriend\",\"forward\",\"front\",\"needed\",\"comment\",\"emotional\",\"imdb\",\"development\",\"fighting\",\"secret\",\"break\",\"fairly\",\"unique\",\"c\",\"baby\",\"outside\",\"married\",\"manages\",\"plenty\",\"villain\",\"apart\",\"missing\",\"masterpiece\",\"nature\",\"brings\",\"remake\",\"write\",\"former\",\"superb\",\"weird\",\"doctor\",\"clever\",\"escape\",\"list\",\"incredibly\",\"meets\",\"reasons\",\"hold\",\"created\",\"sounds\",\"sam\",\"inside\",\"unlike\",\"leading\",\"laughing\",\"ideas\",\"japanese\",\"season\",\"prison\",\"directors\",\"copy\",\"cute\",\"public\",\"return\",\"political\",\"violent\",\"success\",\"force\",\"create\",\"caught\",\"admit\",\"meant\",\"water\"],\"x1\":{\"__ndarray__\":\"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\",\"dtype\":\"float32\",\"order\":\"little\",\"shape\":[1000]},\"x2\":{\"__ndarray__\":\"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\",\"dtype\":\"float32\",\"order\":\"little\",\"shape\":[1000]}},\"selected\":{\"id\":\"1042\"},\"selection_policy\":{\"id\":\"1043\"}},\"id\":\"1029\",\"type\":\"ColumnDataSource\"},{\"attributes\":{},\"id\":\"1023\",\"type\":\"SaveTool\"},{\"attributes\":{},\"id\":\"1039\",\"type\":\"BasicTickFormatter\"},{\"attributes\":{\"source\":{\"id\":\"1029\"},\"text\":{\"field\":\"names\"},\"text_align\":\"center\",\"text_color\":{\"value\":\"#555555\"},\"text_font_size\":{\"value\":\"8pt\"},\"x\":{\"field\":\"x1\"},\"y\":{\"field\":\"x2\"},\"y_offset\":{\"value\":6}},\"id\":\"1035\",\"type\":\"LabelSet\"},{\"attributes\":{\"fill_color\":{\"value\":\"#1f77b4\"},\"line_color\":{\"value\":\"#1f77b4\"},\"size\":{\"units\":\"screen\",\"value\":8},\"x\":{\"field\":\"x1\"},\"y\":{\"field\":\"x2\"}},\"id\":\"1031\",\"type\":\"Scatter\"},{\"attributes\":{\"text\":\"word2vec T-SNE (eng model, top1000 words)\"},\"id\":\"1002\",\"type\":\"Title\"},{\"attributes\":{\"active_drag\":\"auto\",\"active_inspect\":\"auto\",\"active_multi\":null,\"active_scroll\":\"auto\",\"active_tap\":\"auto\",\"tools\":[{\"id\":\"1020\"},{\"id\":\"1021\"},{\"id\":\"1022\"},{\"id\":\"1023\"}]},\"id\":\"1024\",\"type\":\"Toolbar\"},{\"attributes\":{},\"id\":\"1004\",\"type\":\"DataRange1d\"},{\"attributes\":{},\"id\":\"1006\",\"type\":\"DataRange1d\"},{\"attributes\":{},\"id\":\"1008\",\"type\":\"LinearScale\"},{\"attributes\":{\"fill_alpha\":{\"value\":0.1},\"fill_color\":{\"value\":\"#1f77b4\"},\"line_alpha\":{\"value\":0.1},\"line_color\":{\"value\":\"#1f77b4\"},\"size\":{\"units\":\"screen\",\"value\":8},\"x\":{\"field\":\"x1\"},\"y\":{\"field\":\"x2\"}},\"id\":\"1032\",\"type\":\"Scatter\"},{\"attributes\":{},\"id\":\"1010\",\"type\":\"LinearScale\"}],\"root_ids\":[\"1001\"]},\"title\":\"Bokeh Application\",\"version\":\"2.1.1\"}};\n",
       "  var render_items = [{\"docid\":\"70d8945e-4955-42a5-9fa5-cc873fd1dc47\",\"root_ids\":[\"1001\"],\"roots\":{\"1001\":\"aaabc660-3810-42a3-800f-af7b5803a946\"}}];\n",
       "  root.Bokeh.embed.embed_items_notebook(docs_json, render_items);\n",
       "\n",
       "  }\n",
       "  if (root.Bokeh !== undefined) {\n",
       "    embed_document(root);\n",
       "  } else {\n",
       "    var attempts = 0;\n",
       "    var timer = setInterval(function(root) {\n",
       "      if (root.Bokeh !== undefined) {\n",
       "        clearInterval(timer);\n",
       "        embed_document(root);\n",
       "      } else {\n",
       "        attempts++;\n",
       "        if (attempts > 100) {\n",
       "          clearInterval(timer);\n",
       "          console.log(\"Bokeh: ERROR: Unable to run BokehJS code because BokehJS library is missing\");\n",
       "        }\n",
       "      }\n",
       "    }, 10, root)\n",
       "  }\n",
       "})(window);"
      ],
      "application/vnd.bokehjs_exec.v0+json": ""
     },
     "metadata": {
      "application/vnd.bokehjs_exec.v0+json": {
       "id": "1001"
      },
      "tags": []
     },
     "output_type": "display_data"
    }
   ],
   "source": [
    "from bokeh.models import ColumnDataSource, LabelSet\n",
    "from bokeh.plotting import figure, show, output_file\n",
    "from bokeh.io import output_notebook\n",
    "output_notebook()\n",
    "\n",
    "p = figure(tools=\"pan,wheel_zoom,reset,save\",\n",
    "           toolbar_location=\"above\",\n",
    "           title=\"word2vec T-SNE (eng model, top1000 words)\")\n",
    "\n",
    "source = ColumnDataSource(data=dict(x1=top_words_tsne[:,0],\n",
    "                                    x2=top_words_tsne[:,1],\n",
    "                                    names=top_words))\n",
    "\n",
    "p.scatter(x=\"x1\", y=\"x2\", size=8, source=source)\n",
    "\n",
    "labels = LabelSet(x=\"x1\", y=\"x2\", text=\"names\", y_offset=6,\n",
    "                  text_font_size=\"8pt\", text_color=\"#555555\",\n",
    "                  source=source, text_align='center')\n",
    "p.add_layout(labels)\n",
    "\n",
    "show(p)"
   ]
  },
  {
   "cell_type": "markdown",
   "metadata": {
    "id": "2Szes63RX-sl"
   },
   "source": [
    "Чтобы вычислить преобразование t-SNE быстрее (и иногда еще и эффективнее), можно сперва снизить размерность исходных данных с помощью, например, SVD, и потом применять t-SNE:"
   ]
  },
  {
   "cell_type": "code",
   "execution_count": null,
   "metadata": {
    "id": "p0R7hvIfX-sm"
   },
   "outputs": [],
   "source": [
    "from sklearn.decomposition import TruncatedSVD\n",
    "\n",
    "svd_50 = TruncatedSVD(n_components=50)\n",
    "top_words_vec_50 = svd_50.fit_transform(top_words_vec)\n",
    "top_words_tsne2 = TSNE(n_components=2, random_state=0).fit_transform(top_words_vec_50)"
   ]
  },
  {
   "cell_type": "code",
   "execution_count": null,
   "metadata": {
    "colab": {
     "base_uri": "https://localhost:8080/",
     "height": 616
    },
    "id": "zpUJyJibX-sn",
    "outputId": "abc537c8-123d-442c-b3e8-d0741cd857e3"
   },
   "outputs": [
    {
     "data": {
      "application/javascript": [
       "\n",
       "(function(root) {\n",
       "  function now() {\n",
       "    return new Date();\n",
       "  }\n",
       "\n",
       "  var force = true;\n",
       "\n",
       "  if (typeof root._bokeh_onload_callbacks === \"undefined\" || force === true) {\n",
       "    root._bokeh_onload_callbacks = [];\n",
       "    root._bokeh_is_loading = undefined;\n",
       "  }\n",
       "\n",
       "  var JS_MIME_TYPE = 'application/javascript';\n",
       "  var HTML_MIME_TYPE = 'text/html';\n",
       "  var EXEC_MIME_TYPE = 'application/vnd.bokehjs_exec.v0+json';\n",
       "  var CLASS_NAME = 'output_bokeh rendered_html';\n",
       "\n",
       "  /**\n",
       "   * Render data to the DOM node\n",
       "   */\n",
       "  function render(props, node) {\n",
       "    var script = document.createElement(\"script\");\n",
       "    node.appendChild(script);\n",
       "  }\n",
       "\n",
       "  /**\n",
       "   * Handle when an output is cleared or removed\n",
       "   */\n",
       "  function handleClearOutput(event, handle) {\n",
       "    var cell = handle.cell;\n",
       "\n",
       "    var id = cell.output_area._bokeh_element_id;\n",
       "    var server_id = cell.output_area._bokeh_server_id;\n",
       "    // Clean up Bokeh references\n",
       "    if (id != null && id in Bokeh.index) {\n",
       "      Bokeh.index[id].model.document.clear();\n",
       "      delete Bokeh.index[id];\n",
       "    }\n",
       "\n",
       "    if (server_id !== undefined) {\n",
       "      // Clean up Bokeh references\n",
       "      var cmd = \"from bokeh.io.state import curstate; print(curstate().uuid_to_server['\" + server_id + \"'].get_sessions()[0].document.roots[0]._id)\";\n",
       "      cell.notebook.kernel.execute(cmd, {\n",
       "        iopub: {\n",
       "          output: function(msg) {\n",
       "            var id = msg.content.text.trim();\n",
       "            if (id in Bokeh.index) {\n",
       "              Bokeh.index[id].model.document.clear();\n",
       "              delete Bokeh.index[id];\n",
       "            }\n",
       "          }\n",
       "        }\n",
       "      });\n",
       "      // Destroy server and session\n",
       "      var cmd = \"import bokeh.io.notebook as ion; ion.destroy_server('\" + server_id + \"')\";\n",
       "      cell.notebook.kernel.execute(cmd);\n",
       "    }\n",
       "  }\n",
       "\n",
       "  /**\n",
       "   * Handle when a new output is added\n",
       "   */\n",
       "  function handleAddOutput(event, handle) {\n",
       "    var output_area = handle.output_area;\n",
       "    var output = handle.output;\n",
       "\n",
       "    // limit handleAddOutput to display_data with EXEC_MIME_TYPE content only\n",
       "    if ((output.output_type != \"display_data\") || (!output.data.hasOwnProperty(EXEC_MIME_TYPE))) {\n",
       "      return\n",
       "    }\n",
       "\n",
       "    var toinsert = output_area.element.find(\".\" + CLASS_NAME.split(' ')[0]);\n",
       "\n",
       "    if (output.metadata[EXEC_MIME_TYPE][\"id\"] !== undefined) {\n",
       "      toinsert[toinsert.length - 1].firstChild.textContent = output.data[JS_MIME_TYPE];\n",
       "      // store reference to embed id on output_area\n",
       "      output_area._bokeh_element_id = output.metadata[EXEC_MIME_TYPE][\"id\"];\n",
       "    }\n",
       "    if (output.metadata[EXEC_MIME_TYPE][\"server_id\"] !== undefined) {\n",
       "      var bk_div = document.createElement(\"div\");\n",
       "      bk_div.innerHTML = output.data[HTML_MIME_TYPE];\n",
       "      var script_attrs = bk_div.children[0].attributes;\n",
       "      for (var i = 0; i < script_attrs.length; i++) {\n",
       "        toinsert[toinsert.length - 1].firstChild.setAttribute(script_attrs[i].name, script_attrs[i].value);\n",
       "        toinsert[toinsert.length - 1].firstChild.textContent = bk_div.children[0].textContent\n",
       "      }\n",
       "      // store reference to server id on output_area\n",
       "      output_area._bokeh_server_id = output.metadata[EXEC_MIME_TYPE][\"server_id\"];\n",
       "    }\n",
       "  }\n",
       "\n",
       "  function register_renderer(events, OutputArea) {\n",
       "\n",
       "    function append_mime(data, metadata, element) {\n",
       "      // create a DOM node to render to\n",
       "      var toinsert = this.create_output_subarea(\n",
       "        metadata,\n",
       "        CLASS_NAME,\n",
       "        EXEC_MIME_TYPE\n",
       "      );\n",
       "      this.keyboard_manager.register_events(toinsert);\n",
       "      // Render to node\n",
       "      var props = {data: data, metadata: metadata[EXEC_MIME_TYPE]};\n",
       "      render(props, toinsert[toinsert.length - 1]);\n",
       "      element.append(toinsert);\n",
       "      return toinsert\n",
       "    }\n",
       "\n",
       "    /* Handle when an output is cleared or removed */\n",
       "    events.on('clear_output.CodeCell', handleClearOutput);\n",
       "    events.on('delete.Cell', handleClearOutput);\n",
       "\n",
       "    /* Handle when a new output is added */\n",
       "    events.on('output_added.OutputArea', handleAddOutput);\n",
       "\n",
       "    /**\n",
       "     * Register the mime type and append_mime function with output_area\n",
       "     */\n",
       "    OutputArea.prototype.register_mime_type(EXEC_MIME_TYPE, append_mime, {\n",
       "      /* Is output safe? */\n",
       "      safe: true,\n",
       "      /* Index of renderer in `output_area.display_order` */\n",
       "      index: 0\n",
       "    });\n",
       "  }\n",
       "\n",
       "  // register the mime type if in Jupyter Notebook environment and previously unregistered\n",
       "  if (root.Jupyter !== undefined) {\n",
       "    var events = require('base/js/events');\n",
       "    var OutputArea = require('notebook/js/outputarea').OutputArea;\n",
       "\n",
       "    if (OutputArea.prototype.mime_types().indexOf(EXEC_MIME_TYPE) == -1) {\n",
       "      register_renderer(events, OutputArea);\n",
       "    }\n",
       "  }\n",
       "\n",
       "  \n",
       "  if (typeof (root._bokeh_timeout) === \"undefined\" || force === true) {\n",
       "    root._bokeh_timeout = Date.now() + 5000;\n",
       "    root._bokeh_failed_load = false;\n",
       "  }\n",
       "\n",
       "  var NB_LOAD_WARNING = {'data': {'text/html':\n",
       "     \"<div style='background-color: #fdd'>\\n\"+\n",
       "     \"<p>\\n\"+\n",
       "     \"BokehJS does not appear to have successfully loaded. If loading BokehJS from CDN, this \\n\"+\n",
       "     \"may be due to a slow or bad network connection. Possible fixes:\\n\"+\n",
       "     \"</p>\\n\"+\n",
       "     \"<ul>\\n\"+\n",
       "     \"<li>re-rerun `output_notebook()` to attempt to load from CDN again, or</li>\\n\"+\n",
       "     \"<li>use INLINE resources instead, as so:</li>\\n\"+\n",
       "     \"</ul>\\n\"+\n",
       "     \"<code>\\n\"+\n",
       "     \"from bokeh.resources import INLINE\\n\"+\n",
       "     \"output_notebook(resources=INLINE)\\n\"+\n",
       "     \"</code>\\n\"+\n",
       "     \"</div>\"}};\n",
       "\n",
       "  function display_loaded() {\n",
       "    var el = document.getElementById(null);\n",
       "    if (el != null) {\n",
       "      el.textContent = \"BokehJS is loading...\";\n",
       "    }\n",
       "    if (root.Bokeh !== undefined) {\n",
       "      if (el != null) {\n",
       "        el.textContent = \"BokehJS \" + root.Bokeh.version + \" successfully loaded.\";\n",
       "      }\n",
       "    } else if (Date.now() < root._bokeh_timeout) {\n",
       "      setTimeout(display_loaded, 100)\n",
       "    }\n",
       "  }\n",
       "\n",
       "\n",
       "  function run_callbacks() {\n",
       "    try {\n",
       "      root._bokeh_onload_callbacks.forEach(function(callback) {\n",
       "        if (callback != null)\n",
       "          callback();\n",
       "      });\n",
       "    } finally {\n",
       "      delete root._bokeh_onload_callbacks\n",
       "    }\n",
       "    console.debug(\"Bokeh: all callbacks have finished\");\n",
       "  }\n",
       "\n",
       "  function load_libs(css_urls, js_urls, callback) {\n",
       "    if (css_urls == null) css_urls = [];\n",
       "    if (js_urls == null) js_urls = [];\n",
       "\n",
       "    root._bokeh_onload_callbacks.push(callback);\n",
       "    if (root._bokeh_is_loading > 0) {\n",
       "      console.debug(\"Bokeh: BokehJS is being loaded, scheduling callback at\", now());\n",
       "      return null;\n",
       "    }\n",
       "    if (js_urls == null || js_urls.length === 0) {\n",
       "      run_callbacks();\n",
       "      return null;\n",
       "    }\n",
       "    console.debug(\"Bokeh: BokehJS not loaded, scheduling load and callback at\", now());\n",
       "    root._bokeh_is_loading = css_urls.length + js_urls.length;\n",
       "\n",
       "    function on_load() {\n",
       "      root._bokeh_is_loading--;\n",
       "      if (root._bokeh_is_loading === 0) {\n",
       "        console.debug(\"Bokeh: all BokehJS libraries/stylesheets loaded\");\n",
       "        run_callbacks()\n",
       "      }\n",
       "    }\n",
       "\n",
       "    function on_error() {\n",
       "      console.error(\"failed to load \" + url);\n",
       "    }\n",
       "\n",
       "    for (var i = 0; i < css_urls.length; i++) {\n",
       "      var url = css_urls[i];\n",
       "      const element = document.createElement(\"link\");\n",
       "      element.onload = on_load;\n",
       "      element.onerror = on_error;\n",
       "      element.rel = \"stylesheet\";\n",
       "      element.type = \"text/css\";\n",
       "      element.href = url;\n",
       "      console.debug(\"Bokeh: injecting link tag for BokehJS stylesheet: \", url);\n",
       "      document.body.appendChild(element);\n",
       "    }\n",
       "\n",
       "    const hashes = {\"https://cdn.bokeh.org/bokeh/release/bokeh-2.1.1.min.js\": \"kLr4fYcqcSpbuI95brIH3vnnYCquzzSxHPU6XGQCIkQRGJwhg0StNbj1eegrHs12\", \"https://cdn.bokeh.org/bokeh/release/bokeh-widgets-2.1.1.min.js\": \"xIGPmVtaOm+z0BqfSOMn4lOR6ciex448GIKG4eE61LsAvmGj48XcMQZtKcE/UXZe\", \"https://cdn.bokeh.org/bokeh/release/bokeh-tables-2.1.1.min.js\": \"Dc9u1wF/0zApGIWoBbH77iWEHtdmkuYWG839Uzmv8y8yBLXebjO9ZnERsde5Ln/P\", \"https://cdn.bokeh.org/bokeh/release/bokeh-gl-2.1.1.min.js\": \"cT9JaBz7GiRXdENrJLZNSC6eMNF3nh3fa5fTF51Svp+ukxPdwcU5kGXGPBgDCa2j\"};\n",
       "\n",
       "    for (var i = 0; i < js_urls.length; i++) {\n",
       "      var url = js_urls[i];\n",
       "      var element = document.createElement('script');\n",
       "      element.onload = on_load;\n",
       "      element.onerror = on_error;\n",
       "      element.async = false;\n",
       "      element.src = url;\n",
       "      if (url in hashes) {\n",
       "        element.crossOrigin = \"anonymous\";\n",
       "        element.integrity = \"sha384-\" + hashes[url];\n",
       "      }\n",
       "      console.debug(\"Bokeh: injecting script tag for BokehJS library: \", url);\n",
       "      document.head.appendChild(element);\n",
       "    }\n",
       "  };\n",
       "\n",
       "  function inject_raw_css(css) {\n",
       "    const element = document.createElement(\"style\");\n",
       "    element.appendChild(document.createTextNode(css));\n",
       "    document.body.appendChild(element);\n",
       "  }\n",
       "\n",
       "  \n",
       "  var js_urls = [\"https://cdn.bokeh.org/bokeh/release/bokeh-2.1.1.min.js\", \"https://cdn.bokeh.org/bokeh/release/bokeh-widgets-2.1.1.min.js\", \"https://cdn.bokeh.org/bokeh/release/bokeh-tables-2.1.1.min.js\", \"https://cdn.bokeh.org/bokeh/release/bokeh-gl-2.1.1.min.js\"];\n",
       "  var css_urls = [];\n",
       "  \n",
       "\n",
       "  var inline_js = [\n",
       "    function(Bokeh) {\n",
       "      Bokeh.set_log_level(\"info\");\n",
       "    },\n",
       "    function(Bokeh) {\n",
       "    \n",
       "    \n",
       "    }\n",
       "  ];\n",
       "\n",
       "  function run_inline_js() {\n",
       "    \n",
       "    if (root.Bokeh !== undefined || force === true) {\n",
       "      \n",
       "    for (var i = 0; i < inline_js.length; i++) {\n",
       "      inline_js[i].call(root, root.Bokeh);\n",
       "    }\n",
       "    } else if (Date.now() < root._bokeh_timeout) {\n",
       "      setTimeout(run_inline_js, 100);\n",
       "    } else if (!root._bokeh_failed_load) {\n",
       "      console.log(\"Bokeh: BokehJS failed to load within specified timeout.\");\n",
       "      root._bokeh_failed_load = true;\n",
       "    } else if (force !== true) {\n",
       "      var cell = $(document.getElementById(null)).parents('.cell').data().cell;\n",
       "      cell.output_area.append_execute_result(NB_LOAD_WARNING)\n",
       "    }\n",
       "\n",
       "  }\n",
       "\n",
       "  if (root._bokeh_is_loading === 0) {\n",
       "    console.debug(\"Bokeh: BokehJS loaded, going straight to plotting\");\n",
       "    run_inline_js();\n",
       "  } else {\n",
       "    load_libs(css_urls, js_urls, function() {\n",
       "      console.debug(\"Bokeh: BokehJS plotting callback run at\", now());\n",
       "      run_inline_js();\n",
       "    });\n",
       "  }\n",
       "}(window));"
      ],
      "application/vnd.bokehjs_load.v0+json": "\n(function(root) {\n  function now() {\n    return new Date();\n  }\n\n  var force = true;\n\n  if (typeof root._bokeh_onload_callbacks === \"undefined\" || force === true) {\n    root._bokeh_onload_callbacks = [];\n    root._bokeh_is_loading = undefined;\n  }\n\n  \n\n  \n  if (typeof (root._bokeh_timeout) === \"undefined\" || force === true) {\n    root._bokeh_timeout = Date.now() + 5000;\n    root._bokeh_failed_load = false;\n  }\n\n  var NB_LOAD_WARNING = {'data': {'text/html':\n     \"<div style='background-color: #fdd'>\\n\"+\n     \"<p>\\n\"+\n     \"BokehJS does not appear to have successfully loaded. If loading BokehJS from CDN, this \\n\"+\n     \"may be due to a slow or bad network connection. Possible fixes:\\n\"+\n     \"</p>\\n\"+\n     \"<ul>\\n\"+\n     \"<li>re-rerun `output_notebook()` to attempt to load from CDN again, or</li>\\n\"+\n     \"<li>use INLINE resources instead, as so:</li>\\n\"+\n     \"</ul>\\n\"+\n     \"<code>\\n\"+\n     \"from bokeh.resources import INLINE\\n\"+\n     \"output_notebook(resources=INLINE)\\n\"+\n     \"</code>\\n\"+\n     \"</div>\"}};\n\n  function display_loaded() {\n    var el = document.getElementById(null);\n    if (el != null) {\n      el.textContent = \"BokehJS is loading...\";\n    }\n    if (root.Bokeh !== undefined) {\n      if (el != null) {\n        el.textContent = \"BokehJS \" + root.Bokeh.version + \" successfully loaded.\";\n      }\n    } else if (Date.now() < root._bokeh_timeout) {\n      setTimeout(display_loaded, 100)\n    }\n  }\n\n\n  function run_callbacks() {\n    try {\n      root._bokeh_onload_callbacks.forEach(function(callback) {\n        if (callback != null)\n          callback();\n      });\n    } finally {\n      delete root._bokeh_onload_callbacks\n    }\n    console.debug(\"Bokeh: all callbacks have finished\");\n  }\n\n  function load_libs(css_urls, js_urls, callback) {\n    if (css_urls == null) css_urls = [];\n    if (js_urls == null) js_urls = [];\n\n    root._bokeh_onload_callbacks.push(callback);\n    if (root._bokeh_is_loading > 0) {\n      console.debug(\"Bokeh: BokehJS is being loaded, scheduling callback at\", now());\n      return null;\n    }\n    if (js_urls == null || js_urls.length === 0) {\n      run_callbacks();\n      return null;\n    }\n    console.debug(\"Bokeh: BokehJS not loaded, scheduling load and callback at\", now());\n    root._bokeh_is_loading = css_urls.length + js_urls.length;\n\n    function on_load() {\n      root._bokeh_is_loading--;\n      if (root._bokeh_is_loading === 0) {\n        console.debug(\"Bokeh: all BokehJS libraries/stylesheets loaded\");\n        run_callbacks()\n      }\n    }\n\n    function on_error() {\n      console.error(\"failed to load \" + url);\n    }\n\n    for (var i = 0; i < css_urls.length; i++) {\n      var url = css_urls[i];\n      const element = document.createElement(\"link\");\n      element.onload = on_load;\n      element.onerror = on_error;\n      element.rel = \"stylesheet\";\n      element.type = \"text/css\";\n      element.href = url;\n      console.debug(\"Bokeh: injecting link tag for BokehJS stylesheet: \", url);\n      document.body.appendChild(element);\n    }\n\n    const hashes = {\"https://cdn.bokeh.org/bokeh/release/bokeh-2.1.1.min.js\": \"kLr4fYcqcSpbuI95brIH3vnnYCquzzSxHPU6XGQCIkQRGJwhg0StNbj1eegrHs12\", \"https://cdn.bokeh.org/bokeh/release/bokeh-widgets-2.1.1.min.js\": \"xIGPmVtaOm+z0BqfSOMn4lOR6ciex448GIKG4eE61LsAvmGj48XcMQZtKcE/UXZe\", \"https://cdn.bokeh.org/bokeh/release/bokeh-tables-2.1.1.min.js\": \"Dc9u1wF/0zApGIWoBbH77iWEHtdmkuYWG839Uzmv8y8yBLXebjO9ZnERsde5Ln/P\", \"https://cdn.bokeh.org/bokeh/release/bokeh-gl-2.1.1.min.js\": \"cT9JaBz7GiRXdENrJLZNSC6eMNF3nh3fa5fTF51Svp+ukxPdwcU5kGXGPBgDCa2j\"};\n\n    for (var i = 0; i < js_urls.length; i++) {\n      var url = js_urls[i];\n      var element = document.createElement('script');\n      element.onload = on_load;\n      element.onerror = on_error;\n      element.async = false;\n      element.src = url;\n      if (url in hashes) {\n        element.crossOrigin = \"anonymous\";\n        element.integrity = \"sha384-\" + hashes[url];\n      }\n      console.debug(\"Bokeh: injecting script tag for BokehJS library: \", url);\n      document.head.appendChild(element);\n    }\n  };\n\n  function inject_raw_css(css) {\n    const element = document.createElement(\"style\");\n    element.appendChild(document.createTextNode(css));\n    document.body.appendChild(element);\n  }\n\n  \n  var js_urls = [\"https://cdn.bokeh.org/bokeh/release/bokeh-2.1.1.min.js\", \"https://cdn.bokeh.org/bokeh/release/bokeh-widgets-2.1.1.min.js\", \"https://cdn.bokeh.org/bokeh/release/bokeh-tables-2.1.1.min.js\", \"https://cdn.bokeh.org/bokeh/release/bokeh-gl-2.1.1.min.js\"];\n  var css_urls = [];\n  \n\n  var inline_js = [\n    function(Bokeh) {\n      Bokeh.set_log_level(\"info\");\n    },\n    function(Bokeh) {\n    \n    \n    }\n  ];\n\n  function run_inline_js() {\n    \n    if (root.Bokeh !== undefined || force === true) {\n      \n    for (var i = 0; i < inline_js.length; i++) {\n      inline_js[i].call(root, root.Bokeh);\n    }\n    } else if (Date.now() < root._bokeh_timeout) {\n      setTimeout(run_inline_js, 100);\n    } else if (!root._bokeh_failed_load) {\n      console.log(\"Bokeh: BokehJS failed to load within specified timeout.\");\n      root._bokeh_failed_load = true;\n    } else if (force !== true) {\n      var cell = $(document.getElementById(null)).parents('.cell').data().cell;\n      cell.output_area.append_execute_result(NB_LOAD_WARNING)\n    }\n\n  }\n\n  if (root._bokeh_is_loading === 0) {\n    console.debug(\"Bokeh: BokehJS loaded, going straight to plotting\");\n    run_inline_js();\n  } else {\n    load_libs(css_urls, js_urls, function() {\n      console.debug(\"Bokeh: BokehJS plotting callback run at\", now());\n      run_inline_js();\n    });\n  }\n}(window));"
     },
     "metadata": {
      "tags": []
     },
     "output_type": "display_data"
    },
    {
     "data": {
      "text/html": [
       "\n",
       "\n",
       "\n",
       "\n",
       "\n",
       "\n",
       "  <div class=\"bk-root\" id=\"afafa89d-849b-48a8-a02f-bf29a77fac7a\" data-root-id=\"1086\"></div>\n"
      ]
     },
     "metadata": {
      "tags": []
     },
     "output_type": "display_data"
    },
    {
     "data": {
      "application/javascript": [
       "(function(root) {\n",
       "  function embed_document(root) {\n",
       "    \n",
       "  var docs_json = {\"37a793b5-c6c2-4e81-b41f-6e528b028937\":{\"roots\":{\"references\":[{\"attributes\":{\"below\":[{\"id\":\"1097\"}],\"center\":[{\"id\":\"1100\"},{\"id\":\"1104\"},{\"id\":\"1120\"}],\"left\":[{\"id\":\"1101\"}],\"renderers\":[{\"id\":\"1118\"}],\"title\":{\"id\":\"1087\"},\"toolbar\":{\"id\":\"1109\"},\"toolbar_location\":\"above\",\"x_range\":{\"id\":\"1089\"},\"x_scale\":{\"id\":\"1093\"},\"y_range\":{\"id\":\"1091\"},\"y_scale\":{\"id\":\"1095\"}},\"id\":\"1086\",\"subtype\":\"Figure\",\"type\":\"Plot\"},{\"attributes\":{\"formatter\":{\"id\":\"1133\"},\"ticker\":{\"id\":\"1098\"}},\"id\":\"1097\",\"type\":\"LinearAxis\"},{\"attributes\":{\"active_drag\":\"auto\",\"active_inspect\":\"auto\",\"active_multi\":null,\"active_scroll\":\"auto\",\"active_tap\":\"auto\",\"tools\":[{\"id\":\"1105\"},{\"id\":\"1106\"},{\"id\":\"1107\"},{\"id\":\"1108\"}]},\"id\":\"1109\",\"type\":\"Toolbar\"},{\"attributes\":{},\"id\":\"1131\",\"type\":\"BasicTickFormatter\"},{\"attributes\":{},\"id\":\"1098\",\"type\":\"BasicTicker\"},{\"attributes\":{\"source\":{\"id\":\"1114\"},\"text\":{\"field\":\"names\"},\"text_align\":\"center\",\"text_color\":{\"value\":\"#555555\"},\"text_font_size\":{\"value\":\"8pt\"},\"x\":{\"field\":\"x1\"},\"y\":{\"field\":\"x2\"},\"y_offset\":{\"value\":6}},\"id\":\"1120\",\"type\":\"LabelSet\"},{\"attributes\":{\"fill_color\":{\"value\":\"#1f77b4\"},\"line_color\":{\"value\":\"#1f77b4\"},\"size\":{\"units\":\"screen\",\"value\":8},\"x\":{\"field\":\"x1\"},\"y\":{\"field\":\"x2\"}},\"id\":\"1116\",\"type\":\"Scatter\"},{\"attributes\":{\"axis\":{\"id\":\"1101\"},\"dimension\":1,\"ticker\":null},\"id\":\"1104\",\"type\":\"Grid\"},{\"attributes\":{},\"id\":\"1102\",\"type\":\"BasicTicker\"},{\"attributes\":{\"axis\":{\"id\":\"1097\"},\"ticker\":null},\"id\":\"1100\",\"type\":\"Grid\"},{\"attributes\":{},\"id\":\"1135\",\"type\":\"UnionRenderers\"},{\"attributes\":{},\"id\":\"1105\",\"type\":\"PanTool\"},{\"attributes\":{\"data_source\":{\"id\":\"1114\"},\"glyph\":{\"id\":\"1116\"},\"hover_glyph\":null,\"muted_glyph\":null,\"nonselection_glyph\":{\"id\":\"1117\"},\"selection_glyph\":null,\"view\":{\"id\":\"1119\"}},\"id\":\"1118\",\"type\":\"GlyphRenderer\"},{\"attributes\":{\"formatter\":{\"id\":\"1131\"},\"ticker\":{\"id\":\"1102\"}},\"id\":\"1101\",\"type\":\"LinearAxis\"},{\"attributes\":{},\"id\":\"1108\",\"type\":\"SaveTool\"},{\"attributes\":{\"data\":{\"names\":[\"the\",\"and\",\"a\",\"of\",\"to\",\"is\",\"it\",\"in\",\"i\",\"this\",\"that\",\"s\",\"was\",\"as\",\"with\",\"for\",\"movie\",\"but\",\"film\",\"you\",\"t\",\"on\",\"not\",\"he\",\"are\",\"his\",\"have\",\"be\",\"one\",\"all\",\"they\",\"at\",\"by\",\"who\",\"an\",\"from\",\"so\",\"like\",\"there\",\"or\",\"her\",\"just\",\"about\",\"out\",\"has\",\"if\",\"what\",\"some\",\"good\",\"can\",\"when\",\"more\",\"very\",\"she\",\"up\",\"no\",\"time\",\"even\",\"would\",\"their\",\"my\",\"which\",\"story\",\"only\",\"really\",\"see\",\"had\",\"were\",\"well\",\"me\",\"we\",\"than\",\"much\",\"bad\",\"been\",\"get\",\"people\",\"great\",\"into\",\"also\",\"do\",\"other\",\"first\",\"will\",\"him\",\"because\",\"most\",\"how\",\"don\",\"them\",\"make\",\"its\",\"made\",\"way\",\"could\",\"then\",\"too\",\"movies\",\"after\",\"any\",\"characters\",\"character\",\"films\",\"two\",\"think\",\"watch\",\"being\",\"plot\",\"many\",\"where\",\"never\",\"love\",\"seen\",\"little\",\"life\",\"acting\",\"best\",\"did\",\"off\",\"know\",\"over\",\"ever\",\"does\",\"show\",\"better\",\"man\",\"your\",\"end\",\"here\",\"scene\",\"while\",\"these\",\"why\",\"still\",\"scenes\",\"something\",\"say\",\"go\",\"m\",\"ve\",\"should\",\"back\",\"such\",\"real\",\"through\",\"those\",\"now\",\"re\",\"doesn\",\"watching\",\"thing\",\"director\",\"funny\",\"though\",\"years\",\"didn\",\"another\",\"actors\",\"new\",\"going\",\"old\",\"makes\",\"nothing\",\"actually\",\"before\",\"work\",\"look\",\"same\",\"find\",\"lot\",\"part\",\"few\",\"every\",\"again\",\"world\",\"action\",\"cast\",\"horror\",\"things\",\"us\",\"quite\",\"want\",\"down\",\"pretty\",\"young\",\"fact\",\"around\",\"seems\",\"enough\",\"both\",\"take\",\"long\",\"however\",\"thought\",\"got\",\"own\",\"give\",\"comedy\",\"between\",\"big\",\"d\",\"must\",\"series\",\"right\",\"may\",\"without\",\"role\",\"guy\",\"original\",\"interesting\",\"whole\",\"come\",\"isn\",\"times\",\"always\",\"saw\",\"least\",\"bit\",\"gets\",\"almost\",\"script\",\"point\",\"last\",\"music\",\"done\",\"minutes\",\"feel\",\"far\",\"since\",\"girl\",\"ll\",\"yet\",\"might\",\"making\",\"performance\",\"away\",\"family\",\"anything\",\"am\",\"probably\",\"hard\",\"woman\",\"tv\",\"kind\",\"fun\",\"rather\",\"day\",\"played\",\"worst\",\"each\",\"found\",\"sure\",\"anyone\",\"especially\",\"trying\",\"having\",\"our\",\"screen\",\"looking\",\"different\",\"believe\",\"sense\",\"place\",\"american\",\"although\",\"ending\",\"goes\",\"worth\",\"course\",\"set\",\"shows\",\"maybe\",\"three\",\"comes\",\"dvd\",\"money\",\"once\",\"everything\",\"plays\",\"effects\",\"put\",\"john\",\"looks\",\"actor\",\"main\",\"together\",\"during\",\"someone\",\"let\",\"wasn\",\"instead\",\"everyone\",\"war\",\"year\",\"reason\",\"takes\",\"special\",\"said\",\"true\",\"high\",\"night\",\"book\",\"seem\",\"job\",\"play\",\"watched\",\"audience\",\"later\",\"wife\",\"black\",\"death\",\"himself\",\"star\",\"half\",\"seeing\",\"used\",\"idea\",\"dead\",\"second\",\"men\",\"left\",\"excellent\",\"simply\",\"shot\",\"else\",\"beautiful\",\"sex\",\"completely\",\"budget\",\"father\",\"women\",\"mind\",\"house\",\"hollywood\",\"poor\",\"less\",\"fan\",\"along\",\"boring\",\"performances\",\"home\",\"line\",\"help\",\"nice\",\"try\",\"couple\",\"top\",\"version\",\"until\",\"either\",\"low\",\"next\",\"camera\",\"use\",\"friends\",\"short\",\"wrong\",\"start\",\"kids\",\"given\",\"mother\",\"read\",\"need\",\"full\",\"enjoy\",\"production\",\"classic\",\"perhaps\",\"school\",\"moments\",\"truly\",\"stupid\",\"keep\",\"awful\",\"getting\",\"rest\",\"video\",\"face\",\"tell\",\"mean\",\"others\",\"itself\",\"understand\",\"boy\",\"terrible\",\"small\",\"name\",\"style\",\"came\",\"won\",\"playing\",\"recommend\",\"doing\",\"lost\",\"person\",\"definitely\",\"gives\",\"dialogue\",\"entertaining\",\"wonderful\",\"often\",\"live\",\"lines\",\"hope\",\"went\",\"stars\",\"case\",\"remember\",\"written\",\"couldn\",\"head\",\"early\",\"title\",\"yes\",\"human\",\"perfect\",\"become\",\"based\",\"friend\",\"children\",\"certainly\",\"liked\",\"problem\",\"drama\",\"son\",\"picture\",\"several\",\"fans\",\"under\",\"lead\",\"laugh\",\"oh\",\"humor\",\"guys\",\"supposed\",\"direction\",\"against\",\"absolutely\",\"overall\",\"sort\",\"piece\",\"episode\",\"finally\",\"game\",\"lives\",\"called\",\"entire\",\"evil\",\"cinema\",\"worse\",\"care\",\"waste\",\"killer\",\"dark\",\"felt\",\"beginning\",\"despite\",\"seemed\",\"genre\",\"final\",\"b\",\"totally\",\"history\",\"wanted\",\"unfortunately\",\"town\",\"throughout\",\"white\",\"city\",\"becomes\",\"able\",\"days\",\"already\",\"turn\",\"guess\",\"run\",\"loved\",\"fine\",\"act\",\"mr\",\"flick\",\"today\",\"horrible\",\"heart\",\"side\",\"hand\",\"kill\",\"tries\",\"wants\",\"starts\",\"quality\",\"killed\",\"past\",\"themselves\",\"child\",\"close\",\"matter\",\"group\",\"sound\",\"turns\",\"daughter\",\"parts\",\"viewer\",\"etc\",\"expect\",\"fight\",\"car\",\"enjoyed\",\"directed\",\"writing\",\"decent\",\"type\",\"violence\",\"stop\",\"example\",\"stuff\",\"self\",\"kid\",\"amazing\",\"behind\",\"soon\",\"blood\",\"favorite\",\"works\",\"known\",\"thinking\",\"gave\",\"obviously\",\"sometimes\",\"hero\",\"eyes\",\"actress\",\"girls\",\"michael\",\"happened\",\"brilliant\",\"stories\",\"except\",\"myself\",\"hour\",\"coming\",\"says\",\"writer\",\"late\",\"husband\",\"extremely\",\"experience\",\"hell\",\"happens\",\"art\",\"heard\",\"police\",\"took\",\"feeling\",\"roles\",\"leave\",\"highly\",\"attempt\",\"taken\",\"interest\",\"wouldn\",\"murder\",\"moment\",\"slow\",\"score\",\"god\",\"including\",\"looked\",\"obvious\",\"involved\",\"living\",\"anyway\",\"robert\",\"david\",\"cool\",\"hours\",\"save\",\"ok\",\"age\",\"voice\",\"o\",\"career\",\"told\",\"across\",\"wonder\",\"none\",\"strong\",\"cut\",\"happen\",\"please\",\"gore\",\"simple\",\"hilarious\",\"brother\",\"important\",\"exactly\",\"power\",\"chance\",\"ago\",\"james\",\"particularly\",\"relationship\",\"documentary\",\"level\",\"complete\",\"light\",\"female\",\"annoying\",\"possible\",\"serious\",\"cannot\",\"hit\",\"crap\",\"sad\",\"running\",\"lack\",\"sequel\",\"talent\",\"usually\",\"whose\",\"basically\",\"reality\",\"ends\",\"seriously\",\"strange\",\"order\",\"finds\",\"call\",\"taking\",\"somewhat\",\"room\",\"happy\",\"silly\",\"scary\",\"middle\",\"turned\",\"alone\",\"apparently\",\"ridiculous\",\"change\",\"clich\",\"country\",\"mostly\",\"attention\",\"miss\",\"four\",\"usual\",\"shown\",\"body\",\"song\",\"wish\",\"jokes\",\"number\",\"opening\",\"released\",\"disappointed\",\"word\",\"jack\",\"thriller\",\"single\",\"opinion\",\"straight\",\"future\",\"english\",\"words\",\"parents\",\"novel\",\"saying\",\"cinematography\",\"yourself\",\"view\",\"cheap\",\"started\",\"french\",\"beyond\",\"huge\",\"talking\",\"non\",\"clearly\",\"sets\",\"talk\",\"major\",\"die\",\"shots\",\"rating\",\"problems\",\"knew\",\"knows\",\"gay\",\"modern\",\"fast\",\"british\",\"due\",\"events\",\"tells\",\"add\",\"bring\",\"comic\",\"clear\",\"ones\",\"above\",\"hate\",\"storyline\",\"york\",\"easy\",\"typical\",\"entertainment\",\"aren\",\"easily\",\"haven\",\"within\",\"local\",\"upon\",\"general\",\"dialog\",\"crime\",\"ten\",\"giving\",\"george\",\"lots\",\"sequence\",\"america\",\"ways\",\"falls\",\"similar\",\"begins\",\"appears\",\"class\",\"near\",\"mystery\",\"named\",\"bunch\",\"filmed\",\"king\",\"elements\",\"romantic\",\"certain\",\"review\",\"team\",\"predictable\",\"working\",\"avoid\",\"stand\",\"de\",\"earth\",\"sorry\",\"th\",\"e\",\"television\",\"mention\",\"enjoyable\",\"supporting\",\"tale\",\"theme\",\"message\",\"points\",\"cop\",\"gone\",\"among\",\"fall\",\"space\",\"tom\",\"viewers\",\"eye\",\"red\",\"truth\",\"leads\",\"surprised\",\"stay\",\"release\",\"kept\",\"minute\",\"richard\",\"five\",\"dull\",\"killing\",\"using\",\"effort\",\"monster\",\"third\",\"brought\",\"musical\",\"feels\",\"suspense\",\"tried\",\"means\",\"whether\",\"comments\",\"sequences\",\"dog\",\"moving\",\"period\",\"peter\",\"lee\",\"needs\",\"doubt\",\"fi\",\"showing\",\"buy\",\"okay\",\"sci\",\"somehow\",\"soundtrack\",\"viewing\",\"rent\",\"herself\",\"nearly\",\"average\",\"songs\",\"theater\",\"episodes\",\"reviews\",\"follow\",\"whatever\",\"surprise\",\"feature\",\"form\",\"move\",\"forget\",\"realistic\",\"believable\",\"free\",\"material\",\"premise\",\"editing\",\"sister\",\"brothers\",\"deep\",\"imagine\",\"gun\",\"forced\",\"famous\",\"poorly\",\"deal\",\"crew\",\"western\",\"indeed\",\"expected\",\"check\",\"possibly\",\"fantastic\",\"lame\",\"society\",\"figure\",\"otherwise\",\"dr\",\"learn\",\"open\",\"paul\",\"eventually\",\"plus\",\"lady\",\"weak\",\"hear\",\"stage\",\"sexual\",\"leaves\",\"question\",\"note\",\"difficult\",\"sit\",\"towards\",\"romance\",\"box\",\"situation\",\"begin\",\"earlier\",\"personal\",\"atmosphere\",\"reading\",\"male\",\"screenplay\",\"wait\",\"decided\",\"joe\",\"battle\",\"interested\",\"powerful\",\"previous\",\"business\",\"greatest\",\"nor\",\"hot\",\"actual\",\"cheesy\",\"became\",\"acted\",\"worked\",\"animation\",\"subject\",\"island\",\"effect\",\"footage\",\"mess\",\"era\",\"oscar\",\"result\",\"meet\",\"rock\",\"credits\",\"features\",\"particular\",\"memorable\",\"whom\",\"boys\",\"air\",\"setting\",\"perfectly\",\"writers\",\"laughs\",\"street\",\"shame\",\"quickly\",\"rich\",\"older\",\"hands\",\"background\",\"keeps\",\"twist\",\"dramatic\",\"bill\",\"total\",\"present\",\"various\",\"appear\",\"pay\",\"telling\",\"directing\",\"william\",\"party\",\"alien\",\"unless\",\"harry\",\"mark\",\"crazy\",\"badly\",\"realize\",\"girlfriend\",\"forward\",\"front\",\"needed\",\"comment\",\"emotional\",\"imdb\",\"development\",\"fighting\",\"secret\",\"break\",\"fairly\",\"unique\",\"c\",\"baby\",\"outside\",\"married\",\"manages\",\"plenty\",\"villain\",\"apart\",\"missing\",\"masterpiece\",\"nature\",\"brings\",\"remake\",\"write\",\"former\",\"superb\",\"weird\",\"doctor\",\"clever\",\"escape\",\"list\",\"incredibly\",\"meets\",\"reasons\",\"hold\",\"created\",\"sounds\",\"sam\",\"inside\",\"unlike\",\"leading\",\"laughing\",\"ideas\",\"japanese\",\"season\",\"prison\",\"directors\",\"copy\",\"cute\",\"public\",\"return\",\"political\",\"violent\",\"success\",\"force\",\"create\",\"caught\",\"admit\",\"meant\",\"water\"],\"x1\":{\"__ndarray__\":\"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\",\"dtype\":\"float32\",\"order\":\"little\",\"shape\":[1000]},\"x2\":{\"__ndarray__\":\"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\",\"dtype\":\"float32\",\"order\":\"little\",\"shape\":[1000]}},\"selected\":{\"id\":\"1134\"},\"selection_policy\":{\"id\":\"1135\"}},\"id\":\"1114\",\"type\":\"ColumnDataSource\"},{\"attributes\":{\"fill_alpha\":{\"value\":0.1},\"fill_color\":{\"value\":\"#1f77b4\"},\"line_alpha\":{\"value\":0.1},\"line_color\":{\"value\":\"#1f77b4\"},\"size\":{\"units\":\"screen\",\"value\":8},\"x\":{\"field\":\"x1\"},\"y\":{\"field\":\"x2\"}},\"id\":\"1117\",\"type\":\"Scatter\"},{\"attributes\":{},\"id\":\"1107\",\"type\":\"ResetTool\"},{\"attributes\":{\"text\":\"word2vec T-SNE (eng model, top1000 words, +SVD)\"},\"id\":\"1087\",\"type\":\"Title\"},{\"attributes\":{},\"id\":\"1106\",\"type\":\"WheelZoomTool\"},{\"attributes\":{},\"id\":\"1133\",\"type\":\"BasicTickFormatter\"},{\"attributes\":{},\"id\":\"1089\",\"type\":\"DataRange1d\"},{\"attributes\":{},\"id\":\"1095\",\"type\":\"LinearScale\"},{\"attributes\":{},\"id\":\"1091\",\"type\":\"DataRange1d\"},{\"attributes\":{},\"id\":\"1093\",\"type\":\"LinearScale\"},{\"attributes\":{\"source\":{\"id\":\"1114\"}},\"id\":\"1119\",\"type\":\"CDSView\"},{\"attributes\":{},\"id\":\"1134\",\"type\":\"Selection\"}],\"root_ids\":[\"1086\"]},\"title\":\"Bokeh Application\",\"version\":\"2.1.1\"}};\n",
       "  var render_items = [{\"docid\":\"37a793b5-c6c2-4e81-b41f-6e528b028937\",\"root_ids\":[\"1086\"],\"roots\":{\"1086\":\"afafa89d-849b-48a8-a02f-bf29a77fac7a\"}}];\n",
       "  root.Bokeh.embed.embed_items_notebook(docs_json, render_items);\n",
       "\n",
       "  }\n",
       "  if (root.Bokeh !== undefined) {\n",
       "    embed_document(root);\n",
       "  } else {\n",
       "    var attempts = 0;\n",
       "    var timer = setInterval(function(root) {\n",
       "      if (root.Bokeh !== undefined) {\n",
       "        clearInterval(timer);\n",
       "        embed_document(root);\n",
       "      } else {\n",
       "        attempts++;\n",
       "        if (attempts > 100) {\n",
       "          clearInterval(timer);\n",
       "          console.log(\"Bokeh: ERROR: Unable to run BokehJS code because BokehJS library is missing\");\n",
       "        }\n",
       "      }\n",
       "    }, 10, root)\n",
       "  }\n",
       "})(window);"
      ],
      "application/vnd.bokehjs_exec.v0+json": ""
     },
     "metadata": {
      "application/vnd.bokehjs_exec.v0+json": {
       "id": "1086"
      },
      "tags": []
     },
     "output_type": "display_data"
    }
   ],
   "source": [
    "output_notebook()\n",
    "\n",
    "p = figure(tools=\"pan,wheel_zoom,reset,save\",\n",
    "           toolbar_location=\"above\",\n",
    "           title=\"word2vec T-SNE (eng model, top1000 words, +SVD)\")\n",
    "\n",
    "source = ColumnDataSource(data=dict(x1=top_words_tsne2[:,0],\n",
    "                                    x2=top_words_tsne2[:,1],\n",
    "                                    names=top_words))\n",
    "\n",
    "p.scatter(x=\"x1\", y=\"x2\", size=8, source=source)\n",
    "\n",
    "labels = LabelSet(x=\"x1\", y=\"x2\", text=\"names\", y_offset=6,\n",
    "                  text_font_size=\"8pt\", text_color=\"#555555\",\n",
    "                  source=source, text_align='center')\n",
    "p.add_layout(labels)\n",
    "\n",
    "show(p)"
   ]
  },
  {
   "cell_type": "markdown",
   "metadata": {
    "id": "9qZcF3nGX-sp"
   },
   "source": [
    "## FastText\n",
    "\n",
    "FastText использует не только эмбеддинги слов, но и эмбеддинги n-грам. В корпусе каждое слово автоматически представляется в виде набора символьных n-грамм. Скажем, если мы установим n=3, то вектор для слова \"where\" будет представлен суммой векторов следующих триграм: \"<wh\", \"whe\", \"her\", \"ere\", \"re>\" (где \"<\" и \">\" символы, обозначающие начало и конец слова). Благодаря этому мы можем также получать вектора для слов, отсутствуюших в словаре, а также эффективно работать с текстами, содержащими ошибки и опечатки.\n",
    "\n",
    "* [Статья](https://aclweb.org/anthology/Q17-1010)\n",
    "* [Сайт](https://fasttext.cc/)\n",
    "* [Тьюториал](https://fasttext.cc/docs/en/support.html)\n",
    "* [Вектора для 157 языков](https://fasttext.cc/docs/en/crawl-vectors.html)\n",
    "* [Вектора, обученные на википедии](https://fasttext.cc/docs/en/pretrained-vectors.html) (отдельно для 294 разных языков)\n",
    "* [Репозиторий](https://github.com/facebookresearch/fasttext)\n",
    "\n",
    "Есть библиотека `fasttext` для питона (с готовыми моделями можно работать и через `gensim`)."
   ]
  },
  {
   "cell_type": "code",
   "execution_count": 33,
   "metadata": {},
   "outputs": [
    {
     "name": "stdout",
     "output_type": "stream",
     "text": [
      "\u001b[33mWARNING: Value for scheme.platlib does not match. Please report this to <https://github.com/pypa/pip/issues/10151>\n",
      "distutils: /usr/local/lib/python3.8/site-packages\n",
      "sysconfig: /usr/local/Cellar/python@3.8/3.8.6/Frameworks/Python.framework/Versions/3.8/lib/python3.8/site-packages\u001b[0m\n",
      "\u001b[33mWARNING: Value for scheme.purelib does not match. Please report this to <https://github.com/pypa/pip/issues/10151>\n",
      "distutils: /usr/local/lib/python3.8/site-packages\n",
      "sysconfig: /usr/local/Cellar/python@3.8/3.8.6/Frameworks/Python.framework/Versions/3.8/lib/python3.8/site-packages\u001b[0m\n",
      "\u001b[33mWARNING: Value for scheme.headers does not match. Please report this to <https://github.com/pypa/pip/issues/10151>\n",
      "distutils: /usr/local/include/python3.8/UNKNOWN\n",
      "sysconfig: /usr/local/Cellar/python@3.8/3.8.6/Frameworks/Python.framework/Versions/3.8/include/python3.8/UNKNOWN\u001b[0m\n",
      "\u001b[33mWARNING: Value for scheme.scripts does not match. Please report this to <https://github.com/pypa/pip/issues/10151>\n",
      "distutils: /usr/local/bin\n",
      "sysconfig: /usr/local/Cellar/python@3.8/3.8.6/Frameworks/Python.framework/Versions/3.8/bin\u001b[0m\n",
      "\u001b[33mWARNING: Value for scheme.data does not match. Please report this to <https://github.com/pypa/pip/issues/10151>\n",
      "distutils: /usr/local\n",
      "sysconfig: /usr/local/Cellar/python@3.8/3.8.6/Frameworks/Python.framework/Versions/3.8\u001b[0m\n",
      "\u001b[33mWARNING: Additional context:\n",
      "user = False\n",
      "home = None\n",
      "root = None\n",
      "prefix = None\u001b[0m\n",
      "Requirement already satisfied: pybind11 in /usr/local/lib/python3.8/site-packages (2.9.1)\n",
      "\u001b[33mWARNING: You are using pip version 21.2.1; however, version 22.0.3 is available.\n",
      "You should consider upgrading via the '/usr/local/opt/python@3.8/bin/python3.8 -m pip install --upgrade pip' command.\u001b[0m\n"
     ]
    }
   ],
   "source": [
    "! pip install pybind11"
   ]
  },
  {
   "cell_type": "code",
   "execution_count": 36,
   "metadata": {
    "colab": {
     "base_uri": "https://localhost:8080/"
    },
    "id": "NvzM2AL7Z8gl",
    "outputId": "029f689c-f496-4f60-8d2e-5ebe1fbb33d7"
   },
   "outputs": [],
   "source": [
    "# ! git clone https://github.com/facebookresearch/fastText.git\n",
    "# ! pip install fastText/."
   ]
  },
  {
   "cell_type": "code",
   "execution_count": null,
   "metadata": {
    "id": "s-IW_cBDX-sp"
   },
   "outputs": [],
   "source": [
    "import fasttext\n",
    "\n",
    "# так можно обучить свою модель \n",
    "ft_model = fasttext.train_unsupervised('clean_text.txt', minn=3, maxn=4, dim=300)"
   ]
  },
  {
   "cell_type": "code",
   "execution_count": null,
   "metadata": {
    "colab": {
     "base_uri": "https://localhost:8080/"
    },
    "id": "NNiuzf4DX-sr",
    "outputId": "6a815015-2a1f-4497-d96b-c7a05bdb9bfd"
   },
   "outputs": [
    {
     "data": {
      "text/plain": [
       "array([-3.57243493e-02,  1.58063918e-01, -1.31975710e-01, -4.58512418e-02,\n",
       "        1.07560731e-01,  2.17444181e-01, -1.32337660e-01,  2.36562882e-02,\n",
       "        2.35748856e-04,  2.43025094e-01,  3.16724479e-02,  1.34295747e-01,\n",
       "       -3.92858200e-02, -1.53035549e-02,  3.50480936e-02,  5.05375341e-02,\n",
       "        3.09894625e-02, -2.97354937e-01, -1.11680967e-03,  1.60186350e-01,\n",
       "        9.39910933e-02,  6.12168089e-02,  7.73812756e-02, -2.73895264e-02,\n",
       "       -2.06161775e-02, -6.11183990e-04,  1.21513978e-01, -1.09616116e-01,\n",
       "       -1.08716406e-01, -4.59789261e-02,  7.11279437e-02,  1.83442477e-02,\n",
       "        1.14463326e-02,  6.98599890e-02, -5.05972980e-03,  6.63157851e-02,\n",
       "       -6.26043826e-02, -1.02846317e-01, -1.00384094e-01, -4.58281077e-02,\n",
       "        6.26604706e-02,  1.24450661e-01, -7.05418810e-02, -2.00940818e-02,\n",
       "        9.89525095e-02, -5.13858572e-02,  1.43190414e-01, -8.29519033e-02,\n",
       "        5.86603582e-02,  5.74491732e-02,  5.35967126e-02, -8.11504871e-02,\n",
       "       -4.13022004e-02, -4.89385612e-02,  1.47303924e-01, -2.02642471e-01,\n",
       "       -9.69567336e-04, -2.07232889e-02,  6.61429986e-02,  5.12582548e-02,\n",
       "       -3.46167460e-02, -8.70176256e-02, -2.68741492e-02, -1.06329717e-01,\n",
       "       -4.04618196e-02, -1.50380403e-01, -4.02619429e-02,  6.57797083e-02,\n",
       "       -2.69193258e-02, -4.67493162e-02, -4.80095111e-02, -1.32716179e-01,\n",
       "       -1.31028622e-01,  5.54440580e-02,  8.62858742e-02,  1.45042285e-01,\n",
       "        8.71923938e-02, -3.20949927e-02,  1.48978028e-02,  1.93489285e-03,\n",
       "        5.44316769e-02,  1.83029890e-01,  1.45052344e-01,  3.70641015e-02,\n",
       "        1.13238588e-01, -9.07873884e-02,  8.11819881e-02,  9.91018340e-02,\n",
       "        3.17137875e-02, -1.10917144e-01,  3.04320138e-02, -4.55927588e-02,\n",
       "        1.58781216e-01,  9.51287150e-03,  3.97008425e-03, -1.71268210e-01,\n",
       "       -4.06642370e-02, -7.95229003e-02,  6.19767569e-02, -3.35138291e-04,\n",
       "        8.01996291e-02, -2.15760083e-03,  1.11182809e-01, -2.33279597e-02,\n",
       "       -2.03379542e-02,  1.45708084e-01, -5.80861568e-02, -8.04211274e-02,\n",
       "        1.43105373e-01,  6.48506209e-02,  1.31459996e-01, -1.99482329e-02,\n",
       "       -1.71590727e-02, -4.31983843e-02,  4.56410758e-02,  1.36778995e-01,\n",
       "        4.89749461e-02, -8.85981973e-03, -1.28492221e-01,  5.01314662e-02,\n",
       "        1.76036552e-01,  5.67089692e-02, -4.54425141e-02,  6.20641522e-02,\n",
       "       -5.36735775e-03,  3.44185941e-02,  1.58129439e-01,  4.25208025e-02,\n",
       "        6.14861166e-03, -4.33316901e-02,  1.21710241e-01, -5.00650657e-03,\n",
       "        5.16064130e-02,  7.29323998e-02, -1.12134457e-01,  3.87162529e-02,\n",
       "        4.36568260e-02, -5.65001182e-02, -9.12339985e-03, -3.68468165e-02,\n",
       "       -9.82870683e-02, -3.72663327e-02, -1.75505672e-02,  2.09059432e-01,\n",
       "        2.41721924e-02, -2.27678660e-02, -7.67727643e-02,  1.31814167e-01,\n",
       "       -4.75141406e-02, -9.95040312e-02, -2.01240443e-02, -4.20100503e-02,\n",
       "       -4.77649039e-03,  2.49261744e-02,  6.25884756e-02,  2.81689465e-02,\n",
       "       -7.06250593e-02,  1.60410181e-01, -4.61991224e-03,  1.66490674e-02,\n",
       "        1.15990378e-01,  8.75921994e-02,  5.88274486e-02,  4.79529910e-02,\n",
       "        1.51547596e-01,  4.62733693e-02,  1.21005019e-02,  1.43236965e-02,\n",
       "       -3.22300903e-02,  5.85649498e-02, -7.67225325e-02, -5.18948734e-02,\n",
       "       -1.27144873e-01,  9.23194885e-02, -6.87140301e-02, -6.62902836e-03,\n",
       "       -6.68666139e-02, -2.40327101e-02,  1.38832986e-01, -6.80172965e-02,\n",
       "       -1.15417860e-01, -1.38939288e-03,  2.91105509e-02,  4.12131064e-02,\n",
       "        3.26633714e-02,  1.50755957e-01,  1.88048825e-01,  6.43622726e-02,\n",
       "       -2.12058336e-01,  6.26223907e-02,  1.21869761e-02,  5.90685681e-02,\n",
       "        5.27202189e-02, -3.32240909e-02,  1.52026415e-01, -1.02895811e-01,\n",
       "       -1.60907596e-01, -3.00674867e-02,  2.58914661e-02, -8.82051513e-02,\n",
       "        1.84931725e-01,  1.26048774e-01,  8.56592804e-02, -4.08729864e-03,\n",
       "        4.34557609e-02,  6.41868934e-02, -8.14754963e-02,  5.32192402e-02,\n",
       "       -7.81964809e-02, -3.71568999e-03,  5.34816459e-03,  6.29046261e-02,\n",
       "       -1.78521097e-01,  3.91233675e-02, -1.37155697e-01, -2.31767260e-02,\n",
       "       -8.87872502e-02, -2.00256497e-01,  1.28802881e-02, -5.92309348e-02,\n",
       "        3.73778380e-02,  7.36574233e-02,  1.02951102e-01, -3.67718972e-02,\n",
       "       -1.04360357e-01,  1.38254702e-01, -1.03305869e-01, -2.60867011e-02,\n",
       "       -4.51161340e-02,  8.18912610e-02, -1.74232312e-02,  3.14154267e-01,\n",
       "        3.70708480e-02, -2.15460323e-02,  1.56376846e-02,  3.09676714e-02,\n",
       "       -9.33982134e-02,  7.71449273e-03, -4.40897420e-02,  1.05632983e-01,\n",
       "       -1.97907463e-01, -4.35676575e-02,  2.86257006e-02,  3.70986015e-02,\n",
       "        1.77731276e-01, -2.29750350e-01,  1.43632054e-01, -8.06624964e-02,\n",
       "       -5.01213856e-02,  1.72958657e-01, -2.03536659e-01, -2.02668663e-02,\n",
       "       -5.72857037e-02, -2.11207941e-02,  5.28866425e-02, -5.27832983e-03,\n",
       "        1.80434525e-01,  2.00603455e-02,  5.94908092e-03, -1.08605381e-02,\n",
       "       -3.67511855e-03, -4.16590013e-02,  2.40983162e-02,  1.22906864e-01,\n",
       "        7.15216920e-02,  8.89238343e-02, -7.49600306e-02,  6.76286444e-02,\n",
       "       -8.97115003e-03, -5.12092002e-02, -3.12860310e-02,  2.42284145e-02,\n",
       "        1.95348546e-01, -2.76240595e-02, -4.89457771e-02, -7.54649788e-02,\n",
       "        5.95561080e-02,  5.66050000e-02, -5.53822890e-02, -7.30858510e-03,\n",
       "        1.92675158e-01,  2.11838633e-01,  7.56252855e-02, -5.50689101e-02,\n",
       "        2.03147694e-01,  1.57373115e-01, -1.96769424e-02,  1.07339874e-01,\n",
       "        9.32959691e-02,  2.54439283e-03,  4.51713689e-02, -7.40312114e-02,\n",
       "        8.74231830e-02,  6.14446998e-02,  3.08033228e-02,  5.08478880e-02,\n",
       "       -1.10164799e-01,  1.39026985e-01, -3.20530161e-02, -1.12873517e-01],\n",
       "      dtype=float32)"
      ]
     },
     "execution_count": 22,
     "metadata": {
      "tags": []
     },
     "output_type": "execute_result"
    }
   ],
   "source": [
    "ft_model.get_word_vector(\"movie\")"
   ]
  },
  {
   "cell_type": "code",
   "execution_count": null,
   "metadata": {
    "colab": {
     "base_uri": "https://localhost:8080/"
    },
    "id": "TsZnXqH8X-st",
    "outputId": "dee8c642-68b4-429b-b9e9-bb36b2115fd4"
   },
   "outputs": [
    {
     "data": {
      "text/plain": [
       "[(0.9999606013298035, 'actors'),\n",
       " (0.9999364018440247, 'attractive'),\n",
       " (0.9999338984489441, 'fact'),\n",
       " (0.9999316334724426, 'actual'),\n",
       " (0.9999226331710815, 'display'),\n",
       " (0.9999191761016846, 'terrific'),\n",
       " (0.9999188780784607, 'battle'),\n",
       " (0.9999170899391174, 'israel'),\n",
       " (0.9999163746833801, 'british'),\n",
       " (0.9999160170555115, 'predator')]"
      ]
     },
     "execution_count": 23,
     "metadata": {
      "tags": []
     },
     "output_type": "execute_result"
    }
   ],
   "source": [
    "ft_model.get_nearest_neighbors('actor')"
   ]
  },
  {
   "cell_type": "code",
   "execution_count": null,
   "metadata": {
    "colab": {
     "base_uri": "https://localhost:8080/"
    },
    "id": "iKR3FzCFX-sv",
    "outputId": "3fff5a83-5747-4066-ec8a-ff32219d9f09"
   },
   "outputs": [
    {
     "data": {
      "text/plain": [
       "[(0.999938428401947, 'act'),\n",
       " (0.9998956918716431, 'exactly'),\n",
       " (0.9998955726623535, 'actress'),\n",
       " (0.999885082244873, 'seemingly'),\n",
       " (0.9998830556869507, 'terrible'),\n",
       " (0.9998824596405029, 'surprisingly'),\n",
       " (0.9998821020126343, 'believable'),\n",
       " (0.9998811483383179, 'double'),\n",
       " (0.9998807907104492, 'written'),\n",
       " (0.9998795986175537, 'cable')]"
      ]
     },
     "execution_count": 24,
     "metadata": {
      "tags": []
     },
     "output_type": "execute_result"
    }
   ],
   "source": [
    "ft_model.get_analogies(\"woman\", \"man\", \"actor\")"
   ]
  },
  {
   "cell_type": "code",
   "execution_count": null,
   "metadata": {
    "colab": {
     "base_uri": "https://localhost:8080/"
    },
    "id": "ttAgMPC_X-sx",
    "outputId": "8c20d399-be7b-4033-bffd-579754241e51"
   },
   "outputs": [
    {
     "data": {
      "text/plain": [
       "[(0.9999391436576843, 'act'),\n",
       " (0.9998903274536133, 'actors'),\n",
       " (0.9998863339424133, 'actor'),\n",
       " (0.9998792409896851, 'actress'),\n",
       " (0.9998623728752136, 'single'),\n",
       " (0.9998517632484436, 'actual'),\n",
       " (0.9998226761817932, 'terrible'),\n",
       " (0.9998196363449097, 'exact'),\n",
       " (0.9998190402984619, 'plot'),\n",
       " (0.9998172521591187, 'wrong')]"
      ]
     },
     "execution_count": 25,
     "metadata": {
      "tags": []
     },
     "output_type": "execute_result"
    }
   ],
   "source": [
    "# проблема с опечатками решена\n",
    "\n",
    "ft_model.get_nearest_neighbors('actr')"
   ]
  },
  {
   "cell_type": "code",
   "execution_count": null,
   "metadata": {
    "colab": {
     "base_uri": "https://localhost:8080/"
    },
    "id": "V9alEdz0X-s0",
    "outputId": "4904ccc0-b8b9-4482-8b25-9ca94c11cbe9"
   },
   "outputs": [
    {
     "data": {
      "text/plain": [
       "[(0.9999324679374695, 'reviews'),\n",
       " (0.9999246597290039, 'review'),\n",
       " (0.9999151825904846, 'recommended'),\n",
       " (0.9999132752418518, 'rented'),\n",
       " (0.9998916387557983, 'waste'),\n",
       " (0.999889075756073, 'movie'),\n",
       " (0.9998835921287537, 'thank'),\n",
       " (0.9998812079429626, 'not'),\n",
       " (0.9998751878738403, 'watchable'),\n",
       " (0.9998645782470703, 'only')]"
      ]
     },
     "execution_count": 26,
     "metadata": {
      "tags": []
     },
     "output_type": "execute_result"
    }
   ],
   "source": [
    "# проблема с out of vocabulary словами - тоже\n",
    "\n",
    "ft_model.get_nearest_neighbors('moviegeek')"
   ]
  },
  {
   "cell_type": "markdown",
   "metadata": {
    "id": "0f5FRfEMX-s3"
   },
   "source": [
    "Кроме этого, fastText можно использовать для классификации, для этого нужен следующий формат размеченных данных:\n",
    "\n",
    "__label_1__  text_1\n",
    "\n",
    "__label_2__  text_2\n",
    "\n",
    "..."
   ]
  },
  {
   "cell_type": "code",
   "execution_count": 31,
   "metadata": {
    "colab": {
     "base_uri": "https://localhost:8080/"
    },
    "id": "HSzVZF3bX-s3",
    "outputId": "d21f5ad0-2d88-4ffe-de7f-6f788e9c433b"
   },
   "outputs": [
    {
     "name": "stdout",
     "output_type": "stream",
     "text": [
      "--2022-02-24 10:34:11--  https://www.dropbox.com/s/fnpq3z4bcnoktiv/positive.csv?dl=0\n",
      "Resolving www.dropbox.com (www.dropbox.com)... 2620:100:6026:18::a27d:4612, 162.125.70.18\n",
      "Connecting to www.dropbox.com (www.dropbox.com)|2620:100:6026:18::a27d:4612|:443... connected.\n",
      "HTTP request sent, awaiting response... 301 Moved Permanently\n",
      "Location: /s/raw/fnpq3z4bcnoktiv/positive.csv [following]\n",
      "--2022-02-24 10:34:12--  https://www.dropbox.com/s/raw/fnpq3z4bcnoktiv/positive.csv\n",
      "Reusing existing connection to [www.dropbox.com]:443.\n",
      "HTTP request sent, awaiting response... 302 Found\n",
      "Location: https://uc426b2461554d4ddf9fdb0648cc.dl.dropboxusercontent.com/cd/0/inline/BgQfBPnw9qYID_GALpb6RJb4hVS_mf9tO3Jn_27ZFIBFC8QvUSifdgeb2y6sW1de0nvzhHnz_Squy22sOuUOboX2n9qWAdZLQeQ438yZ4toGLkTNRQPzlmaa7lfSCMZeDQxULkYLA8_bTr6mhhXxiRWt/file# [following]\n",
      "--2022-02-24 10:34:12--  https://uc426b2461554d4ddf9fdb0648cc.dl.dropboxusercontent.com/cd/0/inline/BgQfBPnw9qYID_GALpb6RJb4hVS_mf9tO3Jn_27ZFIBFC8QvUSifdgeb2y6sW1de0nvzhHnz_Squy22sOuUOboX2n9qWAdZLQeQ438yZ4toGLkTNRQPzlmaa7lfSCMZeDQxULkYLA8_bTr6mhhXxiRWt/file\n",
      "Resolving uc426b2461554d4ddf9fdb0648cc.dl.dropboxusercontent.com (uc426b2461554d4ddf9fdb0648cc.dl.dropboxusercontent.com)... 2620:100:6026:15::a27d:460f, 162.125.70.15\n",
      "Connecting to uc426b2461554d4ddf9fdb0648cc.dl.dropboxusercontent.com (uc426b2461554d4ddf9fdb0648cc.dl.dropboxusercontent.com)|2620:100:6026:15::a27d:460f|:443... connected.\n",
      "HTTP request sent, awaiting response... 200 OK\n",
      "Length: 26233379 (25M) [text/plain]\n",
      "Saving to: ‘positive.csv’\n",
      "\n",
      "positive.csv        100%[===================>]  25.02M  10.8MB/s    in 2.3s    \n",
      "\n",
      "2022-02-24 10:34:15 (10.8 MB/s) - ‘positive.csv’ saved [26233379/26233379]\n",
      "\n"
     ]
    }
   ],
   "source": [
    "# !wget -O positive.csv https://www.dropbox.com/s/fnpq3z4bcnoktiv/positive.csv?dl=0"
   ]
  },
  {
   "cell_type": "code",
   "execution_count": 32,
   "metadata": {
    "colab": {
     "base_uri": "https://localhost:8080/"
    },
    "id": "yVDNoIcuX-s5",
    "outputId": "0be12bc3-c72b-46c2-d20e-d5f7e997e73d"
   },
   "outputs": [],
   "source": [
    "# !wget -O negative.csv https://www.dropbox.com/s/r6u59ljhhjdg6j0/negative.csv?dl=0"
   ]
  },
  {
   "cell_type": "code",
   "execution_count": null,
   "metadata": {
    "colab": {
     "base_uri": "https://localhost:8080/",
     "height": 201
    },
    "id": "HLidtYsuX-s8",
    "outputId": "2603f8c4-1167-43a8-f2a4-d00efdecafd0"
   },
   "outputs": [
    {
     "data": {
      "text/html": [
       "<div>\n",
       "<style scoped>\n",
       "    .dataframe tbody tr th:only-of-type {\n",
       "        vertical-align: middle;\n",
       "    }\n",
       "\n",
       "    .dataframe tbody tr th {\n",
       "        vertical-align: top;\n",
       "    }\n",
       "\n",
       "    .dataframe thead th {\n",
       "        text-align: right;\n",
       "    }\n",
       "</style>\n",
       "<table border=\"1\" class=\"dataframe\">\n",
       "  <thead>\n",
       "    <tr style=\"text-align: right;\">\n",
       "      <th></th>\n",
       "      <th>text</th>\n",
       "      <th>label</th>\n",
       "    </tr>\n",
       "  </thead>\n",
       "  <tbody>\n",
       "    <tr>\n",
       "      <th>0</th>\n",
       "      <td>@first_timee хоть я и школота, но поверь, у на...</td>\n",
       "      <td>positive</td>\n",
       "    </tr>\n",
       "    <tr>\n",
       "      <th>1</th>\n",
       "      <td>Да, все-таки он немного похож на него. Но мой ...</td>\n",
       "      <td>positive</td>\n",
       "    </tr>\n",
       "    <tr>\n",
       "      <th>2</th>\n",
       "      <td>RT @KatiaCheh: Ну ты идиотка) я испугалась за ...</td>\n",
       "      <td>positive</td>\n",
       "    </tr>\n",
       "    <tr>\n",
       "      <th>3</th>\n",
       "      <td>RT @digger2912: \"Кто то в углу сидит и погибае...</td>\n",
       "      <td>positive</td>\n",
       "    </tr>\n",
       "    <tr>\n",
       "      <th>4</th>\n",
       "      <td>@irina_dyshkant Вот что значит страшилка :D\\nН...</td>\n",
       "      <td>positive</td>\n",
       "    </tr>\n",
       "  </tbody>\n",
       "</table>\n",
       "</div>"
      ],
      "text/plain": [
       "                                                text     label\n",
       "0  @first_timee хоть я и школота, но поверь, у на...  positive\n",
       "1  Да, все-таки он немного похож на него. Но мой ...  positive\n",
       "2  RT @KatiaCheh: Ну ты идиотка) я испугалась за ...  positive\n",
       "3  RT @digger2912: \"Кто то в углу сидит и погибае...  positive\n",
       "4  @irina_dyshkant Вот что значит страшилка :D\\nН...  positive"
      ]
     },
     "execution_count": 29,
     "metadata": {
      "tags": []
     },
     "output_type": "execute_result"
    }
   ],
   "source": [
    "positive = pd.read_csv('positive.csv', sep=';', usecols=[3], names=['text'])\n",
    "positive['label'] = ['positive'] * len(positive)\n",
    "negative = pd.read_csv('negative.csv', sep=';', usecols=[3], names=['text'])\n",
    "negative['label'] = ['negative'] * len(negative)\n",
    "df = positive.append(negative)\n",
    "df.head()"
   ]
  },
  {
   "cell_type": "code",
   "execution_count": null,
   "metadata": {
    "colab": {
     "base_uri": "https://localhost:8080/"
    },
    "id": "-YB6B4CvmNJ8",
    "outputId": "f2d73298-f22c-434d-ddd6-ae2f020457ec"
   },
   "outputs": [
    {
     "data": {
      "text/plain": [
       "226834"
      ]
     },
     "execution_count": 30,
     "metadata": {
      "tags": []
     },
     "output_type": "execute_result"
    }
   ],
   "source": [
    "len(df)"
   ]
  },
  {
   "cell_type": "markdown",
   "metadata": {
    "id": "5jtZR-uYX-tA"
   },
   "source": [
    "Проведем стандартный препроцессинг:"
   ]
  },
  {
   "cell_type": "code",
   "execution_count": 37,
   "metadata": {
    "colab": {
     "base_uri": "https://localhost:8080/"
    },
    "id": "sI706u75jFdq",
    "outputId": "b9704bec-0fc7-4ede-e698-ade33a501bc0"
   },
   "outputs": [],
   "source": [
    "# ! pip install pymorphy2"
   ]
  },
  {
   "cell_type": "code",
   "execution_count": null,
   "metadata": {
    "id": "3qAiiLvsX-tB"
   },
   "outputs": [],
   "source": [
    "import pymorphy2\n",
    "from functools import lru_cache\n",
    "from multiprocessing import Pool\n",
    "import numpy as np\n",
    "from sklearn.model_selection import train_test_split\n",
    "from tqdm import tqdm_notebook as tqdm\n",
    "import re\n",
    "\n",
    "m = pymorphy2.MorphAnalyzer()\n",
    "\n",
    "regex = re.compile(\"[А-Яа-я:=!\\)\\()A-z\\_\\%/|]+\")\n",
    "\n",
    "def words_only(text, regex=regex):\n",
    "    try:\n",
    "        return regex.findall(text)\n",
    "    except:\n",
    "        return []"
   ]
  },
  {
   "cell_type": "code",
   "execution_count": null,
   "metadata": {
    "id": "9zakhvVrX-tC"
   },
   "outputs": [],
   "source": [
    "#@lru_cache(maxsize=128)\n",
    "# если вы работаете не в колабе, можно заменить pymorphy на mystem и раскомментирвать первую строку про lru_cache\n",
    "def lemmatize(text, pymorphy=m):\n",
    "    try:\n",
    "        return \" \".join([pymorphy.parse(w)[0].normal_form for w in text])\n",
    "    except:\n",
    "        return \" \"    "
   ]
  },
  {
   "cell_type": "code",
   "execution_count": null,
   "metadata": {
    "id": "nDQdq4MLX-tE"
   },
   "outputs": [],
   "source": [
    "def clean_text(text):\n",
    "    return lemmatize(words_only(text))"
   ]
  },
  {
   "cell_type": "code",
   "execution_count": null,
   "metadata": {
    "colab": {
     "base_uri": "https://localhost:8080/",
     "height": 298,
     "referenced_widgets": [
      "aa076d7615674946b509235fcb92aa0a",
      "69311c168acd4954be66405e077b7dc5",
      "532824cda06041e7b3d4c8985236e032",
      "99eff72480f14593a4102cb22ea85f1d",
      "244528144b3649f8a4fd882e08a4dfc9",
      "7f6fc5fb67b94780b70441158ab3de22",
      "bef16f092f69427d849be7d23749710d",
      "28aa063c4da94738a549711c8aacd48a"
     ]
    },
    "id": "fj6dS127X-tG",
    "outputId": "70bfd407-98ce-4670-be08-b248ad007711"
   },
   "outputs": [
    {
     "name": "stderr",
     "output_type": "stream",
     "text": [
      "/usr/local/lib/python3.6/dist-packages/ipykernel_launcher.py:1: TqdmDeprecationWarning: This function will be removed in tqdm==5.0.0\n",
      "Please use `tqdm.notebook.tqdm` instead of `tqdm.tqdm_notebook`\n",
      "  \"\"\"Entry point for launching an IPython kernel.\n"
     ]
    },
    {
     "data": {
      "application/vnd.jupyter.widget-view+json": {
       "model_id": "aa076d7615674946b509235fcb92aa0a",
       "version_major": 2,
       "version_minor": 0
      },
      "text/plain": [
       "HBox(children=(FloatProgress(value=0.0, max=226834.0), HTML(value='')))"
      ]
     },
     "metadata": {
      "tags": []
     },
     "output_type": "display_data"
    },
    {
     "name": "stdout",
     "output_type": "stream",
     "text": [
      "\n"
     ]
    },
    {
     "data": {
      "text/html": [
       "<div>\n",
       "<style scoped>\n",
       "    .dataframe tbody tr th:only-of-type {\n",
       "        vertical-align: middle;\n",
       "    }\n",
       "\n",
       "    .dataframe tbody tr th {\n",
       "        vertical-align: top;\n",
       "    }\n",
       "\n",
       "    .dataframe thead th {\n",
       "        text-align: right;\n",
       "    }\n",
       "</style>\n",
       "<table border=\"1\" class=\"dataframe\">\n",
       "  <thead>\n",
       "    <tr style=\"text-align: right;\">\n",
       "      <th></th>\n",
       "      <th>text</th>\n",
       "      <th>label</th>\n",
       "      <th>lemmas</th>\n",
       "    </tr>\n",
       "  </thead>\n",
       "  <tbody>\n",
       "    <tr>\n",
       "      <th>0</th>\n",
       "      <td>@first_timee хоть я и школота, но поверь, у на...</td>\n",
       "      <td>positive</td>\n",
       "      <td>first_timee хоть я и школотый но поверь у мы т...</td>\n",
       "    </tr>\n",
       "    <tr>\n",
       "      <th>1</th>\n",
       "      <td>Да, все-таки он немного похож на него. Но мой ...</td>\n",
       "      <td>positive</td>\n",
       "      <td>да всё таки он немного похожий на он но мой ма...</td>\n",
       "    </tr>\n",
       "    <tr>\n",
       "      <th>2</th>\n",
       "      <td>RT @KatiaCheh: Ну ты идиотка) я испугалась за ...</td>\n",
       "      <td>positive</td>\n",
       "      <td>rt katiacheh: ну ты идиотка) я испугаться за т...</td>\n",
       "    </tr>\n",
       "    <tr>\n",
       "      <th>3</th>\n",
       "      <td>RT @digger2912: \"Кто то в углу сидит и погибае...</td>\n",
       "      <td>positive</td>\n",
       "      <td>rt digger : кто то в угол сидеть и погибать от...</td>\n",
       "    </tr>\n",
       "    <tr>\n",
       "      <th>4</th>\n",
       "      <td>@irina_dyshkant Вот что значит страшилка :D\\nН...</td>\n",
       "      <td>positive</td>\n",
       "      <td>irina_dyshkant вот что значит страшилка :d но ...</td>\n",
       "    </tr>\n",
       "  </tbody>\n",
       "</table>\n",
       "</div>"
      ],
      "text/plain": [
       "                                                text  ...                                             lemmas\n",
       "0  @first_timee хоть я и школота, но поверь, у на...  ...  first_timee хоть я и школотый но поверь у мы т...\n",
       "1  Да, все-таки он немного похож на него. Но мой ...  ...  да всё таки он немного похожий на он но мой ма...\n",
       "2  RT @KatiaCheh: Ну ты идиотка) я испугалась за ...  ...  rt katiacheh: ну ты идиотка) я испугаться за т...\n",
       "3  RT @digger2912: \"Кто то в углу сидит и погибае...  ...  rt digger : кто то в угол сидеть и погибать от...\n",
       "4  @irina_dyshkant Вот что значит страшилка :D\\nН...  ...  irina_dyshkant вот что значит страшилка :d но ...\n",
       "\n",
       "[5 rows x 3 columns]"
      ]
     },
     "execution_count": 58,
     "metadata": {
      "tags": []
     },
     "output_type": "execute_result"
    }
   ],
   "source": [
    "df['lemmas'] = list(tqdm(map(clean_text, df['text']), total=len(df)))\n",
    "df.head()"
   ]
  },
  {
   "cell_type": "markdown",
   "metadata": {
    "id": "3QuPeLrvX-tI"
   },
   "source": [
    "Запишем полученные данные в формате для обучения классификатора:"
   ]
  },
  {
   "cell_type": "code",
   "execution_count": null,
   "metadata": {
    "colab": {
     "base_uri": "https://localhost:8080/"
    },
    "id": "AGOFQSekX-tI",
    "outputId": "ce151666-d45d-47ef-aa98-3cbe8fb3f47e"
   },
   "outputs": [
    {
     "name": "stdout",
     "output_type": "stream",
     "text": [
      "total train examples 151978\n",
      "total test examples 74856\n"
     ]
    }
   ],
   "source": [
    "X = df.lemmas.tolist()\n",
    "y = df.label.tolist()\n",
    "\n",
    "X, y = np.array(X), np.array(y)\n",
    "\n",
    "X_train, X_test, y_train, y_test = train_test_split(X,y, test_size=0.33)\n",
    "print (\"total train examples %s\" % len(y_train))\n",
    "print (\"total test examples %s\" % len(y_test))"
   ]
  },
  {
   "cell_type": "code",
   "execution_count": null,
   "metadata": {
    "id": "mogTwRfnX-tK"
   },
   "outputs": [],
   "source": [
    "with open('data.train.txt', 'w+') as outfile:\n",
    "    for i in range(len(X_train)):\n",
    "        outfile.write('__label__' + y_train[i] + ' '+ X_train[i] + '\\n')\n",
    "    \n",
    "\n",
    "with open('test.txt', 'w+') as outfile:\n",
    "    for i in range(len(X_test)):\n",
    "        outfile.write('__label__' + y_test[i] + ' ' + X_test[i] + '\\n')"
   ]
  },
  {
   "cell_type": "code",
   "execution_count": null,
   "metadata": {
    "colab": {
     "base_uri": "https://localhost:8080/"
    },
    "id": "u0rt2mhjX-tL",
    "outputId": "ea78a0c1-baa5-41c8-f4db-877524e79d70"
   },
   "outputs": [
    {
     "name": "stdout",
     "output_type": "stream",
     "text": [
      "P@1: 0.8959736026504221\n",
      "R@1: 0.8959736026504221\n",
      "Number of examples: 74856\n"
     ]
    }
   ],
   "source": [
    "classifier = fasttext.train_supervised('data.train.txt')\n",
    "result = classifier.test('test.txt')\n",
    "\n",
    "print('P@1:', result[1])\n",
    "print('R@1:', result[2])\n",
    "print('Number of examples:', result[0])"
   ]
  }
 ],
 "metadata": {
  "colab": {
   "collapsed_sections": [],
   "name": "sem05_embeddings.ipynb",
   "provenance": []
  },
  "kernelspec": {
   "display_name": "Python 3",
   "language": "python",
   "name": "python3"
  },
  "language_info": {
   "codemirror_mode": {
    "name": "ipython",
    "version": 3
   },
   "file_extension": ".py",
   "mimetype": "text/x-python",
   "name": "python",
   "nbconvert_exporter": "python",
   "pygments_lexer": "ipython3",
   "version": "3.8.6"
  },
  "widgets": {
   "application/vnd.jupyter.widget-state+json": {
    "244528144b3649f8a4fd882e08a4dfc9": {
     "model_module": "@jupyter-widgets/controls",
     "model_module_version": "1.5.0",
     "model_name": "ProgressStyleModel",
     "state": {
      "_model_module": "@jupyter-widgets/controls",
      "_model_module_version": "1.5.0",
      "_model_name": "ProgressStyleModel",
      "_view_count": null,
      "_view_module": "@jupyter-widgets/base",
      "_view_module_version": "1.2.0",
      "_view_name": "StyleView",
      "bar_color": null,
      "description_width": "initial"
     }
    },
    "276442efcad047d7be5843512036a801": {
     "model_module": "@jupyter-widgets/controls",
     "model_module_version": "1.5.0",
     "model_name": "HTMLModel",
     "state": {
      "_dom_classes": [],
      "_model_module": "@jupyter-widgets/controls",
      "_model_module_version": "1.5.0",
      "_model_name": "HTMLModel",
      "_view_count": null,
      "_view_module": "@jupyter-widgets/controls",
      "_view_module_version": "1.5.0",
      "_view_name": "HTMLView",
      "description": "",
      "description_tooltip": null,
      "layout": "IPY_MODEL_54f292412ab54247acd06a81b1757ad9",
      "placeholder": "​",
      "style": "IPY_MODEL_d8694b6825894b6d8fe90c6661cc8fcc",
      "value": " 528987/528987 [00:23&lt;00:00, 22734.03it/s]"
     }
    },
    "28aa063c4da94738a549711c8aacd48a": {
     "model_module": "@jupyter-widgets/base",
     "model_module_version": "1.2.0",
     "model_name": "LayoutModel",
     "state": {
      "_model_module": "@jupyter-widgets/base",
      "_model_module_version": "1.2.0",
      "_model_name": "LayoutModel",
      "_view_count": null,
      "_view_module": "@jupyter-widgets/base",
      "_view_module_version": "1.2.0",
      "_view_name": "LayoutView",
      "align_content": null,
      "align_items": null,
      "align_self": null,
      "border": null,
      "bottom": null,
      "display": null,
      "flex": null,
      "flex_flow": null,
      "grid_area": null,
      "grid_auto_columns": null,
      "grid_auto_flow": null,
      "grid_auto_rows": null,
      "grid_column": null,
      "grid_gap": null,
      "grid_row": null,
      "grid_template_areas": null,
      "grid_template_columns": null,
      "grid_template_rows": null,
      "height": null,
      "justify_content": null,
      "justify_items": null,
      "left": null,
      "margin": null,
      "max_height": null,
      "max_width": null,
      "min_height": null,
      "min_width": null,
      "object_fit": null,
      "object_position": null,
      "order": null,
      "overflow": null,
      "overflow_x": null,
      "overflow_y": null,
      "padding": null,
      "right": null,
      "top": null,
      "visibility": null,
      "width": null
     }
    },
    "532824cda06041e7b3d4c8985236e032": {
     "model_module": "@jupyter-widgets/controls",
     "model_module_version": "1.5.0",
     "model_name": "FloatProgressModel",
     "state": {
      "_dom_classes": [],
      "_model_module": "@jupyter-widgets/controls",
      "_model_module_version": "1.5.0",
      "_model_name": "FloatProgressModel",
      "_view_count": null,
      "_view_module": "@jupyter-widgets/controls",
      "_view_module_version": "1.5.0",
      "_view_name": "ProgressView",
      "bar_style": "success",
      "description": "100%",
      "description_tooltip": null,
      "layout": "IPY_MODEL_7f6fc5fb67b94780b70441158ab3de22",
      "max": 226834,
      "min": 0,
      "orientation": "horizontal",
      "style": "IPY_MODEL_244528144b3649f8a4fd882e08a4dfc9",
      "value": 226834
     }
    },
    "54f292412ab54247acd06a81b1757ad9": {
     "model_module": "@jupyter-widgets/base",
     "model_module_version": "1.2.0",
     "model_name": "LayoutModel",
     "state": {
      "_model_module": "@jupyter-widgets/base",
      "_model_module_version": "1.2.0",
      "_model_name": "LayoutModel",
      "_view_count": null,
      "_view_module": "@jupyter-widgets/base",
      "_view_module_version": "1.2.0",
      "_view_name": "LayoutView",
      "align_content": null,
      "align_items": null,
      "align_self": null,
      "border": null,
      "bottom": null,
      "display": null,
      "flex": null,
      "flex_flow": null,
      "grid_area": null,
      "grid_auto_columns": null,
      "grid_auto_flow": null,
      "grid_auto_rows": null,
      "grid_column": null,
      "grid_gap": null,
      "grid_row": null,
      "grid_template_areas": null,
      "grid_template_columns": null,
      "grid_template_rows": null,
      "height": null,
      "justify_content": null,
      "justify_items": null,
      "left": null,
      "margin": null,
      "max_height": null,
      "max_width": null,
      "min_height": null,
      "min_width": null,
      "object_fit": null,
      "object_position": null,
      "order": null,
      "overflow": null,
      "overflow_x": null,
      "overflow_y": null,
      "padding": null,
      "right": null,
      "top": null,
      "visibility": null,
      "width": null
     }
    },
    "64013695a6014e578f8aa14736add23b": {
     "model_module": "@jupyter-widgets/controls",
     "model_module_version": "1.5.0",
     "model_name": "FloatProgressModel",
     "state": {
      "_dom_classes": [],
      "_model_module": "@jupyter-widgets/controls",
      "_model_module_version": "1.5.0",
      "_model_name": "FloatProgressModel",
      "_view_count": null,
      "_view_module": "@jupyter-widgets/controls",
      "_view_module_version": "1.5.0",
      "_view_name": "ProgressView",
      "bar_style": "success",
      "description": "100%",
      "description_tooltip": null,
      "layout": "IPY_MODEL_ad5a800c9c69459a82f01d9496e5297f",
      "max": 528987,
      "min": 0,
      "orientation": "horizontal",
      "style": "IPY_MODEL_c73bacb25ba14f05b7d78b87fc3f564f",
      "value": 528987
     }
    },
    "69311c168acd4954be66405e077b7dc5": {
     "model_module": "@jupyter-widgets/base",
     "model_module_version": "1.2.0",
     "model_name": "LayoutModel",
     "state": {
      "_model_module": "@jupyter-widgets/base",
      "_model_module_version": "1.2.0",
      "_model_name": "LayoutModel",
      "_view_count": null,
      "_view_module": "@jupyter-widgets/base",
      "_view_module_version": "1.2.0",
      "_view_name": "LayoutView",
      "align_content": null,
      "align_items": null,
      "align_self": null,
      "border": null,
      "bottom": null,
      "display": null,
      "flex": null,
      "flex_flow": null,
      "grid_area": null,
      "grid_auto_columns": null,
      "grid_auto_flow": null,
      "grid_auto_rows": null,
      "grid_column": null,
      "grid_gap": null,
      "grid_row": null,
      "grid_template_areas": null,
      "grid_template_columns": null,
      "grid_template_rows": null,
      "height": null,
      "justify_content": null,
      "justify_items": null,
      "left": null,
      "margin": null,
      "max_height": null,
      "max_width": null,
      "min_height": null,
      "min_width": null,
      "object_fit": null,
      "object_position": null,
      "order": null,
      "overflow": null,
      "overflow_x": null,
      "overflow_y": null,
      "padding": null,
      "right": null,
      "top": null,
      "visibility": null,
      "width": null
     }
    },
    "7502e5b5946a44b799350dd7d6b6b1fd": {
     "model_module": "@jupyter-widgets/controls",
     "model_module_version": "1.5.0",
     "model_name": "HBoxModel",
     "state": {
      "_dom_classes": [],
      "_model_module": "@jupyter-widgets/controls",
      "_model_module_version": "1.5.0",
      "_model_name": "HBoxModel",
      "_view_count": null,
      "_view_module": "@jupyter-widgets/controls",
      "_view_module_version": "1.5.0",
      "_view_name": "HBoxView",
      "box_style": "",
      "children": [
       "IPY_MODEL_64013695a6014e578f8aa14736add23b",
       "IPY_MODEL_276442efcad047d7be5843512036a801"
      ],
      "layout": "IPY_MODEL_fa31838c747a471994d6dd67ffb6ad65"
     }
    },
    "7f6fc5fb67b94780b70441158ab3de22": {
     "model_module": "@jupyter-widgets/base",
     "model_module_version": "1.2.0",
     "model_name": "LayoutModel",
     "state": {
      "_model_module": "@jupyter-widgets/base",
      "_model_module_version": "1.2.0",
      "_model_name": "LayoutModel",
      "_view_count": null,
      "_view_module": "@jupyter-widgets/base",
      "_view_module_version": "1.2.0",
      "_view_name": "LayoutView",
      "align_content": null,
      "align_items": null,
      "align_self": null,
      "border": null,
      "bottom": null,
      "display": null,
      "flex": null,
      "flex_flow": null,
      "grid_area": null,
      "grid_auto_columns": null,
      "grid_auto_flow": null,
      "grid_auto_rows": null,
      "grid_column": null,
      "grid_gap": null,
      "grid_row": null,
      "grid_template_areas": null,
      "grid_template_columns": null,
      "grid_template_rows": null,
      "height": null,
      "justify_content": null,
      "justify_items": null,
      "left": null,
      "margin": null,
      "max_height": null,
      "max_width": null,
      "min_height": null,
      "min_width": null,
      "object_fit": null,
      "object_position": null,
      "order": null,
      "overflow": null,
      "overflow_x": null,
      "overflow_y": null,
      "padding": null,
      "right": null,
      "top": null,
      "visibility": null,
      "width": null
     }
    },
    "99eff72480f14593a4102cb22ea85f1d": {
     "model_module": "@jupyter-widgets/controls",
     "model_module_version": "1.5.0",
     "model_name": "HTMLModel",
     "state": {
      "_dom_classes": [],
      "_model_module": "@jupyter-widgets/controls",
      "_model_module_version": "1.5.0",
      "_model_name": "HTMLModel",
      "_view_count": null,
      "_view_module": "@jupyter-widgets/controls",
      "_view_module_version": "1.5.0",
      "_view_name": "HTMLView",
      "description": "",
      "description_tooltip": null,
      "layout": "IPY_MODEL_28aa063c4da94738a549711c8aacd48a",
      "placeholder": "​",
      "style": "IPY_MODEL_bef16f092f69427d849be7d23749710d",
      "value": " 226834/226834 [15:02&lt;00:00, 251.27it/s]"
     }
    },
    "aa076d7615674946b509235fcb92aa0a": {
     "model_module": "@jupyter-widgets/controls",
     "model_module_version": "1.5.0",
     "model_name": "HBoxModel",
     "state": {
      "_dom_classes": [],
      "_model_module": "@jupyter-widgets/controls",
      "_model_module_version": "1.5.0",
      "_model_name": "HBoxModel",
      "_view_count": null,
      "_view_module": "@jupyter-widgets/controls",
      "_view_module_version": "1.5.0",
      "_view_name": "HBoxView",
      "box_style": "",
      "children": [
       "IPY_MODEL_532824cda06041e7b3d4c8985236e032",
       "IPY_MODEL_99eff72480f14593a4102cb22ea85f1d"
      ],
      "layout": "IPY_MODEL_69311c168acd4954be66405e077b7dc5"
     }
    },
    "ad5a800c9c69459a82f01d9496e5297f": {
     "model_module": "@jupyter-widgets/base",
     "model_module_version": "1.2.0",
     "model_name": "LayoutModel",
     "state": {
      "_model_module": "@jupyter-widgets/base",
      "_model_module_version": "1.2.0",
      "_model_name": "LayoutModel",
      "_view_count": null,
      "_view_module": "@jupyter-widgets/base",
      "_view_module_version": "1.2.0",
      "_view_name": "LayoutView",
      "align_content": null,
      "align_items": null,
      "align_self": null,
      "border": null,
      "bottom": null,
      "display": null,
      "flex": null,
      "flex_flow": null,
      "grid_area": null,
      "grid_auto_columns": null,
      "grid_auto_flow": null,
      "grid_auto_rows": null,
      "grid_column": null,
      "grid_gap": null,
      "grid_row": null,
      "grid_template_areas": null,
      "grid_template_columns": null,
      "grid_template_rows": null,
      "height": null,
      "justify_content": null,
      "justify_items": null,
      "left": null,
      "margin": null,
      "max_height": null,
      "max_width": null,
      "min_height": null,
      "min_width": null,
      "object_fit": null,
      "object_position": null,
      "order": null,
      "overflow": null,
      "overflow_x": null,
      "overflow_y": null,
      "padding": null,
      "right": null,
      "top": null,
      "visibility": null,
      "width": null
     }
    },
    "bef16f092f69427d849be7d23749710d": {
     "model_module": "@jupyter-widgets/controls",
     "model_module_version": "1.5.0",
     "model_name": "DescriptionStyleModel",
     "state": {
      "_model_module": "@jupyter-widgets/controls",
      "_model_module_version": "1.5.0",
      "_model_name": "DescriptionStyleModel",
      "_view_count": null,
      "_view_module": "@jupyter-widgets/base",
      "_view_module_version": "1.2.0",
      "_view_name": "StyleView",
      "description_width": ""
     }
    },
    "c73bacb25ba14f05b7d78b87fc3f564f": {
     "model_module": "@jupyter-widgets/controls",
     "model_module_version": "1.5.0",
     "model_name": "ProgressStyleModel",
     "state": {
      "_model_module": "@jupyter-widgets/controls",
      "_model_module_version": "1.5.0",
      "_model_name": "ProgressStyleModel",
      "_view_count": null,
      "_view_module": "@jupyter-widgets/base",
      "_view_module_version": "1.2.0",
      "_view_name": "StyleView",
      "bar_color": null,
      "description_width": "initial"
     }
    },
    "d8694b6825894b6d8fe90c6661cc8fcc": {
     "model_module": "@jupyter-widgets/controls",
     "model_module_version": "1.5.0",
     "model_name": "DescriptionStyleModel",
     "state": {
      "_model_module": "@jupyter-widgets/controls",
      "_model_module_version": "1.5.0",
      "_model_name": "DescriptionStyleModel",
      "_view_count": null,
      "_view_module": "@jupyter-widgets/base",
      "_view_module_version": "1.2.0",
      "_view_name": "StyleView",
      "description_width": ""
     }
    },
    "fa31838c747a471994d6dd67ffb6ad65": {
     "model_module": "@jupyter-widgets/base",
     "model_module_version": "1.2.0",
     "model_name": "LayoutModel",
     "state": {
      "_model_module": "@jupyter-widgets/base",
      "_model_module_version": "1.2.0",
      "_model_name": "LayoutModel",
      "_view_count": null,
      "_view_module": "@jupyter-widgets/base",
      "_view_module_version": "1.2.0",
      "_view_name": "LayoutView",
      "align_content": null,
      "align_items": null,
      "align_self": null,
      "border": null,
      "bottom": null,
      "display": null,
      "flex": null,
      "flex_flow": null,
      "grid_area": null,
      "grid_auto_columns": null,
      "grid_auto_flow": null,
      "grid_auto_rows": null,
      "grid_column": null,
      "grid_gap": null,
      "grid_row": null,
      "grid_template_areas": null,
      "grid_template_columns": null,
      "grid_template_rows": null,
      "height": null,
      "justify_content": null,
      "justify_items": null,
      "left": null,
      "margin": null,
      "max_height": null,
      "max_width": null,
      "min_height": null,
      "min_width": null,
      "object_fit": null,
      "object_position": null,
      "order": null,
      "overflow": null,
      "overflow_x": null,
      "overflow_y": null,
      "padding": null,
      "right": null,
      "top": null,
      "visibility": null,
      "width": null
     }
    }
   }
  }
 },
 "nbformat": 4,
 "nbformat_minor": 1
}
